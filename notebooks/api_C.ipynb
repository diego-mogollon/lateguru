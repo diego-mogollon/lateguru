{
 "cells": [
  {
   "cell_type": "code",
   "execution_count": 19,
   "metadata": {},
   "outputs": [
    {
     "name": "stdout",
     "output_type": "stream",
     "text": [
      "The autoreload extension is already loaded. To reload it, use:\n",
      "  %reload_ext autoreload\n"
     ]
    }
   ],
   "source": [
    "%load_ext autoreload\n",
    "%autoreload 2"
   ]
  },
  {
   "cell_type": "code",
   "execution_count": 20,
   "metadata": {},
   "outputs": [],
   "source": [
    "import pandas as pd"
   ]
  },
  {
   "cell_type": "markdown",
   "metadata": {},
   "source": [
    "# Weather API Call"
   ]
  },
  {
   "cell_type": "code",
   "execution_count": 21,
   "metadata": {},
   "outputs": [
    {
     "data": {
      "text/html": [
       "<div>\n",
       "<style scoped>\n",
       "    .dataframe tbody tr th:only-of-type {\n",
       "        vertical-align: middle;\n",
       "    }\n",
       "\n",
       "    .dataframe tbody tr th {\n",
       "        vertical-align: top;\n",
       "    }\n",
       "\n",
       "    .dataframe thead th {\n",
       "        text-align: right;\n",
       "    }\n",
       "</style>\n",
       "<table border=\"1\" class=\"dataframe\">\n",
       "  <thead>\n",
       "    <tr style=\"text-align: right;\">\n",
       "      <th></th>\n",
       "      <th>IATA_CODE</th>\n",
       "      <th>AIRPORT</th>\n",
       "      <th>CITY</th>\n",
       "      <th>STATE</th>\n",
       "      <th>COUNTRY</th>\n",
       "      <th>LATITUDE</th>\n",
       "      <th>LONGITUDE</th>\n",
       "    </tr>\n",
       "  </thead>\n",
       "  <tbody>\n",
       "    <tr>\n",
       "      <th>0</th>\n",
       "      <td>ABE</td>\n",
       "      <td>Lehigh Valley International Airport</td>\n",
       "      <td>Allentown</td>\n",
       "      <td>PA</td>\n",
       "      <td>USA</td>\n",
       "      <td>40.65236</td>\n",
       "      <td>-75.44040</td>\n",
       "    </tr>\n",
       "    <tr>\n",
       "      <th>1</th>\n",
       "      <td>ABI</td>\n",
       "      <td>Abilene Regional Airport</td>\n",
       "      <td>Abilene</td>\n",
       "      <td>TX</td>\n",
       "      <td>USA</td>\n",
       "      <td>32.41132</td>\n",
       "      <td>-99.68190</td>\n",
       "    </tr>\n",
       "    <tr>\n",
       "      <th>2</th>\n",
       "      <td>ABQ</td>\n",
       "      <td>Albuquerque International Sunport</td>\n",
       "      <td>Albuquerque</td>\n",
       "      <td>NM</td>\n",
       "      <td>USA</td>\n",
       "      <td>35.04022</td>\n",
       "      <td>-106.60919</td>\n",
       "    </tr>\n",
       "    <tr>\n",
       "      <th>3</th>\n",
       "      <td>ABR</td>\n",
       "      <td>Aberdeen Regional Airport</td>\n",
       "      <td>Aberdeen</td>\n",
       "      <td>SD</td>\n",
       "      <td>USA</td>\n",
       "      <td>45.44906</td>\n",
       "      <td>-98.42183</td>\n",
       "    </tr>\n",
       "    <tr>\n",
       "      <th>4</th>\n",
       "      <td>ABY</td>\n",
       "      <td>Southwest Georgia Regional Airport</td>\n",
       "      <td>Albany</td>\n",
       "      <td>GA</td>\n",
       "      <td>USA</td>\n",
       "      <td>31.53552</td>\n",
       "      <td>-84.19447</td>\n",
       "    </tr>\n",
       "  </tbody>\n",
       "</table>\n",
       "</div>"
      ],
      "text/plain": [
       "  IATA_CODE                              AIRPORT         CITY STATE COUNTRY  \\\n",
       "0       ABE  Lehigh Valley International Airport    Allentown    PA     USA   \n",
       "1       ABI             Abilene Regional Airport      Abilene    TX     USA   \n",
       "2       ABQ    Albuquerque International Sunport  Albuquerque    NM     USA   \n",
       "3       ABR            Aberdeen Regional Airport     Aberdeen    SD     USA   \n",
       "4       ABY   Southwest Georgia Regional Airport       Albany    GA     USA   \n",
       "\n",
       "   LATITUDE  LONGITUDE  \n",
       "0  40.65236  -75.44040  \n",
       "1  32.41132  -99.68190  \n",
       "2  35.04022 -106.60919  \n",
       "3  45.44906  -98.42183  \n",
       "4  31.53552  -84.19447  "
      ]
     },
     "execution_count": 21,
     "metadata": {},
     "output_type": "execute_result"
    }
   ],
   "source": [
    "\n",
    "airport_geo_df = pd.read_csv('/Users/conorjohnston/code/diego-mogollon/lateguru/lateguru/raw_data/Dataset_A/Dataset_A_US2023_Kaggle_airports_geolocation.csv')\n",
    "\n",
    "airport_geo_df.head()"
   ]
  },
  {
   "cell_type": "code",
   "execution_count": 22,
   "metadata": {},
   "outputs": [],
   "source": [
    "cleaned_airport_geos_df = airport_geo_df[['IATA_CODE', 'LATITUDE', 'LONGITUDE']]\\\n",
    "    .rename(columns={'IATA_CODE': 'airport_acronym',\n",
    "                     'LATITUDE': 'lat',\n",
    "                     'LONGITUDE':'lon'})"
   ]
  },
  {
   "cell_type": "code",
   "execution_count": 23,
   "metadata": {},
   "outputs": [
    {
     "data": {
      "text/html": [
       "<div>\n",
       "<style scoped>\n",
       "    .dataframe tbody tr th:only-of-type {\n",
       "        vertical-align: middle;\n",
       "    }\n",
       "\n",
       "    .dataframe tbody tr th {\n",
       "        vertical-align: top;\n",
       "    }\n",
       "\n",
       "    .dataframe thead th {\n",
       "        text-align: right;\n",
       "    }\n",
       "</style>\n",
       "<table border=\"1\" class=\"dataframe\">\n",
       "  <thead>\n",
       "    <tr style=\"text-align: right;\">\n",
       "      <th></th>\n",
       "      <th>airport_acronym</th>\n",
       "      <th>lat</th>\n",
       "      <th>lon</th>\n",
       "    </tr>\n",
       "  </thead>\n",
       "  <tbody>\n",
       "    <tr>\n",
       "      <th>0</th>\n",
       "      <td>ABE</td>\n",
       "      <td>40.65236</td>\n",
       "      <td>-75.44040</td>\n",
       "    </tr>\n",
       "    <tr>\n",
       "      <th>1</th>\n",
       "      <td>ABI</td>\n",
       "      <td>32.41132</td>\n",
       "      <td>-99.68190</td>\n",
       "    </tr>\n",
       "    <tr>\n",
       "      <th>2</th>\n",
       "      <td>ABQ</td>\n",
       "      <td>35.04022</td>\n",
       "      <td>-106.60919</td>\n",
       "    </tr>\n",
       "    <tr>\n",
       "      <th>3</th>\n",
       "      <td>ABR</td>\n",
       "      <td>45.44906</td>\n",
       "      <td>-98.42183</td>\n",
       "    </tr>\n",
       "    <tr>\n",
       "      <th>4</th>\n",
       "      <td>ABY</td>\n",
       "      <td>31.53552</td>\n",
       "      <td>-84.19447</td>\n",
       "    </tr>\n",
       "  </tbody>\n",
       "</table>\n",
       "</div>"
      ],
      "text/plain": [
       "  airport_acronym       lat        lon\n",
       "0             ABE  40.65236  -75.44040\n",
       "1             ABI  32.41132  -99.68190\n",
       "2             ABQ  35.04022 -106.60919\n",
       "3             ABR  45.44906  -98.42183\n",
       "4             ABY  31.53552  -84.19447"
      ]
     },
     "execution_count": 23,
     "metadata": {},
     "output_type": "execute_result"
    }
   ],
   "source": [
    "cleaned_airport_geos_df.head()"
   ]
  },
  {
   "cell_type": "code",
   "execution_count": 24,
   "metadata": {},
   "outputs": [],
   "source": [
    "airport='LAX'"
   ]
  },
  {
   "cell_type": "code",
   "execution_count": 85,
   "metadata": {},
   "outputs": [],
   "source": [
    "def get_weather_data(lat, lon):\n",
    "    #lat= -37.663712\n",
    "    #lon= 144.844788\n",
    "\n",
    "\n",
    "    api_key='9efa0a3dd9883bae2b9f3bda6eff2e36'\n",
    "\n",
    "    url = \"https://api.openweathermap.org/data/2.5/weather?\"\n",
    "    params = {'lat': str(lat), 'lon':str(lon), \"appid\":api_key}\n",
    "    response = requests.get(url, params=params)\n",
    "    json_response = response.json()\n",
    "\n",
    "    print(json_response)\n",
    "\n",
    "    df = pd.DataFrame({\n",
    "    \"temp\": json_response['main']['temp'],\n",
    "    \"feels_like_temp\": json_response['main']['feels_like'],\n",
    "    \"alt_pressure\": json_response['main']['pressure'],\n",
    "    \"sl_pressure\": json_response['main']['sea_level'],\n",
    "    \"visibility\": json_response['visibility'],\n",
    "    \"wind_speed\": json_response['wind']['speed'],\n",
    "    \"wind_gust\": json_response['wind']['deg']\n",
    "    #precipitation and ice accretion to be added\n",
    "    }, index = [0])\n",
    "\n",
    "    #clean up json response object before outputting data\n",
    "    return df"
   ]
  },
  {
   "cell_type": "code",
   "execution_count": 84,
   "metadata": {},
   "outputs": [
    {
     "data": {
      "text/plain": [
       "{'temp': 290.47,\n",
       " 'feels_like': 290.58,\n",
       " 'temp_min': 289.19,\n",
       " 'temp_max': 291.99,\n",
       " 'pressure': 1016,\n",
       " 'humidity': 89,\n",
       " 'sea_level': 1016,\n",
       " 'grnd_level': 1011}"
      ]
     },
     "execution_count": 84,
     "metadata": {},
     "output_type": "execute_result"
    }
   ],
   "source": [
    "api_key='9efa0a3dd9883bae2b9f3bda6eff2e36'\n",
    "\n",
    "url = \"https://api.openweathermap.org/data/2.5/weather?\"\n",
    "params = {'lat': str(lat), 'lon':str(lon), \"appid\":api_key}\n",
    "response = requests.get(url, params=params)\n",
    "json_response = response.json()\n",
    "json_response['main']"
   ]
  },
  {
   "cell_type": "code",
   "execution_count": 26,
   "metadata": {},
   "outputs": [],
   "source": [
    "def get_lat_lon_cordinates(airport):\n",
    "    '''Function that takes in an airport variable that is a string of the airports IATA code acronym and outputs\n",
    "    the geo data on this airport as a dictionary'''\n",
    "\n",
    "    selected_airport = cleaned_airport_geos_df[cleaned_airport_geos_df['airport_acronym']==airport]\n",
    "\n",
    "    airport_geo_codes = {\n",
    "        #'name': selected_airport['airport_acronym'],\n",
    "        'lat': selected_airport['lat'],\n",
    "        'lon': selected_airport['lon']\n",
    "    }\n",
    "\n",
    "\n",
    "    return selected_airport['lat'].values[0], selected_airport['lon'].values[0]"
   ]
  },
  {
   "cell_type": "code",
   "execution_count": 27,
   "metadata": {},
   "outputs": [
    {
     "data": {
      "text/plain": [
       "-118.40807"
      ]
     },
     "execution_count": 27,
     "metadata": {},
     "output_type": "execute_result"
    }
   ],
   "source": [
    "selected_airport = cleaned_airport_geos_df[cleaned_airport_geos_df['airport_acronym']==airport]\n",
    "\n",
    "selected_airport['lon'].values[0]"
   ]
  },
  {
   "cell_type": "code",
   "execution_count": 31,
   "metadata": {},
   "outputs": [],
   "source": [
    "cleaned_airport_geos_df = airport_geo_df[['IATA_CODE', 'LATITUDE', 'LONGITUDE']]\\\n",
    "    .rename(columns={'IATA_CODE': 'airport_acronym',\n",
    "                     'LATITUDE': 'lat',\n",
    "                     'LONGITUDE':'lon'})"
   ]
  },
  {
   "cell_type": "code",
   "execution_count": 32,
   "metadata": {},
   "outputs": [],
   "source": [
    "lat, lon = get_lat_lon_cordinates(airport)\n"
   ]
  },
  {
   "cell_type": "code",
   "execution_count": 86,
   "metadata": {},
   "outputs": [
    {
     "name": "stdout",
     "output_type": "stream",
     "text": [
      "{'coord': {'lon': -118.4081, 'lat': 33.9425}, 'weather': [{'id': 800, 'main': 'Clear', 'description': 'clear sky', 'icon': '01n'}], 'base': 'stations', 'main': {'temp': 290.5, 'feels_like': 290.64, 'temp_min': 289.19, 'temp_max': 291.85, 'pressure': 1016, 'humidity': 90, 'sea_level': 1016, 'grnd_level': 1011}, 'visibility': 10000, 'wind': {'speed': 2.06, 'deg': 60}, 'clouds': {'all': 0}, 'dt': 1724585802, 'sys': {'type': 1, 'id': 4667, 'country': 'US', 'sunrise': 1724592180, 'sunset': 1724639311}, 'timezone': -25200, 'id': 5345860, 'name': 'El Segundo', 'cod': 200}\n"
     ]
    }
   ],
   "source": [
    "X_weather = get_weather_data(lat, lon)"
   ]
  },
  {
   "cell_type": "code",
   "execution_count": 82,
   "metadata": {},
   "outputs": [
    {
     "data": {
      "text/plain": [
       "291.04"
      ]
     },
     "execution_count": 82,
     "metadata": {},
     "output_type": "execute_result"
    }
   ],
   "source": [
    "X_weather['temp'].values[0]"
   ]
  },
  {
   "cell_type": "code",
   "execution_count": 80,
   "metadata": {},
   "outputs": [
    {
     "ename": "NameError",
     "evalue": "name 'json_response' is not defined",
     "output_type": "error",
     "traceback": [
      "\u001b[0;31m---------------------------------------------------------------------------\u001b[0m",
      "\u001b[0;31mNameError\u001b[0m                                 Traceback (most recent call last)",
      "Cell \u001b[0;32mIn[80], line 1\u001b[0m\n\u001b[0;32m----> 1\u001b[0m \u001b[43mjson_response\u001b[49m\n",
      "\u001b[0;31mNameError\u001b[0m: name 'json_response' is not defined"
     ]
    }
   ],
   "source": []
  },
  {
   "cell_type": "markdown",
   "metadata": {},
   "source": [
    "# Building the FAST API"
   ]
  },
  {
   "cell_type": "code",
   "execution_count": 51,
   "metadata": {},
   "outputs": [],
   "source": [
    "import pandas as pd\n",
    "from fastapi import FastAPI\n",
    "from fastapi.middleware.cors import CORSMiddleware\n",
    "import os\n",
    "import joblib\n",
    "\n",
    "import numpy as np\n",
    "from sklearn.decomposition import PCA\n",
    "\n",
    "from sklearn.pipeline import Pipeline, make_pipeline\n",
    "from sklearn.compose import ColumnTransformer\n",
    "from sklearn.preprocessing import OneHotEncoder, StandardScaler, FunctionTransformer\n",
    "from sklearn.impute import SimpleImputer\n"
   ]
  },
  {
   "cell_type": "code",
   "execution_count": 74,
   "metadata": {},
   "outputs": [],
   "source": [
    "model_directory = '/Users/conorjohnston/code/diego-mogollon/lateguru/lateguru/model'\n",
    "\n",
    "def load_model():\n",
    "    filepath = '/Users/conorjohnston/code/diego-mogollon/lateguru/lateguru/model/_model.pkl'\n",
    "    model = joblib.load(filepath)\n",
    "    print(f\"Model loaded from {filepath}\")\n",
    "    return model\n",
    "\n",
    "def create_sklearn_preprocessor():\n",
    "\n",
    "    categorical_features = ['Origin', 'Dest', 'Route', 'Carrier']\n",
    "\n",
    "    numerical_features = [\n",
    "        'DayOfWeek', 'HourOfDay', 'Temperature', 'Feels_Like_Temperature',\n",
    "        'Altimeter_Pressure', 'Sea_Level_Pressure', 'Visibility',\n",
    "        'Wind_Speed', 'Wind_Gust', 'Precipitation', 'Ice_Accretion_3hr',\n",
    "        'CarrierAvgDelay', 'Month'\n",
    "    ]\n",
    "\n",
    "    categorical_transformer = Pipeline(steps=[\n",
    "        ('imputer', SimpleImputer(strategy='most_frequent')),\n",
    "        ('onehot', OneHotEncoder(handle_unknown='ignore', sparse_output=False))\n",
    "    ])\n",
    "\n",
    "\n",
    "    numerical_transformer = Pipeline(steps=[\n",
    "        ('imputer', SimpleImputer(strategy='mean')),\n",
    "        ('scaler', StandardScaler())\n",
    "    ])\n",
    "\n",
    "\n",
    "    final_preprocessor = ColumnTransformer(\n",
    "        transformers=[\n",
    "            ('num', numerical_transformer, numerical_features),\n",
    "            ('cat', categorical_transformer, categorical_features)\n",
    "        ],\n",
    "        n_jobs=-1\n",
    "    )\n",
    "\n",
    "    return final_preprocessor\n",
    "\n",
    "def preprocess_features_v2(X) :\n",
    "\n",
    "    preprocessor = create_sklearn_preprocessor()\n",
    "\n",
    "    X_processed = preprocessor.fit_transform(X)\n",
    "\n",
    "    X_processed = pd.DataFrame(X_processed, columns=X.columns)\n",
    "\n",
    "    # print(f\"✅ X_processed, with shape {X_processed.shape}\")\n",
    "\n",
    "    return X_processed\n",
    "\n",
    "def model_predict(model, X_pred):\n",
    "    y_pred = model.predict(X_pred)\n",
    "    return y_pred"
   ]
  },
  {
   "cell_type": "code",
   "execution_count": 75,
   "metadata": {},
   "outputs": [
    {
     "data": {
      "text/html": [
       "<div>\n",
       "<style scoped>\n",
       "    .dataframe tbody tr th:only-of-type {\n",
       "        vertical-align: middle;\n",
       "    }\n",
       "\n",
       "    .dataframe tbody tr th {\n",
       "        vertical-align: top;\n",
       "    }\n",
       "\n",
       "    .dataframe thead th {\n",
       "        text-align: right;\n",
       "    }\n",
       "</style>\n",
       "<table border=\"1\" class=\"dataframe\">\n",
       "  <thead>\n",
       "    <tr style=\"text-align: right;\">\n",
       "      <th></th>\n",
       "      <th>Origin</th>\n",
       "      <th>Dest</th>\n",
       "      <th>Route</th>\n",
       "      <th>Carrier</th>\n",
       "      <th>DayOfWeek</th>\n",
       "      <th>HourOfDay</th>\n",
       "      <th>Temperature</th>\n",
       "      <th>Feels_Like_Temperature</th>\n",
       "      <th>Altimeter_Pressure</th>\n",
       "      <th>Sea_Level_Pressure</th>\n",
       "      <th>Visibility</th>\n",
       "      <th>Wind_Speed</th>\n",
       "      <th>Wind_Gust</th>\n",
       "      <th>Precipitation</th>\n",
       "      <th>Ice_Accretion_3hr</th>\n",
       "      <th>CarrierAvgDelay</th>\n",
       "      <th>Month</th>\n",
       "    </tr>\n",
       "  </thead>\n",
       "  <tbody>\n",
       "    <tr>\n",
       "      <th>0</th>\n",
       "      <td>0.0</td>\n",
       "      <td>0.0</td>\n",
       "      <td>0.0</td>\n",
       "      <td>0.0</td>\n",
       "      <td>0.0</td>\n",
       "      <td>0.0</td>\n",
       "      <td>0.0</td>\n",
       "      <td>0.0</td>\n",
       "      <td>0.0</td>\n",
       "      <td>0.0</td>\n",
       "      <td>0.0</td>\n",
       "      <td>0.0</td>\n",
       "      <td>0.0</td>\n",
       "      <td>1.0</td>\n",
       "      <td>1.0</td>\n",
       "      <td>1.0</td>\n",
       "      <td>1.0</td>\n",
       "    </tr>\n",
       "  </tbody>\n",
       "</table>\n",
       "</div>"
      ],
      "text/plain": [
       "   Origin  Dest  Route  Carrier  DayOfWeek  HourOfDay  Temperature  \\\n",
       "0     0.0   0.0    0.0      0.0        0.0        0.0          0.0   \n",
       "\n",
       "   Feels_Like_Temperature  Altimeter_Pressure  Sea_Level_Pressure  Visibility  \\\n",
       "0                     0.0                 0.0                 0.0         0.0   \n",
       "\n",
       "   Wind_Speed  Wind_Gust  Precipitation  Ice_Accretion_3hr  CarrierAvgDelay  \\\n",
       "0         0.0        0.0            1.0                1.0              1.0   \n",
       "\n",
       "   Month  \n",
       "0    1.0  "
      ]
     },
     "execution_count": 75,
     "metadata": {},
     "output_type": "execute_result"
    }
   ],
   "source": [
    "preprocessor = create_sklearn_preprocessor()\n",
    "\n",
    "X_processed = preprocessor.fit_transform(X_pred)\n",
    "\n",
    "X_processed = pd.DataFrame(X_processed, columns=X_pred.columns)\n",
    "\n",
    "# print(f\"✅ X_processed, with shape {X_processed.shape}\")\n",
    "X_processed"
   ]
  },
  {
   "cell_type": "code",
   "execution_count": 40,
   "metadata": {},
   "outputs": [],
   "source": [
    "app = FastAPI()"
   ]
  },
  {
   "cell_type": "code",
   "execution_count": 41,
   "metadata": {},
   "outputs": [],
   "source": [
    "app.add_middleware(\n",
    "    CORSMiddleware,\n",
    "    allow_origins=[\"*\"],  # Allows all origins\n",
    "    allow_credentials=True,\n",
    "    allow_methods=[\"*\"],  # Allows all methods\n",
    "    allow_headers=[\"*\"],  # Allows all headers\n",
    ")"
   ]
  },
  {
   "cell_type": "code",
   "execution_count": 77,
   "metadata": {},
   "outputs": [],
   "source": [
    "@app.get(\"/predict\")\n",
    "def predict(\n",
    "    origin: str, #Origin airport code e.g JFK\n",
    "    destination: str, #Destination airport code e.g SFO\n",
    "    carrier: str, #name of airline carrier\n",
    "    hour: float, #hour at time of flight departure\n",
    "    day_of_week: float, #number corresponding to day of week\n",
    "    month: float, #month of year at time of departure\n",
    "\n",
    "    #delayed: bool, #True if flight delayed, else False (default)\n",
    "    #delay_len: float, #amount of mins flight is delayed\n",
    "    #carrier_avg_delay: float, #amount of mins on average that each carrier is delayed when delayed\n",
    "    #temperature: float, #temperature in origin at time of prediction\n",
    "    #feels_like_temp: float, #feels like temperature in origin at time of prediction\n",
    "    #alt_pressure: float, #air pressure at origin\n",
    "    #sl_pressure: float, #sea level pressure at origin\n",
    "    #visibility: float, #measure of how clear visbility at origin is\n",
    "    #wind_speed: float, #measure of wind speed in km/h\n",
    "    #wind_gust: float, #measure of wind gust strength at origin\n",
    "    #precipitation: float, #measure of rainfall at origin\n",
    "    #ice_accretion_3hr: float, #measure of ice at origin\n",
    "    #route: str, #concatenation of origin and destination airport string\n",
    "):\n",
    "    \"\"\"Make a prediction based on inputs as to whether the flight is likely\n",
    "    to be delayed by weather\n",
    "    Assumes flight is taking place in the USA\"\"\"\n",
    "\n",
    "\n",
    "\n",
    "    X_pred = pd.DataFrame({\n",
    "        \"Origin\": [str(origin)],\n",
    "        \"Dest\": [str(destination)],\n",
    "        \"Route\": [str('LAX_JFK')],\n",
    "        \"Carrier\": [str(carrier)],\n",
    "\n",
    "        #\"delay_len\": [float(delay_len)],\n",
    "        #'''\"temperature\": [float(X_weather['main']['temp'])],\n",
    "        #\"feels_like_temp\": [float(X_weather['main']['feels_like'])],\n",
    "        #\"alt_pressure\": [float(X_weather['main']['pressure'])],\n",
    "        #\"sl_pressure\": [float(X_weather['main']['sea_level'])],\n",
    "        #\"visibility\": [float(X_weather['visibility'])],\n",
    "        #\"wind_speed\": [float(X_weather['wind']['speed'])],\n",
    "        #\"wind_gust\": [float(X_weather['wind']['gust'])],'''\n",
    "\n",
    "        \"DayOfWeek\": [float(day_of_week)],\n",
    "        \"HourOfDay\": [float(hour)],\n",
    "        \"Temperature\": [float(32)],\n",
    "        \"Feels_Like_Temperature\": [float(14)],\n",
    "        \"Altimeter_Pressure\": [float(3478)],\n",
    "        \"Sea_Level_Pressure\": [float(1293)],\n",
    "        \"Visibility\": [float(1067)],\n",
    "        \"Wind_Speed\": [float(15)],\n",
    "        \"Wind_Gust\": [float(5)],\n",
    "        #must still input precipitation\n",
    "        \"Precipitation\": [float(0.0)],\n",
    "        #must still input ice accretion\n",
    "        \"Ice_Accretion_3hr\": [float(0.0)],\n",
    "        \"CarrierAvgDelay\": [float(20)],\n",
    "        \"Month\": [float(month)]\n",
    "        })\n",
    "\n",
    "    model = load_model()\n",
    "\n",
    "    X_processed = preprocess_features_v2(X_pred)\n",
    "\n",
    "\n",
    "    y_pred = model_predict(model, X_processed)\n",
    "\n",
    "    return dict(likely_to_be_delayed=bool(y_pred))"
   ]
  },
  {
   "cell_type": "code",
   "execution_count": 70,
   "metadata": {},
   "outputs": [
    {
     "data": {
      "text/plain": [
       "pandas.core.frame.DataFrame"
      ]
     },
     "execution_count": 70,
     "metadata": {},
     "output_type": "execute_result"
    }
   ],
   "source": [
    "X_pred = pd.DataFrame({\n",
    "        \"Origin\": [str('LAX')],\n",
    "        \"Dest\": [str('JFK')],\n",
    "        \"Route\": [str('LAX_JFK')],\n",
    "        \"Carrier\": [str('American Airlines Inc.')],\n",
    "\n",
    "        #\"delay_len\": [float(delay_len)],\n",
    "        #'''\"temperature\": [float(X_weather['main']['temp'])],\n",
    "        #\"feels_like_temp\": [float(X_weather['main']['feels_like'])],\n",
    "        #\"alt_pressure\": [float(X_weather['main']['pressure'])],\n",
    "        #\"sl_pressure\": [float(X_weather['main']['sea_level'])],\n",
    "        #\"visibility\": [float(X_weather['visibility'])],\n",
    "        #\"wind_speed\": [float(X_weather['wind']['speed'])],\n",
    "        #\"wind_gust\": [float(X_weather['wind']['gust'])],'''\n",
    "\n",
    "        \"DayOfWeek\": [float(4)],\n",
    "        \"HourOfDay\": [float(20)],\n",
    "        \"Temperature\": [float(32)],\n",
    "        \"Feels_Like_Temperature\": [float(14)],\n",
    "        \"Altimeter_Pressure\": [float(3478)],\n",
    "        \"Sea_Level_Pressure\": [float(1293)],\n",
    "        \"Visibility\": [float(1067)],\n",
    "        \"Wind_Speed\": [float(15)],\n",
    "        \"Wind_Gust\": [float(5)],\n",
    "        #must still input precipitation\n",
    "        \"Precipitation\": [float(0.0)],\n",
    "        #must still input ice accretion\n",
    "        \"Ice_Accretion_3hr\": [float(0.0)],\n",
    "        \"CarrierAvgDelay\": [float(20)],\n",
    "        \"Month\": [float(7)]\n",
    "        })\n",
    "\n",
    "type(X_pred)"
   ]
  },
  {
   "cell_type": "code",
   "execution_count": 79,
   "metadata": {},
   "outputs": [
    {
     "data": {
      "text/html": [
       "<div>\n",
       "<style scoped>\n",
       "    .dataframe tbody tr th:only-of-type {\n",
       "        vertical-align: middle;\n",
       "    }\n",
       "\n",
       "    .dataframe tbody tr th {\n",
       "        vertical-align: top;\n",
       "    }\n",
       "\n",
       "    .dataframe thead th {\n",
       "        text-align: right;\n",
       "    }\n",
       "</style>\n",
       "<table border=\"1\" class=\"dataframe\">\n",
       "  <thead>\n",
       "    <tr style=\"text-align: right;\">\n",
       "      <th></th>\n",
       "      <th>Origin</th>\n",
       "      <th>Dest</th>\n",
       "      <th>Route</th>\n",
       "      <th>Carrier</th>\n",
       "      <th>DayOfWeek</th>\n",
       "      <th>HourOfDay</th>\n",
       "      <th>Temperature</th>\n",
       "      <th>Feels_Like_Temperature</th>\n",
       "      <th>Altimeter_Pressure</th>\n",
       "      <th>Sea_Level_Pressure</th>\n",
       "      <th>Visibility</th>\n",
       "      <th>Wind_Speed</th>\n",
       "      <th>Wind_Gust</th>\n",
       "      <th>Precipitation</th>\n",
       "      <th>Ice_Accretion_3hr</th>\n",
       "      <th>CarrierAvgDelay</th>\n",
       "      <th>Month</th>\n",
       "    </tr>\n",
       "  </thead>\n",
       "  <tbody>\n",
       "    <tr>\n",
       "      <th>0</th>\n",
       "      <td>LAX</td>\n",
       "      <td>JFK</td>\n",
       "      <td>LAX_JFK</td>\n",
       "      <td>American Airlines Inc.</td>\n",
       "      <td>4.0</td>\n",
       "      <td>20.0</td>\n",
       "      <td>32.0</td>\n",
       "      <td>14.0</td>\n",
       "      <td>3478.0</td>\n",
       "      <td>1293.0</td>\n",
       "      <td>1067.0</td>\n",
       "      <td>15.0</td>\n",
       "      <td>5.0</td>\n",
       "      <td>0.0</td>\n",
       "      <td>0.0</td>\n",
       "      <td>20.0</td>\n",
       "      <td>7.0</td>\n",
       "    </tr>\n",
       "  </tbody>\n",
       "</table>\n",
       "</div>"
      ],
      "text/plain": [
       "  Origin Dest    Route                 Carrier  DayOfWeek  HourOfDay  \\\n",
       "0    LAX  JFK  LAX_JFK  American Airlines Inc.        4.0       20.0   \n",
       "\n",
       "   Temperature  Feels_Like_Temperature  Altimeter_Pressure  \\\n",
       "0         32.0                    14.0              3478.0   \n",
       "\n",
       "   Sea_Level_Pressure  Visibility  Wind_Speed  Wind_Gust  Precipitation  \\\n",
       "0              1293.0      1067.0        15.0        5.0            0.0   \n",
       "\n",
       "   Ice_Accretion_3hr  CarrierAvgDelay  Month  \n",
       "0                0.0             20.0    7.0  "
      ]
     },
     "execution_count": 79,
     "metadata": {},
     "output_type": "execute_result"
    }
   ],
   "source": [
    "X_pred"
   ]
  },
  {
   "cell_type": "code",
   "execution_count": 78,
   "metadata": {},
   "outputs": [
    {
     "name": "stdout",
     "output_type": "stream",
     "text": [
      "Model loaded from /Users/conorjohnston/code/diego-mogollon/lateguru/lateguru/model/_model.pkl\n"
     ]
    },
    {
     "data": {
      "text/plain": [
       "{'likely_to_be_delayed': True}"
      ]
     },
     "execution_count": 78,
     "metadata": {},
     "output_type": "execute_result"
    }
   ],
   "source": [
    "predict('LAX', 'JFK', 'American Airlines Inc.', '10', '4', '4')"
   ]
  }
 ],
 "metadata": {
  "kernelspec": {
   "display_name": "lateguru",
   "language": "python",
   "name": "python3"
  },
  "language_info": {
   "codemirror_mode": {
    "name": "ipython",
    "version": 3
   },
   "file_extension": ".py",
   "mimetype": "text/x-python",
   "name": "python",
   "nbconvert_exporter": "python",
   "pygments_lexer": "ipython3",
   "version": "3.10.6"
  }
 },
 "nbformat": 4,
 "nbformat_minor": 2
}
