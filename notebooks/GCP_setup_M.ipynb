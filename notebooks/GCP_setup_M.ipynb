{
 "cells": [
  {
   "cell_type": "markdown",
   "id": "f787cbc4-93e1-4656-bd09-17a4a007aaeb",
   "metadata": {},
   "source": [
    "# LateGuru GCP setup"
   ]
  },
  {
   "cell_type": "code",
   "execution_count": 4,
   "id": "9c6fa312-611c-4140-bfd4-ca1dd70e7907",
   "metadata": {},
   "outputs": [],
   "source": [
    "%load_ext autoreload\n",
    "%autoreload 2"
   ]
  },
  {
   "cell_type": "code",
   "execution_count": 2,
   "id": "8e974325-385b-4ca9-8ceb-1e0960003aa3",
   "metadata": {},
   "outputs": [],
   "source": [
    "from lateguru_ml.ml_logic.model import package_test"
   ]
  },
  {
   "cell_type": "code",
   "execution_count": 3,
   "id": "1d02a037-da5f-48a5-9a40-f9d24095ae9d",
   "metadata": {},
   "outputs": [
    {
     "name": "stdout",
     "output_type": "stream",
     "text": [
      "Lateguru package works\n"
     ]
    }
   ],
   "source": [
    "package_test()"
   ]
  },
  {
   "cell_type": "code",
   "execution_count": null,
   "id": "07e20880-3a2e-463f-9fd5-dad0ba0cc50a",
   "metadata": {},
   "outputs": [],
   "source": []
  }
 ],
 "metadata": {
  "kernelspec": {
   "display_name": "Python 3 (ipykernel)",
   "language": "python",
   "name": "python3"
  },
  "language_info": {
   "codemirror_mode": {
    "name": "ipython",
    "version": 3
   },
   "file_extension": ".py",
   "mimetype": "text/x-python",
   "name": "python",
   "nbconvert_exporter": "python",
   "pygments_lexer": "ipython3",
   "version": "3.10.6"
  }
 },
 "nbformat": 4,
 "nbformat_minor": 5
}
