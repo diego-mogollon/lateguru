{
  "cells": [
    {
      "cell_type": "markdown",
      "metadata": {
        "id": "bT1PYnVpJrpK"
      },
      "source": [
        "# Data Preprocessing"
      ]
    },
    {
      "cell_type": "code",
      "execution_count": 12,
      "metadata": {},
      "outputs": [],
      "source": [
        "%load_ext autoreload\n",
        "%autoreload 2"
      ]
    },
    {
      "cell_type": "code",
      "execution_count": 10,
      "metadata": {},
      "outputs": [],
      "source": [
        "from lateguru_ml.ml_logic.model import package_test"
      ]
    },
    {
      "cell_type": "code",
      "execution_count": 11,
      "metadata": {},
      "outputs": [
        {
          "name": "stdout",
          "output_type": "stream",
          "text": [
            "Lateguru package works\n"
          ]
        }
      ],
      "source": [
        "package_test()"
      ]
    },
    {
      "cell_type": "code",
      "execution_count": null,
      "metadata": {
        "colab": {
          "base_uri": "https://localhost:8080/"
        },
        "id": "cYgmXrZbJ0Uf",
        "outputId": "8b70a1aa-0512-4d19-923b-e8726b80006c"
      },
      "outputs": [
        {
          "name": "stdout",
          "output_type": "stream",
          "text": [
            "Mounted at /content/drive\n"
          ]
        }
      ],
      "source": [
        "from google.colab import drive\n",
        "drive.mount('/content/drive')"
      ]
    },
    {
      "cell_type": "code",
      "execution_count": null,
      "metadata": {
        "id": "d18v7U7RJrpL"
      },
      "outputs": [],
      "source": [
        "import pandas as pd\n",
        "import numpy as np\n",
        "import matplotlib.pyplot as plt\n",
        "import seaborn as sns\n",
        "import os\n",
        "\n",
        "from scipy import stats\n",
        "\n",
        "from sklearn.compose import ColumnTransformer\n",
        "from sklearn.impute import SimpleImputer\n",
        "from sklearn.pipeline import Pipeline\n",
        "from sklearn.preprocessing import StandardScaler, RobustScaler, MinMaxScaler, OneHotEncoder\n",
        "from sklearn.model_selection import GridSearchCV, StratifiedKFold\n",
        "from sklearn.model_selection import train_test_split\n",
        "from sklearn.ensemble import RandomForestClassifier\n",
        "from sklearn.decomposition import PCA\n",
        "from sklearn.model_selection import learning_curve\n",
        "\n",
        "\n",
        "import xgboost as xgb\n",
        "from xgboost import plot_importance\n",
        "\n",
        "from imblearn.over_sampling import SMOTE, ADASYN\n",
        "from imblearn.under_sampling import RandomUnderSampler\n",
        "from imblearn.pipeline import Pipeline as ImbPipeline"
      ]
    },
    {
      "cell_type": "markdown",
      "metadata": {
        "id": "EK0gJioKJrpT"
      },
      "source": [
        "## Load preprocessed data"
      ]
    },
    {
      "cell_type": "code",
      "execution_count": null,
      "metadata": {
        "colab": {
          "base_uri": "https://localhost:8080/"
        },
        "id": "NdZfz9YSJrpT",
        "outputId": "46490ef9-9c27-4e5e-c74b-be16fea4db18"
      },
      "outputs": [
        {
          "name": "stdout",
          "output_type": "stream",
          "text": [
            "                  Time Origin Dest                 Carrier  Cancelled  \\\n",
            "0  2021-01-01 09:00:00    LAX  JFK  American Airlines Inc.      False   \n",
            "1  2021-01-02 09:00:00    LAX  JFK  American Airlines Inc.      False   \n",
            "2  2021-01-03 09:00:00    LAX  JFK  American Airlines Inc.      False   \n",
            "3  2021-01-03 09:00:00    LAX  JFK  American Airlines Inc.      False   \n",
            "4  2021-01-04 09:00:00    LAX  JFK  American Airlines Inc.      False   \n",
            "\n",
            "  CancellationReason  Delayed  DepDelayMinutes  CarrierDelay  \\\n",
            "0      Not Cancelled    False              0.0           0.0   \n",
            "1      Not Cancelled     True              2.0           0.0   \n",
            "2      Not Cancelled     True             25.0          28.0   \n",
            "3      Not Cancelled     True             25.0          28.0   \n",
            "4      Not Cancelled    False              0.0           0.0   \n",
            "\n",
            "   Weather_Delay_Length  ...  Sea_Level_Pressure  Visibility  Wind_Speed  \\\n",
            "0                   0.0  ...              1020.1    16093.40         0.0   \n",
            "1                   0.0  ...              1025.5    16093.40         0.0   \n",
            "2                   0.0  ...              1015.2     4828.02         4.6   \n",
            "3                   0.0  ...              1024.1     6437.36         4.6   \n",
            "4                   0.0  ...              1015.2     6437.36         4.6   \n",
            "\n",
            "   Wind_Gust  Precipitation  Ice_Accretion_3hr  Hour  Day_Of_Week  Month  \\\n",
            "0      24.97            0.0                0.0     9            4      1   \n",
            "1      24.97            0.0                0.0     9            5      1   \n",
            "2      24.97            0.0                0.0     9            6      1   \n",
            "3      24.97            0.0                0.0     9            6      1   \n",
            "4      24.97            0.0                0.0     9            0      1   \n",
            "\n",
            "   Weather_Delayed  \n",
            "0                0  \n",
            "1                0  \n",
            "2                0  \n",
            "3                0  \n",
            "4                0  \n",
            "\n",
            "[5 rows x 26 columns]\n"
          ]
        }
      ],
      "source": [
        "# Load preprocessed data set from /data folder\n",
        "file_path = '/content/drive/My Drive/Colab Notebooks/lateguru/data/preprocessed_treated_outliers.csv'\n",
        "\n",
        "preprocessed_df = pd.read_csv(file_path)\n",
        "\n",
        "print(preprocessed_df.head())"
      ]
    },
    {
      "cell_type": "code",
      "execution_count": null,
      "metadata": {
        "colab": {
          "base_uri": "https://localhost:8080/"
        },
        "id": "VvZhEM4nJrpU",
        "outputId": "061b4d3e-0fd5-4f38-ae37-3776232cbbfd"
      },
      "outputs": [
        {
          "data": {
            "text/plain": [
              "Index(['Time', 'Origin', 'Dest', 'Carrier', 'Cancelled', 'CancellationReason',\n",
              "       'Delayed', 'DepDelayMinutes', 'CarrierDelay', 'Weather_Delay_Length',\n",
              "       'NASDelay', 'SecurityDelay', 'LateAircraftDelay', 'Temperature',\n",
              "       'Feels_Like_Temperature', 'Altimeter_Pressure', 'Sea_Level_Pressure',\n",
              "       'Visibility', 'Wind_Speed', 'Wind_Gust', 'Precipitation',\n",
              "       'Ice_Accretion_3hr', 'Hour', 'Day_Of_Week', 'Month', 'Weather_Delayed'],\n",
              "      dtype='object')"
            ]
          },
          "execution_count": 5,
          "metadata": {},
          "output_type": "execute_result"
        }
      ],
      "source": [
        "preprocessed_df.columns"
      ]
    },
    {
      "cell_type": "markdown",
      "metadata": {
        "id": "noOhAmBxJrpU"
      },
      "source": [
        "### Modelling for y_pred = 'Weather_Delayed'"
      ]
    },
    {
      "cell_type": "code",
      "execution_count": null,
      "metadata": {
        "id": "jbUi54s7JrpU"
      },
      "outputs": [],
      "source": [
        "# Define y_pred and drop X columns based on 'delayed' feature engineering\n",
        "X = preprocessed_df.drop(columns=['Weather_Delay_Length', 'Weather_Delayed'])\n",
        "y = preprocessed_df['Weather_Delayed']"
      ]
    },
    {
      "cell_type": "markdown",
      "metadata": {
        "id": "8DO9PqRwJrpU"
      },
      "source": [
        "### Split into train/test (applicable to all model variations)"
      ]
    },
    {
      "cell_type": "code",
      "execution_count": null,
      "metadata": {
        "id": "iBIJ7conJrpU"
      },
      "outputs": [],
      "source": [
        "#Split into train/test\n",
        "X_train, X_test, y_train, y_test = train_test_split(X, y, test_size=0.2, random_state=42, stratify=y)\n"
      ]
    },
    {
      "cell_type": "markdown",
      "metadata": {
        "id": "R1oqiWxrJrpU"
      },
      "source": [
        "### Sampling down for testing"
      ]
    },
    {
      "cell_type": "code",
      "execution_count": null,
      "metadata": {
        "id": "6MojL4RaJrpU"
      },
      "outputs": [],
      "source": [
        "# Sample only 10% of the data for quick testing\n",
        "X_sample, _, y_sample, _ = train_test_split(\n",
        "    X, y,\n",
        "    test_size=0.9,  # Keep only 10% for the sample\n",
        "    random_state=42,\n",
        "    stratify=y  # Maintain the class distribution\n",
        ")"
      ]
    },
    {
      "cell_type": "markdown",
      "metadata": {
        "id": "n0Ot5jRpJrpU"
      },
      "source": [
        "### Split sampled data into train/test"
      ]
    },
    {
      "cell_type": "code",
      "execution_count": null,
      "metadata": {
        "id": "Df9nGIRdJrpU"
      },
      "outputs": [],
      "source": [
        "# Split the sampled data into train and test sets\n",
        "X_train_sample, X_test_sample, y_train_sample, y_test_sample = train_test_split(\n",
        "    X_sample, y_sample,\n",
        "    test_size=0.2,  # 80% train, 20% test\n",
        "    random_state=42, #Reproducibility\n",
        "    stratify=y_sample  # Maintain the class distribution in the split\n",
        ")"
      ]
    },
    {
      "cell_type": "markdown",
      "metadata": {
        "id": "5HA7DwpfJrpU"
      },
      "source": [
        "#### Enconding and scaling for y_pred = Weather_Delayed"
      ]
    },
    {
      "cell_type": "code",
      "execution_count": null,
      "metadata": {
        "id": "oZsKYYj7JrpU"
      },
      "outputs": [],
      "source": [
        "# Identify categorical, binary, and numeric features\n",
        "categorical_features = ['CancellationReason', 'Origin', 'Dest', 'Carrier']\n",
        "binary_features = ['Cancelled', 'Delayed']\n",
        "numeric_features = ['DepDelayMinutes', 'CarrierDelay', 'NASDelay',\n",
        "                    'SecurityDelay', 'LateAircraftDelay', 'Temperature', 'Feels_Like_Temperature',\n",
        "                    'Altimeter_Pressure', 'Sea_Level_Pressure', 'Visibility', 'Wind_Speed',\n",
        "                    'Wind_Gust', 'Precipitation', 'Ice_Accretion_3hr', 'Hour', 'Day_Of_Week', 'Month']\n",
        "\n",
        "# One-hot encode categorical features\n",
        "encoder = OneHotEncoder()\n",
        "X_train_encoded = encoder.fit_transform(X_train_sample[categorical_features])\n",
        "X_test_encoded = encoder.transform(X_test_sample[categorical_features])\n",
        "\n",
        "# Scale numeric features\n",
        "scaler = StandardScaler()\n",
        "X_train_scaled = scaler.fit_transform(X_train_sample[numeric_features])\n",
        "X_test_scaled = scaler.transform(X_test_sample[numeric_features])\n",
        "\n",
        "# Combine the encoded categorical, scaled numeric, and binary features into a single array\n",
        "X_train_preprocessed = np.hstack([X_train_encoded.toarray(), X_train_scaled, X_train_sample[binary_features]])\n",
        "X_test_preprocessed = np.hstack([X_test_encoded.toarray(), X_test_scaled, X_test_sample[binary_features]])"
      ]
    },
    {
      "cell_type": "markdown",
      "metadata": {
        "id": "ZmTLNp75JrpU"
      },
      "source": [
        "### PCA Analysis"
      ]
    },
    {
      "cell_type": "code",
      "execution_count": null,
      "metadata": {
        "id": "rwMQFkhOJrpV"
      },
      "outputs": [],
      "source": [
        "#Assing PCA and number of components\n",
        "pca = PCA(n_components=10)\n",
        "\n",
        "#Apply PCA to scaled numeric features\n",
        "X_train_pca = pca.fit_transform(X_train_scaled)\n",
        "X_test_pca = pca.transform(X_test_scaled)"
      ]
    },
    {
      "cell_type": "code",
      "execution_count": null,
      "metadata": {
        "id": "XF2QUK_nJrpV"
      },
      "outputs": [],
      "source": [
        "#Concatenate arrays to form one array\n",
        "X_train_preprocessed = np.hstack([X_train_encoded.toarray(), X_train_pca, X_train_sample[binary_features]])\n",
        "X_test_preprocessed = np.hstack([X_test_encoded.toarray(), X_test_pca, X_test_sample[binary_features]])"
      ]
    },
    {
      "cell_type": "code",
      "execution_count": null,
      "metadata": {
        "id": "SaDM8bQJJrpV"
      },
      "outputs": [],
      "source": [
        "# Apply SMOTE to balance the training data\n",
        "smote = SMOTE(random_state=42)\n",
        "X_train_balanced, y_train_balanced = smote.fit_resample(X_train_preprocessed, y_train_sample)"
      ]
    },
    {
      "cell_type": "code",
      "execution_count": null,
      "metadata": {
        "id": "M7ep-scfJrpV"
      },
      "outputs": [],
      "source": [
        "# #Define Param Grid\n",
        "# param_grid = {\n",
        "#     'reg_alpha': [0, 0.1],  # L1\n",
        "#     'reg_lambda': [0, 0.1],  # L2\n",
        "#     'max_depth': [3, 5],  # Tree depth\n",
        "#     'n_estimators': [50, 100]  # Boosting rounds\n",
        "# }"
      ]
    },
    {
      "cell_type": "markdown",
      "metadata": {
        "id": "yvOTfQvNJrpV"
      },
      "source": [
        "### Initialise Model for Weather y_pred"
      ]
    },
    {
      "cell_type": "code",
      "execution_count": null,
      "metadata": {
        "id": "DLWKStHaJrpV"
      },
      "outputs": [],
      "source": [
        "# Initialize the XGBoost model\n",
        "xgb_model_weather = xgb.XGBClassifier(\n",
        "    use_label_encoder=False,  # Disable the use of the label encoder - Need to test if this is required or not\n",
        "    eval_metric='logloss',  # logloss as the evaluation metric\n",
        "    random_state=42, # For reproducibility\n",
        "    max_depth=5,  # Maximum depth of the trees\n",
        "    n_estimators=100  # Number of boosting rounds\n",
        ")"
      ]
    },
    {
      "cell_type": "markdown",
      "metadata": {
        "id": "UAWm3AcsJrpV"
      },
      "source": [
        "### Grid Search"
      ]
    },
    {
      "cell_type": "code",
      "execution_count": null,
      "metadata": {
        "id": "HobAOs4nJrpV"
      },
      "outputs": [],
      "source": [
        "# #Grid Search\n",
        "# grid_search = GridSearchCV(estimator=xgb_model_weather, param_grid=param_grid, scoring='recall', cv=3, n_jobs=2)"
      ]
    },
    {
      "cell_type": "code",
      "execution_count": null,
      "metadata": {
        "id": "W2wZbEeIJrpV"
      },
      "outputs": [],
      "source": [
        "# #Fit Grid Search on balanced training data\n",
        "# grid_search.fit(X_train_balanced, y_train_balanced)"
      ]
    },
    {
      "cell_type": "code",
      "execution_count": null,
      "metadata": {
        "id": "YLPd71XaJrpV"
      },
      "outputs": [],
      "source": [
        "# #Print the best parameters and score\n",
        "# print(f\"Best Parameters from Grid Search: {grid_search.best_params_}\")\n",
        "# print(f\"Best F1 Score from Grid Search: {grid_search.best_score_}\")"
      ]
    },
    {
      "cell_type": "markdown",
      "metadata": {
        "id": "2Fp9YQLZJrpV"
      },
      "source": [
        "## Model Fit"
      ]
    },
    {
      "cell_type": "code",
      "execution_count": null,
      "metadata": {
        "colab": {
          "base_uri": "https://localhost:8080/",
          "height": 337
        },
        "id": "drvpomK8JrpV",
        "outputId": "edf58851-f59c-4b80-97a9-378cd7159737"
      },
      "outputs": [
        {
          "name": "stderr",
          "output_type": "stream",
          "text": [
            "/usr/local/lib/python3.10/dist-packages/xgboost/core.py:158: UserWarning: [22:59:29] WARNING: /workspace/src/learner.cc:740: \n",
            "Parameters: { \"use_label_encoder\" } are not used.\n",
            "\n",
            "  warnings.warn(smsg, UserWarning)\n"
          ]
        },
        {
          "data": {
            "text/html": [
              "<style>#sk-container-id-1 {color: black;}#sk-container-id-1 pre{padding: 0;}#sk-container-id-1 div.sk-toggleable {background-color: white;}#sk-container-id-1 label.sk-toggleable__label {cursor: pointer;display: block;width: 100%;margin-bottom: 0;padding: 0.3em;box-sizing: border-box;text-align: center;}#sk-container-id-1 label.sk-toggleable__label-arrow:before {content: \"▸\";float: left;margin-right: 0.25em;color: #696969;}#sk-container-id-1 label.sk-toggleable__label-arrow:hover:before {color: black;}#sk-container-id-1 div.sk-estimator:hover label.sk-toggleable__label-arrow:before {color: black;}#sk-container-id-1 div.sk-toggleable__content {max-height: 0;max-width: 0;overflow: hidden;text-align: left;background-color: #f0f8ff;}#sk-container-id-1 div.sk-toggleable__content pre {margin: 0.2em;color: black;border-radius: 0.25em;background-color: #f0f8ff;}#sk-container-id-1 input.sk-toggleable__control:checked~div.sk-toggleable__content {max-height: 200px;max-width: 100%;overflow: auto;}#sk-container-id-1 input.sk-toggleable__control:checked~label.sk-toggleable__label-arrow:before {content: \"▾\";}#sk-container-id-1 div.sk-estimator input.sk-toggleable__control:checked~label.sk-toggleable__label {background-color: #d4ebff;}#sk-container-id-1 div.sk-label input.sk-toggleable__control:checked~label.sk-toggleable__label {background-color: #d4ebff;}#sk-container-id-1 input.sk-hidden--visually {border: 0;clip: rect(1px 1px 1px 1px);clip: rect(1px, 1px, 1px, 1px);height: 1px;margin: -1px;overflow: hidden;padding: 0;position: absolute;width: 1px;}#sk-container-id-1 div.sk-estimator {font-family: monospace;background-color: #f0f8ff;border: 1px dotted black;border-radius: 0.25em;box-sizing: border-box;margin-bottom: 0.5em;}#sk-container-id-1 div.sk-estimator:hover {background-color: #d4ebff;}#sk-container-id-1 div.sk-parallel-item::after {content: \"\";width: 100%;border-bottom: 1px solid gray;flex-grow: 1;}#sk-container-id-1 div.sk-label:hover label.sk-toggleable__label {background-color: #d4ebff;}#sk-container-id-1 div.sk-serial::before {content: \"\";position: absolute;border-left: 1px solid gray;box-sizing: border-box;top: 0;bottom: 0;left: 50%;z-index: 0;}#sk-container-id-1 div.sk-serial {display: flex;flex-direction: column;align-items: center;background-color: white;padding-right: 0.2em;padding-left: 0.2em;position: relative;}#sk-container-id-1 div.sk-item {position: relative;z-index: 1;}#sk-container-id-1 div.sk-parallel {display: flex;align-items: stretch;justify-content: center;background-color: white;position: relative;}#sk-container-id-1 div.sk-item::before, #sk-container-id-1 div.sk-parallel-item::before {content: \"\";position: absolute;border-left: 1px solid gray;box-sizing: border-box;top: 0;bottom: 0;left: 50%;z-index: -1;}#sk-container-id-1 div.sk-parallel-item {display: flex;flex-direction: column;z-index: 1;position: relative;background-color: white;}#sk-container-id-1 div.sk-parallel-item:first-child::after {align-self: flex-end;width: 50%;}#sk-container-id-1 div.sk-parallel-item:last-child::after {align-self: flex-start;width: 50%;}#sk-container-id-1 div.sk-parallel-item:only-child::after {width: 0;}#sk-container-id-1 div.sk-dashed-wrapped {border: 1px dashed gray;margin: 0 0.4em 0.5em 0.4em;box-sizing: border-box;padding-bottom: 0.4em;background-color: white;}#sk-container-id-1 div.sk-label label {font-family: monospace;font-weight: bold;display: inline-block;line-height: 1.2em;}#sk-container-id-1 div.sk-label-container {text-align: center;}#sk-container-id-1 div.sk-container {/* jupyter's `normalize.less` sets `[hidden] { display: none; }` but bootstrap.min.css set `[hidden] { display: none !important; }` so we also need the `!important` here to be able to override the default hidden behavior on the sphinx rendered scikit-learn.org. See: https://github.com/scikit-learn/scikit-learn/issues/21755 */display: inline-block !important;position: relative;}#sk-container-id-1 div.sk-text-repr-fallback {display: none;}</style><div id=\"sk-container-id-1\" class=\"sk-top-container\"><div class=\"sk-text-repr-fallback\"><pre>XGBClassifier(base_score=None, booster=None, callbacks=None,\n",
              "              colsample_bylevel=None, colsample_bynode=None,\n",
              "              colsample_bytree=None, device=None, early_stopping_rounds=None,\n",
              "              enable_categorical=False, eval_metric=&#x27;logloss&#x27;,\n",
              "              feature_types=None, gamma=None, grow_policy=None,\n",
              "              importance_type=None, interaction_constraints=None,\n",
              "              learning_rate=None, max_bin=None, max_cat_threshold=None,\n",
              "              max_cat_to_onehot=None, max_delta_step=None, max_depth=5,\n",
              "              max_leaves=None, min_child_weight=None, missing=nan,\n",
              "              monotone_constraints=None, multi_strategy=None, n_estimators=100,\n",
              "              n_jobs=None, num_parallel_tree=None, random_state=42, ...)</pre><b>In a Jupyter environment, please rerun this cell to show the HTML representation or trust the notebook. <br />On GitHub, the HTML representation is unable to render, please try loading this page with nbviewer.org.</b></div><div class=\"sk-container\" hidden><div class=\"sk-item\"><div class=\"sk-estimator sk-toggleable\"><input class=\"sk-toggleable__control sk-hidden--visually\" id=\"sk-estimator-id-1\" type=\"checkbox\" checked><label for=\"sk-estimator-id-1\" class=\"sk-toggleable__label sk-toggleable__label-arrow\">XGBClassifier</label><div class=\"sk-toggleable__content\"><pre>XGBClassifier(base_score=None, booster=None, callbacks=None,\n",
              "              colsample_bylevel=None, colsample_bynode=None,\n",
              "              colsample_bytree=None, device=None, early_stopping_rounds=None,\n",
              "              enable_categorical=False, eval_metric=&#x27;logloss&#x27;,\n",
              "              feature_types=None, gamma=None, grow_policy=None,\n",
              "              importance_type=None, interaction_constraints=None,\n",
              "              learning_rate=None, max_bin=None, max_cat_threshold=None,\n",
              "              max_cat_to_onehot=None, max_delta_step=None, max_depth=5,\n",
              "              max_leaves=None, min_child_weight=None, missing=nan,\n",
              "              monotone_constraints=None, multi_strategy=None, n_estimators=100,\n",
              "              n_jobs=None, num_parallel_tree=None, random_state=42, ...)</pre></div></div></div></div></div>"
            ],
            "text/plain": [
              "XGBClassifier(base_score=None, booster=None, callbacks=None,\n",
              "              colsample_bylevel=None, colsample_bynode=None,\n",
              "              colsample_bytree=None, device=None, early_stopping_rounds=None,\n",
              "              enable_categorical=False, eval_metric='logloss',\n",
              "              feature_types=None, gamma=None, grow_policy=None,\n",
              "              importance_type=None, interaction_constraints=None,\n",
              "              learning_rate=None, max_bin=None, max_cat_threshold=None,\n",
              "              max_cat_to_onehot=None, max_delta_step=None, max_depth=5,\n",
              "              max_leaves=None, min_child_weight=None, missing=nan,\n",
              "              monotone_constraints=None, multi_strategy=None, n_estimators=100,\n",
              "              n_jobs=None, num_parallel_tree=None, random_state=42, ...)"
            ]
          },
          "execution_count": 19,
          "metadata": {},
          "output_type": "execute_result"
        }
      ],
      "source": [
        "# Fit the model on the balanced training data\n",
        "xgb_model_weather.fit(X_train_balanced, y_train_balanced)"
      ]
    },
    {
      "cell_type": "markdown",
      "metadata": {
        "id": "apmwRKoEJrpV"
      },
      "source": [
        "### Learning Curves"
      ]
    },
    {
      "cell_type": "code",
      "execution_count": null,
      "metadata": {
        "colab": {
          "base_uri": "https://localhost:8080/"
        },
        "id": "tDj3oVcYJrpV",
        "outputId": "09995f2a-2050-473e-823f-6656e919504c"
      },
      "outputs": [
        {
          "name": "stderr",
          "output_type": "stream",
          "text": [
            "/usr/local/lib/python3.10/dist-packages/xgboost/core.py:158: UserWarning: [23:00:22] WARNING: /workspace/src/learner.cc:740: \n",
            "Parameters: { \"use_label_encoder\" } are not used.\n",
            "\n",
            "  warnings.warn(smsg, UserWarning)\n",
            "/usr/local/lib/python3.10/dist-packages/sklearn/metrics/_classification.py:1760: UndefinedMetricWarning: F-score is ill-defined and being set to 0.0 due to no true nor predicted samples. Use `zero_division` parameter to control this behavior.\n",
            "  _warn_prf(average, \"true nor predicted\", \"F-score is\", len(true_sum))\n",
            "/usr/local/lib/python3.10/dist-packages/xgboost/core.py:158: UserWarning: [23:00:38] WARNING: /workspace/src/learner.cc:740: \n",
            "Parameters: { \"use_label_encoder\" } are not used.\n",
            "\n",
            "  warnings.warn(smsg, UserWarning)\n",
            "/usr/local/lib/python3.10/dist-packages/xgboost/core.py:158: UserWarning: [23:01:14] WARNING: /workspace/src/learner.cc:740: \n",
            "Parameters: { \"use_label_encoder\" } are not used.\n",
            "\n",
            "  warnings.warn(smsg, UserWarning)\n",
            "/usr/local/lib/python3.10/dist-packages/xgboost/core.py:158: UserWarning: [23:01:36] WARNING: /workspace/src/learner.cc:740: \n",
            "Parameters: { \"use_label_encoder\" } are not used.\n",
            "\n",
            "  warnings.warn(smsg, UserWarning)\n",
            "/usr/local/lib/python3.10/dist-packages/xgboost/core.py:158: UserWarning: [23:02:13] WARNING: /workspace/src/learner.cc:740: \n",
            "Parameters: { \"use_label_encoder\" } are not used.\n",
            "\n",
            "  warnings.warn(smsg, UserWarning)\n",
            "/usr/local/lib/python3.10/dist-packages/xgboost/core.py:158: UserWarning: [23:02:36] WARNING: /workspace/src/learner.cc:740: \n",
            "Parameters: { \"use_label_encoder\" } are not used.\n",
            "\n",
            "  warnings.warn(smsg, UserWarning)\n"
          ]
        }
      ],
      "source": [
        "# Define the training sizes\n",
        "train_sizes = np.array([0.5, 1.0])\n",
        "\n",
        "# Calculate learning curve\n",
        "train_sizes, train_scores, test_scores = learning_curve(\n",
        "    estimator=xgb_model_weather,\n",
        "    X=X_train_balanced,  # Use the balanced training data\n",
        "    y=y_train_balanced,\n",
        "    train_sizes=train_sizes,\n",
        "    cv=3,  # 5-fold cross-validation\n",
        "    scoring='f1',  # Use F1 score to measure performance\n",
        ")"
      ]
    },
    {
      "cell_type": "code",
      "execution_count": null,
      "metadata": {
        "id": "xr7sjacERWEO"
      },
      "outputs": [],
      "source": [
        "# Calculate mean and standard deviation for training scores\n",
        "train_mean = np.mean(train_scores, axis=1)\n",
        "train_std = np.std(train_scores, axis=1)"
      ]
    },
    {
      "cell_type": "code",
      "execution_count": null,
      "metadata": {
        "id": "FE3zuIBuRc4V"
      },
      "outputs": [],
      "source": [
        "# Calculate mean and standard deviation for test scores\n",
        "test_mean = np.mean(test_scores, axis=1)\n",
        "test_std = np.std(test_scores, axis=1)"
      ]
    },
    {
      "cell_type": "code",
      "execution_count": null,
      "metadata": {
        "colab": {
          "base_uri": "https://localhost:8080/",
          "height": 472
        },
        "id": "prFoMU3KRfTy",
        "outputId": "a96cbe46-0a3c-49bc-87a2-c5da0ee8ec5e"
      },
      "outputs": [
        {
          "data": {
            "image/png": "[encoded data removed]",
            "text/plain": [
              "<Figure size 640x480 with 1 Axes>"
            ]
          },
          "metadata": {},
          "output_type": "display_data"
        }
      ],
      "source": [
        "# Plot learning curve\n",
        "plt.figure()\n",
        "plt.plot(train_sizes, train_mean, 'o-', color='r', label='Training Score')\n",
        "plt.plot(train_sizes, test_mean, 'o-', color='g', label='Cross-Validation Score')\n",
        "\n",
        "plt.fill_between(train_sizes, train_mean - train_std, train_mean + train_std, alpha=0.1, color='r')\n",
        "plt.fill_between(train_sizes, test_mean - test_std, test_mean + test_std, alpha=0.1, color='g')\n",
        "\n",
        "plt.title('Learning Curve')\n",
        "plt.xlabel('Training Size')\n",
        "plt.ylabel('F1 Score')\n",
        "plt.legend(loc='best')\n",
        "plt.grid()\n",
        "plt.show()"
      ]
    },
    {
      "cell_type": "code",
      "execution_count": null,
      "metadata": {
        "id": "LICnl3MWJrpV"
      },
      "outputs": [],
      "source": [
        "# Evaluate the model on the test data\n",
        "y_pred = xgb_model_weather.predict(X_test_preprocessed)"
      ]
    },
    {
      "cell_type": "code",
      "execution_count": null,
      "metadata": {
        "colab": {
          "base_uri": "https://localhost:8080/"
        },
        "id": "2OjqnuVnJrpV",
        "outputId": "a9f0bfb1-9216-4d1b-c83e-896fc1f59b72"
      },
      "outputs": [
        {
          "name": "stdout",
          "output_type": "stream",
          "text": [
            "F1 Score on the test set: 0.3146608160232139\n"
          ]
        }
      ],
      "source": [
        "# Calculate F1 score\n",
        "from sklearn.metrics import f1_score\n",
        "f1 = f1_score(y_test_sample, y_pred)\n",
        "print(f\"F1 Score on the test set: {f1}\")"
      ]
    },
    {
      "cell_type": "code",
      "execution_count": null,
      "metadata": {
        "colab": {
          "base_uri": "https://localhost:8080/"
        },
        "id": "_qFMOWhsJrpV",
        "outputId": "24229746-26ee-498a-f2fe-ce68964e4402"
      },
      "outputs": [
        {
          "name": "stdout",
          "output_type": "stream",
          "text": [
            "Recall: 0.8082166878749318\n"
          ]
        }
      ],
      "source": [
        "#Calculate Recall\n",
        "from sklearn.metrics import recall_score\n",
        "recall = recall_score(y_test_sample, y_pred)\n",
        "print(f\"Recall: {recall}\")"
      ]
    },
    {
      "cell_type": "code",
      "execution_count": null,
      "metadata": {
        "colab": {
          "base_uri": "https://localhost:8080/"
        },
        "id": "P6VdUZ7PJrpV",
        "outputId": "af560836-6746-43f2-db3e-d90f622ce755"
      },
      "outputs": [
        {
          "name": "stdout",
          "output_type": "stream",
          "text": [
            "AUC-ROC: 0.8733204896047716\n"
          ]
        }
      ],
      "source": [
        "# Calculate ROC AUC\n",
        "from sklearn.metrics import roc_auc_score\n",
        "auc_roc = roc_auc_score(y_test_sample, y_pred)\n",
        "print(f\"AUC-ROC: {auc_roc}\")"
      ]
    },
    {
      "cell_type": "code",
      "execution_count": null,
      "metadata": {
        "colab": {
          "base_uri": "https://localhost:8080/"
        },
        "id": "u6GDV21QJrpW",
        "outputId": "f6795710-c364-458b-88b4-428155d25887"
      },
      "outputs": [
        {
          "name": "stdout",
          "output_type": "stream",
          "text": [
            "Confusion Matrix:\n",
            "[[279078  18312]\n",
            " [  1055   4446]]\n"
          ]
        }
      ],
      "source": [
        "# Inspect Confusion Matrix\n",
        "from sklearn.metrics import confusion_matrix\n",
        "cm = confusion_matrix(y_test_sample, y_pred)\n",
        "print(f\"Confusion Matrix:\\n{cm}\")"
      ]
    },
    {
      "cell_type": "code",
      "execution_count": null,
      "metadata": {
        "colab": {
          "base_uri": "https://localhost:8080/"
        },
        "id": "U6Yft7VbJrpW",
        "outputId": "99a883ab-eefe-4227-b12f-7c7546809d38"
      },
      "outputs": [
        {
          "name": "stdout",
          "output_type": "stream",
          "text": [
            "Classification Report:\n",
            "              precision    recall  f1-score   support\n",
            "\n",
            "           0       1.00      0.94      0.97    297390\n",
            "           1       0.20      0.81      0.31      5501\n",
            "\n",
            "    accuracy                           0.94    302891\n",
            "   macro avg       0.60      0.87      0.64    302891\n",
            "weighted avg       0.98      0.94      0.95    302891\n",
            "\n"
          ]
        }
      ],
      "source": [
        "# Generate Classifiation Report\n",
        "from sklearn.metrics import classification_report\n",
        "report = classification_report(y_test_sample, y_pred)\n",
        "print(f\"Classification Report:\\n{report}\")"
      ]
    },
    {
      "cell_type": "markdown",
      "metadata": {
        "id": "zWaoZcjMJrpW"
      },
      "source": [
        "#### Plot Feature Importance"
      ]
    },
    {
      "cell_type": "code",
      "execution_count": null,
      "metadata": {
        "colab": {
          "base_uri": "https://localhost:8080/",
          "height": 472
        },
        "id": "IIK_83woJrpX",
        "outputId": "98166834-b56f-4567-c5f0-e061c3d86a8a"
      },
      "outputs": [
        {
          "data": {
            "image/png": "[encoded data removed]",
            "text/plain": [
              "<Figure size 640x480 with 1 Axes>"
            ]
          },
          "metadata": {},
          "output_type": "display_data"
        }
      ],
      "source": [
        "# Plot the feature importance\n",
        "plot_importance(xgb_model_weather, max_num_features=10)\n",
        "plt.show()"
      ]
    },
    {
      "cell_type": "code",
      "execution_count": null,
      "metadata": {
        "id": "2C_uUZf1JrpX"
      },
      "outputs": [],
      "source": [
        "# Get the feature names from the encoder\n",
        "encoded_feature_names = encoder.get_feature_names_out(categorical_features)"
      ]
    },
    {
      "cell_type": "code",
      "execution_count": null,
      "metadata": {
        "id": "49PeHgpwJrpX"
      },
      "outputs": [],
      "source": [
        "# Combine feature names\n",
        "all_feature_names = np.hstack([\n",
        "    encoded_feature_names,  # Encoded categorical feature names\n",
        "    numeric_features,        # Numeric feature names\n",
        "    # binary_features          # Binary feature names\n",
        "])"
      ]
    },
    {
      "cell_type": "code",
      "execution_count": null,
      "metadata": {
        "colab": {
          "base_uri": "https://localhost:8080/"
        },
        "id": "OAY5MH9eJrpY",
        "outputId": "f259025e-b1bc-4870-a898-636abb4fd596"
      },
      "outputs": [
        {
          "name": "stdout",
          "output_type": "stream",
          "text": [
            "Feature: Wind_Gust, Importance: 0.3850063979625702\n",
            "Feature: Dest_LAS, Importance: 0.014936785213649273\n",
            "Feature: Dest_MCO, Importance: 0.014524001628160477\n",
            "Feature: Dest_LAX, Importance: 0.014064935967326164\n",
            "Feature: Dest_BOS, Importance: 0.013563510961830616\n",
            "Feature: Dest_ORD, Importance: 0.013461368158459663\n",
            "Feature: Dest_ATL, Importance: 0.012071911245584488\n",
            "Feature: Dest_PHX, Importance: 0.01102286297827959\n",
            "Feature: Dest_SFO, Importance: 0.010370257310569286\n",
            "Feature: Dest_IAH, Importance: 0.009733270853757858\n",
            "Feature: Dest_EWR, Importance: 0.00957166776061058\n",
            "Feature: Carrier_Envoy Air, Importance: 0.00905641820281744\n",
            "Feature: Dest_LGA, Importance: 0.008756616152822971\n",
            "Feature: Dest_AUS, Importance: 0.00871853157877922\n",
            "Feature: Dest_DEN, Importance: 0.008573992177844048\n",
            "Feature: Dest_BNA, Importance: 0.008346855640411377\n",
            "Feature: Dest_RDU, Importance: 0.008334653452038765\n",
            "Feature: Dest_JFK, Importance: 0.008236050605773926\n",
            "Feature: Dest_MIA, Importance: 0.007942574098706245\n",
            "Feature: Dest_BWI, Importance: 0.007933123037219048\n",
            "Feature: Dest_CLT, Importance: 0.007677519228309393\n",
            "Feature: CarrierDelay, Importance: 0.007370428182184696\n",
            "Feature: Carrier_SkyWest Airlines Inc., Importance: 0.007286656182259321\n",
            "Feature: Carrier_Southwest Airlines Co., Importance: 0.007233712822198868\n",
            "Feature: Dest_SLC, Importance: 0.007154145278036594\n",
            "Feature: Dest_DCA, Importance: 0.007021794561296701\n",
            "Feature: Dest_SAN, Importance: 0.007016312330961227\n",
            "Feature: Dest_IND, Importance: 0.006929993629455566\n",
            "Feature: Dest_MSP, Importance: 0.006893359590321779\n",
            "Feature: Dest_DTW, Importance: 0.006866749841719866\n"
          ]
        }
      ],
      "source": [
        "# Mapping indices to feature names\n",
        "important_features = [(all_feature_names[i], importance) for i, importance in enumerate(xgb_model_weather.feature_importances_)]\n",
        "\n",
        "# Sort by importance\n",
        "important_features.sort(key=lambda x: x[1], reverse=True)\n",
        "\n",
        "# Display top important features\n",
        "for feature, importance in important_features[:30]:\n",
        "    print(f\"Feature: {feature}, Importance: {importance}\")"
      ]
    },
    {
      "cell_type": "code",
      "execution_count": null,
      "metadata": {
        "colab": {
          "base_uri": "https://localhost:8080/",
          "height": 526
        },
        "id": "YHYH293rJrpY",
        "outputId": "6d133e09-428e-4f98-b86e-db1b2e0859ea"
      },
      "outputs": [
        {
          "data": {
            "image/png": "[encoded data removed]",
            "text/plain": [
              "<Figure size 1000x600 with 1 Axes>"
            ]
          },
          "metadata": {},
          "output_type": "display_data"
        }
      ],
      "source": [
        "# Sort the important features by importance\n",
        "important_features.sort(key=lambda x: x[1], reverse=True)\n",
        "\n",
        "# Extract the top 10 features and their importance\n",
        "top_features = important_features[:30]\n",
        "features = [f[0] for f in top_features]\n",
        "importances = [f[1] for f in top_features]\n",
        "\n",
        "# Plot\n",
        "plt.figure(figsize=(10, 6))\n",
        "plt.barh(features, importances)\n",
        "plt.xlabel('Importance')\n",
        "plt.title('Top 30 Feature Importances')\n",
        "plt.gca().invert_yaxis()\n",
        "plt.show()"
      ]
    },
    {
      "cell_type": "markdown",
      "metadata": {
        "id": "M9HaLCWNJrpY"
      },
      "source": [
        "# XGBoost"
      ]
    },
    {
      "cell_type": "markdown",
      "metadata": {
        "id": "hmhbkFogJrpY"
      },
      "source": [
        "## Preprocessing Pipelines"
      ]
    },
    {
      "cell_type": "code",
      "execution_count": null,
      "metadata": {
        "id": "6I2LugrpJrpY"
      },
      "outputs": [],
      "source": [
        "# # Define categorical, binary, and numeric features\n",
        "# categorical_features = ['CancellationReason', 'Origin', 'Dest', 'Carrier']\n",
        "# binary_features = ['Cancelled', 'Delayed']\n",
        "# numeric_features = ['DepDelayMinutes', 'CarrierDelay', 'NASDelay',\n",
        "#                     'SecurityDelay', 'LateAircraftDelay', 'Temperature', 'Feels_Like_Temperature',\n",
        "#                     'Altimeter_Pressure', 'Sea_Level_Pressure', 'Visibility', 'Wind_Speed',\n",
        "#                     'Wind_Gust', 'Precipitation', 'Ice_Accretion_3hr', 'Hour', 'Day_Of_Week', 'Month']\n",
        "\n",
        "# # Define the preprocessing steps\n",
        "# preprocessor = ColumnTransformer(\n",
        "#     transformers=[\n",
        "#         ('onehot', OneHotEncoder(), categorical_features),  # Encode categorical features\n",
        "#         ('passthrough_binary', 'passthrough', binary_features),  # Pass binary features as is\n",
        "#         ('passthrough_numeric', 'passthrough', numeric_features)  # Pass numeric features as is\n",
        "#     ],\n",
        "#     remainder='drop'  # Drop the Time column and any other unspecified features\n",
        "# )"
      ]
    },
    {
      "cell_type": "markdown",
      "metadata": {
        "id": "3zR9QaOpJrpY"
      },
      "source": [
        "## Scaling, Balacing & Modeling with Pipelines"
      ]
    },
    {
      "cell_type": "markdown",
      "metadata": {
        "id": "wcPMP23mJrpY"
      },
      "source": [
        "### StandardScaler + SMOTE Pipeline"
      ]
    },
    {
      "cell_type": "code",
      "execution_count": null,
      "metadata": {
        "id": "WwO6MOKOJrpY"
      },
      "outputs": [],
      "source": [
        "# # Pipeline with StandardScaler and SMOTE, with XGBClassifier model\n",
        "# pipeline_ss_smote = ImbPipeline([\n",
        "#     ('preprocessor', preprocessor), #Preprocessor\n",
        "#     ('scaler', StandardScaler(with_mean=False)),  # Standard Scaler for normalising features\n",
        "#     ('sampling', SMOTE(random_state=42)),  # SMOTE for oversampling the minority class\n",
        "# ])"
      ]
    },
    {
      "cell_type": "code",
      "execution_count": null,
      "metadata": {
        "id": "LAcTYsDpJrpY"
      },
      "outputs": [],
      "source": [
        "# # Grid Search parameters for Standard Scaler + SMOTE + XGBoost\n",
        "# param_grid_ss_smote = {\n",
        "#     'classifier__n_estimators': [100],  # Number of boosting rounds\n",
        "#     'classifier__max_depth': [5]  # Maximum depth of the trees\n",
        "# }"
      ]
    },
    {
      "cell_type": "code",
      "execution_count": null,
      "metadata": {
        "id": "gg6Kp1kkJrpY"
      },
      "outputs": [],
      "source": [
        "# # Cross-validation strategy\n",
        "# cv = StratifiedKFold(n_splits=5)"
      ]
    },
    {
      "cell_type": "code",
      "execution_count": null,
      "metadata": {
        "id": "TTR752fGJrpY"
      },
      "outputs": [],
      "source": [
        "# #Small X_train sample for local testing\n",
        "# X_train_sample, _, y_train_sample, _ = train_test_split(\n",
        "#     X_train, y_train,\n",
        "#     test_size=0.9,  # Keep only 10% for the sample\n",
        "#     random_state=42\n",
        "# )"
      ]
    },
    {
      "cell_type": "code",
      "execution_count": null,
      "metadata": {
        "id": "LjqoGB5_JrpY"
      },
      "outputs": [],
      "source": [
        "# X_train_sample"
      ]
    },
    {
      "cell_type": "code",
      "execution_count": null,
      "metadata": {
        "id": "701MsMCRJrpY"
      },
      "outputs": [],
      "source": [
        "# # Running GridSearch\n",
        "# grid_search_ss_smote_sample = GridSearchCV(pipeline_ss_smote, param_grid_ss_smote, cv=cv, scoring='f1', n_jobs=-1)"
      ]
    },
    {
      "cell_type": "code",
      "execution_count": null,
      "metadata": {
        "id": "Lzp8E_HZJrpY"
      },
      "outputs": [],
      "source": [
        "# #Fit X_train_sample and y_train_sample\n",
        "# grid_search_ss_smote_sample.fit(X_train_sample, y_train_sample)"
      ]
    },
    {
      "cell_type": "code",
      "execution_count": null,
      "metadata": {
        "id": "FA3Yjq7HJrpY"
      },
      "outputs": [],
      "source": [
        "# # Store results\n",
        "# best_model_ss_smote = grid_search_ss_smote_sample.best_estimator_\n",
        "# print(f\"Best Parameters for SS + SMOTE: {grid_search_ss_smote_sample.best_params_}\")\n",
        "# print(f\"Best F1 Score from Sample Grid Search: {grid_search_ss_smote_sample.best_score_}\")"
      ]
    },
    {
      "cell_type": "code",
      "execution_count": null,
      "metadata": {
        "id": "HaDTI_SYJrpY"
      },
      "outputs": [],
      "source": []
    }
  ],
  "metadata": {
    "colab": {
      "machine_shape": "hm",
      "provenance": []
    },
    "kernelspec": {
      "display_name": "Python 3",
      "name": "python3"
    },
    "language_info": {
      "codemirror_mode": {
        "name": "ipython",
        "version": 3
      },
      "file_extension": ".py",
      "mimetype": "text/x-python",
      "name": "python",
      "nbconvert_exporter": "python",
      "pygments_lexer": "ipython3",
      "version": "3.10.6"
    }
  },
  "nbformat": 4,
  "nbformat_minor": 0
}
