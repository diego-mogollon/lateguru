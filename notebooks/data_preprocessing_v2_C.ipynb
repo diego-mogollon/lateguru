{
 "cells": [
  {
   "cell_type": "markdown",
   "metadata": {},
   "source": [
    "# Data Preprocessing"
   ]
  },
  {
   "cell_type": "code",
   "execution_count": 12,
   "metadata": {},
   "outputs": [],
   "source": [
    "import pandas as pd\n",
    "import numpy as np\n",
    "import matplotlib.pyplot as plt\n",
    "import seaborn as sns\n",
    "import os\n",
    "\n",
    "from scipy import stats\n",
    "\n",
    "from sklearn.compose import ColumnTransformer\n",
    "from sklearn.impute import SimpleImputer\n",
    "from sklearn.pipeline import Pipeline\n",
    "from sklearn.preprocessing import StandardScaler, RobustScaler, MinMaxScaler, OneHotEncoder\n",
    "from sklearn.model_selection import GridSearchCV, StratifiedKFold\n",
    "from sklearn.model_selection import train_test_split\n",
    "from sklearn.ensemble import RandomForestClassifier\n",
    "\n",
    "#import xgboost as xgb\n",
    "\n",
    "from imblearn.over_sampling import SMOTE, ADASYN\n",
    "#from imblearn.under_sampling import RandomUnderSampler\n",
    "#from imblearn.pipeline import Pipeline as ImbPipeline"
   ]
  },
  {
   "cell_type": "code",
   "execution_count": 13,
   "metadata": {},
   "outputs": [],
   "source": [
    "# Function to load specific datasets\n",
    "def load_dataset():\n",
    "    # Determine the current working directory\n",
    "    current_dir = os.getcwd()\n",
    "\n",
    "    # Create the path to the raw_data directory relative to the current directory\n",
    "    base_dir = os.path.abspath(os.path.join(current_dir, \"..\", \"raw_data\"))\n",
    "\n",
    "# Define the path to the All_Airports.csv file\n",
    "    all_airports_file_path = os.path.join(base_dir, \"All_Airports.csv\")\n",
    "\n",
    "    # Load the CSV file into a DataFrame\n",
    "    df = pd.read_csv(all_airports_file_path, compression='zip')\n",
    "\n",
    "    return df\n",
    "\n",
    "df = load_dataset()"
   ]
  },
  {
   "cell_type": "code",
   "execution_count": 14,
   "metadata": {},
   "outputs": [
    {
     "data": {
      "text/html": [
       "<div>\n",
       "<style scoped>\n",
       "    .dataframe tbody tr th:only-of-type {\n",
       "        vertical-align: middle;\n",
       "    }\n",
       "\n",
       "    .dataframe tbody tr th {\n",
       "        vertical-align: top;\n",
       "    }\n",
       "\n",
       "    .dataframe thead th {\n",
       "        text-align: right;\n",
       "    }\n",
       "</style>\n",
       "<table border=\"1\" class=\"dataframe\">\n",
       "  <thead>\n",
       "    <tr style=\"text-align: right;\">\n",
       "      <th></th>\n",
       "      <th>Time</th>\n",
       "      <th>Origin</th>\n",
       "      <th>Dest</th>\n",
       "      <th>Carrier</th>\n",
       "      <th>Cancelled</th>\n",
       "      <th>CancellationReason</th>\n",
       "      <th>Delayed</th>\n",
       "      <th>DepDelayMinutes</th>\n",
       "      <th>CarrierDelay</th>\n",
       "      <th>WeatherDelay</th>\n",
       "      <th>...</th>\n",
       "      <th>LateAircraftDelay</th>\n",
       "      <th>Temperature</th>\n",
       "      <th>Feels_Like_Temperature</th>\n",
       "      <th>Altimeter_Pressure</th>\n",
       "      <th>Sea_Level_Pressure</th>\n",
       "      <th>Visibility</th>\n",
       "      <th>Wind_Speed</th>\n",
       "      <th>Wind_Gust</th>\n",
       "      <th>Precipitation</th>\n",
       "      <th>Ice_Accretion_3hr</th>\n",
       "    </tr>\n",
       "  </thead>\n",
       "  <tbody>\n",
       "    <tr>\n",
       "      <th>0</th>\n",
       "      <td>2021-01-01 09:00:00</td>\n",
       "      <td>LAX</td>\n",
       "      <td>JFK</td>\n",
       "      <td>American Airlines Inc.</td>\n",
       "      <td>False</td>\n",
       "      <td>NaN</td>\n",
       "      <td>False</td>\n",
       "      <td>0.0</td>\n",
       "      <td>NaN</td>\n",
       "      <td>NaN</td>\n",
       "      <td>...</td>\n",
       "      <td>NaN</td>\n",
       "      <td>56.0</td>\n",
       "      <td>55.9</td>\n",
       "      <td>1020.32</td>\n",
       "      <td>1020.1</td>\n",
       "      <td>16093.40</td>\n",
       "      <td>0.0</td>\n",
       "      <td>24.97</td>\n",
       "      <td>0.0</td>\n",
       "      <td>0.0</td>\n",
       "    </tr>\n",
       "    <tr>\n",
       "      <th>1</th>\n",
       "      <td>2021-01-02 09:00:00</td>\n",
       "      <td>LAX</td>\n",
       "      <td>JFK</td>\n",
       "      <td>American Airlines Inc.</td>\n",
       "      <td>False</td>\n",
       "      <td>NaN</td>\n",
       "      <td>True</td>\n",
       "      <td>2.0</td>\n",
       "      <td>NaN</td>\n",
       "      <td>NaN</td>\n",
       "      <td>...</td>\n",
       "      <td>NaN</td>\n",
       "      <td>54.0</td>\n",
       "      <td>54.0</td>\n",
       "      <td>1025.74</td>\n",
       "      <td>1025.5</td>\n",
       "      <td>16093.40</td>\n",
       "      <td>0.0</td>\n",
       "      <td>24.97</td>\n",
       "      <td>0.0</td>\n",
       "      <td>0.0</td>\n",
       "    </tr>\n",
       "    <tr>\n",
       "      <th>2</th>\n",
       "      <td>2021-01-03 09:00:00</td>\n",
       "      <td>LAX</td>\n",
       "      <td>JFK</td>\n",
       "      <td>American Airlines Inc.</td>\n",
       "      <td>False</td>\n",
       "      <td>NaN</td>\n",
       "      <td>True</td>\n",
       "      <td>28.0</td>\n",
       "      <td>28.0</td>\n",
       "      <td>0.0</td>\n",
       "      <td>...</td>\n",
       "      <td>0.0</td>\n",
       "      <td>52.0</td>\n",
       "      <td>52.0</td>\n",
       "      <td>1024.38</td>\n",
       "      <td>1015.2</td>\n",
       "      <td>4828.02</td>\n",
       "      <td>4.6</td>\n",
       "      <td>24.97</td>\n",
       "      <td>0.0</td>\n",
       "      <td>0.0</td>\n",
       "    </tr>\n",
       "    <tr>\n",
       "      <th>3</th>\n",
       "      <td>2021-01-03 09:00:00</td>\n",
       "      <td>LAX</td>\n",
       "      <td>JFK</td>\n",
       "      <td>American Airlines Inc.</td>\n",
       "      <td>False</td>\n",
       "      <td>NaN</td>\n",
       "      <td>True</td>\n",
       "      <td>28.0</td>\n",
       "      <td>28.0</td>\n",
       "      <td>0.0</td>\n",
       "      <td>...</td>\n",
       "      <td>0.0</td>\n",
       "      <td>53.0</td>\n",
       "      <td>53.1</td>\n",
       "      <td>1024.38</td>\n",
       "      <td>1024.1</td>\n",
       "      <td>6437.36</td>\n",
       "      <td>4.6</td>\n",
       "      <td>24.97</td>\n",
       "      <td>0.0</td>\n",
       "      <td>0.0</td>\n",
       "    </tr>\n",
       "    <tr>\n",
       "      <th>4</th>\n",
       "      <td>2021-01-04 09:00:00</td>\n",
       "      <td>LAX</td>\n",
       "      <td>JFK</td>\n",
       "      <td>American Airlines Inc.</td>\n",
       "      <td>False</td>\n",
       "      <td>NaN</td>\n",
       "      <td>False</td>\n",
       "      <td>0.0</td>\n",
       "      <td>NaN</td>\n",
       "      <td>NaN</td>\n",
       "      <td>...</td>\n",
       "      <td>NaN</td>\n",
       "      <td>51.0</td>\n",
       "      <td>51.1</td>\n",
       "      <td>1023.03</td>\n",
       "      <td>1015.2</td>\n",
       "      <td>6437.36</td>\n",
       "      <td>4.6</td>\n",
       "      <td>24.97</td>\n",
       "      <td>0.0</td>\n",
       "      <td>0.0</td>\n",
       "    </tr>\n",
       "  </tbody>\n",
       "</table>\n",
       "<p>5 rows × 22 columns</p>\n",
       "</div>"
      ],
      "text/plain": [
       "                  Time Origin Dest                 Carrier  Cancelled  \\\n",
       "0  2021-01-01 09:00:00    LAX  JFK  American Airlines Inc.      False   \n",
       "1  2021-01-02 09:00:00    LAX  JFK  American Airlines Inc.      False   \n",
       "2  2021-01-03 09:00:00    LAX  JFK  American Airlines Inc.      False   \n",
       "3  2021-01-03 09:00:00    LAX  JFK  American Airlines Inc.      False   \n",
       "4  2021-01-04 09:00:00    LAX  JFK  American Airlines Inc.      False   \n",
       "\n",
       "  CancellationReason  Delayed  DepDelayMinutes  CarrierDelay  WeatherDelay  \\\n",
       "0                NaN    False              0.0           NaN           NaN   \n",
       "1                NaN     True              2.0           NaN           NaN   \n",
       "2                NaN     True             28.0          28.0           0.0   \n",
       "3                NaN     True             28.0          28.0           0.0   \n",
       "4                NaN    False              0.0           NaN           NaN   \n",
       "\n",
       "   ...  LateAircraftDelay  Temperature  Feels_Like_Temperature  \\\n",
       "0  ...                NaN         56.0                    55.9   \n",
       "1  ...                NaN         54.0                    54.0   \n",
       "2  ...                0.0         52.0                    52.0   \n",
       "3  ...                0.0         53.0                    53.1   \n",
       "4  ...                NaN         51.0                    51.1   \n",
       "\n",
       "   Altimeter_Pressure  Sea_Level_Pressure  Visibility  Wind_Speed  Wind_Gust  \\\n",
       "0             1020.32              1020.1    16093.40         0.0      24.97   \n",
       "1             1025.74              1025.5    16093.40         0.0      24.97   \n",
       "2             1024.38              1015.2     4828.02         4.6      24.97   \n",
       "3             1024.38              1024.1     6437.36         4.6      24.97   \n",
       "4             1023.03              1015.2     6437.36         4.6      24.97   \n",
       "\n",
       "   Precipitation  Ice_Accretion_3hr  \n",
       "0            0.0                0.0  \n",
       "1            0.0                0.0  \n",
       "2            0.0                0.0  \n",
       "3            0.0                0.0  \n",
       "4            0.0                0.0  \n",
       "\n",
       "[5 rows x 22 columns]"
      ]
     },
     "execution_count": 14,
     "metadata": {},
     "output_type": "execute_result"
    }
   ],
   "source": [
    "#Inspect DF\n",
    "\n",
    "df.head()"
   ]
  },
  {
   "cell_type": "markdown",
   "metadata": {},
   "source": [
    "### Missing Values"
   ]
  },
  {
   "cell_type": "code",
   "execution_count": 15,
   "metadata": {},
   "outputs": [
    {
     "name": "stdout",
     "output_type": "stream",
     "text": [
      "<class 'pandas.core.frame.DataFrame'>\n",
      "RangeIndex: 15144514 entries, 0 to 15144513\n",
      "Data columns (total 15 columns):\n",
      " #   Column                  Dtype  \n",
      "---  ------                  -----  \n",
      " 0   DepDelayMinutes         float64\n",
      " 1   CarrierDelay            float64\n",
      " 2   WeatherDelay            float64\n",
      " 3   NASDelay                float64\n",
      " 4   SecurityDelay           float64\n",
      " 5   LateAircraftDelay       float64\n",
      " 6   Temperature             float64\n",
      " 7   Feels_Like_Temperature  float64\n",
      " 8   Altimeter_Pressure      float64\n",
      " 9   Sea_Level_Pressure      float64\n",
      " 10  Visibility              float64\n",
      " 11  Wind_Speed              float64\n",
      " 12  Wind_Gust               float64\n",
      " 13  Precipitation           float64\n",
      " 14  Ice_Accretion_3hr       float64\n",
      "dtypes: float64(15)\n",
      "memory usage: 1.7 GB\n",
      "None\n"
     ]
    }
   ],
   "source": [
    "#Select Numbers only\n",
    "df_num = df.select_dtypes(include='number')\n",
    "print(df_num.info())"
   ]
  },
  {
   "cell_type": "code",
   "execution_count": 16,
   "metadata": {},
   "outputs": [
    {
     "name": "stdout",
     "output_type": "stream",
     "text": [
      "Time                             0\n",
      "Origin                           0\n",
      "Dest                             0\n",
      "Carrier                          0\n",
      "Cancelled                        0\n",
      "CancellationReason        14804803\n",
      "Delayed                          0\n",
      "DepDelayMinutes             328891\n",
      "CarrierDelay              11870186\n",
      "WeatherDelay              11870186\n",
      "NASDelay                  11870186\n",
      "SecurityDelay             11870186\n",
      "LateAircraftDelay         11870186\n",
      "Temperature                      0\n",
      "Feels_Like_Temperature           0\n",
      "Altimeter_Pressure               0\n",
      "Sea_Level_Pressure               0\n",
      "Visibility                       0\n",
      "Wind_Speed                       0\n",
      "Wind_Gust                        0\n",
      "Precipitation                    0\n",
      "Ice_Accretion_3hr                0\n",
      "dtype: int64\n"
     ]
    }
   ],
   "source": [
    "# Check Missing Values\n",
    "missing_values = df.isnull().sum()\n",
    "\n",
    "print(missing_values)"
   ]
  },
  {
   "cell_type": "code",
   "execution_count": 17,
   "metadata": {},
   "outputs": [
    {
     "data": {
      "text/plain": [
       "15144514"
      ]
     },
     "execution_count": 17,
     "metadata": {},
     "output_type": "execute_result"
    }
   ],
   "source": [
    "len(df)"
   ]
  },
  {
   "cell_type": "code",
   "execution_count": 18,
   "metadata": {},
   "outputs": [
    {
     "name": "stdout",
     "output_type": "stream",
     "text": [
      "     DepDelayMinutes  CarrierDelay  WeatherDelay  NASDelay  SecurityDelay  \\\n",
      "82               NaN           NaN           NaN       NaN            NaN   \n",
      "171              NaN           NaN           NaN       NaN            NaN   \n",
      "172              NaN           NaN           NaN       NaN            NaN   \n",
      "173              NaN           NaN           NaN       NaN            NaN   \n",
      "174              NaN           NaN           NaN       NaN            NaN   \n",
      "\n",
      "     LateAircraftDelay  Temperature  Feels_Like_Temperature  \\\n",
      "82                 NaN         58.0                    57.9   \n",
      "171                NaN         47.0                    46.9   \n",
      "172                NaN         47.0                    46.9   \n",
      "173                NaN         46.0                    46.0   \n",
      "174                NaN         47.0                    46.9   \n",
      "\n",
      "     Altimeter_Pressure  Sea_Level_Pressure  Visibility  Wind_Speed  \\\n",
      "82              1019.30              1019.2    16093.40         0.0   \n",
      "171             1019.98              1015.2     1609.34         0.0   \n",
      "172             1019.98              1019.9     1609.34         0.0   \n",
      "173             1019.98              1015.2      804.67         0.0   \n",
      "174             1019.98              1015.2      804.67         0.0   \n",
      "\n",
      "     Wind_Gust  Precipitation  Ice_Accretion_3hr  \n",
      "82       24.97            0.0                0.0  \n",
      "171      24.97            0.0                0.0  \n",
      "172      24.97            0.0                0.0  \n",
      "173      24.97            0.0                0.0  \n",
      "174      24.97            0.0                0.0  \n"
     ]
    }
   ],
   "source": [
    "# Display rows with missing values in 'DepDelayMinutes'\n",
    "missing_dep_delay = df_num[df_num['DepDelayMinutes'].isnull()]\n",
    "print(missing_dep_delay.head())"
   ]
  },
  {
   "cell_type": "markdown",
   "metadata": {},
   "source": [
    "#### Inspect Missing Values in all relevant columns"
   ]
  },
  {
   "cell_type": "code",
   "execution_count": 19,
   "metadata": {},
   "outputs": [
    {
     "name": "stdout",
     "output_type": "stream",
     "text": [
      "    DepDelayMinutes  CarrierDelay  WeatherDelay  NASDelay  SecurityDelay  \\\n",
      "0               0.0           NaN           NaN       NaN            NaN   \n",
      "1               2.0           NaN           NaN       NaN            NaN   \n",
      "2              28.0          28.0           0.0       2.0            0.0   \n",
      "3              28.0          28.0           0.0       2.0            0.0   \n",
      "4               0.0           NaN           NaN       NaN            NaN   \n",
      "5               0.0           NaN           NaN       NaN            NaN   \n",
      "6               0.0           NaN           NaN       NaN            NaN   \n",
      "7               0.0           NaN           NaN       NaN            NaN   \n",
      "8               0.0           NaN           NaN       NaN            NaN   \n",
      "9               0.0           NaN           NaN       NaN            NaN   \n",
      "10              0.0           NaN           NaN       NaN            NaN   \n",
      "11              0.0           NaN           NaN       NaN            NaN   \n",
      "12              0.0           NaN           NaN       NaN            NaN   \n",
      "13              0.0           NaN           NaN       NaN            NaN   \n",
      "14              0.0           NaN           NaN       NaN            NaN   \n",
      "15              0.0           NaN           NaN       NaN            NaN   \n",
      "16              0.0           NaN           NaN       NaN            NaN   \n",
      "17              0.0           NaN           NaN       NaN            NaN   \n",
      "18              0.0           NaN           NaN       NaN            NaN   \n",
      "19              0.0           NaN           NaN       NaN            NaN   \n",
      "\n",
      "    LateAircraftDelay  \n",
      "0                 NaN  \n",
      "1                 NaN  \n",
      "2                 0.0  \n",
      "3                 0.0  \n",
      "4                 NaN  \n",
      "5                 NaN  \n",
      "6                 NaN  \n",
      "7                 NaN  \n",
      "8                 NaN  \n",
      "9                 NaN  \n",
      "10                NaN  \n",
      "11                NaN  \n",
      "12                NaN  \n",
      "13                NaN  \n",
      "14                NaN  \n",
      "15                NaN  \n",
      "16                NaN  \n",
      "17                NaN  \n",
      "18                NaN  \n",
      "19                NaN  \n",
      "   CancellationReason\n",
      "0                 NaN\n",
      "1                 NaN\n",
      "2                 NaN\n",
      "3                 NaN\n",
      "4                 NaN\n",
      "5                 NaN\n",
      "6                 NaN\n",
      "7                 NaN\n",
      "8                 NaN\n",
      "9                 NaN\n",
      "10                NaN\n",
      "11                NaN\n",
      "12                NaN\n",
      "13                NaN\n",
      "14                NaN\n",
      "15                NaN\n",
      "16                NaN\n",
      "17                NaN\n",
      "18                NaN\n",
      "19                NaN\n"
     ]
    }
   ],
   "source": [
    "# Inspect specific columns with missing values\n",
    "print(df[['DepDelayMinutes', 'CarrierDelay', 'WeatherDelay', 'NASDelay', 'SecurityDelay', 'LateAircraftDelay']].head(20))\n",
    "print(df[['CancellationReason']].head(20))"
   ]
  },
  {
   "cell_type": "code",
   "execution_count": 20,
   "metadata": {},
   "outputs": [
    {
     "name": "stdout",
     "output_type": "stream",
     "text": [
      "      DepDelayMinutes  Delayed  CarrierDelay  WeatherDelay  NASDelay  \\\n",
      "82                NaN    False           NaN           NaN       NaN   \n",
      "171               NaN    False           NaN           NaN       NaN   \n",
      "172               NaN    False           NaN           NaN       NaN   \n",
      "173               NaN    False           NaN           NaN       NaN   \n",
      "174               NaN    False           NaN           NaN       NaN   \n",
      "175               NaN    False           NaN           NaN       NaN   \n",
      "487               NaN    False           NaN           NaN       NaN   \n",
      "1318              NaN    False           NaN           NaN       NaN   \n",
      "1418              NaN    False           NaN           NaN       NaN   \n",
      "1485              NaN    False           NaN           NaN       NaN   \n",
      "1778              NaN    False           NaN           NaN       NaN   \n",
      "1883              NaN    False           NaN           NaN       NaN   \n",
      "2100              NaN    False           NaN           NaN       NaN   \n",
      "2104              NaN    False           NaN           NaN       NaN   \n",
      "2105              NaN    False           NaN           NaN       NaN   \n",
      "2107              NaN    False           NaN           NaN       NaN   \n",
      "2110              NaN    False           NaN           NaN       NaN   \n",
      "2898              NaN    False           NaN           NaN       NaN   \n",
      "4057              NaN    False           NaN           NaN       NaN   \n",
      "4089              NaN    False           NaN           NaN       NaN   \n",
      "\n",
      "      SecurityDelay  LateAircraftDelay  \n",
      "82              NaN                NaN  \n",
      "171             NaN                NaN  \n",
      "172             NaN                NaN  \n",
      "173             NaN                NaN  \n",
      "174             NaN                NaN  \n",
      "175             NaN                NaN  \n",
      "487             NaN                NaN  \n",
      "1318            NaN                NaN  \n",
      "1418            NaN                NaN  \n",
      "1485            NaN                NaN  \n",
      "1778            NaN                NaN  \n",
      "1883            NaN                NaN  \n",
      "2100            NaN                NaN  \n",
      "2104            NaN                NaN  \n",
      "2105            NaN                NaN  \n",
      "2107            NaN                NaN  \n",
      "2110            NaN                NaN  \n",
      "2898            NaN                NaN  \n",
      "4057            NaN                NaN  \n",
      "4089            NaN                NaN  \n",
      "    DepDelayMinutes  Delayed  WeatherDelay  CarrierDelay  NASDelay\n",
      "0               0.0    False           NaN           NaN       NaN\n",
      "1               2.0     True           NaN           NaN       NaN\n",
      "4               0.0    False           NaN           NaN       NaN\n",
      "5               0.0    False           NaN           NaN       NaN\n",
      "6               0.0    False           NaN           NaN       NaN\n",
      "7               0.0    False           NaN           NaN       NaN\n",
      "8               0.0    False           NaN           NaN       NaN\n",
      "9               0.0    False           NaN           NaN       NaN\n",
      "10              0.0    False           NaN           NaN       NaN\n",
      "11              0.0    False           NaN           NaN       NaN\n",
      "12              0.0    False           NaN           NaN       NaN\n",
      "13              0.0    False           NaN           NaN       NaN\n",
      "14              0.0    False           NaN           NaN       NaN\n",
      "15              0.0    False           NaN           NaN       NaN\n",
      "16              0.0    False           NaN           NaN       NaN\n",
      "17              0.0    False           NaN           NaN       NaN\n",
      "18              0.0    False           NaN           NaN       NaN\n",
      "19              0.0    False           NaN           NaN       NaN\n",
      "20              3.0     True           NaN           NaN       NaN\n",
      "21              2.0     True           NaN           NaN       NaN\n",
      "   CancellationReason  Cancelled\n",
      "0                 NaN      False\n",
      "1                 NaN      False\n",
      "2                 NaN      False\n",
      "3                 NaN      False\n",
      "4                 NaN      False\n",
      "5                 NaN      False\n",
      "6                 NaN      False\n",
      "7                 NaN      False\n",
      "8                 NaN      False\n",
      "9                 NaN      False\n",
      "10                NaN      False\n",
      "11                NaN      False\n",
      "12                NaN      False\n",
      "13                NaN      False\n",
      "14                NaN      False\n",
      "15                NaN      False\n",
      "16                NaN      False\n",
      "17                NaN      False\n",
      "18                NaN      False\n",
      "19                NaN      False\n"
     ]
    }
   ],
   "source": [
    "# Filter and inspect rows where DepDelayMinutes is NaN\n",
    "print(df[df['DepDelayMinutes'].isnull()][['DepDelayMinutes', 'Delayed', 'CarrierDelay', 'WeatherDelay', 'NASDelay', 'SecurityDelay', 'LateAircraftDelay']].head(20))\n",
    "\n",
    "# Filter and inspect rows where WeatherDelay is NaN\n",
    "print(df[df['WeatherDelay'].isnull()][['DepDelayMinutes', 'Delayed', 'WeatherDelay', 'CarrierDelay', 'NASDelay']].head(20))\n",
    "\n",
    "# Filter and inspect rows where CancellationReason is NaN\n",
    "print(df[df['CancellationReason'].isnull()][['CancellationReason', 'Cancelled']].head(20))"
   ]
  },
  {
   "cell_type": "code",
   "execution_count": 21,
   "metadata": {},
   "outputs": [],
   "source": [
    "# # Visualize missing data in the delay columns\n",
    "# plt.figure(figsize=(10, 6))\n",
    "# sns.heatmap(df[['DepDelayMinutes', 'CarrierDelay', 'WeatherDelay', 'NASDelay', 'SecurityDelay', 'LateAircraftDelay']].isnull(), cbar=False, cmap='viridis')\n",
    "# plt.title('Missing Data in Delay Columns')\n",
    "# plt.show()"
   ]
  },
  {
   "cell_type": "markdown",
   "metadata": {},
   "source": [
    "### Data Imputation for NaN"
   ]
  },
  {
   "cell_type": "code",
   "execution_count": 22,
   "metadata": {},
   "outputs": [],
   "source": [
    "# Impute NaN in delay columns with 0.0\n",
    "delay_columns = ['CarrierDelay', 'WeatherDelay', 'NASDelay', 'SecurityDelay', 'LateAircraftDelay']\n",
    "df[delay_columns] = df[delay_columns].fillna(0.0)"
   ]
  },
  {
   "cell_type": "code",
   "execution_count": 23,
   "metadata": {},
   "outputs": [],
   "source": [
    "# Impute NaN in DepDelayMinutes with 0.0\n",
    "df['DepDelayMinutes'] = df['DepDelayMinutes'].fillna(0.0)"
   ]
  },
  {
   "cell_type": "code",
   "execution_count": 24,
   "metadata": {},
   "outputs": [],
   "source": [
    "# Impute NaN in CancellationReason with 'Not Cancelled'\n",
    "df['CancellationReason'] = df['CancellationReason'].fillna('Not Cancelled')"
   ]
  },
  {
   "cell_type": "code",
   "execution_count": 25,
   "metadata": {},
   "outputs": [
    {
     "name": "stdout",
     "output_type": "stream",
     "text": [
      "    DepDelayMinutes  CarrierDelay  WeatherDelay  NASDelay  SecurityDelay  \\\n",
      "0               0.0           0.0           0.0       0.0            0.0   \n",
      "1               2.0           0.0           0.0       0.0            0.0   \n",
      "2              28.0          28.0           0.0       2.0            0.0   \n",
      "3              28.0          28.0           0.0       2.0            0.0   \n",
      "4               0.0           0.0           0.0       0.0            0.0   \n",
      "5               0.0           0.0           0.0       0.0            0.0   \n",
      "6               0.0           0.0           0.0       0.0            0.0   \n",
      "7               0.0           0.0           0.0       0.0            0.0   \n",
      "8               0.0           0.0           0.0       0.0            0.0   \n",
      "9               0.0           0.0           0.0       0.0            0.0   \n",
      "10              0.0           0.0           0.0       0.0            0.0   \n",
      "11              0.0           0.0           0.0       0.0            0.0   \n",
      "12              0.0           0.0           0.0       0.0            0.0   \n",
      "13              0.0           0.0           0.0       0.0            0.0   \n",
      "14              0.0           0.0           0.0       0.0            0.0   \n",
      "15              0.0           0.0           0.0       0.0            0.0   \n",
      "16              0.0           0.0           0.0       0.0            0.0   \n",
      "17              0.0           0.0           0.0       0.0            0.0   \n",
      "18              0.0           0.0           0.0       0.0            0.0   \n",
      "19              0.0           0.0           0.0       0.0            0.0   \n",
      "\n",
      "    LateAircraftDelay CancellationReason  \n",
      "0                 0.0      Not Cancelled  \n",
      "1                 0.0      Not Cancelled  \n",
      "2                 0.0      Not Cancelled  \n",
      "3                 0.0      Not Cancelled  \n",
      "4                 0.0      Not Cancelled  \n",
      "5                 0.0      Not Cancelled  \n",
      "6                 0.0      Not Cancelled  \n",
      "7                 0.0      Not Cancelled  \n",
      "8                 0.0      Not Cancelled  \n",
      "9                 0.0      Not Cancelled  \n",
      "10                0.0      Not Cancelled  \n",
      "11                0.0      Not Cancelled  \n",
      "12                0.0      Not Cancelled  \n",
      "13                0.0      Not Cancelled  \n",
      "14                0.0      Not Cancelled  \n",
      "15                0.0      Not Cancelled  \n",
      "16                0.0      Not Cancelled  \n",
      "17                0.0      Not Cancelled  \n",
      "18                0.0      Not Cancelled  \n",
      "19                0.0      Not Cancelled  \n"
     ]
    }
   ],
   "source": [
    "# Display the first few rows after imputation to confirm changes\n",
    "print(df[['DepDelayMinutes', 'CarrierDelay', 'WeatherDelay', 'NASDelay', 'SecurityDelay', 'LateAircraftDelay', 'CancellationReason']].head(20))"
   ]
  },
  {
   "cell_type": "markdown",
   "metadata": {},
   "source": [
    "### Handling Outliers"
   ]
  },
  {
   "cell_type": "code",
   "execution_count": 26,
   "metadata": {},
   "outputs": [
    {
     "name": "stdout",
     "output_type": "stream",
     "text": [
      "Outliers found: 1881233\n"
     ]
    }
   ],
   "source": [
    "# Identify outliers using Z-score\n",
    "z_scores = np.abs(stats.zscore(df.select_dtypes(include=[np.number])))\n",
    "outliers = np.where(z_scores > 3)\n",
    "print(f\"Outliers found: {len(outliers[0])}\")"
   ]
  },
  {
   "cell_type": "code",
   "execution_count": 27,
   "metadata": {},
   "outputs": [],
   "source": [
    "# # Visualize outliers in specific columns\n",
    "# for column in df.select_dtypes(include=[np.number]).columns:\n",
    "#     plt.figure(figsize=(10, 6))\n",
    "#     sns.boxplot(x=df[column])\n",
    "#     plt.title(f'Boxplot of {column}')\n",
    "#     plt.show()"
   ]
  },
  {
   "cell_type": "markdown",
   "metadata": {},
   "source": [
    "### Manually Inspecting Extreme Outliers"
   ]
  },
  {
   "cell_type": "code",
   "execution_count": 28,
   "metadata": {},
   "outputs": [
    {
     "name": "stdout",
     "output_type": "stream",
     "text": [
      "Feature: DepDelayMinutes\n",
      "Lower Bound: -15.0\n",
      "Upper Bound: 25.0\n",
      "Number of Extreme Outliers: 2333489\n",
      "     DepDelayMinutes\n",
      "2               28.0\n",
      "3               28.0\n",
      "38              76.0\n",
      "46              34.0\n",
      "69              87.0\n",
      "70              87.0\n",
      "76              34.0\n",
      "112            265.0\n",
      "113            265.0\n",
      "127             44.0\n",
      "133            390.0\n",
      "153             35.0\n",
      "242             40.0\n",
      "243             40.0\n",
      "290             30.0\n",
      "303             42.0\n",
      "304             42.0\n",
      "342             72.0\n",
      "366             40.0\n",
      "395            355.0\n",
      "\n",
      "--------------------------------------------------------------------------------\n",
      "\n",
      "Feature: CarrierDelay\n",
      "Lower Bound: 0.0\n",
      "Upper Bound: 0.0\n",
      "Number of Extreme Outliers: 1925686\n",
      "     CarrierDelay\n",
      "2            28.0\n",
      "3            28.0\n",
      "38           59.0\n",
      "46           31.0\n",
      "54            9.0\n",
      "112         265.0\n",
      "113         265.0\n",
      "127          37.0\n",
      "133         390.0\n",
      "153          35.0\n",
      "177          14.0\n",
      "181          20.0\n",
      "236           2.0\n",
      "242          23.0\n",
      "243          23.0\n",
      "342          46.0\n",
      "344          11.0\n",
      "405          28.0\n",
      "461         146.0\n",
      "475           6.0\n",
      "\n",
      "--------------------------------------------------------------------------------\n",
      "\n",
      "Feature: WeatherDelay\n",
      "Lower Bound: 0.0\n",
      "Upper Bound: 0.0\n",
      "Number of Extreme Outliers: 275047\n",
      "      WeatherDelay\n",
      "395          343.0\n",
      "3357          24.0\n",
      "3358          24.0\n",
      "3359          24.0\n",
      "3367           9.0\n",
      "3368           9.0\n",
      "3369           9.0\n",
      "6049         109.0\n",
      "6543          16.0\n",
      "6544          24.0\n",
      "6748          69.0\n",
      "6818          15.0\n",
      "7377          31.0\n",
      "7389          64.0\n",
      "7432          88.0\n",
      "7467          16.0\n",
      "7659          73.0\n",
      "8020         848.0\n",
      "8188         140.0\n",
      "8325          72.0\n",
      "\n",
      "--------------------------------------------------------------------------------\n",
      "\n",
      "Feature: NASDelay\n",
      "Lower Bound: 0.0\n",
      "Upper Bound: 0.0\n",
      "Number of Extreme Outliers: 1573703\n",
      "     NASDelay\n",
      "2         2.0\n",
      "3         2.0\n",
      "54       12.0\n",
      "112      18.0\n",
      "113      18.0\n",
      "133      24.0\n",
      "153       4.0\n",
      "177       2.0\n",
      "178      17.0\n",
      "181       2.0\n",
      "236       6.0\n",
      "344      14.0\n",
      "349      24.0\n",
      "354      22.0\n",
      "404       9.0\n",
      "501      25.0\n",
      "506       6.0\n",
      "507     247.0\n",
      "510       2.0\n",
      "518       1.0\n",
      "\n",
      "--------------------------------------------------------------------------------\n",
      "\n",
      "Feature: SecurityDelay\n",
      "Lower Bound: 0.0\n",
      "Upper Bound: 0.0\n",
      "Number of Extreme Outliers: 17888\n",
      "       SecurityDelay\n",
      "69              65.0\n",
      "70              65.0\n",
      "366             22.0\n",
      "753             82.0\n",
      "1207            28.0\n",
      "1208            28.0\n",
      "1209            28.0\n",
      "1210            28.0\n",
      "5002            48.0\n",
      "5194            15.0\n",
      "5553            33.0\n",
      "8719            64.0\n",
      "8720            64.0\n",
      "8721            64.0\n",
      "15153          146.0\n",
      "20595           75.0\n",
      "21086           48.0\n",
      "23354           17.0\n",
      "23694            8.0\n",
      "25548          100.0\n",
      "\n",
      "--------------------------------------------------------------------------------\n",
      "\n",
      "Feature: LateAircraftDelay\n",
      "Lower Bound: 0.0\n",
      "Upper Bound: 0.0\n",
      "Number of Extreme Outliers: 1491713\n",
      "      LateAircraftDelay\n",
      "236                14.0\n",
      "404                47.0\n",
      "475                96.0\n",
      "506                14.0\n",
      "580               111.0\n",
      "605                52.0\n",
      "735                51.0\n",
      "1151               13.0\n",
      "1153               52.0\n",
      "1154               52.0\n",
      "1155               52.0\n",
      "1313               41.0\n",
      "1314               41.0\n",
      "1315               41.0\n",
      "1316               41.0\n",
      "1322               54.0\n",
      "1383               38.0\n",
      "1398               25.0\n",
      "1400               39.0\n",
      "1404               34.0\n",
      "\n",
      "--------------------------------------------------------------------------------\n",
      "\n",
      "Feature: Temperature\n",
      "Lower Bound: 13.5\n",
      "Upper Bound: 113.5\n",
      "Number of Extreme Outliers: 97213\n",
      "         Temperature\n",
      "1304387         12.9\n",
      "1304390         12.9\n",
      "1304392         12.9\n",
      "1304401         12.0\n",
      "1304403         12.9\n",
      "1304418         12.9\n",
      "1304423         12.0\n",
      "1304435         12.9\n",
      "1304436         12.9\n",
      "1304443         12.9\n",
      "1304446         12.0\n",
      "1304461         12.9\n",
      "1304475         12.9\n",
      "1304479         12.9\n",
      "1304481         12.9\n",
      "1304483         12.9\n",
      "1304486         12.9\n",
      "1304487         12.0\n",
      "1304490         12.9\n",
      "1305761         12.0\n",
      "\n",
      "--------------------------------------------------------------------------------\n",
      "\n",
      "Feature: Feels_Like_Temperature\n",
      "Lower Bound: 13.750000000000007\n",
      "Upper Bound: 113.35\n",
      "Number of Extreme Outliers: 305404\n",
      "         Feels_Like_Temperature\n",
      "1300947                    3.64\n",
      "1300954                   11.67\n",
      "1303199                   13.03\n",
      "1303208                   12.48\n",
      "1303211                   12.48\n",
      "1303222                   12.48\n",
      "1303226                   13.37\n",
      "1303245                   12.48\n",
      "1303266                   13.03\n",
      "1303267                   12.28\n",
      "1303277                   12.48\n",
      "1303279                   13.03\n",
      "1303310                   13.03\n",
      "1303320                   12.28\n",
      "1303324                   12.48\n",
      "1303342                   12.48\n",
      "1303344                   13.37\n",
      "1303354                   12.48\n",
      "1303356                   12.48\n",
      "1303373                   12.48\n",
      "\n",
      "--------------------------------------------------------------------------------\n",
      "\n",
      "Feature: Altimeter_Pressure\n",
      "Lower Bound: 1000.8449999999998\n",
      "Upper Bound: 1032.005\n",
      "Number of Extreme Outliers: 370179\n",
      "        Altimeter_Pressure\n",
      "401167             1000.00\n",
      "401168              999.66\n",
      "401314              999.66\n",
      "401315             1000.00\n",
      "401368             1000.00\n",
      "401513              999.66\n",
      "401717              999.66\n",
      "401806             1000.00\n",
      "401907              999.66\n",
      "401986             1000.00\n",
      "402018             1000.68\n",
      "402019             1000.00\n",
      "402020              999.66\n",
      "402023              999.66\n",
      "402148              999.66\n",
      "402149             1000.00\n",
      "402211              999.66\n",
      "402229              999.66\n",
      "402281              999.66\n",
      "402518              999.32\n",
      "\n",
      "--------------------------------------------------------------------------------\n",
      "\n",
      "Feature: Sea_Level_Pressure\n",
      "Lower Bound: 1003.05\n",
      "Upper Bound: 1029.05\n",
      "Number of Extreme Outliers: 749733\n",
      "        Sea_Level_Pressure\n",
      "401139              1001.7\n",
      "401167               999.5\n",
      "401168               999.5\n",
      "401310              1001.2\n",
      "401313              1002.5\n",
      "401314               999.5\n",
      "401315               999.5\n",
      "401316              1002.5\n",
      "401355              1002.4\n",
      "401357              1000.5\n",
      "401368               999.5\n",
      "401369              1001.1\n",
      "401370              1000.7\n",
      "401513               999.5\n",
      "401611              1001.5\n",
      "401612              1002.5\n",
      "401628              1002.4\n",
      "401717               999.5\n",
      "401806               999.8\n",
      "401807              1000.5\n",
      "\n",
      "--------------------------------------------------------------------------------\n",
      "\n",
      "Feature: Visibility\n",
      "Lower Bound: 16093.4\n",
      "Upper Bound: 16093.4\n",
      "Number of Extreme Outliers: 2998249\n",
      "    Visibility\n",
      "2      4828.02\n",
      "3      6437.36\n",
      "4      6437.36\n",
      "5      6437.36\n",
      "6      4023.35\n",
      "7      4828.02\n",
      "8      4828.02\n",
      "9      3218.68\n",
      "10      804.67\n",
      "11     6437.36\n",
      "12      804.67\n",
      "13    12874.72\n",
      "14      804.67\n",
      "15     1609.34\n",
      "16     1609.34\n",
      "17     9656.04\n",
      "18     9656.04\n",
      "19    14484.06\n",
      "29    11265.38\n",
      "30    11265.38\n",
      "\n",
      "--------------------------------------------------------------------------------\n",
      "\n",
      "Feature: Wind_Speed\n",
      "Lower Bound: -4.615\n",
      "Upper Bound: 23.025\n",
      "Number of Extreme Outliers: 212195\n",
      "      Wind_Speed\n",
      "265        31.07\n",
      "362        28.77\n",
      "502        31.07\n",
      "538        25.32\n",
      "569        36.82\n",
      "600        28.77\n",
      "851        36.82\n",
      "951        25.32\n",
      "1119       24.17\n",
      "1144       28.77\n",
      "1228       24.17\n",
      "1330       24.17\n",
      "1403       28.77\n",
      "1429       27.62\n",
      "1783       31.07\n",
      "1796       31.07\n",
      "1854       36.82\n",
      "1888       31.07\n",
      "1920       25.32\n",
      "1946       36.82\n",
      "\n",
      "--------------------------------------------------------------------------------\n",
      "\n",
      "Feature: Wind_Gust\n",
      "Lower Bound: 20.419999999999995\n",
      "Upper Bound: 31.940000000000005\n",
      "Number of Extreme Outliers: 813365\n",
      "      Wind_Gust\n",
      "265       36.82\n",
      "359       19.56\n",
      "502       36.82\n",
      "569       42.58\n",
      "597       19.56\n",
      "851       42.58\n",
      "1141      19.56\n",
      "1400      19.56\n",
      "1429      36.82\n",
      "1613      17.26\n",
      "1675      17.26\n",
      "1783      36.82\n",
      "1796      36.82\n",
      "1854      42.58\n",
      "1888      36.82\n",
      "1946      42.58\n",
      "1973      17.26\n",
      "2094      40.28\n",
      "2120      40.28\n",
      "2311      19.56\n",
      "\n",
      "--------------------------------------------------------------------------------\n",
      "\n",
      "Feature: Precipitation\n",
      "Lower Bound: 0.0\n",
      "Upper Bound: 0.0\n",
      "Number of Extreme Outliers: 2303226\n",
      "     Precipitation\n",
      "42            0.03\n",
      "66            0.03\n",
      "71            0.03\n",
      "73            0.03\n",
      "77            4.57\n",
      "78            5.59\n",
      "79            1.52\n",
      "125           0.03\n",
      "153           0.03\n",
      "157           4.57\n",
      "197           0.03\n",
      "198           0.03\n",
      "231           0.03\n",
      "269           2.54\n",
      "283           0.03\n",
      "289           0.03\n",
      "296           0.03\n",
      "297           0.03\n",
      "330           0.25\n",
      "336           0.25\n",
      "\n",
      "--------------------------------------------------------------------------------\n",
      "\n",
      "Feature: Ice_Accretion_3hr\n",
      "Lower Bound: 0.0\n",
      "Upper Bound: 0.0\n",
      "Number of Extreme Outliers: 6849\n",
      "         Ice_Accretion_3hr\n",
      "1300992               1.78\n",
      "1301005               1.78\n",
      "1301043               1.78\n",
      "1301060               1.78\n",
      "1301096               1.78\n",
      "1301107               1.78\n",
      "1301193               0.03\n",
      "1301199               0.03\n",
      "1301200               0.03\n",
      "1301231               0.03\n",
      "1301248               0.03\n",
      "1301263               0.03\n",
      "1301270               0.03\n",
      "1301293               0.03\n",
      "1301302               0.03\n",
      "1301311               0.03\n",
      "1301323               0.03\n",
      "1301328               0.03\n",
      "1301336               0.03\n",
      "1301368               0.03\n",
      "\n",
      "--------------------------------------------------------------------------------\n",
      "\n"
     ]
    }
   ],
   "source": [
    "# Define a function to identify and print extreme outliers for a given feature\n",
    "def inspect_outliers(df, feature):\n",
    "    # Calculate the Interquartile Range (IQR)\n",
    "    Q1 = df[feature].quantile(0.25)\n",
    "    Q3 = df[feature].quantile(0.75)\n",
    "    IQR = Q3 - Q1\n",
    "\n",
    "    # Define outlier criteria: below Q1 - 1.5*IQR or above Q3 + 1.5*IQR\n",
    "    lower_bound = Q1 - 1.5 * IQR\n",
    "    upper_bound = Q3 + 1.5 * IQR\n",
    "\n",
    "    # Identify extreme outliers\n",
    "    extreme_outliers = df[(df[feature] < lower_bound) | (df[feature] > upper_bound)]\n",
    "\n",
    "    # Print information about the outliers\n",
    "    print(f\"Feature: {feature}\")\n",
    "    print(f\"Lower Bound: {lower_bound}\")\n",
    "    print(f\"Upper Bound: {upper_bound}\")\n",
    "    print(f\"Number of Extreme Outliers: {len(extreme_outliers)}\")\n",
    "    print(extreme_outliers[[feature]].head(20))  # Show top 20 outliers for inspection\n",
    "    print(\"\\n\" + \"-\"*80 + \"\\n\")\n",
    "\n",
    "# List of features for which to inspect outliers\n",
    "features_to_inspect = [\n",
    "    'DepDelayMinutes', 'CarrierDelay', 'WeatherDelay', 'NASDelay', 'SecurityDelay',\n",
    "    'LateAircraftDelay', 'Temperature', 'Feels_Like_Temperature', 'Altimeter_Pressure',\n",
    "    'Sea_Level_Pressure', 'Visibility', 'Wind_Speed', 'Wind_Gust',\n",
    "    'Precipitation', 'Ice_Accretion_3hr'\n",
    "]\n",
    "\n",
    "# Loop through each feature and inspect outliers\n",
    "for feature in features_to_inspect:\n",
    "    inspect_outliers(df, feature)"
   ]
  },
  {
   "cell_type": "markdown",
   "metadata": {},
   "source": [
    "### Manually Treating Extreme Outliers"
   ]
  },
  {
   "cell_type": "code",
   "execution_count": 29,
   "metadata": {},
   "outputs": [],
   "source": [
    "# Departure Delay Minutes\n",
    "df['DepDelayMinutes'] = np.clip(df['DepDelayMinutes'], -15.0, 25.0)"
   ]
  },
  {
   "cell_type": "code",
   "execution_count": 30,
   "metadata": {},
   "outputs": [],
   "source": [
    "# Carrier Delay\n",
    "df['CarrierDelay'] = np.clip(df['CarrierDelay'], 0.0, 390.0)"
   ]
  },
  {
   "cell_type": "code",
   "execution_count": 31,
   "metadata": {},
   "outputs": [],
   "source": [
    "#Weather Delay\n",
    "df['WeatherDelay'] = np.clip(df['WeatherDelay'], 0.0, 140.0)"
   ]
  },
  {
   "cell_type": "code",
   "execution_count": 32,
   "metadata": {},
   "outputs": [],
   "source": [
    "#NASDelay\n",
    "df['NASDelay'] = np.clip(df['NASDelay'], 0.0, 247.0)"
   ]
  },
  {
   "cell_type": "code",
   "execution_count": 33,
   "metadata": {},
   "outputs": [],
   "source": [
    "#Security Delay\n",
    "df['SecurityDelay'] = np.clip(df['SecurityDelay'], 0.0, 146.0)"
   ]
  },
  {
   "cell_type": "code",
   "execution_count": 34,
   "metadata": {},
   "outputs": [],
   "source": [
    "#LateAircraft Delay\n",
    "df['LateAircraftDelay'] = np.clip(df['LateAircraftDelay'], 0.0, 111.0)"
   ]
  },
  {
   "cell_type": "code",
   "execution_count": 35,
   "metadata": {},
   "outputs": [],
   "source": [
    "#Temperature\n",
    "df['Temperature'] = np.clip(df['Temperature'], 13.5, 113.5)"
   ]
  },
  {
   "cell_type": "code",
   "execution_count": 36,
   "metadata": {},
   "outputs": [],
   "source": [
    "#Feels_Like_Temperature\n",
    "df['Feels_Like_Temperature'] = np.clip(df['Feels_Like_Temperature'], 13.75, 113.35)"
   ]
  },
  {
   "cell_type": "code",
   "execution_count": 37,
   "metadata": {},
   "outputs": [],
   "source": [
    "#Altimeter Pressure\n",
    "df['Altimeter_Pressure'] = np.clip(df['Altimeter_Pressure'], 1000.8449999999998, 1032.005)"
   ]
  },
  {
   "cell_type": "code",
   "execution_count": 38,
   "metadata": {},
   "outputs": [],
   "source": [
    "#Sea_Level_Pressure\n",
    "df['Sea_Level_Pressure'] = np.clip(df['Sea_Level_Pressure'], 1003.05, 1029.05)"
   ]
  },
  {
   "cell_type": "code",
   "execution_count": 39,
   "metadata": {},
   "outputs": [],
   "source": [
    "#Visibility\n",
    "df['Visibility'] = df['Visibility'].clip(lower=0, upper=16093.4)"
   ]
  },
  {
   "cell_type": "code",
   "execution_count": 40,
   "metadata": {},
   "outputs": [],
   "source": [
    "#Wind Speed\n",
    "df['Wind_Speed'] = np.clip(df['Wind_Speed'], 0.0, 23.025)"
   ]
  },
  {
   "cell_type": "code",
   "execution_count": 41,
   "metadata": {},
   "outputs": [],
   "source": [
    "#Wind Gust\n",
    "df['Wind_Gust'] = np.clip(df['Wind_Gust'], 20.42, 31.94)\n"
   ]
  },
  {
   "cell_type": "code",
   "execution_count": 42,
   "metadata": {},
   "outputs": [],
   "source": [
    "#Precipitation\n",
    "df['Precipitation'] = np.clip(df['Precipitation'], 0.0, 5.59)"
   ]
  },
  {
   "cell_type": "code",
   "execution_count": 43,
   "metadata": {},
   "outputs": [],
   "source": [
    "#Ice Accretion\n",
    "df['Ice_Accretion_3hr'] = np.clip(df['Ice_Accretion_3hr'], 0.0, 1.78)"
   ]
  },
  {
   "cell_type": "code",
   "execution_count": 44,
   "metadata": {},
   "outputs": [],
   "source": [
    "# # Identify outliers using Z-score\n",
    "# z_scores = np.abs(stats.zscore(df.select_dtypes(include=[np.number])))\n",
    "# outliers = np.where(z_scores > 3)\n",
    "# print(f\"Outliers found: {len(outliers[0])}\")\n",
    "\n",
    "# # Visualize outliers in specific columns\n",
    "# for column in df.select_dtypes(include=[np.number]).columns:\n",
    "#     plt.figure(figsize=(10, 6))\n",
    "#     sns.boxplot(x=df[column])\n",
    "#     plt.title(f'Boxplot of {column}')\n",
    "#     plt.show()"
   ]
  },
  {
   "cell_type": "markdown",
   "metadata": {},
   "source": [
    "#### Outliers Summary\n",
    "\n",
    "After removing extreme outliets, a total of 1,954,889 outliers were kept. This means approximately 12.9% of our data points are classified as outliers using this method.\n",
    "Given the size of our dataset, a large number of outliers might be expected, especially in a dataset with a variety of delay types and weather conditions."
   ]
  },
  {
   "cell_type": "markdown",
   "metadata": {},
   "source": [
    "### Clean Column Names to create a categorical y_pred before creating Train/Test Split"
   ]
  },
  {
   "cell_type": "code",
   "execution_count": 45,
   "metadata": {},
   "outputs": [
    {
     "name": "stdout",
     "output_type": "stream",
     "text": [
      "Data type of 'Time': object\n",
      "After conversion, Data type of 'Time': datetime64[ns]\n"
     ]
    }
   ],
   "source": [
    "# Check the datatype of the 'Time' column\n",
    "print(f\"Data type of 'Time': {df['Time'].dtype}\")\n",
    "\n",
    "# If not datetime, convert it to datetime\n",
    "if not pd.api.types.is_datetime64_any_dtype(df['Time']):\n",
    "    df['Time'] = pd.to_datetime(df['Time'])\n",
    "    print(f\"After conversion, Data type of 'Time': {df['Time'].dtype}\")"
   ]
  },
  {
   "cell_type": "code",
   "execution_count": 46,
   "metadata": {},
   "outputs": [],
   "source": [
    "# Extract hour, day of the week, and month from the Time column\n",
    "df['Hour'] = df['Time'].dt.hour\n",
    "df['Day_Of_Week'] = df['Time'].dt.dayofweek\n",
    "df['Month'] = df['Time'].dt.month"
   ]
  },
  {
   "cell_type": "code",
   "execution_count": 47,
   "metadata": {},
   "outputs": [
    {
     "name": "stdout",
     "output_type": "stream",
     "text": [
      "Index(['Time', 'Origin', 'Dest', 'Carrier', 'Cancelled', 'CancellationReason',\n",
      "       'Delayed', 'DepDelayMinutes', 'CarrierDelay', 'Weather_Delay_Length',\n",
      "       'NASDelay', 'SecurityDelay', 'LateAircraftDelay', 'Temperature',\n",
      "       'Feels_Like_Temperature', 'Altimeter_Pressure', 'Sea_Level_Pressure',\n",
      "       'Visibility', 'Wind_Speed', 'Wind_Gust', 'Precipitation',\n",
      "       'Ice_Accretion_3hr', 'Hour', 'Day_Of_Week', 'Month'],\n",
      "      dtype='object')\n"
     ]
    }
   ],
   "source": [
    "# Rename the 'WeatherDelay' column to 'Weather_Delay_Length' for clarity before we create a new 'Binary' column\n",
    "df.rename(columns={'WeatherDelay': 'Weather_Delay_Length'}, inplace=True)\n",
    "\n",
    "# Verify the change\n",
    "print(df.columns)"
   ]
  },
  {
   "cell_type": "code",
   "execution_count": 48,
   "metadata": {},
   "outputs": [
    {
     "name": "stdout",
     "output_type": "stream",
     "text": [
      "   Weather_Delay_Length  Weather_Delayed\n",
      "0                   0.0                0\n",
      "1                   0.0                0\n",
      "2                   0.0                0\n",
      "3                   0.0                0\n",
      "4                   0.0                0\n",
      "5                   0.0                0\n",
      "6                   0.0                0\n",
      "7                   0.0                0\n",
      "8                   0.0                0\n",
      "9                   0.0                0\n"
     ]
    }
   ],
   "source": [
    "\n",
    "# Create a new binary column 'WeatherDelay_Binary'\n",
    "df['Weather_Delayed'] = df['Weather_Delay_Length'].apply(lambda x: 1 if x > 0 else 0)\n",
    "\n",
    "# Check the first few rows to confirm\n",
    "print(df[['Weather_Delay_Length', 'Weather_Delayed']].head(10))\n"
   ]
  },
  {
   "cell_type": "code",
   "execution_count": 49,
   "metadata": {},
   "outputs": [
    {
     "name": "stdout",
     "output_type": "stream",
     "text": [
      "Percentage of delayed flights: 1.82%\n",
      "Percentage of not delayed flights: 98.18%\n"
     ]
    }
   ],
   "source": [
    "\n",
    "# Calculate the total number of instances\n",
    "total = df['Weather_Delayed'].count()\n",
    "\n",
    "# Calculate the percentage of each class\n",
    "percent_delayed = (df['Weather_Delayed'].value_counts()[1] / total) * 100\n",
    "percent_not_delayed = (df['Weather_Delayed'].value_counts()[0] / total) * 100\n",
    "\n",
    "# Display the results\n",
    "print(f\"Percentage of delayed flights: {percent_delayed:.2f}%\")\n",
    "print(f\"Percentage of not delayed flights: {percent_not_delayed:.2f}%\")\n"
   ]
  },
  {
   "cell_type": "markdown",
   "metadata": {},
   "source": [
    "## Save preprocessed file before test/split and Scaling"
   ]
  },
  {
   "cell_type": "code",
   "execution_count": 50,
   "metadata": {},
   "outputs": [],
   "source": [
    "\n",
    "# Function to save the DataFrame to the raw_data directory\n",
    "def save_dataset(df,csv_name):\n",
    "    # Determine the current working directory\n",
    "    current_dir = os.getcwd()\n",
    "\n",
    "    # Create the path to the raw_data directory relative to the current directory\n",
    "    base_dir = os.path.abspath(os.path.join(current_dir, \"..\", \"data\"))\n",
    "\n",
    "    # Define the path to save the treated outliers DataFrame\n",
    "    treated_outliers_file_path = os.path.join(base_dir, csv_name)\n",
    "\n",
    "    # Save the DataFrame as a CSV file\n",
    "    df.to_csv(treated_outliers_file_path, index=False, compression='zip')\n",
    "\n",
    "# Call the function to save your DataFrame\n",
    "#save_dataset(df)"
   ]
  },
  {
   "cell_type": "markdown",
   "metadata": {},
   "source": [
    "## Load preprocessed data"
   ]
  },
  {
   "cell_type": "code",
   "execution_count": 51,
   "metadata": {},
   "outputs": [
    {
     "name": "stdout",
     "output_type": "stream",
     "text": [
      "                  Time Origin Dest                 Carrier  Cancelled  \\\n",
      "0  2021-01-01 09:00:00    LAX  JFK  American Airlines Inc.      False   \n",
      "1  2021-01-02 09:00:00    LAX  JFK  American Airlines Inc.      False   \n",
      "2  2021-01-03 09:00:00    LAX  JFK  American Airlines Inc.      False   \n",
      "3  2021-01-03 09:00:00    LAX  JFK  American Airlines Inc.      False   \n",
      "4  2021-01-04 09:00:00    LAX  JFK  American Airlines Inc.      False   \n",
      "\n",
      "  CancellationReason  Delayed  DepDelayMinutes  CarrierDelay  \\\n",
      "0      Not Cancelled    False              0.0           0.0   \n",
      "1      Not Cancelled     True              2.0           0.0   \n",
      "2      Not Cancelled     True             25.0          28.0   \n",
      "3      Not Cancelled     True             25.0          28.0   \n",
      "4      Not Cancelled    False              0.0           0.0   \n",
      "\n",
      "   Weather_Delay_Length  ...  Sea_Level_Pressure  Visibility  Wind_Speed  \\\n",
      "0                   0.0  ...              1020.1    16093.40         0.0   \n",
      "1                   0.0  ...              1025.5    16093.40         0.0   \n",
      "2                   0.0  ...              1015.2     4828.02         4.6   \n",
      "3                   0.0  ...              1024.1     6437.36         4.6   \n",
      "4                   0.0  ...              1015.2     6437.36         4.6   \n",
      "\n",
      "   Wind_Gust  Precipitation  Ice_Accretion_3hr  Hour  Day_Of_Week  Month  \\\n",
      "0      24.97            0.0                0.0     9            4      1   \n",
      "1      24.97            0.0                0.0     9            5      1   \n",
      "2      24.97            0.0                0.0     9            6      1   \n",
      "3      24.97            0.0                0.0     9            6      1   \n",
      "4      24.97            0.0                0.0     9            0      1   \n",
      "\n",
      "   Weather_Delayed  \n",
      "0                0  \n",
      "1                0  \n",
      "2                0  \n",
      "3                0  \n",
      "4                0  \n",
      "\n",
      "[5 rows x 26 columns]\n"
     ]
    }
   ],
   "source": [
    "# Load preprocessed data set from /data folder\n",
    "current_dir = os.getcwd()\n",
    "base_dir = os.path.abspath(os.path.join(current_dir, \"..\", \"data\"))\n",
    "file_path = os.path.join(base_dir, \"preprocessed_treated_outliers.csv\")\n",
    "\n",
    "preprocessed_df = pd.read_csv(file_path)\n",
    "\n",
    "print(preprocessed_df.head())"
   ]
  },
  {
   "cell_type": "code",
   "execution_count": 52,
   "metadata": {},
   "outputs": [],
   "source": [
    "# Define y_pred and drop 'Weather_Delay_Length' to avoid data leakage\n",
    "#X = preprocessed_df.drop(columns=['Weather_Delayed', 'Weather_Delay_Length'])\n",
    "#y = preprocessed_df['Weather_Delayed']"
   ]
  },
  {
   "cell_type": "code",
   "execution_count": 53,
   "metadata": {},
   "outputs": [],
   "source": [
    "X = preprocessed_df.drop(columns=['Weather_Delayed', 'Weather_Delay_Length', 'CancellationReason', 'Cancelled', 'DepDelayMinutes', 'CarrierDelay', 'NASDelay',\n",
    "                    'SecurityDelay', 'LateAircraftDelay'])\n",
    "y = preprocessed_df['Delayed']"
   ]
  },
  {
   "cell_type": "code",
   "execution_count": null,
   "metadata": {},
   "outputs": [],
   "source": [
    "X_reg = preprocessed_df.drop(columns=['Weather_Delayed', 'Weather_Delay_Length', 'CancellationReason', 'Cancelled', 'Delayed', 'CarrierDelay', 'NASDelay',\n",
    "                    'SecurityDelay', 'LateAircraftDelay'])\n",
    "\n",
    "y_reg = preprocessed_df['DepDelayMinutes']"
   ]
  },
  {
   "cell_type": "code",
   "execution_count": 54,
   "metadata": {},
   "outputs": [
    {
     "data": {
      "text/plain": [
       "Index(['Time', 'Origin', 'Dest', 'Carrier', 'Delayed', 'Temperature',\n",
       "       'Feels_Like_Temperature', 'Altimeter_Pressure', 'Sea_Level_Pressure',\n",
       "       'Visibility', 'Wind_Speed', 'Wind_Gust', 'Precipitation',\n",
       "       'Ice_Accretion_3hr', 'Hour', 'Day_Of_Week', 'Month'],\n",
       "      dtype='object')"
      ]
     },
     "execution_count": 54,
     "metadata": {},
     "output_type": "execute_result"
    }
   ],
   "source": [
    "X.columns #X features, input-able features only"
   ]
  },
  {
   "cell_type": "code",
   "execution_count": 55,
   "metadata": {},
   "outputs": [
    {
     "data": {
      "text/plain": [
       "0    False\n",
       "1     True\n",
       "2     True\n",
       "3     True\n",
       "4    False\n",
       "Name: Delayed, dtype: bool"
      ]
     },
     "execution_count": 55,
     "metadata": {},
     "output_type": "execute_result"
    }
   ],
   "source": [
    "y.head() #Delayed target y"
   ]
  },
  {
   "cell_type": "code",
   "execution_count": 56,
   "metadata": {},
   "outputs": [],
   "source": [
    "#Split into train/test\n",
    "#X_train, X_test, y_train, y_test = train_test_split(X, y, test_size=0.2, random_state=42, stratify=y)\n"
   ]
  },
  {
   "cell_type": "markdown",
   "metadata": {},
   "source": [
    "# Splitting the dataset"
   ]
  },
  {
   "cell_type": "code",
   "execution_count": 57,
   "metadata": {},
   "outputs": [],
   "source": [
    "# Sample only 10% of the data for quick testing\n",
    "X_sample, _, y_sample, _ = train_test_split(\n",
    "    X, y,\n",
    "    test_size=0.9,  # Keep only 10% for the sample\n",
    "    random_state=42,\n",
    "    stratify=y  # Maintain the class distribution\n",
    ")"
   ]
  },
  {
   "cell_type": "code",
   "execution_count": 58,
   "metadata": {},
   "outputs": [],
   "source": [
    "# Split the sampled data into train and test sets\n",
    "X_train_sample, X_test_sample, y_train_sample, y_test_sample = train_test_split(\n",
    "    X_sample, y_sample,\n",
    "    test_size=0.2,  # 80% train, 20% test\n",
    "    random_state=42, #Reproducibility\n",
    "    stratify=y_sample  # Maintain the class distribution in the split\n",
    ")"
   ]
  },
  {
   "cell_type": "code",
   "execution_count": 64,
   "metadata": {},
   "outputs": [
    {
     "name": "stdout",
     "output_type": "stream",
     "text": [
      "Delayed\n",
      "False    0.61072\n",
      "True     0.38928\n",
      "Name: proportion, dtype: float64\n",
      "Delayed\n",
      "False    0.610721\n",
      "True     0.389279\n",
      "Name: proportion, dtype: float64\n"
     ]
    }
   ],
   "source": [
    "print(y_train_sample.value_counts(normalize=True))\n",
    "print(y_test_sample.value_counts(normalize=True))"
   ]
  },
  {
   "cell_type": "code",
   "execution_count": 59,
   "metadata": {},
   "outputs": [],
   "source": [
    "# Identify categorical, binary, and numeric features\n",
    "categorical_features = ['Origin', 'Dest', 'Carrier']\n",
    "#binary_features = ['Cancelled', 'Delayed']\n",
    "numeric_features = ['Temperature', 'Feels_Like_Temperature',\n",
    "                    'Altimeter_Pressure', 'Sea_Level_Pressure', 'Visibility', 'Wind_Speed',\n",
    "                    'Wind_Gust', 'Precipitation', 'Ice_Accretion_3hr', 'Hour', 'Day_Of_Week', 'Month']\n",
    "\n",
    "# One-hot encode categorical features\n",
    "encoder = OneHotEncoder()\n",
    "X_train_encoded = encoder.fit_transform(X_train_sample[categorical_features])\n",
    "X_test_encoded = encoder.transform(X_test_sample[categorical_features])\n",
    "\n",
    "# Scale numeric features\n",
    "scaler = StandardScaler()\n",
    "X_train_scaled = scaler.fit_transform(X_train_sample[numeric_features]\n",
    "                                      )\n",
    "X_test_scaled = scaler.transform(X_test_sample[numeric_features])\n",
    "\n",
    "#Concatenate arrays to form one array\n",
    "X_train_preprocessed = np.hstack([X_train_encoded.toarray(), X_train_scaled])\n",
    "X_test_preprocessed = np.hstack([X_test_encoded.toarray(), X_test_scaled])"
   ]
  },
  {
   "cell_type": "code",
   "execution_count": 48,
   "metadata": {},
   "outputs": [],
   "source": [
    "'''# Identify categorical, binary, and numeric features\n",
    "categorical_features = ['CancellationReason', 'Origin', 'Dest', 'Carrier']\n",
    "binary_features = ['Cancelled', 'Delayed']\n",
    "numeric_features = ['DepDelayMinutes', 'CarrierDelay', 'NASDelay',\n",
    "                    'SecurityDelay', 'LateAircraftDelay', 'Temperature', 'Feels_Like_Temperature',\n",
    "                    'Altimeter_Pressure', 'Sea_Level_Pressure', 'Visibility', 'Wind_Speed',\n",
    "                    'Wind_Gust', 'Precipitation', 'Ice_Accretion_3hr', 'Hour', 'Day_Of_Week', 'Month']\n",
    "\n",
    "# One-hot encode categorical features\n",
    "encoder = OneHotEncoder()\n",
    "X_train_encoded = encoder.fit_transform(X_train_sample[categorical_features])\n",
    "X_test_encoded = encoder.transform(X_test_sample[categorical_features])\n",
    "\n",
    "# Scale numeric features\n",
    "scaler = StandardScaler()\n",
    "X_train_scaled = scaler.fit_transform(X_train_sample[numeric_features])\n",
    "X_test_scaled = scaler.transform(X_test_sample[numeric_features])\n",
    "\n",
    "#Concatenate arrays to form one array\n",
    "X_train_preprocessed = np.hstack([X_train_encoded.toarray(), X_train_scaled, X_train_sample[binary_features]])\n",
    "X_test_preprocessed = np.hstack([X_test_encoded.toarray(), X_test_scaled, X_test_sample[binary_features]])'''"
   ]
  },
  {
   "cell_type": "code",
   "execution_count": 49,
   "metadata": {},
   "outputs": [],
   "source": [
    "# Apply SMOTE to balance the training data\n",
    "smote = SMOTE(random_state=42)\n",
    "X_train_balanced, y_train_balanced = smote.fit_resample(X_train_preprocessed, y_train_sample)"
   ]
  },
  {
   "cell_type": "code",
   "execution_count": 58,
   "metadata": {},
   "outputs": [],
   "source": [
    "save_dataset(pd.DataFrame(X_train_balanced), \"X_train_balanced.csv\")\n",
    "save_dataset(pd.DataFrame(y_train_balanced), \"y_train_balanced.csv\")\n",
    "\n",
    "#two optimisations to make, use balanced datasets and\n",
    "# manually take a balanced y class sample of the validation set within\n",
    "# the neural net\n",
    "\n",
    "#ask andrii about the slow time of the SVM, use balanced dataset for that\n",
    "#also use a TPU\n",
    "\n",
    "#code the graphs and other evaluation visualisations while models train\n",
    "\n",
    "#regularisation penalty on some layers"
   ]
  },
  {
   "cell_type": "code",
   "execution_count": 60,
   "metadata": {},
   "outputs": [],
   "source": [
    "X_train_preprocessed_df = pd.DataFrame(X_train_preprocessed)\n",
    "X_test_preprocessed_df = pd.DataFrame(X_test_preprocessed)\n",
    "y_train_sample_df = pd.DataFrame(y_train_sample)\n",
    "y_test_sample_df = pd.DataFrame(y_test_sample)"
   ]
  },
  {
   "cell_type": "code",
   "execution_count": 62,
   "metadata": {},
   "outputs": [],
   "source": [
    "save_dataset(X_train_preprocessed_df, \"X_train_preprocessed_dt_input_features_only.csv\")\n",
    "save_dataset(X_test_preprocessed_df, \"X_test_preprocessed_dt_input_features_only.csv\")\n",
    "save_dataset(y_train_sample_df, \"y_train_sample_dt.csv\")\n",
    "save_dataset(y_test_sample_df, \"y_test_sample_dt.csv\")"
   ]
  },
  {
   "cell_type": "code",
   "execution_count": 51,
   "metadata": {},
   "outputs": [
    {
     "data": {
      "text/plain": [
       "(1211560, 423)"
      ]
     },
     "execution_count": 51,
     "metadata": {},
     "output_type": "execute_result"
    }
   ],
   "source": [
    "X_train_preprocessed.shape"
   ]
  },
  {
   "cell_type": "code",
   "execution_count": 60,
   "metadata": {},
   "outputs": [],
   "source": [
    "y_train_sample = np.array(y_train_sample)\n",
    "y_test_sample = np.array(y_test_sample)\n",
    "X_train_preprocessed = np.array(X_train_preprocessed)\n",
    "X_test_preprocessed = np.array(X_test_preprocessed)"
   ]
  },
  {
   "cell_type": "markdown",
   "metadata": {},
   "source": [
    "# Modelling with a Dense Neural Network"
   ]
  },
  {
   "cell_type": "code",
   "execution_count": 59,
   "metadata": {},
   "outputs": [
    {
     "name": "stderr",
     "output_type": "stream",
     "text": [
      "/Users/conorjohnston/.pyenv/versions/3.10.6/envs/lateguru/lib/python3.10/site-packages/keras/src/layers/core/dense.py:87: UserWarning: Do not pass an `input_shape`/`input_dim` argument to a layer. When using Sequential models, prefer using an `Input(shape)` object as the first layer in the model instead.\n",
      "  super().__init__(activity_regularizer=activity_regularizer, **kwargs)\n"
     ]
    }
   ],
   "source": [
    "from tensorflow.keras import Sequential, layers\n",
    "from tensorflow.keras.layers import Dense\n",
    "\n",
    "# Assuming you have your input data prepared\n",
    "\n",
    "\n",
    "model = Sequential()\n",
    "model.add(layers.Dense(64,activation='relu', input_dim=X_train_preprocessed.shape[1]))\n",
    "model.add(layers.Dense(64,activation='relu'))\n",
    "model.add(layers.Dense(32,activation='relu'))\n",
    "model.add(layers.Dense(16,activation='relu'))\n",
    "model.add(layers.Dense(1,activation='sigmoid'))\n"
   ]
  },
  {
   "cell_type": "code",
   "execution_count": 61,
   "metadata": {},
   "outputs": [
    {
     "data": {
      "text/html": [
       "<pre style=\"white-space:pre;overflow-x:auto;line-height:normal;font-family:Menlo,'DejaVu Sans Mono',consolas,'Courier New',monospace\"><span style=\"font-weight: bold\">Model: \"sequential_1\"</span>\n",
       "</pre>\n"
      ],
      "text/plain": [
       "\u001b[1mModel: \"sequential_1\"\u001b[0m\n"
      ]
     },
     "metadata": {},
     "output_type": "display_data"
    },
    {
     "data": {
      "text/html": [
       "<pre style=\"white-space:pre;overflow-x:auto;line-height:normal;font-family:Menlo,'DejaVu Sans Mono',consolas,'Courier New',monospace\">┏━━━━━━━━━━━━━━━━━━━━━━━━━━━━━━━━━┳━━━━━━━━━━━━━━━━━━━━━━━━┳━━━━━━━━━━━━━━━┓\n",
       "┃<span style=\"font-weight: bold\"> Layer (type)                    </span>┃<span style=\"font-weight: bold\"> Output Shape           </span>┃<span style=\"font-weight: bold\">       Param # </span>┃\n",
       "┡━━━━━━━━━━━━━━━━━━━━━━━━━━━━━━━━━╇━━━━━━━━━━━━━━━━━━━━━━━━╇━━━━━━━━━━━━━━━┩\n",
       "│ dense_5 (<span style=\"color: #0087ff; text-decoration-color: #0087ff\">Dense</span>)                 │ (<span style=\"color: #00d7ff; text-decoration-color: #00d7ff\">None</span>, <span style=\"color: #00af00; text-decoration-color: #00af00\">64</span>)             │        <span style=\"color: #00af00; text-decoration-color: #00af00\">27,136</span> │\n",
       "├─────────────────────────────────┼────────────────────────┼───────────────┤\n",
       "│ dense_6 (<span style=\"color: #0087ff; text-decoration-color: #0087ff\">Dense</span>)                 │ (<span style=\"color: #00d7ff; text-decoration-color: #00d7ff\">None</span>, <span style=\"color: #00af00; text-decoration-color: #00af00\">64</span>)             │         <span style=\"color: #00af00; text-decoration-color: #00af00\">4,160</span> │\n",
       "├─────────────────────────────────┼────────────────────────┼───────────────┤\n",
       "│ dense_7 (<span style=\"color: #0087ff; text-decoration-color: #0087ff\">Dense</span>)                 │ (<span style=\"color: #00d7ff; text-decoration-color: #00d7ff\">None</span>, <span style=\"color: #00af00; text-decoration-color: #00af00\">32</span>)             │         <span style=\"color: #00af00; text-decoration-color: #00af00\">2,080</span> │\n",
       "├─────────────────────────────────┼────────────────────────┼───────────────┤\n",
       "│ dense_8 (<span style=\"color: #0087ff; text-decoration-color: #0087ff\">Dense</span>)                 │ (<span style=\"color: #00d7ff; text-decoration-color: #00d7ff\">None</span>, <span style=\"color: #00af00; text-decoration-color: #00af00\">16</span>)             │           <span style=\"color: #00af00; text-decoration-color: #00af00\">528</span> │\n",
       "├─────────────────────────────────┼────────────────────────┼───────────────┤\n",
       "│ dense_9 (<span style=\"color: #0087ff; text-decoration-color: #0087ff\">Dense</span>)                 │ (<span style=\"color: #00d7ff; text-decoration-color: #00d7ff\">None</span>, <span style=\"color: #00af00; text-decoration-color: #00af00\">1</span>)              │            <span style=\"color: #00af00; text-decoration-color: #00af00\">17</span> │\n",
       "└─────────────────────────────────┴────────────────────────┴───────────────┘\n",
       "</pre>\n"
      ],
      "text/plain": [
       "┏━━━━━━━━━━━━━━━━━━━━━━━━━━━━━━━━━┳━━━━━━━━━━━━━━━━━━━━━━━━┳━━━━━━━━━━━━━━━┓\n",
       "┃\u001b[1m \u001b[0m\u001b[1mLayer (type)                   \u001b[0m\u001b[1m \u001b[0m┃\u001b[1m \u001b[0m\u001b[1mOutput Shape          \u001b[0m\u001b[1m \u001b[0m┃\u001b[1m \u001b[0m\u001b[1m      Param #\u001b[0m\u001b[1m \u001b[0m┃\n",
       "┡━━━━━━━━━━━━━━━━━━━━━━━━━━━━━━━━━╇━━━━━━━━━━━━━━━━━━━━━━━━╇━━━━━━━━━━━━━━━┩\n",
       "│ dense_5 (\u001b[38;5;33mDense\u001b[0m)                 │ (\u001b[38;5;45mNone\u001b[0m, \u001b[38;5;34m64\u001b[0m)             │        \u001b[38;5;34m27,136\u001b[0m │\n",
       "├─────────────────────────────────┼────────────────────────┼───────────────┤\n",
       "│ dense_6 (\u001b[38;5;33mDense\u001b[0m)                 │ (\u001b[38;5;45mNone\u001b[0m, \u001b[38;5;34m64\u001b[0m)             │         \u001b[38;5;34m4,160\u001b[0m │\n",
       "├─────────────────────────────────┼────────────────────────┼───────────────┤\n",
       "│ dense_7 (\u001b[38;5;33mDense\u001b[0m)                 │ (\u001b[38;5;45mNone\u001b[0m, \u001b[38;5;34m32\u001b[0m)             │         \u001b[38;5;34m2,080\u001b[0m │\n",
       "├─────────────────────────────────┼────────────────────────┼───────────────┤\n",
       "│ dense_8 (\u001b[38;5;33mDense\u001b[0m)                 │ (\u001b[38;5;45mNone\u001b[0m, \u001b[38;5;34m16\u001b[0m)             │           \u001b[38;5;34m528\u001b[0m │\n",
       "├─────────────────────────────────┼────────────────────────┼───────────────┤\n",
       "│ dense_9 (\u001b[38;5;33mDense\u001b[0m)                 │ (\u001b[38;5;45mNone\u001b[0m, \u001b[38;5;34m1\u001b[0m)              │            \u001b[38;5;34m17\u001b[0m │\n",
       "└─────────────────────────────────┴────────────────────────┴───────────────┘\n"
      ]
     },
     "metadata": {},
     "output_type": "display_data"
    },
    {
     "data": {
      "text/html": [
       "<pre style=\"white-space:pre;overflow-x:auto;line-height:normal;font-family:Menlo,'DejaVu Sans Mono',consolas,'Courier New',monospace\"><span style=\"font-weight: bold\"> Total params: </span><span style=\"color: #00af00; text-decoration-color: #00af00\">33,921</span> (132.50 KB)\n",
       "</pre>\n"
      ],
      "text/plain": [
       "\u001b[1m Total params: \u001b[0m\u001b[38;5;34m33,921\u001b[0m (132.50 KB)\n"
      ]
     },
     "metadata": {},
     "output_type": "display_data"
    },
    {
     "data": {
      "text/html": [
       "<pre style=\"white-space:pre;overflow-x:auto;line-height:normal;font-family:Menlo,'DejaVu Sans Mono',consolas,'Courier New',monospace\"><span style=\"font-weight: bold\"> Trainable params: </span><span style=\"color: #00af00; text-decoration-color: #00af00\">33,921</span> (132.50 KB)\n",
       "</pre>\n"
      ],
      "text/plain": [
       "\u001b[1m Trainable params: \u001b[0m\u001b[38;5;34m33,921\u001b[0m (132.50 KB)\n"
      ]
     },
     "metadata": {},
     "output_type": "display_data"
    },
    {
     "data": {
      "text/html": [
       "<pre style=\"white-space:pre;overflow-x:auto;line-height:normal;font-family:Menlo,'DejaVu Sans Mono',consolas,'Courier New',monospace\"><span style=\"font-weight: bold\"> Non-trainable params: </span><span style=\"color: #00af00; text-decoration-color: #00af00\">0</span> (0.00 B)\n",
       "</pre>\n"
      ],
      "text/plain": [
       "\u001b[1m Non-trainable params: \u001b[0m\u001b[38;5;34m0\u001b[0m (0.00 B)\n"
      ]
     },
     "metadata": {},
     "output_type": "display_data"
    }
   ],
   "source": [
    "model.summary()\n",
    "\n",
    "#then must compile, fit and predict"
   ]
  },
  {
   "cell_type": "code",
   "execution_count": 62,
   "metadata": {},
   "outputs": [],
   "source": [
    "model.compile(loss='binary_crossentropy', optimizer='adam', metrics=['recall'])"
   ]
  },
  {
   "cell_type": "code",
   "execution_count": 63,
   "metadata": {},
   "outputs": [],
   "source": [
    "from tensorflow.keras.callbacks import EarlyStopping\n",
    "\n",
    "es = EarlyStopping(patience=20, restore_best_weights=True)"
   ]
  },
  {
   "cell_type": "code",
   "execution_count": 64,
   "metadata": {},
   "outputs": [
    {
     "name": "stdout",
     "output_type": "stream",
     "text": [
      "Epoch 1/100\n",
      "\u001b[1m26503/26503\u001b[0m \u001b[32m━━━━━━━━━━━━━━━━━━━━\u001b[0m\u001b[37m\u001b[0m \u001b[1m14s\u001b[0m 514us/step - loss: 0.0460 - recall: 0.3474 - val_loss: 0.0328 - val_recall: 0.5128\n",
      "Epoch 2/100\n",
      "\u001b[1m26503/26503\u001b[0m \u001b[32m━━━━━━━━━━━━━━━━━━━━\u001b[0m\u001b[37m\u001b[0m \u001b[1m15s\u001b[0m 549us/step - loss: 0.0309 - recall: 0.5347 - val_loss: 0.0330 - val_recall: 0.5320\n",
      "Epoch 3/100\n",
      "\u001b[1m26503/26503\u001b[0m \u001b[32m━━━━━━━━━━━━━━━━━━━━\u001b[0m\u001b[37m\u001b[0m \u001b[1m14s\u001b[0m 544us/step - loss: 0.0288 - recall: 0.5644 - val_loss: 0.0308 - val_recall: 0.5814\n",
      "Epoch 4/100\n",
      "\u001b[1m26503/26503\u001b[0m \u001b[32m━━━━━━━━━━━━━━━━━━━━\u001b[0m\u001b[37m\u001b[0m \u001b[1m14s\u001b[0m 523us/step - loss: 0.0279 - recall: 0.5837 - val_loss: 0.0302 - val_recall: 0.5561\n",
      "Epoch 5/100\n",
      "\u001b[1m26503/26503\u001b[0m \u001b[32m━━━━━━━━━━━━━━━━━━━━\u001b[0m\u001b[37m\u001b[0m \u001b[1m14s\u001b[0m 516us/step - loss: 0.0269 - recall: 0.5910 - val_loss: 0.0300 - val_recall: 0.5579\n",
      "Epoch 6/100\n",
      "\u001b[1m26503/26503\u001b[0m \u001b[32m━━━━━━━━━━━━━━━━━━━━\u001b[0m\u001b[37m\u001b[0m \u001b[1m14s\u001b[0m 529us/step - loss: 0.0264 - recall: 0.5941 - val_loss: 0.0297 - val_recall: 0.5505\n",
      "Epoch 7/100\n",
      "\u001b[1m26503/26503\u001b[0m \u001b[32m━━━━━━━━━━━━━━━━━━━━\u001b[0m\u001b[37m\u001b[0m \u001b[1m14s\u001b[0m 530us/step - loss: 0.0253 - recall: 0.6205 - val_loss: 0.0296 - val_recall: 0.5882\n",
      "Epoch 8/100\n",
      "\u001b[1m26503/26503\u001b[0m \u001b[32m━━━━━━━━━━━━━━━━━━━━\u001b[0m\u001b[37m\u001b[0m \u001b[1m14s\u001b[0m 523us/step - loss: 0.0242 - recall: 0.6333 - val_loss: 0.0302 - val_recall: 0.5517\n",
      "Epoch 9/100\n",
      "\u001b[1m26503/26503\u001b[0m \u001b[32m━━━━━━━━━━━━━━━━━━━━\u001b[0m\u001b[37m\u001b[0m \u001b[1m14s\u001b[0m 522us/step - loss: 0.0246 - recall: 0.6539 - val_loss: 0.0301 - val_recall: 0.5907\n",
      "Epoch 10/100\n",
      "\u001b[1m26503/26503\u001b[0m \u001b[32m━━━━━━━━━━━━━━━━━━━━\u001b[0m\u001b[37m\u001b[0m \u001b[1m15s\u001b[0m 561us/step - loss: 0.0243 - recall: 0.6614 - val_loss: 0.0299 - val_recall: 0.5832\n",
      "Epoch 11/100\n",
      "\u001b[1m26503/26503\u001b[0m \u001b[32m━━━━━━━━━━━━━━━━━━━━\u001b[0m\u001b[37m\u001b[0m \u001b[1m14s\u001b[0m 538us/step - loss: 0.0234 - recall: 0.6642 - val_loss: 0.0310 - val_recall: 0.5940\n",
      "Epoch 12/100\n",
      "\u001b[1m26503/26503\u001b[0m \u001b[32m━━━━━━━━━━━━━━━━━━━━\u001b[0m\u001b[37m\u001b[0m \u001b[1m14s\u001b[0m 533us/step - loss: 0.0233 - recall: 0.6526 - val_loss: 0.0302 - val_recall: 0.6000\n",
      "Epoch 13/100\n",
      "\u001b[1m26503/26503\u001b[0m \u001b[32m━━━━━━━━━━━━━━━━━━━━\u001b[0m\u001b[37m\u001b[0m \u001b[1m14s\u001b[0m 541us/step - loss: 0.0228 - recall: 0.6649 - val_loss: 0.0303 - val_recall: 0.6227\n",
      "Epoch 14/100\n",
      "\u001b[1m26503/26503\u001b[0m \u001b[32m━━━━━━━━━━━━━━━━━━━━\u001b[0m\u001b[37m\u001b[0m \u001b[1m447s\u001b[0m 17ms/step - loss: 0.0226 - recall: 0.6762 - val_loss: 0.0307 - val_recall: 0.6050\n",
      "Epoch 15/100\n",
      "\u001b[1m26503/26503\u001b[0m \u001b[32m━━━━━━━━━━━━━━━━━━━━\u001b[0m\u001b[37m\u001b[0m \u001b[1m15s\u001b[0m 549us/step - loss: 0.0223 - recall: 0.6725 - val_loss: 0.0328 - val_recall: 0.5702\n",
      "Epoch 16/100\n",
      "\u001b[1m26503/26503\u001b[0m \u001b[32m━━━━━━━━━━━━━━━━━━━━\u001b[0m\u001b[37m\u001b[0m \u001b[1m15s\u001b[0m 548us/step - loss: 0.0220 - recall: 0.6833 - val_loss: 0.0318 - val_recall: 0.5943\n",
      "Epoch 17/100\n",
      "\u001b[1m26503/26503\u001b[0m \u001b[32m━━━━━━━━━━━━━━━━━━━━\u001b[0m\u001b[37m\u001b[0m \u001b[1m14s\u001b[0m 513us/step - loss: 0.0216 - recall: 0.6817 - val_loss: 0.0311 - val_recall: 0.5904\n",
      "Epoch 18/100\n",
      "\u001b[1m26503/26503\u001b[0m \u001b[32m━━━━━━━━━━━━━━━━━━━━\u001b[0m\u001b[37m\u001b[0m \u001b[1m14s\u001b[0m 524us/step - loss: 0.0215 - recall: 0.6834 - val_loss: 0.0335 - val_recall: 0.6273\n",
      "Epoch 19/100\n",
      "\u001b[1m26503/26503\u001b[0m \u001b[32m━━━━━━━━━━━━━━━━━━━━\u001b[0m\u001b[37m\u001b[0m \u001b[1m15s\u001b[0m 576us/step - loss: 0.0210 - recall: 0.6990 - val_loss: 0.0327 - val_recall: 0.5846\n",
      "Epoch 20/100\n",
      "\u001b[1m26503/26503\u001b[0m \u001b[32m━━━━━━━━━━━━━━━━━━━━\u001b[0m\u001b[37m\u001b[0m \u001b[1m15s\u001b[0m 554us/step - loss: 0.0210 - recall: 0.6923 - val_loss: 0.0322 - val_recall: 0.5718\n",
      "Epoch 21/100\n",
      "\u001b[1m26503/26503\u001b[0m \u001b[32m━━━━━━━━━━━━━━━━━━━━\u001b[0m\u001b[37m\u001b[0m \u001b[1m15s\u001b[0m 552us/step - loss: 0.0210 - recall: 0.7068 - val_loss: 0.0337 - val_recall: 0.5277\n",
      "Epoch 22/100\n",
      "\u001b[1m26503/26503\u001b[0m \u001b[32m━━━━━━━━━━━━━━━━━━━━\u001b[0m\u001b[37m\u001b[0m \u001b[1m15s\u001b[0m 551us/step - loss: 0.0207 - recall: 0.7013 - val_loss: 0.0327 - val_recall: 0.6089\n",
      "Epoch 23/100\n",
      "\u001b[1m26503/26503\u001b[0m \u001b[32m━━━━━━━━━━━━━━━━━━━━\u001b[0m\u001b[37m\u001b[0m \u001b[1m15s\u001b[0m 559us/step - loss: 0.0208 - recall: 0.7058 - val_loss: 0.0383 - val_recall: 0.5918\n",
      "Epoch 24/100\n",
      "\u001b[1m26503/26503\u001b[0m \u001b[32m━━━━━━━━━━━━━━━━━━━━\u001b[0m\u001b[37m\u001b[0m \u001b[1m14s\u001b[0m 544us/step - loss: 0.0220 - recall: 0.7116 - val_loss: 0.0339 - val_recall: 0.6099\n",
      "Epoch 25/100\n",
      "\u001b[1m26503/26503\u001b[0m \u001b[32m━━━━━━━━━━━━━━━━━━━━\u001b[0m\u001b[37m\u001b[0m \u001b[1m1010s\u001b[0m 38ms/step - loss: 0.0204 - recall: 0.7075 - val_loss: 0.0356 - val_recall: 0.5574\n",
      "Epoch 26/100\n",
      "\u001b[1m26503/26503\u001b[0m \u001b[32m━━━━━━━━━━━━━━━━━━━━\u001b[0m\u001b[37m\u001b[0m \u001b[1m1402s\u001b[0m 53ms/step - loss: 0.0211 - recall: 0.7002 - val_loss: 0.0349 - val_recall: 0.5798\n",
      "Epoch 27/100\n",
      "\u001b[1m26503/26503\u001b[0m \u001b[32m━━━━━━━━━━━━━━━━━━━━\u001b[0m\u001b[37m\u001b[0m \u001b[1m15s\u001b[0m 560us/step - loss: 0.0201 - recall: 0.7164 - val_loss: 0.0360 - val_recall: 0.5994\n"
     ]
    },
    {
     "data": {
      "text/plain": [
       "<keras.src.callbacks.history.History at 0x15a98ba90>"
      ]
     },
     "execution_count": 64,
     "metadata": {},
     "output_type": "execute_result"
    }
   ],
   "source": [
    "model.fit(X_train_preprocessed, y_train_sample, batch_size=32, epochs=100, validation_split=0.3, callbacks =[es])"
   ]
  },
  {
   "cell_type": "code",
   "execution_count": 65,
   "metadata": {},
   "outputs": [
    {
     "name": "stdout",
     "output_type": "stream",
     "text": [
      "\u001b[1m9466/9466\u001b[0m \u001b[32m━━━━━━━━━━━━━━━━━━━━\u001b[0m\u001b[37m\u001b[0m \u001b[1m2s\u001b[0m 246us/step - loss: 0.0284 - recall: 0.6067\n",
      "Test loss:0.028803272172808647\n",
      "Test recall:0.6029812693595886\n"
     ]
    }
   ],
   "source": [
    "loss, recall = model.evaluate(X_test_preprocessed, y_test_sample)\n",
    "\n",
    "print(f\"Test loss:{loss}\")\n",
    "print(f\"Test recall:{recall}\")"
   ]
  },
  {
   "cell_type": "markdown",
   "metadata": {},
   "source": [
    "# SVM Classifier Modelling"
   ]
  },
  {
   "cell_type": "code",
   "execution_count": 66,
   "metadata": {},
   "outputs": [],
   "source": [
    "from sklearn.svm import SVC\n"
   ]
  },
  {
   "cell_type": "code",
   "execution_count": 67,
   "metadata": {},
   "outputs": [],
   "source": [
    "sig_svm_clf = SVC(kernel='sigmoid')\n"
   ]
  },
  {
   "cell_type": "code",
   "execution_count": 68,
   "metadata": {},
   "outputs": [],
   "source": [
    "sig_svm_clf.fit(X_train_preprocessed, y_train_sample)"
   ]
  },
  {
   "cell_type": "code",
   "execution_count": null,
   "metadata": {},
   "outputs": [],
   "source": [
    "y_pred = sig_svm_clf.predict(X_test_preprocessed)"
   ]
  },
  {
   "cell_type": "markdown",
   "metadata": {},
   "source": [
    "###### Note: Need to investigate \"use_label_encoder\" error"
   ]
  }
 ],
 "metadata": {
  "kernelspec": {
   "display_name": "lateguru",
   "language": "python",
   "name": "python3"
  },
  "language_info": {
   "codemirror_mode": {
    "name": "ipython",
    "version": 3
   },
   "file_extension": ".py",
   "mimetype": "text/x-python",
   "name": "python",
   "nbconvert_exporter": "python",
   "pygments_lexer": "ipython3",
   "version": "3.10.6"
  }
 },
 "nbformat": 4,
 "nbformat_minor": 2
}
