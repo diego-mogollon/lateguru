{
 "cells": [
  {
   "cell_type": "markdown",
   "id": "260463fa-c21f-484b-a470-6381661bf9c6",
   "metadata": {},
   "source": [
    "# Data Preprocessing"
   ]
  },
  {
   "cell_type": "markdown",
   "id": "8bda2048-fe7f-4c11-9bf2-fe3e7e7b5715",
   "metadata": {},
   "source": [
    "## Load data"
   ]
  },
  {
   "cell_type": "markdown",
   "id": "a36552ae-2df3-401e-b156-95dd624f7b02",
   "metadata": {},
   "source": [
    "Import libraries"
   ]
  },
  {
   "cell_type": "code",
   "execution_count": 92,
   "id": "d9238261-3610-4e30-8573-052cc51af7fd",
   "metadata": {},
   "outputs": [],
   "source": [
    "import pandas as pd\n",
    "import numpy as np\n",
    "\n",
    "import matplotlib.pyplot as plt\n",
    "import seaborn as sns\n",
    "\n",
    "from sklearn.model_selection import train_test_split"
   ]
  },
  {
   "cell_type": "markdown",
   "id": "78ec11f4-19ec-43d2-b6eb-8dd4c617a7a9",
   "metadata": {},
   "source": [
    "Load dataset into pandas dataframe"
   ]
  },
  {
   "cell_type": "code",
   "execution_count": 3,
   "id": "a34ff615-703d-471c-b51f-ac51de41b890",
   "metadata": {},
   "outputs": [],
   "source": [
    "df = pd.read_csv('/Users/markmans/code/diego-mogollon/lateguru/raw_data/Dataset_B_FORWW_Kaggle_All_Airports.csv',compression='zip')"
   ]
  },
  {
   "cell_type": "markdown",
   "id": "51c4daa0-8389-4b8c-8a6d-038469efe573",
   "metadata": {},
   "source": [
    "## Data check"
   ]
  },
  {
   "cell_type": "code",
   "execution_count": 4,
   "id": "75259272-cb3a-4c22-ae99-466cc39e24bf",
   "metadata": {},
   "outputs": [
    {
     "data": {
      "text/html": [
       "<div>\n",
       "<style scoped>\n",
       "    .dataframe tbody tr th:only-of-type {\n",
       "        vertical-align: middle;\n",
       "    }\n",
       "\n",
       "    .dataframe tbody tr th {\n",
       "        vertical-align: top;\n",
       "    }\n",
       "\n",
       "    .dataframe thead th {\n",
       "        text-align: right;\n",
       "    }\n",
       "</style>\n",
       "<table border=\"1\" class=\"dataframe\">\n",
       "  <thead>\n",
       "    <tr style=\"text-align: right;\">\n",
       "      <th></th>\n",
       "      <th>Time</th>\n",
       "      <th>Origin</th>\n",
       "      <th>Dest</th>\n",
       "      <th>Carrier</th>\n",
       "      <th>Cancelled</th>\n",
       "      <th>CancellationReason</th>\n",
       "      <th>Delayed</th>\n",
       "      <th>DepDelayMinutes</th>\n",
       "      <th>CarrierDelay</th>\n",
       "      <th>WeatherDelay</th>\n",
       "      <th>...</th>\n",
       "      <th>LateAircraftDelay</th>\n",
       "      <th>Temperature</th>\n",
       "      <th>Feels_Like_Temperature</th>\n",
       "      <th>Altimeter_Pressure</th>\n",
       "      <th>Sea_Level_Pressure</th>\n",
       "      <th>Visibility</th>\n",
       "      <th>Wind_Speed</th>\n",
       "      <th>Wind_Gust</th>\n",
       "      <th>Precipitation</th>\n",
       "      <th>Ice_Accretion_3hr</th>\n",
       "    </tr>\n",
       "  </thead>\n",
       "  <tbody>\n",
       "    <tr>\n",
       "      <th>0</th>\n",
       "      <td>2021-01-01 09:00:00</td>\n",
       "      <td>LAX</td>\n",
       "      <td>JFK</td>\n",
       "      <td>American Airlines Inc.</td>\n",
       "      <td>False</td>\n",
       "      <td>NaN</td>\n",
       "      <td>False</td>\n",
       "      <td>0.0</td>\n",
       "      <td>NaN</td>\n",
       "      <td>NaN</td>\n",
       "      <td>...</td>\n",
       "      <td>NaN</td>\n",
       "      <td>56.0</td>\n",
       "      <td>55.9</td>\n",
       "      <td>1020.32</td>\n",
       "      <td>1020.1</td>\n",
       "      <td>16093.40</td>\n",
       "      <td>0.0</td>\n",
       "      <td>24.97</td>\n",
       "      <td>0.0</td>\n",
       "      <td>0.0</td>\n",
       "    </tr>\n",
       "    <tr>\n",
       "      <th>1</th>\n",
       "      <td>2021-01-02 09:00:00</td>\n",
       "      <td>LAX</td>\n",
       "      <td>JFK</td>\n",
       "      <td>American Airlines Inc.</td>\n",
       "      <td>False</td>\n",
       "      <td>NaN</td>\n",
       "      <td>True</td>\n",
       "      <td>2.0</td>\n",
       "      <td>NaN</td>\n",
       "      <td>NaN</td>\n",
       "      <td>...</td>\n",
       "      <td>NaN</td>\n",
       "      <td>54.0</td>\n",
       "      <td>54.0</td>\n",
       "      <td>1025.74</td>\n",
       "      <td>1025.5</td>\n",
       "      <td>16093.40</td>\n",
       "      <td>0.0</td>\n",
       "      <td>24.97</td>\n",
       "      <td>0.0</td>\n",
       "      <td>0.0</td>\n",
       "    </tr>\n",
       "    <tr>\n",
       "      <th>2</th>\n",
       "      <td>2021-01-03 09:00:00</td>\n",
       "      <td>LAX</td>\n",
       "      <td>JFK</td>\n",
       "      <td>American Airlines Inc.</td>\n",
       "      <td>False</td>\n",
       "      <td>NaN</td>\n",
       "      <td>True</td>\n",
       "      <td>28.0</td>\n",
       "      <td>28.0</td>\n",
       "      <td>0.0</td>\n",
       "      <td>...</td>\n",
       "      <td>0.0</td>\n",
       "      <td>52.0</td>\n",
       "      <td>52.0</td>\n",
       "      <td>1024.38</td>\n",
       "      <td>1015.2</td>\n",
       "      <td>4828.02</td>\n",
       "      <td>4.6</td>\n",
       "      <td>24.97</td>\n",
       "      <td>0.0</td>\n",
       "      <td>0.0</td>\n",
       "    </tr>\n",
       "    <tr>\n",
       "      <th>3</th>\n",
       "      <td>2021-01-03 09:00:00</td>\n",
       "      <td>LAX</td>\n",
       "      <td>JFK</td>\n",
       "      <td>American Airlines Inc.</td>\n",
       "      <td>False</td>\n",
       "      <td>NaN</td>\n",
       "      <td>True</td>\n",
       "      <td>28.0</td>\n",
       "      <td>28.0</td>\n",
       "      <td>0.0</td>\n",
       "      <td>...</td>\n",
       "      <td>0.0</td>\n",
       "      <td>53.0</td>\n",
       "      <td>53.1</td>\n",
       "      <td>1024.38</td>\n",
       "      <td>1024.1</td>\n",
       "      <td>6437.36</td>\n",
       "      <td>4.6</td>\n",
       "      <td>24.97</td>\n",
       "      <td>0.0</td>\n",
       "      <td>0.0</td>\n",
       "    </tr>\n",
       "    <tr>\n",
       "      <th>4</th>\n",
       "      <td>2021-01-04 09:00:00</td>\n",
       "      <td>LAX</td>\n",
       "      <td>JFK</td>\n",
       "      <td>American Airlines Inc.</td>\n",
       "      <td>False</td>\n",
       "      <td>NaN</td>\n",
       "      <td>False</td>\n",
       "      <td>0.0</td>\n",
       "      <td>NaN</td>\n",
       "      <td>NaN</td>\n",
       "      <td>...</td>\n",
       "      <td>NaN</td>\n",
       "      <td>51.0</td>\n",
       "      <td>51.1</td>\n",
       "      <td>1023.03</td>\n",
       "      <td>1015.2</td>\n",
       "      <td>6437.36</td>\n",
       "      <td>4.6</td>\n",
       "      <td>24.97</td>\n",
       "      <td>0.0</td>\n",
       "      <td>0.0</td>\n",
       "    </tr>\n",
       "  </tbody>\n",
       "</table>\n",
       "<p>5 rows × 22 columns</p>\n",
       "</div>"
      ],
      "text/plain": [
       "                  Time Origin Dest                 Carrier  Cancelled  \\\n",
       "0  2021-01-01 09:00:00    LAX  JFK  American Airlines Inc.      False   \n",
       "1  2021-01-02 09:00:00    LAX  JFK  American Airlines Inc.      False   \n",
       "2  2021-01-03 09:00:00    LAX  JFK  American Airlines Inc.      False   \n",
       "3  2021-01-03 09:00:00    LAX  JFK  American Airlines Inc.      False   \n",
       "4  2021-01-04 09:00:00    LAX  JFK  American Airlines Inc.      False   \n",
       "\n",
       "  CancellationReason  Delayed  DepDelayMinutes  CarrierDelay  WeatherDelay  \\\n",
       "0                NaN    False              0.0           NaN           NaN   \n",
       "1                NaN     True              2.0           NaN           NaN   \n",
       "2                NaN     True             28.0          28.0           0.0   \n",
       "3                NaN     True             28.0          28.0           0.0   \n",
       "4                NaN    False              0.0           NaN           NaN   \n",
       "\n",
       "   ...  LateAircraftDelay  Temperature  Feels_Like_Temperature  \\\n",
       "0  ...                NaN         56.0                    55.9   \n",
       "1  ...                NaN         54.0                    54.0   \n",
       "2  ...                0.0         52.0                    52.0   \n",
       "3  ...                0.0         53.0                    53.1   \n",
       "4  ...                NaN         51.0                    51.1   \n",
       "\n",
       "   Altimeter_Pressure  Sea_Level_Pressure  Visibility  Wind_Speed  Wind_Gust  \\\n",
       "0             1020.32              1020.1    16093.40         0.0      24.97   \n",
       "1             1025.74              1025.5    16093.40         0.0      24.97   \n",
       "2             1024.38              1015.2     4828.02         4.6      24.97   \n",
       "3             1024.38              1024.1     6437.36         4.6      24.97   \n",
       "4             1023.03              1015.2     6437.36         4.6      24.97   \n",
       "\n",
       "   Precipitation  Ice_Accretion_3hr  \n",
       "0            0.0                0.0  \n",
       "1            0.0                0.0  \n",
       "2            0.0                0.0  \n",
       "3            0.0                0.0  \n",
       "4            0.0                0.0  \n",
       "\n",
       "[5 rows x 22 columns]"
      ]
     },
     "execution_count": 4,
     "metadata": {},
     "output_type": "execute_result"
    }
   ],
   "source": [
    "df.head()"
   ]
  },
  {
   "cell_type": "code",
   "execution_count": 5,
   "id": "3204c964-c445-4761-b7b7-57c8102e952a",
   "metadata": {},
   "outputs": [
    {
     "name": "stdout",
     "output_type": "stream",
     "text": [
      "<class 'pandas.core.frame.DataFrame'>\n",
      "RangeIndex: 15144514 entries, 0 to 15144513\n",
      "Data columns (total 22 columns):\n",
      " #   Column                  Dtype  \n",
      "---  ------                  -----  \n",
      " 0   Time                    object \n",
      " 1   Origin                  object \n",
      " 2   Dest                    object \n",
      " 3   Carrier                 object \n",
      " 4   Cancelled               bool   \n",
      " 5   CancellationReason      object \n",
      " 6   Delayed                 bool   \n",
      " 7   DepDelayMinutes         float64\n",
      " 8   CarrierDelay            float64\n",
      " 9   WeatherDelay            float64\n",
      " 10  NASDelay                float64\n",
      " 11  SecurityDelay           float64\n",
      " 12  LateAircraftDelay       float64\n",
      " 13  Temperature             float64\n",
      " 14  Feels_Like_Temperature  float64\n",
      " 15  Altimeter_Pressure      float64\n",
      " 16  Sea_Level_Pressure      float64\n",
      " 17  Visibility              float64\n",
      " 18  Wind_Speed              float64\n",
      " 19  Wind_Gust               float64\n",
      " 20  Precipitation           float64\n",
      " 21  Ice_Accretion_3hr       float64\n",
      "dtypes: bool(2), float64(15), object(5)\n",
      "memory usage: 2.3+ GB\n"
     ]
    }
   ],
   "source": [
    "df.info()"
   ]
  },
  {
   "cell_type": "code",
   "execution_count": 6,
   "id": "b151235c-9438-4df3-bb42-19ee6e22968b",
   "metadata": {
    "scrolled": true
   },
   "outputs": [
    {
     "data": {
      "text/html": [
       "<div>\n",
       "<style scoped>\n",
       "    .dataframe tbody tr th:only-of-type {\n",
       "        vertical-align: middle;\n",
       "    }\n",
       "\n",
       "    .dataframe tbody tr th {\n",
       "        vertical-align: top;\n",
       "    }\n",
       "\n",
       "    .dataframe thead th {\n",
       "        text-align: right;\n",
       "    }\n",
       "</style>\n",
       "<table border=\"1\" class=\"dataframe\">\n",
       "  <thead>\n",
       "    <tr style=\"text-align: right;\">\n",
       "      <th></th>\n",
       "      <th>DepDelayMinutes</th>\n",
       "      <th>CarrierDelay</th>\n",
       "      <th>WeatherDelay</th>\n",
       "      <th>NASDelay</th>\n",
       "      <th>SecurityDelay</th>\n",
       "      <th>LateAircraftDelay</th>\n",
       "      <th>Temperature</th>\n",
       "      <th>Feels_Like_Temperature</th>\n",
       "      <th>Altimeter_Pressure</th>\n",
       "      <th>Sea_Level_Pressure</th>\n",
       "      <th>Visibility</th>\n",
       "      <th>Wind_Speed</th>\n",
       "      <th>Wind_Gust</th>\n",
       "      <th>Precipitation</th>\n",
       "      <th>Ice_Accretion_3hr</th>\n",
       "    </tr>\n",
       "  </thead>\n",
       "  <tbody>\n",
       "    <tr>\n",
       "      <th>count</th>\n",
       "      <td>1.481562e+07</td>\n",
       "      <td>3.274328e+06</td>\n",
       "      <td>3.274328e+06</td>\n",
       "      <td>3.274328e+06</td>\n",
       "      <td>3.274328e+06</td>\n",
       "      <td>3.274328e+06</td>\n",
       "      <td>1.514451e+07</td>\n",
       "      <td>1.514451e+07</td>\n",
       "      <td>1.514451e+07</td>\n",
       "      <td>1.514451e+07</td>\n",
       "      <td>1.514451e+07</td>\n",
       "      <td>1.514451e+07</td>\n",
       "      <td>1.514451e+07</td>\n",
       "      <td>1.514451e+07</td>\n",
       "      <td>1.514451e+07</td>\n",
       "    </tr>\n",
       "    <tr>\n",
       "      <th>mean</th>\n",
       "      <td>1.608864e+01</td>\n",
       "      <td>2.551989e+01</td>\n",
       "      <td>5.424442e+00</td>\n",
       "      <td>1.244986e+01</td>\n",
       "      <td>1.523775e-01</td>\n",
       "      <td>2.440234e+01</td>\n",
       "      <td>6.317238e+01</td>\n",
       "      <td>6.218925e+01</td>\n",
       "      <td>1.016327e+03</td>\n",
       "      <td>1.016158e+03</td>\n",
       "      <td>1.452299e+04</td>\n",
       "      <td>9.068776e+00</td>\n",
       "      <td>2.608714e+01</td>\n",
       "      <td>1.739791e-01</td>\n",
       "      <td>1.685416e-04</td>\n",
       "    </tr>\n",
       "    <tr>\n",
       "      <th>std</th>\n",
       "      <td>5.152882e+01</td>\n",
       "      <td>6.765369e+01</td>\n",
       "      <td>3.479500e+01</td>\n",
       "      <td>2.882782e+01</td>\n",
       "      <td>3.611932e+00</td>\n",
       "      <td>5.611603e+01</td>\n",
       "      <td>1.805368e+01</td>\n",
       "      <td>2.100936e+01</td>\n",
       "      <td>6.502375e+00</td>\n",
       "      <td>6.172797e+00</td>\n",
       "      <td>3.031896e+04</td>\n",
       "      <td>5.421863e+00</td>\n",
       "      <td>3.098764e+00</td>\n",
       "      <td>1.295235e+00</td>\n",
       "      <td>2.063771e-02</td>\n",
       "    </tr>\n",
       "    <tr>\n",
       "      <th>min</th>\n",
       "      <td>0.000000e+00</td>\n",
       "      <td>0.000000e+00</td>\n",
       "      <td>0.000000e+00</td>\n",
       "      <td>0.000000e+00</td>\n",
       "      <td>0.000000e+00</td>\n",
       "      <td>0.000000e+00</td>\n",
       "      <td>-2.200000e+01</td>\n",
       "      <td>-4.086000e+01</td>\n",
       "      <td>1.164900e+02</td>\n",
       "      <td>9.078000e+02</td>\n",
       "      <td>0.000000e+00</td>\n",
       "      <td>0.000000e+00</td>\n",
       "      <td>9.210000e+00</td>\n",
       "      <td>0.000000e+00</td>\n",
       "      <td>0.000000e+00</td>\n",
       "    </tr>\n",
       "    <tr>\n",
       "      <th>25%</th>\n",
       "      <td>0.000000e+00</td>\n",
       "      <td>0.000000e+00</td>\n",
       "      <td>0.000000e+00</td>\n",
       "      <td>0.000000e+00</td>\n",
       "      <td>0.000000e+00</td>\n",
       "      <td>0.000000e+00</td>\n",
       "      <td>5.100000e+01</td>\n",
       "      <td>5.110000e+01</td>\n",
       "      <td>1.012530e+03</td>\n",
       "      <td>1.012800e+03</td>\n",
       "      <td>1.609340e+04</td>\n",
       "      <td>5.750000e+00</td>\n",
       "      <td>2.474000e+01</td>\n",
       "      <td>0.000000e+00</td>\n",
       "      <td>0.000000e+00</td>\n",
       "    </tr>\n",
       "    <tr>\n",
       "      <th>50%</th>\n",
       "      <td>0.000000e+00</td>\n",
       "      <td>6.000000e+00</td>\n",
       "      <td>0.000000e+00</td>\n",
       "      <td>0.000000e+00</td>\n",
       "      <td>0.000000e+00</td>\n",
       "      <td>0.000000e+00</td>\n",
       "      <td>6.500000e+01</td>\n",
       "      <td>6.490000e+01</td>\n",
       "      <td>1.016260e+03</td>\n",
       "      <td>1.016200e+03</td>\n",
       "      <td>1.609340e+04</td>\n",
       "      <td>8.060000e+00</td>\n",
       "      <td>2.624000e+01</td>\n",
       "      <td>0.000000e+00</td>\n",
       "      <td>0.000000e+00</td>\n",
       "    </tr>\n",
       "    <tr>\n",
       "      <th>75%</th>\n",
       "      <td>1.100000e+01</td>\n",
       "      <td>2.600000e+01</td>\n",
       "      <td>0.000000e+00</td>\n",
       "      <td>1.700000e+01</td>\n",
       "      <td>0.000000e+00</td>\n",
       "      <td>2.700000e+01</td>\n",
       "      <td>7.600000e+01</td>\n",
       "      <td>7.600000e+01</td>\n",
       "      <td>1.020320e+03</td>\n",
       "      <td>1.019300e+03</td>\n",
       "      <td>1.609340e+04</td>\n",
       "      <td>1.266000e+01</td>\n",
       "      <td>2.762000e+01</td>\n",
       "      <td>0.000000e+00</td>\n",
       "      <td>0.000000e+00</td>\n",
       "    </tr>\n",
       "    <tr>\n",
       "      <th>max</th>\n",
       "      <td>3.695000e+03</td>\n",
       "      <td>3.221000e+03</td>\n",
       "      <td>1.805000e+03</td>\n",
       "      <td>1.409000e+03</td>\n",
       "      <td>1.183000e+03</td>\n",
       "      <td>3.581000e+03</td>\n",
       "      <td>1.190000e+02</td>\n",
       "      <td>1.186000e+02</td>\n",
       "      <td>1.042330e+03</td>\n",
       "      <td>1.068400e+03</td>\n",
       "      <td>3.380419e+07</td>\n",
       "      <td>2.819400e+02</td>\n",
       "      <td>9.667000e+01</td>\n",
       "      <td>8.230000e+01</td>\n",
       "      <td>1.194000e+01</td>\n",
       "    </tr>\n",
       "  </tbody>\n",
       "</table>\n",
       "</div>"
      ],
      "text/plain": [
       "       DepDelayMinutes  CarrierDelay  WeatherDelay      NASDelay  \\\n",
       "count     1.481562e+07  3.274328e+06  3.274328e+06  3.274328e+06   \n",
       "mean      1.608864e+01  2.551989e+01  5.424442e+00  1.244986e+01   \n",
       "std       5.152882e+01  6.765369e+01  3.479500e+01  2.882782e+01   \n",
       "min       0.000000e+00  0.000000e+00  0.000000e+00  0.000000e+00   \n",
       "25%       0.000000e+00  0.000000e+00  0.000000e+00  0.000000e+00   \n",
       "50%       0.000000e+00  6.000000e+00  0.000000e+00  0.000000e+00   \n",
       "75%       1.100000e+01  2.600000e+01  0.000000e+00  1.700000e+01   \n",
       "max       3.695000e+03  3.221000e+03  1.805000e+03  1.409000e+03   \n",
       "\n",
       "       SecurityDelay  LateAircraftDelay   Temperature  Feels_Like_Temperature  \\\n",
       "count   3.274328e+06       3.274328e+06  1.514451e+07            1.514451e+07   \n",
       "mean    1.523775e-01       2.440234e+01  6.317238e+01            6.218925e+01   \n",
       "std     3.611932e+00       5.611603e+01  1.805368e+01            2.100936e+01   \n",
       "min     0.000000e+00       0.000000e+00 -2.200000e+01           -4.086000e+01   \n",
       "25%     0.000000e+00       0.000000e+00  5.100000e+01            5.110000e+01   \n",
       "50%     0.000000e+00       0.000000e+00  6.500000e+01            6.490000e+01   \n",
       "75%     0.000000e+00       2.700000e+01  7.600000e+01            7.600000e+01   \n",
       "max     1.183000e+03       3.581000e+03  1.190000e+02            1.186000e+02   \n",
       "\n",
       "       Altimeter_Pressure  Sea_Level_Pressure    Visibility    Wind_Speed  \\\n",
       "count        1.514451e+07        1.514451e+07  1.514451e+07  1.514451e+07   \n",
       "mean         1.016327e+03        1.016158e+03  1.452299e+04  9.068776e+00   \n",
       "std          6.502375e+00        6.172797e+00  3.031896e+04  5.421863e+00   \n",
       "min          1.164900e+02        9.078000e+02  0.000000e+00  0.000000e+00   \n",
       "25%          1.012530e+03        1.012800e+03  1.609340e+04  5.750000e+00   \n",
       "50%          1.016260e+03        1.016200e+03  1.609340e+04  8.060000e+00   \n",
       "75%          1.020320e+03        1.019300e+03  1.609340e+04  1.266000e+01   \n",
       "max          1.042330e+03        1.068400e+03  3.380419e+07  2.819400e+02   \n",
       "\n",
       "          Wind_Gust  Precipitation  Ice_Accretion_3hr  \n",
       "count  1.514451e+07   1.514451e+07       1.514451e+07  \n",
       "mean   2.608714e+01   1.739791e-01       1.685416e-04  \n",
       "std    3.098764e+00   1.295235e+00       2.063771e-02  \n",
       "min    9.210000e+00   0.000000e+00       0.000000e+00  \n",
       "25%    2.474000e+01   0.000000e+00       0.000000e+00  \n",
       "50%    2.624000e+01   0.000000e+00       0.000000e+00  \n",
       "75%    2.762000e+01   0.000000e+00       0.000000e+00  \n",
       "max    9.667000e+01   8.230000e+01       1.194000e+01  "
      ]
     },
     "execution_count": 6,
     "metadata": {},
     "output_type": "execute_result"
    }
   ],
   "source": [
    "df.describe()"
   ]
  },
  {
   "cell_type": "code",
   "execution_count": 7,
   "id": "daf767f7-9f39-4bab-8dd1-566f498e165b",
   "metadata": {},
   "outputs": [
    {
     "data": {
      "text/plain": [
       "Index(['Time', 'Origin', 'Dest', 'Carrier', 'Cancelled', 'CancellationReason',\n",
       "       'Delayed', 'DepDelayMinutes', 'CarrierDelay', 'WeatherDelay',\n",
       "       'NASDelay', 'SecurityDelay', 'LateAircraftDelay', 'Temperature',\n",
       "       'Feels_Like_Temperature', 'Altimeter_Pressure', 'Sea_Level_Pressure',\n",
       "       'Visibility', 'Wind_Speed', 'Wind_Gust', 'Precipitation',\n",
       "       'Ice_Accretion_3hr'],\n",
       "      dtype='object')"
      ]
     },
     "execution_count": 7,
     "metadata": {},
     "output_type": "execute_result"
    }
   ],
   "source": [
    "df.columns"
   ]
  },
  {
   "cell_type": "code",
   "execution_count": 8,
   "id": "92cbecdd-33f5-4bd7-a7cc-233baa9326ff",
   "metadata": {},
   "outputs": [
    {
     "data": {
      "text/plain": [
       "Time                             0\n",
       "Origin                           0\n",
       "Dest                             0\n",
       "Carrier                          0\n",
       "Cancelled                        0\n",
       "CancellationReason        14804803\n",
       "Delayed                          0\n",
       "DepDelayMinutes             328891\n",
       "CarrierDelay              11870186\n",
       "WeatherDelay              11870186\n",
       "NASDelay                  11870186\n",
       "SecurityDelay             11870186\n",
       "LateAircraftDelay         11870186\n",
       "Temperature                      0\n",
       "Feels_Like_Temperature           0\n",
       "Altimeter_Pressure               0\n",
       "Sea_Level_Pressure               0\n",
       "Visibility                       0\n",
       "Wind_Speed                       0\n",
       "Wind_Gust                        0\n",
       "Precipitation                    0\n",
       "Ice_Accretion_3hr                0\n",
       "dtype: int64"
      ]
     },
     "execution_count": 8,
     "metadata": {},
     "output_type": "execute_result"
    }
   ],
   "source": [
    "df.isnull().sum()"
   ]
  },
  {
   "cell_type": "markdown",
   "id": "c4a7e84a-bf5d-4cbb-9243-57f19a925050",
   "metadata": {},
   "source": [
    "## Data cleaning"
   ]
  },
  {
   "cell_type": "markdown",
   "id": "cdb6a933-120a-4176-8bee-7ca75d500df2",
   "metadata": {},
   "source": [
    "### Duplicates"
   ]
  },
  {
   "cell_type": "code",
   "execution_count": 9,
   "id": "3bc42e9d-654a-452c-b46f-b11e40231a3d",
   "metadata": {},
   "outputs": [
    {
     "data": {
      "text/plain": [
       "15144514"
      ]
     },
     "execution_count": 9,
     "metadata": {},
     "output_type": "execute_result"
    }
   ],
   "source": [
    "len(df)"
   ]
  },
  {
   "cell_type": "code",
   "execution_count": 10,
   "id": "d15766de-985d-4ba2-a4c1-21c7d626b956",
   "metadata": {},
   "outputs": [
    {
     "data": {
      "text/plain": [
       "0           False\n",
       "1           False\n",
       "2           False\n",
       "3           False\n",
       "4           False\n",
       "            ...  \n",
       "15144509    False\n",
       "15144510    False\n",
       "15144511    False\n",
       "15144512    False\n",
       "15144513    False\n",
       "Length: 15144514, dtype: bool"
      ]
     },
     "execution_count": 10,
     "metadata": {},
     "output_type": "execute_result"
    }
   ],
   "source": [
    "df.duplicated()"
   ]
  },
  {
   "cell_type": "code",
   "execution_count": 11,
   "id": "a9966ea6-78c1-4f38-bcd1-2e06e0d4e044",
   "metadata": {},
   "outputs": [
    {
     "data": {
      "text/plain": [
       "np.int64(705215)"
      ]
     },
     "execution_count": 11,
     "metadata": {},
     "output_type": "execute_result"
    }
   ],
   "source": [
    "df.duplicated().sum()"
   ]
  },
  {
   "cell_type": "code",
   "execution_count": 12,
   "id": "ce540ef1-9890-45d0-b072-8bea61b7605f",
   "metadata": {},
   "outputs": [],
   "source": [
    "dup_rows = df[df.duplicated()]"
   ]
  },
  {
   "cell_type": "code",
   "execution_count": 13,
   "id": "7a2cae9d-40e5-4008-aa6f-6cb46c75b984",
   "metadata": {},
   "outputs": [
    {
     "name": "stdout",
     "output_type": "stream",
     "text": [
      "                         Time Origin Dest                 Carrier  Cancelled  \\\n",
      "18        2021-01-08 09:00:00    LAX  JFK  American Airlines Inc.      False   \n",
      "35        2021-01-22 09:00:00    LAX  JFK  American Airlines Inc.      False   \n",
      "101       2021-01-08 09:00:00    LAX  HNL  American Airlines Inc.      False   \n",
      "118       2021-01-22 09:00:00    LAX  HNL  American Airlines Inc.      False   \n",
      "224       2021-01-22 09:00:00    LAX  KOA  American Airlines Inc.      False   \n",
      "...                       ...    ...  ...                     ...        ...   \n",
      "15137677  2023-09-15 12:00:00    MSP  PHX    Delta Air Lines Inc.      False   \n",
      "15138125  2023-09-15 12:00:00    MSP  BNA    Delta Air Lines Inc.      False   \n",
      "15142825  2023-09-15 12:00:00    MSP  FSD   SkyWest Airlines Inc.      False   \n",
      "15142893  2023-09-15 12:00:00    MSP  RST   SkyWest Airlines Inc.      False   \n",
      "15144361  2023-09-15 12:00:00    MSP  DEN  Southwest Airlines Co.      False   \n",
      "\n",
      "         CancellationReason  Delayed  DepDelayMinutes  CarrierDelay  \\\n",
      "18                      NaN    False              0.0           NaN   \n",
      "35                      NaN    False              0.0           NaN   \n",
      "101                     NaN    False              0.0           NaN   \n",
      "118                     NaN    False              0.0           NaN   \n",
      "224                     NaN    False              0.0           NaN   \n",
      "...                     ...      ...              ...           ...   \n",
      "15137677                NaN    False              0.0           NaN   \n",
      "15138125                NaN    False              0.0           NaN   \n",
      "15142825                NaN    False              0.0           NaN   \n",
      "15142893                NaN     True              3.0           NaN   \n",
      "15144361                NaN    False              0.0           NaN   \n",
      "\n",
      "          WeatherDelay  ...  LateAircraftDelay  Temperature  \\\n",
      "18                 NaN  ...                NaN         51.0   \n",
      "35                 NaN  ...                NaN         57.0   \n",
      "101                NaN  ...                NaN         51.0   \n",
      "118                NaN  ...                NaN         57.0   \n",
      "224                NaN  ...                NaN         57.0   \n",
      "...                ...  ...                ...          ...   \n",
      "15137677           NaN  ...                NaN         62.0   \n",
      "15138125           NaN  ...                NaN         62.0   \n",
      "15142825           NaN  ...                NaN         62.0   \n",
      "15142893           NaN  ...                NaN         62.0   \n",
      "15144361           NaN  ...                NaN         62.0   \n",
      "\n",
      "          Feels_Like_Temperature  Altimeter_Pressure  Sea_Level_Pressure  \\\n",
      "18                          51.1             1022.01              1015.2   \n",
      "35                          57.0             1016.93              1015.2   \n",
      "101                         51.1             1022.01              1015.2   \n",
      "118                         57.0             1016.93              1015.2   \n",
      "224                         57.0             1016.93              1015.2   \n",
      "...                          ...                 ...                 ...   \n",
      "15137677                    62.0             1017.27              1015.8   \n",
      "15138125                    62.0             1017.27              1015.8   \n",
      "15142825                    62.0             1017.27              1015.8   \n",
      "15142893                    62.0             1017.27              1015.8   \n",
      "15144361                    62.0             1017.27              1015.8   \n",
      "\n",
      "          Visibility  Wind_Speed  Wind_Gust  Precipitation  Ice_Accretion_3hr  \n",
      "18           9656.04        3.45      24.97            0.0                0.0  \n",
      "35          14484.06        6.90      24.97            0.0                0.0  \n",
      "101          9656.04        3.45      24.97            0.0                0.0  \n",
      "118         14484.06        6.90      24.97            0.0                0.0  \n",
      "224         14484.06        6.90      24.97            0.0                0.0  \n",
      "...              ...         ...        ...            ...                ...  \n",
      "15137677    12874.72        9.21      28.19            0.0                0.0  \n",
      "15138125    12874.72        9.21      28.19            0.0                0.0  \n",
      "15142825    12874.72        9.21      28.19            0.0                0.0  \n",
      "15142893    12874.72        9.21      28.19            0.0                0.0  \n",
      "15144361    12874.72        9.21      28.19            0.0                0.0  \n",
      "\n",
      "[705215 rows x 22 columns]\n"
     ]
    }
   ],
   "source": [
    "print(dup_rows)"
   ]
  },
  {
   "cell_type": "markdown",
   "id": "c521f4e2-b627-4b2b-8071-1ccba7874aa4",
   "metadata": {},
   "source": [
    "**Decision:** I will not drop these \"duplicate\" rows. **Rationale:** After checking the data in dup_rows it seems that these are not really duplicates and the rows should remain to be considered for the model training. *Will consider making separate dataframe with duplicates dropped.*"
   ]
  },
  {
   "cell_type": "markdown",
   "id": "af068f38-f482-4c18-b83f-c3f22d148956",
   "metadata": {},
   "source": [
    "### Missing data"
   ]
  },
  {
   "cell_type": "code",
   "execution_count": 14,
   "id": "fc2661c2-89ad-4127-9918-ac04a6c0417b",
   "metadata": {},
   "outputs": [
    {
     "data": {
      "text/plain": [
       "CancellationReason        14804803\n",
       "SecurityDelay             11870186\n",
       "CarrierDelay              11870186\n",
       "WeatherDelay              11870186\n",
       "NASDelay                  11870186\n",
       "LateAircraftDelay         11870186\n",
       "DepDelayMinutes             328891\n",
       "Feels_Like_Temperature           0\n",
       "Precipitation                    0\n",
       "Wind_Gust                        0\n",
       "Wind_Speed                       0\n",
       "Visibility                       0\n",
       "Sea_Level_Pressure               0\n",
       "Altimeter_Pressure               0\n",
       "Time                             0\n",
       "Temperature                      0\n",
       "Origin                           0\n",
       "Delayed                          0\n",
       "Cancelled                        0\n",
       "Carrier                          0\n",
       "Dest                             0\n",
       "Ice_Accretion_3hr                0\n",
       "dtype: int64"
      ]
     },
     "execution_count": 14,
     "metadata": {},
     "output_type": "execute_result"
    }
   ],
   "source": [
    "df.isnull().sum().sort_values(ascending=False)"
   ]
  },
  {
   "cell_type": "code",
   "execution_count": 15,
   "id": "731cdc48-6a0a-4298-a8f9-036f49610953",
   "metadata": {},
   "outputs": [
    {
     "data": {
      "text/plain": [
       "CancellationReason        0.977569\n",
       "SecurityDelay             0.783794\n",
       "CarrierDelay              0.783794\n",
       "WeatherDelay              0.783794\n",
       "NASDelay                  0.783794\n",
       "LateAircraftDelay         0.783794\n",
       "DepDelayMinutes           0.021717\n",
       "Feels_Like_Temperature    0.000000\n",
       "Precipitation             0.000000\n",
       "Wind_Gust                 0.000000\n",
       "Wind_Speed                0.000000\n",
       "Visibility                0.000000\n",
       "Sea_Level_Pressure        0.000000\n",
       "Altimeter_Pressure        0.000000\n",
       "Time                      0.000000\n",
       "Temperature               0.000000\n",
       "Origin                    0.000000\n",
       "Delayed                   0.000000\n",
       "Cancelled                 0.000000\n",
       "Carrier                   0.000000\n",
       "Dest                      0.000000\n",
       "Ice_Accretion_3hr         0.000000\n",
       "dtype: float64"
      ]
     },
     "execution_count": 15,
     "metadata": {},
     "output_type": "execute_result"
    }
   ],
   "source": [
    "df.isnull().sum().sort_values(ascending=False) / len(df)"
   ]
  },
  {
   "cell_type": "markdown",
   "id": "b69376ea-544c-42d5-a413-d77e8b016242",
   "metadata": {},
   "source": [
    "#### CancellationReason"
   ]
  },
  {
   "cell_type": "markdown",
   "id": "c8d866d9-408a-476f-9aa8-c75432f0ff01",
   "metadata": {},
   "source": [
    "Check .unique() values in column"
   ]
  },
  {
   "cell_type": "code",
   "execution_count": 16,
   "id": "53e9e394-09db-4c20-ba49-e2acf6a636a7",
   "metadata": {},
   "outputs": [
    {
     "data": {
      "text/plain": [
       "array([nan, 'Weather', 'Carrier', 'Security', 'National Air System'],\n",
       "      dtype=object)"
      ]
     },
     "execution_count": 16,
     "metadata": {},
     "output_type": "execute_result"
    }
   ],
   "source": [
    "df['CancellationReason'].unique()"
   ]
  },
  {
   "cell_type": "markdown",
   "id": "9cb6a86f-dd36-41fa-b17c-e8cd8507bfc4",
   "metadata": {},
   "source": [
    "**Decision:** Replace NaN values. **Rationale:** Null values represent non-cancellation of flights which should be included in data for model training."
   ]
  },
  {
   "cell_type": "code",
   "execution_count": 17,
   "id": "17125043-0163-4b27-8d31-1259ad7f635b",
   "metadata": {},
   "outputs": [],
   "source": [
    "df.CancellationReason = df.CancellationReason.replace(np.nan, \"NotCancelled\")"
   ]
  },
  {
   "cell_type": "markdown",
   "id": "b9a36736-8aa5-45a9-b120-de7335561501",
   "metadata": {},
   "source": [
    "*QA Check*"
   ]
  },
  {
   "cell_type": "code",
   "execution_count": 18,
   "id": "053ab05c-d680-45bb-9430-dc18f2cf954f",
   "metadata": {},
   "outputs": [
    {
     "data": {
      "text/plain": [
       "array(['NotCancelled', 'Weather', 'Carrier', 'Security',\n",
       "       'National Air System'], dtype=object)"
      ]
     },
     "execution_count": 18,
     "metadata": {},
     "output_type": "execute_result"
    }
   ],
   "source": [
    "df['CancellationReason'].unique()"
   ]
  },
  {
   "cell_type": "markdown",
   "id": "334d4983-7a8a-473f-9bcd-9d0dc301b0bd",
   "metadata": {},
   "source": [
    "#### SecurityDelay"
   ]
  },
  {
   "cell_type": "code",
   "execution_count": 19,
   "id": "253bf4e9-b3a6-49c1-b34c-86d211af34d0",
   "metadata": {},
   "outputs": [
    {
     "data": {
      "text/plain": [
       "array([      nan, 0.000e+00, 6.500e+01, 2.200e+01, 8.200e+01, 2.800e+01,\n",
       "       4.800e+01, 1.500e+01, 3.300e+01, 6.400e+01, 1.460e+02, 7.500e+01,\n",
       "       1.700e+01, 8.000e+00, 1.000e+02, 1.010e+02, 2.000e+01, 1.800e+01,\n",
       "       7.000e+00, 9.000e+00, 1.900e+01, 1.600e+01, 6.000e+00, 3.800e+01,\n",
       "       1.360e+02, 4.400e+01, 1.000e+00, 1.000e+01, 4.900e+01, 5.300e+01,\n",
       "       1.400e+01, 7.100e+01, 3.000e+01, 3.700e+01, 3.400e+01, 9.800e+01,\n",
       "       5.100e+01, 5.800e+01, 2.600e+01, 3.600e+01, 2.900e+01, 2.400e+01,\n",
       "       2.700e+01, 1.100e+01, 3.500e+01, 4.000e+01, 4.700e+01, 1.160e+02,\n",
       "       1.200e+01, 3.100e+01, 5.600e+01, 7.900e+01, 2.500e+01, 8.400e+01,\n",
       "       3.000e+00, 2.000e+00, 3.200e+01, 6.100e+01, 2.200e+02, 4.500e+01,\n",
       "       3.900e+01, 4.000e+00, 1.300e+01, 8.500e+01, 9.000e+01, 4.300e+01,\n",
       "       5.000e+00, 2.300e+01, 6.000e+01, 4.100e+01, 4.600e+01, 7.200e+01,\n",
       "       1.080e+02, 5.000e+01, 5.500e+01, 6.300e+01, 4.200e+01, 5.700e+01,\n",
       "       7.000e+01, 7.400e+01, 6.600e+01, 5.400e+01, 7.300e+01, 7.600e+01,\n",
       "       1.040e+02, 1.140e+02, 1.110e+02, 5.900e+01, 6.200e+01, 8.700e+01,\n",
       "       1.390e+02, 8.300e+01, 2.810e+02, 8.100e+01, 6.900e+01, 5.200e+01,\n",
       "       8.900e+01, 9.900e+01, 9.400e+01, 7.800e+01, 1.200e+02, 1.290e+02,\n",
       "       1.050e+02, 9.300e+01, 2.100e+01, 1.890e+02, 9.700e+01, 1.430e+02,\n",
       "       1.030e+02, 1.380e+02, 2.450e+02, 8.600e+01, 9.600e+01, 1.620e+02,\n",
       "       2.230e+02, 2.190e+02, 1.550e+02, 1.060e+02, 1.240e+02, 9.200e+01,\n",
       "       1.700e+02, 4.490e+02, 1.250e+02, 1.660e+02, 1.560e+02, 1.800e+02,\n",
       "       8.800e+01, 2.150e+02, 6.700e+01, 1.220e+02, 2.340e+02, 2.000e+02,\n",
       "       1.840e+02, 1.470e+02, 1.350e+02, 1.680e+02, 2.240e+02, 2.110e+02,\n",
       "       8.000e+01, 1.070e+02, 9.500e+01, 7.700e+01, 1.330e+02, 6.800e+01,\n",
       "       1.170e+02, 9.100e+01, 2.180e+02, 1.480e+02, 1.370e+02, 1.540e+02,\n",
       "       2.680e+02, 1.970e+02, 1.270e+02, 2.760e+02, 1.020e+02, 2.400e+02,\n",
       "       1.420e+02, 2.350e+02, 1.500e+02, 2.830e+02, 1.440e+02, 1.280e+02,\n",
       "       1.640e+02, 2.590e+02, 1.180e+02, 1.490e+02, 1.510e+02, 2.050e+02,\n",
       "       1.780e+02, 4.140e+02, 1.090e+02, 2.310e+02, 5.070e+02, 1.120e+02,\n",
       "       1.150e+02, 2.090e+02, 2.440e+02, 3.710e+02, 2.720e+02, 1.410e+02,\n",
       "       2.220e+02, 2.120e+02, 1.340e+02, 1.670e+02, 1.183e+03, 1.750e+02,\n",
       "       4.750e+02, 1.570e+02, 2.070e+02, 1.520e+02, 1.590e+02, 3.750e+02,\n",
       "       2.420e+02, 3.680e+02, 1.900e+02, 1.190e+02, 1.610e+02, 4.150e+02,\n",
       "       1.310e+02, 1.630e+02, 2.080e+02, 1.260e+02, 2.020e+02, 1.400e+02,\n",
       "       1.100e+02, 2.010e+02, 1.850e+02, 1.210e+02, 2.280e+02, 2.910e+02,\n",
       "       2.380e+02, 2.770e+02, 2.360e+02, 1.450e+02, 1.230e+02, 1.530e+02,\n",
       "       2.730e+02, 1.132e+03, 2.480e+02, 1.920e+02, 3.230e+02, 1.320e+02,\n",
       "       3.940e+02, 2.130e+02, 2.550e+02, 3.730e+02, 2.100e+02, 2.270e+02,\n",
       "       1.810e+02, 2.850e+02, 1.860e+02, 1.730e+02, 1.790e+02, 1.770e+02,\n",
       "       1.720e+02, 1.960e+02, 1.760e+02, 2.260e+02, 2.030e+02, 1.130e+02,\n",
       "       3.760e+02, 6.000e+02, 4.740e+02, 1.600e+02, 1.980e+02, 2.300e+02,\n",
       "       2.700e+02, 2.640e+02, 1.940e+02, 1.820e+02, 3.690e+02, 2.320e+02,\n",
       "       2.740e+02, 3.000e+02, 2.540e+02, 2.510e+02, 1.710e+02, 2.880e+02,\n",
       "       2.140e+02, 1.950e+02, 1.870e+02, 2.890e+02, 8.050e+02, 6.080e+02,\n",
       "       5.810e+02])"
      ]
     },
     "execution_count": 19,
     "metadata": {},
     "output_type": "execute_result"
    }
   ],
   "source": [
    "df['SecurityDelay'].unique()"
   ]
  },
  {
   "cell_type": "code",
   "execution_count": 20,
   "id": "60be5577-e343-4aca-88c1-75df77a356a6",
   "metadata": {},
   "outputs": [],
   "source": [
    "df.SecurityDelay = df.SecurityDelay.replace(np.nan, 0)"
   ]
  },
  {
   "cell_type": "code",
   "execution_count": 21,
   "id": "2f09fb68-fce6-462c-99fb-b9c2479202b9",
   "metadata": {},
   "outputs": [
    {
     "data": {
      "text/plain": [
       "array([0.000e+00, 6.500e+01, 2.200e+01, 8.200e+01, 2.800e+01, 4.800e+01,\n",
       "       1.500e+01, 3.300e+01, 6.400e+01, 1.460e+02, 7.500e+01, 1.700e+01,\n",
       "       8.000e+00, 1.000e+02, 1.010e+02, 2.000e+01, 1.800e+01, 7.000e+00,\n",
       "       9.000e+00, 1.900e+01, 1.600e+01, 6.000e+00, 3.800e+01, 1.360e+02,\n",
       "       4.400e+01, 1.000e+00, 1.000e+01, 4.900e+01, 5.300e+01, 1.400e+01,\n",
       "       7.100e+01, 3.000e+01, 3.700e+01, 3.400e+01, 9.800e+01, 5.100e+01,\n",
       "       5.800e+01, 2.600e+01, 3.600e+01, 2.900e+01, 2.400e+01, 2.700e+01,\n",
       "       1.100e+01, 3.500e+01, 4.000e+01, 4.700e+01, 1.160e+02, 1.200e+01,\n",
       "       3.100e+01, 5.600e+01, 7.900e+01, 2.500e+01, 8.400e+01, 3.000e+00,\n",
       "       2.000e+00, 3.200e+01, 6.100e+01, 2.200e+02, 4.500e+01, 3.900e+01,\n",
       "       4.000e+00, 1.300e+01, 8.500e+01, 9.000e+01, 4.300e+01, 5.000e+00,\n",
       "       2.300e+01, 6.000e+01, 4.100e+01, 4.600e+01, 7.200e+01, 1.080e+02,\n",
       "       5.000e+01, 5.500e+01, 6.300e+01, 4.200e+01, 5.700e+01, 7.000e+01,\n",
       "       7.400e+01, 6.600e+01, 5.400e+01, 7.300e+01, 7.600e+01, 1.040e+02,\n",
       "       1.140e+02, 1.110e+02, 5.900e+01, 6.200e+01, 8.700e+01, 1.390e+02,\n",
       "       8.300e+01, 2.810e+02, 8.100e+01, 6.900e+01, 5.200e+01, 8.900e+01,\n",
       "       9.900e+01, 9.400e+01, 7.800e+01, 1.200e+02, 1.290e+02, 1.050e+02,\n",
       "       9.300e+01, 2.100e+01, 1.890e+02, 9.700e+01, 1.430e+02, 1.030e+02,\n",
       "       1.380e+02, 2.450e+02, 8.600e+01, 9.600e+01, 1.620e+02, 2.230e+02,\n",
       "       2.190e+02, 1.550e+02, 1.060e+02, 1.240e+02, 9.200e+01, 1.700e+02,\n",
       "       4.490e+02, 1.250e+02, 1.660e+02, 1.560e+02, 1.800e+02, 8.800e+01,\n",
       "       2.150e+02, 6.700e+01, 1.220e+02, 2.340e+02, 2.000e+02, 1.840e+02,\n",
       "       1.470e+02, 1.350e+02, 1.680e+02, 2.240e+02, 2.110e+02, 8.000e+01,\n",
       "       1.070e+02, 9.500e+01, 7.700e+01, 1.330e+02, 6.800e+01, 1.170e+02,\n",
       "       9.100e+01, 2.180e+02, 1.480e+02, 1.370e+02, 1.540e+02, 2.680e+02,\n",
       "       1.970e+02, 1.270e+02, 2.760e+02, 1.020e+02, 2.400e+02, 1.420e+02,\n",
       "       2.350e+02, 1.500e+02, 2.830e+02, 1.440e+02, 1.280e+02, 1.640e+02,\n",
       "       2.590e+02, 1.180e+02, 1.490e+02, 1.510e+02, 2.050e+02, 1.780e+02,\n",
       "       4.140e+02, 1.090e+02, 2.310e+02, 5.070e+02, 1.120e+02, 1.150e+02,\n",
       "       2.090e+02, 2.440e+02, 3.710e+02, 2.720e+02, 1.410e+02, 2.220e+02,\n",
       "       2.120e+02, 1.340e+02, 1.670e+02, 1.183e+03, 1.750e+02, 4.750e+02,\n",
       "       1.570e+02, 2.070e+02, 1.520e+02, 1.590e+02, 3.750e+02, 2.420e+02,\n",
       "       3.680e+02, 1.900e+02, 1.190e+02, 1.610e+02, 4.150e+02, 1.310e+02,\n",
       "       1.630e+02, 2.080e+02, 1.260e+02, 2.020e+02, 1.400e+02, 1.100e+02,\n",
       "       2.010e+02, 1.850e+02, 1.210e+02, 2.280e+02, 2.910e+02, 2.380e+02,\n",
       "       2.770e+02, 2.360e+02, 1.450e+02, 1.230e+02, 1.530e+02, 2.730e+02,\n",
       "       1.132e+03, 2.480e+02, 1.920e+02, 3.230e+02, 1.320e+02, 3.940e+02,\n",
       "       2.130e+02, 2.550e+02, 3.730e+02, 2.100e+02, 2.270e+02, 1.810e+02,\n",
       "       2.850e+02, 1.860e+02, 1.730e+02, 1.790e+02, 1.770e+02, 1.720e+02,\n",
       "       1.960e+02, 1.760e+02, 2.260e+02, 2.030e+02, 1.130e+02, 3.760e+02,\n",
       "       6.000e+02, 4.740e+02, 1.600e+02, 1.980e+02, 2.300e+02, 2.700e+02,\n",
       "       2.640e+02, 1.940e+02, 1.820e+02, 3.690e+02, 2.320e+02, 2.740e+02,\n",
       "       3.000e+02, 2.540e+02, 2.510e+02, 1.710e+02, 2.880e+02, 2.140e+02,\n",
       "       1.950e+02, 1.870e+02, 2.890e+02, 8.050e+02, 6.080e+02, 5.810e+02])"
      ]
     },
     "execution_count": 21,
     "metadata": {},
     "output_type": "execute_result"
    }
   ],
   "source": [
    "df['SecurityDelay'].unique()"
   ]
  },
  {
   "cell_type": "code",
   "execution_count": 22,
   "id": "ac5c5fd0-4a6f-44d9-b238-2aab277af4e3",
   "metadata": {},
   "outputs": [
    {
     "data": {
      "text/plain": [
       "array([  nan,   28.,   59., ..., 2120., 2204., 1304.])"
      ]
     },
     "execution_count": 22,
     "metadata": {},
     "output_type": "execute_result"
    }
   ],
   "source": [
    "df['CarrierDelay'].unique()"
   ]
  },
  {
   "cell_type": "code",
   "execution_count": 23,
   "id": "df105815-e89b-49af-98e4-f39eab74a4b9",
   "metadata": {},
   "outputs": [],
   "source": [
    "df.CarrierDelay = df.CarrierDelay.replace(np.nan, 0)"
   ]
  },
  {
   "cell_type": "code",
   "execution_count": 24,
   "id": "56b806d0-1751-4e04-b464-293340750b0c",
   "metadata": {},
   "outputs": [
    {
     "data": {
      "text/plain": [
       "array([  nan,    0.,  343., ..., 1175., 1083.,  738.])"
      ]
     },
     "execution_count": 24,
     "metadata": {},
     "output_type": "execute_result"
    }
   ],
   "source": [
    "df['WeatherDelay'].unique()"
   ]
  },
  {
   "cell_type": "code",
   "execution_count": 25,
   "id": "c2d98193-da87-4514-80aa-23214864f64c",
   "metadata": {},
   "outputs": [],
   "source": [
    "df.WeatherDelay = df.WeatherDelay.replace(np.nan, 0)"
   ]
  },
  {
   "cell_type": "code",
   "execution_count": 26,
   "id": "b2de93d4-c42f-4721-9c97-bd804af5bce7",
   "metadata": {},
   "outputs": [
    {
     "data": {
      "text/plain": [
       "array([      nan, 2.000e+00, 0.000e+00, 1.200e+01, 1.800e+01, 2.400e+01,\n",
       "       4.000e+00, 1.700e+01, 6.000e+00, 1.400e+01, 2.200e+01, 9.000e+00,\n",
       "       2.500e+01, 2.470e+02, 1.000e+00, 1.500e+01, 1.000e+01, 4.400e+01,\n",
       "       2.000e+01, 3.300e+01, 3.000e+00, 1.340e+02, 3.000e+01, 2.100e+01,\n",
       "       3.600e+01, 5.500e+01, 3.800e+01, 1.600e+01, 1.900e+01, 2.300e+01,\n",
       "       3.100e+01, 6.900e+01, 1.260e+02, 8.000e+00, 2.800e+01, 4.000e+01,\n",
       "       7.000e+00, 2.900e+01, 4.700e+01, 1.100e+01, 3.200e+01, 3.700e+01,\n",
       "       2.700e+01, 3.900e+01, 1.300e+01, 3.500e+01, 2.600e+01, 5.000e+00,\n",
       "       1.060e+02, 6.400e+01, 6.300e+01, 5.600e+01, 5.300e+01, 3.030e+02,\n",
       "       2.980e+02, 2.860e+02, 2.730e+02, 1.390e+02, 1.220e+02, 1.880e+02,\n",
       "       4.300e+01, 4.500e+01, 5.800e+01, 1.280e+02, 2.440e+02, 1.430e+02,\n",
       "       5.000e+01, 1.040e+02, 5.200e+01, 9.900e+01, 1.240e+02, 9.600e+01,\n",
       "       3.400e+01, 4.800e+01, 1.350e+02, 6.100e+01, 4.600e+01, 5.400e+01,\n",
       "       7.100e+01, 1.230e+02, 7.600e+01, 1.360e+02, 1.020e+02, 1.210e+02,\n",
       "       8.900e+01, 6.600e+01, 5.100e+01, 4.200e+01, 1.560e+02, 1.310e+02,\n",
       "       1.190e+02, 4.100e+01, 5.900e+01, 2.170e+02, 1.070e+02, 9.000e+01,\n",
       "       1.150e+02, 8.600e+01, 7.800e+01, 1.250e+02, 1.570e+02, 7.200e+01,\n",
       "       2.920e+02, 9.500e+01, 2.030e+02, 6.200e+01, 8.200e+01, 4.900e+01,\n",
       "       5.700e+01, 6.700e+01, 7.000e+01, 1.720e+02, 1.820e+02, 1.830e+02,\n",
       "       1.100e+02, 1.030e+02, 8.300e+01, 7.700e+01, 6.000e+01, 6.500e+01,\n",
       "       1.120e+02, 9.400e+01, 9.200e+01, 1.320e+02, 1.180e+02, 1.010e+02,\n",
       "       1.410e+02, 2.520e+02, 9.350e+02, 8.400e+01, 1.130e+02, 1.510e+02,\n",
       "       1.970e+02, 1.920e+02, 2.600e+02, 2.010e+02, 1.660e+02, 5.530e+02,\n",
       "       1.960e+02, 1.370e+02, 1.270e+02, 6.800e+01, 9.100e+01, 1.000e+02,\n",
       "       1.080e+02, 1.860e+02, 2.650e+02, 1.170e+02, 7.900e+01, 2.040e+02,\n",
       "       1.620e+02, 1.090e+02, 1.480e+02, 9.800e+01, 1.610e+02, 8.500e+01,\n",
       "       7.300e+01, 7.400e+01, 8.100e+01, 9.700e+01, 8.700e+01, 1.600e+02,\n",
       "       8.000e+01, 1.050e+02, 7.840e+02, 1.950e+02, 2.900e+02, 2.880e+02,\n",
       "       2.850e+02, 2.710e+02, 1.810e+02, 1.910e+02, 7.500e+01, 4.350e+02,\n",
       "       2.560e+02, 3.780e+02, 4.220e+02, 1.450e+02, 2.500e+02, 2.490e+02,\n",
       "       3.050e+02, 1.650e+02, 2.270e+02, 1.380e+02, 2.160e+02, 1.300e+02,\n",
       "       1.110e+02, 1.470e+02, 1.500e+02, 2.000e+02, 1.640e+02, 8.800e+01,\n",
       "       1.940e+02, 1.710e+02, 2.340e+02, 1.140e+02, 1.750e+02, 9.300e+01,\n",
       "       2.110e+02, 8.120e+02, 1.630e+02, 1.590e+02, 1.490e+02, 1.160e+02,\n",
       "       1.520e+02, 2.080e+02, 3.490e+02, 6.670e+02, 1.770e+02, 1.420e+02,\n",
       "       5.830e+02, 2.990e+02, 1.460e+02, 2.690e+02, 1.990e+02, 3.840e+02,\n",
       "       1.890e+02, 1.790e+02, 4.860e+02, 5.090e+02, 1.530e+02, 1.330e+02,\n",
       "       1.740e+02, 1.580e+02, 2.290e+02, 1.550e+02, 1.840e+02, 1.900e+02,\n",
       "       1.700e+02, 4.960e+02, 2.670e+02, 4.080e+02, 4.280e+02, 2.580e+02,\n",
       "       2.630e+02, 1.670e+02, 2.100e+02, 2.420e+02, 1.400e+02, 1.200e+02,\n",
       "       2.820e+02, 2.260e+02, 2.530e+02, 8.390e+02, 1.800e+02, 1.980e+02,\n",
       "       3.660e+02, 5.500e+02, 2.540e+02, 3.430e+02, 3.340e+02, 9.780e+02,\n",
       "       5.370e+02, 1.680e+02, 1.930e+02, 2.150e+02, 2.570e+02, 2.680e+02,\n",
       "       1.870e+02, 2.410e+02, 9.360e+02, 2.210e+02, 2.060e+02, 1.288e+03,\n",
       "       9.210e+02, 1.690e+02, 2.070e+02, 3.610e+02, 2.280e+02, 1.290e+02,\n",
       "       2.130e+02, 7.150e+02, 2.220e+02, 2.200e+02, 9.570e+02, 3.890e+02,\n",
       "       4.310e+02, 1.540e+02, 8.000e+02, 2.480e+02, 1.730e+02, 8.230e+02,\n",
       "       2.320e+02, 2.330e+02, 2.970e+02, 1.760e+02, 3.390e+02, 2.120e+02,\n",
       "       2.350e+02, 2.400e+02, 2.050e+02, 2.430e+02, 9.650e+02, 2.180e+02,\n",
       "       3.580e+02, 2.890e+02, 2.310e+02, 1.440e+02, 2.460e+02, 2.230e+02,\n",
       "       2.020e+02, 2.450e+02, 2.370e+02, 2.140e+02, 2.810e+02, 2.960e+02,\n",
       "       3.960e+02, 3.600e+02, 3.150e+02, 3.060e+02, 2.300e+02, 2.770e+02,\n",
       "       2.590e+02, 2.800e+02, 2.640e+02, 2.380e+02, 4.800e+02, 3.280e+02,\n",
       "       2.390e+02, 7.300e+02, 2.910e+02, 3.190e+02, 4.320e+02, 5.630e+02,\n",
       "       2.240e+02, 4.510e+02, 2.750e+02, 2.780e+02, 3.120e+02, 4.440e+02,\n",
       "       3.000e+02, 2.610e+02, 2.250e+02, 3.040e+02, 2.510e+02, 2.950e+02,\n",
       "       5.920e+02, 3.630e+02, 3.860e+02, 3.090e+02, 7.740e+02, 1.780e+02,\n",
       "       5.670e+02, 5.940e+02, 4.360e+02, 6.400e+02, 4.470e+02, 3.550e+02,\n",
       "       4.460e+02, 3.170e+02, 3.260e+02, 2.190e+02, 2.720e+02, 1.850e+02,\n",
       "       3.480e+02, 2.700e+02, 3.310e+02, 2.620e+02, 5.130e+02, 2.090e+02,\n",
       "       1.111e+03, 2.940e+02, 3.450e+02, 3.460e+02, 2.740e+02, 7.020e+02,\n",
       "       5.470e+02, 6.930e+02, 4.120e+02, 2.760e+02, 5.750e+02, 4.580e+02,\n",
       "       3.700e+02, 3.350e+02, 4.740e+02, 3.230e+02, 4.230e+02, 3.940e+02,\n",
       "       3.160e+02, 5.720e+02, 3.250e+02, 2.840e+02, 8.210e+02, 3.800e+02,\n",
       "       4.010e+02, 3.180e+02, 2.550e+02, 3.470e+02, 3.560e+02, 3.790e+02,\n",
       "       3.930e+02, 1.093e+03, 9.470e+02, 4.820e+02, 9.130e+02, 4.640e+02,\n",
       "       1.116e+03, 4.270e+02, 7.640e+02, 4.410e+02, 3.300e+02, 3.690e+02,\n",
       "       9.310e+02, 3.420e+02, 3.710e+02, 9.850e+02, 8.080e+02, 2.360e+02,\n",
       "       8.060e+02, 3.810e+02, 8.280e+02, 3.920e+02, 2.930e+02, 3.400e+02,\n",
       "       4.260e+02, 3.520e+02, 3.720e+02, 4.000e+02, 3.440e+02, 1.054e+03,\n",
       "       4.550e+02, 4.780e+02, 3.510e+02, 3.760e+02, 4.110e+02, 3.740e+02,\n",
       "       3.330e+02, 2.660e+02, 2.830e+02, 3.010e+02, 6.880e+02, 6.010e+02,\n",
       "       4.100e+02, 8.370e+02, 3.070e+02, 3.100e+02, 5.860e+02, 4.720e+02,\n",
       "       5.220e+02, 3.360e+02, 3.540e+02, 6.520e+02, 3.680e+02, 9.340e+02,\n",
       "       8.490e+02, 3.970e+02, 3.770e+02, 5.110e+02, 2.790e+02, 3.240e+02,\n",
       "       3.210e+02, 9.770e+02, 3.200e+02, 9.050e+02, 4.810e+02, 3.910e+02,\n",
       "       9.590e+02, 4.430e+02, 3.020e+02, 3.370e+02, 5.650e+02, 3.530e+02,\n",
       "       5.330e+02, 2.870e+02, 4.160e+02, 3.110e+02, 3.140e+02, 1.104e+03,\n",
       "       6.050e+02, 5.910e+02, 4.240e+02, 8.590e+02, 3.620e+02, 5.480e+02,\n",
       "       7.330e+02, 8.010e+02, 5.620e+02, 6.540e+02, 3.500e+02, 1.031e+03,\n",
       "       1.056e+03, 4.920e+02, 5.560e+02, 5.300e+02, 4.600e+02, 3.650e+02,\n",
       "       3.290e+02, 5.580e+02, 3.220e+02, 3.730e+02, 9.280e+02, 7.980e+02,\n",
       "       6.850e+02, 4.950e+02, 1.294e+03, 8.540e+02, 7.000e+02, 4.190e+02,\n",
       "       7.420e+02, 7.960e+02, 9.380e+02, 5.600e+02, 4.420e+02, 8.110e+02,\n",
       "       4.710e+02, 4.290e+02, 9.290e+02, 6.110e+02, 4.060e+02, 9.220e+02,\n",
       "       8.950e+02, 4.170e+02, 3.410e+02, 8.800e+02, 6.170e+02, 3.320e+02,\n",
       "       6.840e+02, 5.430e+02, 6.020e+02, 9.600e+02, 5.850e+02, 8.260e+02,\n",
       "       3.270e+02, 3.130e+02, 1.094e+03, 6.410e+02, 5.210e+02, 3.380e+02,\n",
       "       6.270e+02, 9.070e+02, 6.130e+02, 9.370e+02, 6.560e+02, 4.630e+02,\n",
       "       5.070e+02, 1.084e+03, 3.750e+02, 4.890e+02, 6.640e+02, 1.011e+03,\n",
       "       4.090e+02, 4.520e+02, 7.520e+02, 7.450e+02, 3.870e+02, 6.230e+02,\n",
       "       4.830e+02, 6.770e+02, 5.840e+02, 7.190e+02, 5.900e+02, 1.148e+03,\n",
       "       1.015e+03, 3.980e+02, 9.240e+02, 7.560e+02, 4.140e+02, 4.030e+02,\n",
       "       4.790e+02, 5.290e+02, 8.730e+02, 4.150e+02, 6.460e+02, 1.041e+03,\n",
       "       5.040e+02, 6.740e+02, 4.210e+02, 4.500e+02, 1.120e+03, 3.080e+02,\n",
       "       1.091e+03, 4.490e+02, 8.030e+02, 1.204e+03, 8.330e+02, 8.870e+02,\n",
       "       4.750e+02, 4.250e+02, 7.010e+02, 7.310e+02, 7.100e+02, 3.850e+02,\n",
       "       6.800e+02, 4.850e+02, 7.650e+02, 6.590e+02, 7.290e+02, 8.610e+02,\n",
       "       6.490e+02, 9.910e+02, 7.610e+02, 9.970e+02, 7.790e+02, 8.400e+02,\n",
       "       3.990e+02, 6.750e+02, 1.002e+03, 3.590e+02, 6.570e+02, 8.790e+02,\n",
       "       7.540e+02, 5.280e+02, 7.380e+02, 9.260e+02, 1.108e+03, 7.130e+02,\n",
       "       1.049e+03, 8.670e+02, 6.220e+02, 4.610e+02, 4.880e+02, 7.490e+02,\n",
       "       1.218e+03, 7.760e+02, 7.160e+02, 5.770e+02, 8.550e+02, 1.143e+03,\n",
       "       8.650e+02, 4.530e+02, 7.410e+02, 7.990e+02, 6.980e+02, 8.170e+02,\n",
       "       7.070e+02, 8.780e+02, 6.090e+02, 1.129e+03, 6.310e+02, 4.940e+02,\n",
       "       6.000e+02, 8.890e+02, 6.360e+02, 4.450e+02, 6.340e+02, 6.630e+02,\n",
       "       8.310e+02, 6.650e+02, 1.075e+03, 4.570e+02, 8.920e+02, 9.250e+02,\n",
       "       3.670e+02, 3.570e+02, 9.560e+02, 8.470e+02, 4.980e+02, 9.860e+02,\n",
       "       3.820e+02, 5.020e+02, 3.640e+02, 1.032e+03, 8.830e+02, 9.890e+02,\n",
       "       3.900e+02, 9.400e+02, 7.590e+02, 6.960e+02, 4.690e+02, 5.400e+02,\n",
       "       6.260e+02, 9.450e+02, 7.480e+02, 8.510e+02, 5.730e+02, 4.590e+02,\n",
       "       6.550e+02, 5.350e+02, 9.320e+02, 4.400e+02, 4.670e+02, 6.990e+02,\n",
       "       7.400e+02, 5.100e+02, 4.340e+02, 5.060e+02, 4.480e+02, 8.530e+02,\n",
       "       7.280e+02, 1.095e+03, 4.840e+02, 7.170e+02, 7.880e+02, 7.510e+02,\n",
       "       7.500e+02, 1.144e+03, 9.550e+02, 7.720e+02, 9.640e+02, 7.970e+02,\n",
       "       1.198e+03, 6.790e+02, 7.940e+02, 5.240e+02, 4.180e+02, 6.180e+02,\n",
       "       4.370e+02, 8.140e+02, 9.170e+02, 9.480e+02, 5.200e+02, 9.460e+02,\n",
       "       1.013e+03, 7.750e+02, 9.390e+02, 9.940e+02, 4.870e+02, 8.350e+02,\n",
       "       4.020e+02, 5.080e+02, 8.070e+02, 6.040e+02, 9.620e+02, 9.880e+02,\n",
       "       9.990e+02, 7.770e+02, 9.980e+02, 5.460e+02, 4.300e+02, 4.200e+02,\n",
       "       5.010e+02, 5.520e+02, 9.060e+02, 4.050e+02, 6.350e+02, 3.830e+02,\n",
       "       4.070e+02, 9.690e+02, 5.190e+02, 6.780e+02, 4.560e+02, 8.090e+02,\n",
       "       7.350e+02, 6.680e+02, 5.990e+02, 1.065e+03, 9.410e+02, 9.920e+02,\n",
       "       5.030e+02, 1.005e+03, 3.880e+02, 4.660e+02, 5.800e+02, 1.409e+03,\n",
       "       1.022e+03, 9.840e+02, 5.270e+02, 4.330e+02, 8.040e+02, 8.900e+02,\n",
       "       9.440e+02, 5.490e+02, 9.300e+02, 6.620e+02, 5.120e+02, 1.077e+03,\n",
       "       4.380e+02, 4.930e+02, 6.760e+02, 4.130e+02, 1.097e+03, 1.026e+03,\n",
       "       6.440e+02, 4.680e+02, 6.700e+02, 5.310e+02, 5.810e+02, 9.140e+02,\n",
       "       8.450e+02, 5.590e+02, 4.910e+02, 6.500e+02, 6.200e+02, 6.470e+02,\n",
       "       8.410e+02, 7.810e+02, 6.370e+02, 9.020e+02, 1.096e+03, 7.260e+02,\n",
       "       1.138e+03, 7.950e+02, 4.900e+02, 1.300e+03, 5.660e+02, 6.420e+02,\n",
       "       8.240e+02, 6.910e+02, 5.780e+02, 8.770e+02, 7.620e+02, 5.710e+02,\n",
       "       8.640e+02, 4.760e+02, 8.690e+02, 1.027e+03, 9.510e+02, 6.940e+02,\n",
       "       5.260e+02, 8.740e+02, 5.700e+02, 1.017e+03, 7.340e+02, 4.970e+02,\n",
       "       1.023e+03, 8.430e+02, 6.430e+02, 9.530e+02, 8.570e+02, 1.310e+03,\n",
       "       8.720e+02, 6.610e+02, 8.440e+02, 7.700e+02, 4.540e+02, 4.390e+02,\n",
       "       4.650e+02, 4.040e+02, 6.060e+02, 9.010e+02, 8.020e+02, 7.040e+02,\n",
       "       9.540e+02, 5.360e+02, 6.300e+02, 8.940e+02, 7.180e+02, 7.820e+02,\n",
       "       1.236e+03, 1.019e+03, 1.010e+03, 7.920e+02, 5.880e+02, 9.680e+02,\n",
       "       9.120e+02, 1.178e+03, 1.401e+03, 1.358e+03, 7.890e+02, 8.290e+02,\n",
       "       1.256e+03, 8.480e+02, 5.150e+02, 3.950e+02, 8.860e+02, 1.036e+03,\n",
       "       9.080e+02, 8.910e+02, 6.240e+02, 7.140e+02, 5.510e+02, 7.230e+02,\n",
       "       6.660e+02, 9.710e+02, 1.092e+03, 9.580e+02, 8.600e+02, 9.500e+02,\n",
       "       1.000e+03, 1.154e+03, 6.290e+02, 6.080e+02, 1.147e+03, 1.146e+03,\n",
       "       1.227e+03, 7.550e+02, 5.420e+02, 1.187e+03, 5.790e+02, 7.570e+02,\n",
       "       8.180e+02, 8.970e+02, 1.222e+03, 4.770e+02, 4.990e+02, 9.900e+02,\n",
       "       5.570e+02, 5.250e+02, 1.182e+03, 7.360e+02, 9.730e+02, 8.380e+02,\n",
       "       1.016e+03, 1.081e+03, 5.540e+02, 1.055e+03, 7.600e+02, 1.191e+03,\n",
       "       1.263e+03, 5.450e+02, 9.330e+02, 1.124e+03])"
      ]
     },
     "execution_count": 26,
     "metadata": {},
     "output_type": "execute_result"
    }
   ],
   "source": [
    "df['NASDelay'].unique()"
   ]
  },
  {
   "cell_type": "code",
   "execution_count": 27,
   "id": "40e72337-421b-43e0-8598-11ccdf907da3",
   "metadata": {},
   "outputs": [],
   "source": [
    "df.NASDelay = df.NASDelay.replace(np.nan, 0)"
   ]
  },
  {
   "cell_type": "code",
   "execution_count": 28,
   "id": "b6b1015d-82c2-4e09-b830-cd5aa43a3600",
   "metadata": {},
   "outputs": [
    {
     "data": {
      "text/plain": [
       "array([  nan,    0.,   14., ..., 1235., 1780., 1246.])"
      ]
     },
     "execution_count": 28,
     "metadata": {},
     "output_type": "execute_result"
    }
   ],
   "source": [
    "df['LateAircraftDelay'].unique()"
   ]
  },
  {
   "cell_type": "code",
   "execution_count": 29,
   "id": "955afe39-227f-4cc5-8475-87bb50571494",
   "metadata": {},
   "outputs": [],
   "source": [
    "df.LateAircraftDelay = df.LateAircraftDelay.replace(np.nan, 0)"
   ]
  },
  {
   "cell_type": "code",
   "execution_count": 30,
   "id": "105e5688-ef61-4ecc-bb75-ac155e745bed",
   "metadata": {},
   "outputs": [
    {
     "data": {
      "text/plain": [
       "array([0.000e+00, 2.000e+00, 2.800e+01, ..., 2.127e+03, 1.816e+03,\n",
       "       2.230e+03])"
      ]
     },
     "execution_count": 30,
     "metadata": {},
     "output_type": "execute_result"
    }
   ],
   "source": [
    "df['DepDelayMinutes'].unique()"
   ]
  },
  {
   "cell_type": "markdown",
   "id": "ae9ce8bb-b319-4648-82dd-aa5d705fcbe6",
   "metadata": {},
   "source": [
    "### Outliers"
   ]
  },
  {
   "cell_type": "code",
   "execution_count": 31,
   "id": "96e5eef4-72ed-408c-8945-64c87f7e47b9",
   "metadata": {},
   "outputs": [],
   "source": [
    "df.rename(columns={'WeatherDelay': 'Weather_Delay_Length'}, inplace=True)"
   ]
  },
  {
   "cell_type": "code",
   "execution_count": 65,
   "id": "23b1d88c-7782-47b2-85d1-79d7f9449873",
   "metadata": {},
   "outputs": [
    {
     "data": {
      "text/plain": [
       "Time                      275032\n",
       "Origin                    275032\n",
       "Dest                      275032\n",
       "Carrier                   275032\n",
       "Cancelled                 275032\n",
       "CancellationReason        275032\n",
       "Delayed                   275032\n",
       "DepDelayMinutes           275032\n",
       "CarrierDelay              275032\n",
       "Weather_Delay_Length      275032\n",
       "NASDelay                  275032\n",
       "SecurityDelay             275032\n",
       "LateAircraftDelay         275032\n",
       "Temperature               275032\n",
       "Feels_Like_Temperature    275032\n",
       "Altimeter_Pressure        275032\n",
       "Sea_Level_Pressure        275032\n",
       "Visibility                275032\n",
       "Wind_Speed                275032\n",
       "Wind_Gust                 275032\n",
       "Precipitation             275032\n",
       "Ice_Accretion_3hr         275032\n",
       "dtype: int64"
      ]
     },
     "execution_count": 65,
     "metadata": {},
     "output_type": "execute_result"
    }
   ],
   "source": [
    "df[(df['Weather_Delay_Length']>0)].count()"
   ]
  },
  {
   "cell_type": "code",
   "execution_count": 33,
   "id": "cf18a1cb-c8c2-4342-bec0-4135f72e5f69",
   "metadata": {},
   "outputs": [
    {
     "data": {
      "text/plain": [
       "Time                       object\n",
       "Origin                     object\n",
       "Dest                       object\n",
       "Carrier                    object\n",
       "Cancelled                    bool\n",
       "CancellationReason         object\n",
       "Delayed                      bool\n",
       "DepDelayMinutes           float64\n",
       "CarrierDelay              float64\n",
       "Weather_Delay_Length      float64\n",
       "NASDelay                  float64\n",
       "SecurityDelay             float64\n",
       "LateAircraftDelay         float64\n",
       "Temperature               float64\n",
       "Feels_Like_Temperature    float64\n",
       "Altimeter_Pressure        float64\n",
       "Sea_Level_Pressure        float64\n",
       "Visibility                float64\n",
       "Wind_Speed                float64\n",
       "Wind_Gust                 float64\n",
       "Precipitation             float64\n",
       "Ice_Accretion_3hr         float64\n",
       "dtype: object"
      ]
     },
     "execution_count": 33,
     "metadata": {},
     "output_type": "execute_result"
    }
   ],
   "source": [
    "df.dtypes"
   ]
  },
  {
   "cell_type": "code",
   "execution_count": 34,
   "id": "59bdacc6-64a3-4c8a-9e53-107f38279467",
   "metadata": {},
   "outputs": [
    {
     "data": {
      "text/plain": [
       "Index(['Time', 'Origin', 'Dest', 'Carrier', 'Cancelled', 'CancellationReason',\n",
       "       'Delayed', 'DepDelayMinutes', 'CarrierDelay', 'Weather_Delay_Length',\n",
       "       'NASDelay', 'SecurityDelay', 'LateAircraftDelay', 'Temperature',\n",
       "       'Feels_Like_Temperature', 'Altimeter_Pressure', 'Sea_Level_Pressure',\n",
       "       'Visibility', 'Wind_Speed', 'Wind_Gust', 'Precipitation',\n",
       "       'Ice_Accretion_3hr'],\n",
       "      dtype='object')"
      ]
     },
     "execution_count": 34,
     "metadata": {},
     "output_type": "execute_result"
    }
   ],
   "source": [
    "df.columns"
   ]
  },
  {
   "cell_type": "code",
   "execution_count": 35,
   "id": "95955de4-8cef-48ab-973c-96a4727a2708",
   "metadata": {},
   "outputs": [],
   "source": [
    "numeric_cols = ['DepDelayMinutes', 'CarrierDelay', 'Weather_Delay_Length',\n",
    "       'NASDelay', 'SecurityDelay', 'LateAircraftDelay', 'Temperature',\n",
    "       'Feels_Like_Temperature', 'Altimeter_Pressure', 'Sea_Level_Pressure',\n",
    "       'Visibility', 'Wind_Speed', 'Wind_Gust', 'Precipitation',\n",
    "       'Ice_Accretion_3hr']"
   ]
  },
  {
   "cell_type": "code",
   "execution_count": 36,
   "id": "98faaa8a-cc33-4494-9f4c-414b6362dd02",
   "metadata": {},
   "outputs": [
    {
     "name": "stderr",
     "output_type": "stream",
     "text": [
      "/var/folders/ys/snx2hvcx76d5p1xgd394mtlc0000gn/T/ipykernel_2563/1526912926.py:2: FutureWarning: \n",
      "\n",
      "Passing `palette` without assigning `hue` is deprecated and will be removed in v0.14.0. Assign the `x` variable to `hue` and set `legend=False` for the same effect.\n",
      "\n",
      "  sns.boxplot(data=df['DepDelayMinutes'], palette=\"Set3\")\n"
     ]
    },
    {
     "data": {
      "text/plain": [
       "<Axes: ylabel='DepDelayMinutes'>"
      ]
     },
     "execution_count": 36,
     "metadata": {},
     "output_type": "execute_result"
    },
    {
     "data": {
      "image/png": "[encoded data removed]",
      "text/plain": [
       "<Figure size 1400x800 with 1 Axes>"
      ]
     },
     "metadata": {},
     "output_type": "display_data"
    }
   ],
   "source": [
    "plt.figure(figsize=(14, 8))\n",
    "sns.boxplot(data=df['DepDelayMinutes'], palette=\"Set3\")"
   ]
  },
  {
   "cell_type": "code",
   "execution_count": 64,
   "id": "a552527b-31ba-48ab-8bc1-c0e31bc96ec5",
   "metadata": {},
   "outputs": [
    {
     "data": {
      "text/plain": [
       "Time                      5895413\n",
       "Origin                    5895413\n",
       "Dest                      5895413\n",
       "Carrier                   5895413\n",
       "Cancelled                 5895413\n",
       "CancellationReason        5895413\n",
       "Delayed                   5895413\n",
       "DepDelayMinutes           5895413\n",
       "CarrierDelay              5895413\n",
       "Weather_Delay_Length      5895413\n",
       "NASDelay                  5895413\n",
       "SecurityDelay             5895413\n",
       "LateAircraftDelay         5895413\n",
       "Temperature               5895413\n",
       "Feels_Like_Temperature    5895413\n",
       "Altimeter_Pressure        5895413\n",
       "Sea_Level_Pressure        5895413\n",
       "Visibility                5895413\n",
       "Wind_Speed                5895413\n",
       "Wind_Gust                 5895413\n",
       "Precipitation             5895413\n",
       "Ice_Accretion_3hr         5895413\n",
       "dtype: int64"
      ]
     },
     "execution_count": 64,
     "metadata": {},
     "output_type": "execute_result"
    }
   ],
   "source": [
    "df[(df['DepDelayMinutes']>0)].count()"
   ]
  },
  {
   "cell_type": "code",
   "execution_count": 37,
   "id": "b5b3514f-8a94-44d3-8cbe-0bdeaa808212",
   "metadata": {},
   "outputs": [
    {
     "name": "stderr",
     "output_type": "stream",
     "text": [
      "/var/folders/ys/snx2hvcx76d5p1xgd394mtlc0000gn/T/ipykernel_2563/4057183575.py:2: FutureWarning: \n",
      "\n",
      "Passing `palette` without assigning `hue` is deprecated and will be removed in v0.14.0. Assign the `x` variable to `hue` and set `legend=False` for the same effect.\n",
      "\n",
      "  sns.boxplot(data=df['Temperature'], palette=\"Set3\")\n"
     ]
    },
    {
     "data": {
      "text/plain": [
       "<Axes: ylabel='Temperature'>"
      ]
     },
     "execution_count": 37,
     "metadata": {},
     "output_type": "execute_result"
    },
    {
     "data": {
      "image/png": "[encoded data removed]",
      "text/plain": [
       "<Figure size 1000x600 with 1 Axes>"
      ]
     },
     "metadata": {},
     "output_type": "display_data"
    }
   ],
   "source": [
    "plt.figure(figsize=(10, 6))\n",
    "sns.boxplot(data=df['Temperature'], palette=\"Set3\")"
   ]
  },
  {
   "cell_type": "code",
   "execution_count": 38,
   "id": "a70b8a30-7963-41a7-8b74-cbe9ad427b75",
   "metadata": {},
   "outputs": [
    {
     "name": "stderr",
     "output_type": "stream",
     "text": [
      "/var/folders/ys/snx2hvcx76d5p1xgd394mtlc0000gn/T/ipykernel_2563/1002605207.py:2: FutureWarning: \n",
      "\n",
      "Passing `palette` without assigning `hue` is deprecated and will be removed in v0.14.0. Assign the `x` variable to `hue` and set `legend=False` for the same effect.\n",
      "\n",
      "  sns.boxplot(data=df['Altimeter_Pressure'], palette=\"Set3\")\n"
     ]
    },
    {
     "data": {
      "text/plain": [
       "<Axes: ylabel='Altimeter_Pressure'>"
      ]
     },
     "execution_count": 38,
     "metadata": {},
     "output_type": "execute_result"
    },
    {
     "data": {
      "image/png": "[encoded data removed]",
      "text/plain": [
       "<Figure size 1000x600 with 1 Axes>"
      ]
     },
     "metadata": {},
     "output_type": "display_data"
    }
   ],
   "source": [
    "plt.figure(figsize=(10, 6))\n",
    "sns.boxplot(data=df['Altimeter_Pressure'], palette=\"Set3\")"
   ]
  },
  {
   "cell_type": "code",
   "execution_count": 44,
   "id": "31d4e452-b295-4f00-b18d-58ef9da9359f",
   "metadata": {
    "scrolled": true
   },
   "outputs": [
    {
     "data": {
      "text/plain": [
       "count    1.514451e+07\n",
       "mean     1.016327e+03\n",
       "std      6.502375e+00\n",
       "min      1.164900e+02\n",
       "25%      1.012530e+03\n",
       "50%      1.016260e+03\n",
       "75%      1.020320e+03\n",
       "max      1.042330e+03\n",
       "Name: Altimeter_Pressure, dtype: float64"
      ]
     },
     "execution_count": 44,
     "metadata": {},
     "output_type": "execute_result"
    }
   ],
   "source": [
    "df['Altimeter_Pressure'].describe()"
   ]
  },
  {
   "cell_type": "code",
   "execution_count": 49,
   "id": "79f9a2da-d70c-4c3b-849d-e281bd64a7e0",
   "metadata": {},
   "outputs": [
    {
     "data": {
      "text/plain": [
       "40"
      ]
     },
     "execution_count": 49,
     "metadata": {},
     "output_type": "execute_result"
    }
   ],
   "source": [
    "len(df[(df['Altimeter_Pressure']<800)])"
   ]
  },
  {
   "cell_type": "code",
   "execution_count": 50,
   "id": "673ad97e-8716-4f92-8ddc-5013dd7ffdcd",
   "metadata": {},
   "outputs": [],
   "source": [
    "df = df[(df['Altimeter_Pressure']>800)].reset_index(drop=True)"
   ]
  },
  {
   "cell_type": "code",
   "execution_count": 51,
   "id": "5824871a-8ab3-404f-a265-d97285a7dba8",
   "metadata": {},
   "outputs": [
    {
     "name": "stderr",
     "output_type": "stream",
     "text": [
      "/var/folders/ys/snx2hvcx76d5p1xgd394mtlc0000gn/T/ipykernel_2563/1427634310.py:1: FutureWarning: \n",
      "\n",
      "Passing `palette` without assigning `hue` is deprecated and will be removed in v0.14.0. Assign the `x` variable to `hue` and set `legend=False` for the same effect.\n",
      "\n",
      "  sns.boxplot(data=df['Altimeter_Pressure'], palette=\"Set3\")\n"
     ]
    },
    {
     "data": {
      "text/plain": [
       "<Axes: ylabel='Altimeter_Pressure'>"
      ]
     },
     "execution_count": 51,
     "metadata": {},
     "output_type": "execute_result"
    },
    {
     "data": {
      "image/png": "[encoded data removed]",
      "text/plain": [
       "<Figure size 640x480 with 1 Axes>"
      ]
     },
     "metadata": {},
     "output_type": "display_data"
    }
   ],
   "source": [
    "sns.boxplot(data=df['Altimeter_Pressure'], palette=\"Set3\")"
   ]
  },
  {
   "cell_type": "code",
   "execution_count": 45,
   "id": "3c83e44e-79f2-4c8f-9fed-539141c96c41",
   "metadata": {},
   "outputs": [
    {
     "name": "stderr",
     "output_type": "stream",
     "text": [
      "/var/folders/ys/snx2hvcx76d5p1xgd394mtlc0000gn/T/ipykernel_2563/403237622.py:2: FutureWarning: \n",
      "\n",
      "Passing `palette` without assigning `hue` is deprecated and will be removed in v0.14.0. Assign the `x` variable to `hue` and set `legend=False` for the same effect.\n",
      "\n",
      "  sns.boxplot(data=df['Sea_Level_Pressure'], palette=\"Set3\")\n"
     ]
    },
    {
     "data": {
      "text/plain": [
       "<Axes: ylabel='Sea_Level_Pressure'>"
      ]
     },
     "execution_count": 45,
     "metadata": {},
     "output_type": "execute_result"
    },
    {
     "data": {
      "image/png": "[encoded data removed]",
      "text/plain": [
       "<Figure size 1000x600 with 1 Axes>"
      ]
     },
     "metadata": {},
     "output_type": "display_data"
    }
   ],
   "source": [
    "plt.figure(figsize=(10, 6))\n",
    "sns.boxplot(data=df['Sea_Level_Pressure'], palette=\"Set3\")"
   ]
  },
  {
   "cell_type": "code",
   "execution_count": 52,
   "id": "c7cfbc19-7f06-4c2a-a6ff-d4061e97ea2c",
   "metadata": {},
   "outputs": [
    {
     "data": {
      "text/plain": [
       "count    1.514447e+07\n",
       "mean     1.016158e+03\n",
       "std      6.171481e+00\n",
       "min      9.078000e+02\n",
       "25%      1.012800e+03\n",
       "50%      1.016200e+03\n",
       "75%      1.019300e+03\n",
       "max      1.068400e+03\n",
       "Name: Sea_Level_Pressure, dtype: float64"
      ]
     },
     "execution_count": 52,
     "metadata": {},
     "output_type": "execute_result"
    }
   ],
   "source": [
    "df['Sea_Level_Pressure'].describe()"
   ]
  },
  {
   "cell_type": "code",
   "execution_count": 53,
   "id": "dfc5f25f-9544-4efb-9e76-b62eb84e568b",
   "metadata": {
    "scrolled": true
   },
   "outputs": [
    {
     "data": {
      "text/plain": [
       "5"
      ]
     },
     "execution_count": 53,
     "metadata": {},
     "output_type": "execute_result"
    }
   ],
   "source": [
    "len(df[(df['Sea_Level_Pressure']<940)])"
   ]
  },
  {
   "cell_type": "code",
   "execution_count": 54,
   "id": "50b27452-1c0b-48d2-a39e-4c679a1d843d",
   "metadata": {},
   "outputs": [],
   "source": [
    "df = df[(df['Sea_Level_Pressure']>940)].reset_index(drop=True)"
   ]
  },
  {
   "cell_type": "code",
   "execution_count": 39,
   "id": "e43fd095-54e7-455f-ba0e-1195f28b248c",
   "metadata": {},
   "outputs": [
    {
     "name": "stderr",
     "output_type": "stream",
     "text": [
      "/var/folders/ys/snx2hvcx76d5p1xgd394mtlc0000gn/T/ipykernel_2563/1567403905.py:2: FutureWarning: \n",
      "\n",
      "Passing `palette` without assigning `hue` is deprecated and will be removed in v0.14.0. Assign the `x` variable to `hue` and set `legend=False` for the same effect.\n",
      "\n",
      "  sns.boxplot(data=df['Visibility'], palette=\"Set3\")\n"
     ]
    },
    {
     "data": {
      "text/plain": [
       "<Axes: ylabel='Visibility'>"
      ]
     },
     "execution_count": 39,
     "metadata": {},
     "output_type": "execute_result"
    },
    {
     "data": {
      "image/png": "[encoded data removed]",
      "text/plain": [
       "<Figure size 1000x600 with 1 Axes>"
      ]
     },
     "metadata": {},
     "output_type": "display_data"
    }
   ],
   "source": [
    "plt.figure(figsize=(10, 6))\n",
    "sns.boxplot(data=df['Visibility'], palette=\"Set3\")"
   ]
  },
  {
   "cell_type": "code",
   "execution_count": 56,
   "id": "963e43e4-35c0-4371-b955-35bcf556d17e",
   "metadata": {},
   "outputs": [
    {
     "data": {
      "text/plain": [
       "3093"
      ]
     },
     "execution_count": 56,
     "metadata": {},
     "output_type": "execute_result"
    }
   ],
   "source": [
    "len(df[(df['Visibility']<3.0)])"
   ]
  },
  {
   "cell_type": "code",
   "execution_count": 40,
   "id": "ae0d72a6-3fda-4629-ac18-0e0d820416c8",
   "metadata": {},
   "outputs": [
    {
     "name": "stderr",
     "output_type": "stream",
     "text": [
      "/var/folders/ys/snx2hvcx76d5p1xgd394mtlc0000gn/T/ipykernel_2563/2151332524.py:2: FutureWarning: \n",
      "\n",
      "Passing `palette` without assigning `hue` is deprecated and will be removed in v0.14.0. Assign the `x` variable to `hue` and set `legend=False` for the same effect.\n",
      "\n",
      "  sns.boxplot(data=df['Wind_Speed'], palette=\"Set3\")\n"
     ]
    },
    {
     "data": {
      "text/plain": [
       "<Axes: ylabel='Wind_Speed'>"
      ]
     },
     "execution_count": 40,
     "metadata": {},
     "output_type": "execute_result"
    },
    {
     "data": {
      "image/png": "[encoded data removed]",
      "text/plain": [
       "<Figure size 1000x600 with 1 Axes>"
      ]
     },
     "metadata": {},
     "output_type": "display_data"
    }
   ],
   "source": [
    "plt.figure(figsize=(10, 6))\n",
    "sns.boxplot(data=df['Wind_Speed'], palette=\"Set3\")"
   ]
  },
  {
   "cell_type": "code",
   "execution_count": 57,
   "id": "34dba8ad-b114-4cd8-b7c6-54bada7314c4",
   "metadata": {},
   "outputs": [
    {
     "data": {
      "text/plain": [
       "count    1.514447e+07\n",
       "mean     9.068772e+00\n",
       "std      5.421865e+00\n",
       "min      0.000000e+00\n",
       "25%      5.750000e+00\n",
       "50%      8.060000e+00\n",
       "75%      1.266000e+01\n",
       "max      2.819400e+02\n",
       "Name: Wind_Speed, dtype: float64"
      ]
     },
     "execution_count": 57,
     "metadata": {},
     "output_type": "execute_result"
    }
   ],
   "source": [
    "df['Wind_Speed'].describe()"
   ]
  },
  {
   "cell_type": "code",
   "execution_count": 58,
   "id": "1aa41e71-5b4b-4bc9-88eb-cdb11841159e",
   "metadata": {},
   "outputs": [
    {
     "data": {
      "text/plain": [
       "22"
      ]
     },
     "execution_count": 58,
     "metadata": {},
     "output_type": "execute_result"
    }
   ],
   "source": [
    "len(df[(df['Wind_Speed']>100)])"
   ]
  },
  {
   "cell_type": "code",
   "execution_count": 59,
   "id": "cb2b8e05-06e7-41c0-a90c-95f437d87e7f",
   "metadata": {},
   "outputs": [
    {
     "data": {
      "text/plain": [
       "<Axes: xlabel='Wind_Speed', ylabel='Count'>"
      ]
     },
     "execution_count": 59,
     "metadata": {},
     "output_type": "execute_result"
    },
    {
     "data": {
      "image/png": "[encoded data removed]",
      "text/plain": [
       "<Figure size 640x480 with 1 Axes>"
      ]
     },
     "metadata": {},
     "output_type": "display_data"
    }
   ],
   "source": [
    "sns.histplot(df['Wind_Speed'])"
   ]
  },
  {
   "cell_type": "code",
   "execution_count": 60,
   "id": "7002ffb1-779a-4bc6-8072-2b8135786fd0",
   "metadata": {},
   "outputs": [],
   "source": [
    "df = df[(df['Wind_Speed']<100)].reset_index(drop=True)"
   ]
  },
  {
   "cell_type": "code",
   "execution_count": 41,
   "id": "1b9cde21-77e5-40e7-96b4-d262eba3a30a",
   "metadata": {},
   "outputs": [
    {
     "name": "stderr",
     "output_type": "stream",
     "text": [
      "/var/folders/ys/snx2hvcx76d5p1xgd394mtlc0000gn/T/ipykernel_2563/812265657.py:2: FutureWarning: \n",
      "\n",
      "Passing `palette` without assigning `hue` is deprecated and will be removed in v0.14.0. Assign the `x` variable to `hue` and set `legend=False` for the same effect.\n",
      "\n",
      "  sns.boxplot(data=df['Wind_Gust'], palette=\"Set3\")\n"
     ]
    },
    {
     "data": {
      "text/plain": [
       "<Axes: ylabel='Wind_Gust'>"
      ]
     },
     "execution_count": 41,
     "metadata": {},
     "output_type": "execute_result"
    },
    {
     "data": {
      "image/png": "[encoded data removed]",
      "text/plain": [
       "<Figure size 1000x600 with 1 Axes>"
      ]
     },
     "metadata": {},
     "output_type": "display_data"
    }
   ],
   "source": [
    "plt.figure(figsize=(10, 6))\n",
    "sns.boxplot(data=df['Wind_Gust'], palette=\"Set3\")"
   ]
  },
  {
   "cell_type": "code",
   "execution_count": 62,
   "id": "d3697df4-6ea0-4235-91f8-e0391a0e21a5",
   "metadata": {},
   "outputs": [
    {
     "data": {
      "text/plain": [
       "count    1.514445e+07\n",
       "mean     2.608713e+01\n",
       "std      3.098732e+00\n",
       "min      9.210000e+00\n",
       "25%      2.474000e+01\n",
       "50%      2.624000e+01\n",
       "75%      2.762000e+01\n",
       "max      9.667000e+01\n",
       "Name: Wind_Gust, dtype: float64"
      ]
     },
     "execution_count": 62,
     "metadata": {},
     "output_type": "execute_result"
    }
   ],
   "source": [
    "df['Wind_Gust'].describe()"
   ]
  },
  {
   "cell_type": "code",
   "execution_count": 63,
   "id": "37d74231-debf-4508-84fc-f9e21548ecd9",
   "metadata": {},
   "outputs": [
    {
     "data": {
      "text/plain": [
       "129"
      ]
     },
     "execution_count": 63,
     "metadata": {},
     "output_type": "execute_result"
    }
   ],
   "source": [
    "len(df[(df['Wind_Gust']>80)])"
   ]
  },
  {
   "cell_type": "code",
   "execution_count": 66,
   "id": "9cd3ecba-5525-4ffc-b7c7-279dbabba0a6",
   "metadata": {},
   "outputs": [],
   "source": [
    "df = df[(df['Wind_Gust']<80)].reset_index(drop=True)"
   ]
  },
  {
   "cell_type": "code",
   "execution_count": 42,
   "id": "d52968ea-ee1d-4523-a7bf-a5f4a133e6b0",
   "metadata": {},
   "outputs": [
    {
     "name": "stderr",
     "output_type": "stream",
     "text": [
      "/var/folders/ys/snx2hvcx76d5p1xgd394mtlc0000gn/T/ipykernel_2563/4000517995.py:2: FutureWarning: \n",
      "\n",
      "Passing `palette` without assigning `hue` is deprecated and will be removed in v0.14.0. Assign the `x` variable to `hue` and set `legend=False` for the same effect.\n",
      "\n",
      "  sns.boxplot(data=df['Precipitation'], palette=\"Set3\")\n"
     ]
    },
    {
     "data": {
      "text/plain": [
       "<Axes: ylabel='Precipitation'>"
      ]
     },
     "execution_count": 42,
     "metadata": {},
     "output_type": "execute_result"
    },
    {
     "data": {
      "image/png": "[encoded data removed]",
      "text/plain": [
       "<Figure size 1000x600 with 1 Axes>"
      ]
     },
     "metadata": {},
     "output_type": "display_data"
    }
   ],
   "source": [
    "plt.figure(figsize=(10, 6))\n",
    "sns.boxplot(data=df['Precipitation'], palette=\"Set3\")"
   ]
  },
  {
   "cell_type": "code",
   "execution_count": 70,
   "id": "dc80395f-414d-4d0c-8d20-ae55a836dfc1",
   "metadata": {},
   "outputs": [
    {
     "data": {
      "text/plain": [
       "count    1.514432e+07\n",
       "mean     1.739696e-01\n",
       "std      1.295223e+00\n",
       "min      0.000000e+00\n",
       "25%      0.000000e+00\n",
       "50%      0.000000e+00\n",
       "75%      0.000000e+00\n",
       "max      8.230000e+01\n",
       "Name: Precipitation, dtype: float64"
      ]
     },
     "execution_count": 70,
     "metadata": {},
     "output_type": "execute_result"
    }
   ],
   "source": [
    "df['Precipitation'].describe()"
   ]
  },
  {
   "cell_type": "code",
   "execution_count": 68,
   "id": "7068b061-a137-43c1-8ef9-0046bb42944f",
   "metadata": {},
   "outputs": [
    {
     "data": {
      "text/plain": [
       "12"
      ]
     },
     "execution_count": 68,
     "metadata": {},
     "output_type": "execute_result"
    }
   ],
   "source": [
    "len(df[(df['Precipitation']>80)])"
   ]
  },
  {
   "cell_type": "code",
   "execution_count": 71,
   "id": "ae7e5c8e-1e10-4759-ad58-777192ecb97e",
   "metadata": {},
   "outputs": [],
   "source": [
    "df = df[(df['Precipitation']<80)].reset_index(drop=True)"
   ]
  },
  {
   "cell_type": "code",
   "execution_count": 43,
   "id": "36996ebd-5532-40cb-9fb4-fe650bd950c8",
   "metadata": {},
   "outputs": [
    {
     "name": "stderr",
     "output_type": "stream",
     "text": [
      "/var/folders/ys/snx2hvcx76d5p1xgd394mtlc0000gn/T/ipykernel_2563/707499276.py:2: FutureWarning: \n",
      "\n",
      "Passing `palette` without assigning `hue` is deprecated and will be removed in v0.14.0. Assign the `x` variable to `hue` and set `legend=False` for the same effect.\n",
      "\n",
      "  sns.boxplot(data=df['Ice_Accretion_3hr'], palette=\"Set3\")\n"
     ]
    },
    {
     "data": {
      "text/plain": [
       "<Axes: ylabel='Ice_Accretion_3hr'>"
      ]
     },
     "execution_count": 43,
     "metadata": {},
     "output_type": "execute_result"
    },
    {
     "data": {
      "image/png": "[encoded data removed]",
      "text/plain": [
       "<Figure size 1000x600 with 1 Axes>"
      ]
     },
     "metadata": {},
     "output_type": "display_data"
    }
   ],
   "source": [
    "plt.figure(figsize=(10, 6))\n",
    "sns.boxplot(data=df['Ice_Accretion_3hr'], palette=\"Set3\")"
   ]
  },
  {
   "cell_type": "code",
   "execution_count": 72,
   "id": "15a2b79d-abd4-4f6c-9d47-6fb2679b5943",
   "metadata": {},
   "outputs": [
    {
     "data": {
      "text/plain": [
       "22"
      ]
     },
     "execution_count": 72,
     "metadata": {},
     "output_type": "execute_result"
    }
   ],
   "source": [
    "len(df[(df['Ice_Accretion_3hr']>6)])"
   ]
  },
  {
   "cell_type": "code",
   "execution_count": 73,
   "id": "f304dc51-e818-4b4f-a948-34df2bef4d4f",
   "metadata": {},
   "outputs": [],
   "source": [
    "df = df[(df['Ice_Accretion_3hr']<6)].reset_index(drop=True)"
   ]
  },
  {
   "cell_type": "markdown",
   "id": "6ac8a676-0136-4361-9979-9808b34a8384",
   "metadata": {},
   "source": [
    "#### Changing Time column to datetime format and splitting to Day, Month, Year and Time columns"
   ]
  },
  {
   "cell_type": "code",
   "execution_count": 76,
   "id": "a2a8fb24-c296-48c2-8003-18858db94ba8",
   "metadata": {},
   "outputs": [],
   "source": [
    "df['Time'] = pd.to_datetime(df['Time'], format=\"%Y-%m-%d %H:%M:%S\")"
   ]
  },
  {
   "cell_type": "code",
   "execution_count": 77,
   "id": "0a5e4ab5-e1f8-4838-a4cf-9aee80d1b1a8",
   "metadata": {},
   "outputs": [],
   "source": [
    "df['Day_of_Week'] = df['Time'].dt.dayofweek\n",
    "df['Month'] = df['Time'].dt.month\n",
    "df['Year'] = df['Time'].dt.year             \n",
    "df['Time_of_Day'] = df['Time'].dt.time"
   ]
  },
  {
   "cell_type": "markdown",
   "id": "4e0f88c9-8e7f-49ee-a876-2ca26be0cbd0",
   "metadata": {},
   "source": [
    "QA check to see if format used was correct and columns created"
   ]
  },
  {
   "cell_type": "code",
   "execution_count": 81,
   "id": "48082739-60ff-4822-8ba4-cb679bc2a923",
   "metadata": {},
   "outputs": [
    {
     "data": {
      "text/plain": [
       "array([4, 5, 6, 0, 1, 2, 3], dtype=int32)"
      ]
     },
     "execution_count": 81,
     "metadata": {},
     "output_type": "execute_result"
    }
   ],
   "source": [
    "df['Day_of_Week'].unique()"
   ]
  },
  {
   "cell_type": "code",
   "execution_count": 79,
   "id": "031d7ac2-eeec-457c-8cf5-bb20757d28c5",
   "metadata": {},
   "outputs": [
    {
     "data": {
      "text/plain": [
       "array([ 1,  2, 10, 11, 12,  3,  4,  5,  6,  7,  8,  9], dtype=int32)"
      ]
     },
     "execution_count": 79,
     "metadata": {},
     "output_type": "execute_result"
    }
   ],
   "source": [
    "df['Month'].unique()"
   ]
  },
  {
   "cell_type": "code",
   "execution_count": 80,
   "id": "b15c2615-bb31-4678-a36d-19b835d03991",
   "metadata": {},
   "outputs": [
    {
     "data": {
      "text/plain": [
       "Index(['Time', 'Origin', 'Dest', 'Carrier', 'Cancelled', 'CancellationReason',\n",
       "       'Delayed', 'DepDelayMinutes', 'CarrierDelay', 'Weather_Delay_Length',\n",
       "       'NASDelay', 'SecurityDelay', 'LateAircraftDelay', 'Temperature',\n",
       "       'Feels_Like_Temperature', 'Altimeter_Pressure', 'Sea_Level_Pressure',\n",
       "       'Visibility', 'Wind_Speed', 'Wind_Gust', 'Precipitation',\n",
       "       'Ice_Accretion_3hr', 'Day_of_Week', 'Month', 'Year', 'Time_of_Day'],\n",
       "      dtype='object')"
      ]
     },
     "execution_count": 80,
     "metadata": {},
     "output_type": "execute_result"
    }
   ],
   "source": [
    "df.columns"
   ]
  },
  {
   "cell_type": "markdown",
   "id": "979fc3d4-e5ae-4d4e-9df4-c687876b890c",
   "metadata": {},
   "source": [
    "#### Create the column for prediction goal (y_pred)"
   ]
  },
  {
   "cell_type": "code",
   "execution_count": 82,
   "id": "5f9cf72d-a896-4704-966a-d0bb08fbe369",
   "metadata": {},
   "outputs": [
    {
     "data": {
      "text/plain": [
       "count    1.514428e+07\n",
       "mean     1.172161e+00\n",
       "std      1.632981e+01\n",
       "min      0.000000e+00\n",
       "25%      0.000000e+00\n",
       "50%      0.000000e+00\n",
       "75%      0.000000e+00\n",
       "max      1.805000e+03\n",
       "Name: Weather_Delay_Length, dtype: float64"
      ]
     },
     "execution_count": 82,
     "metadata": {},
     "output_type": "execute_result"
    }
   ],
   "source": [
    "df['Weather_Delay_Length'].describe()"
   ]
  },
  {
   "cell_type": "code",
   "execution_count": 83,
   "id": "4d4edcf7-00b9-450c-b804-e0911ccab279",
   "metadata": {},
   "outputs": [],
   "source": [
    "df['Weather_Delayed'] = df['Weather_Delay_Length'] > 0"
   ]
  },
  {
   "cell_type": "code",
   "execution_count": 84,
   "id": "432bd3cf-cb1e-4536-b002-18a162fd0b4e",
   "metadata": {},
   "outputs": [
    {
     "data": {
      "text/plain": [
       "count     15144284\n",
       "unique           2\n",
       "top          False\n",
       "freq      14869339\n",
       "Name: Weather_Delayed, dtype: object"
      ]
     },
     "execution_count": 84,
     "metadata": {},
     "output_type": "execute_result"
    }
   ],
   "source": [
    "df['Weather_Delayed'].describe()"
   ]
  },
  {
   "cell_type": "code",
   "execution_count": 85,
   "id": "d7865fb4-5f49-41b8-8ae2-b20fed558f42",
   "metadata": {},
   "outputs": [],
   "source": [
    "preprocessed_df = df"
   ]
  },
  {
   "cell_type": "code",
   "execution_count": 88,
   "id": "32a01de3-9646-4cfa-b974-761f830fd79a",
   "metadata": {},
   "outputs": [
    {
     "data": {
      "text/plain": [
       "Index(['Time', 'Origin', 'Dest', 'Carrier', 'Cancelled', 'CancellationReason',\n",
       "       'Delayed', 'DepDelayMinutes', 'CarrierDelay', 'Weather_Delay_Length',\n",
       "       'NASDelay', 'SecurityDelay', 'LateAircraftDelay', 'Temperature',\n",
       "       'Feels_Like_Temperature', 'Altimeter_Pressure', 'Sea_Level_Pressure',\n",
       "       'Visibility', 'Wind_Speed', 'Wind_Gust', 'Precipitation',\n",
       "       'Ice_Accretion_3hr', 'Day_of_Week', 'Month', 'Year', 'Time_of_Day',\n",
       "       'Weather_Delayed'],\n",
       "      dtype='object')"
      ]
     },
     "execution_count": 88,
     "metadata": {},
     "output_type": "execute_result"
    }
   ],
   "source": [
    "preprocessed_df.columns"
   ]
  },
  {
   "cell_type": "markdown",
   "id": "b6f58436-bfe7-435c-9477-6de2853e0990",
   "metadata": {},
   "source": [
    "### Train and Test Split"
   ]
  },
  {
   "cell_type": "markdown",
   "id": "e818b154-022d-42f1-8997-421eb3346f52",
   "metadata": {},
   "source": [
    "The dataset will be split into train and test sections *before* Scaling and Balancing, due to the imbalanced nature of our dataset."
   ]
  },
  {
   "cell_type": "markdown",
   "id": "8b7efcb0-f71f-4887-be08-1d8e119b2f5a",
   "metadata": {},
   "source": [
    "Define X and y"
   ]
  },
  {
   "cell_type": "code",
   "execution_count": 95,
   "id": "d6a3bd85-0a47-4964-8332-cb19f2210698",
   "metadata": {},
   "outputs": [],
   "source": [
    "X = preprocessed_df.drop(columns = ['Delayed', 'DepDelayMinutes', 'Weather_Delayed', 'Weather_Delay_Length'])"
   ]
  },
  {
   "cell_type": "code",
   "execution_count": 96,
   "id": "6a8a861a-813a-497b-bdc7-a0ecc5908769",
   "metadata": {},
   "outputs": [
    {
     "data": {
      "text/plain": [
       "Index(['Time', 'Origin', 'Dest', 'Carrier', 'Cancelled', 'CancellationReason',\n",
       "       'CarrierDelay', 'NASDelay', 'SecurityDelay', 'LateAircraftDelay',\n",
       "       'Temperature', 'Feels_Like_Temperature', 'Altimeter_Pressure',\n",
       "       'Sea_Level_Pressure', 'Visibility', 'Wind_Speed', 'Wind_Gust',\n",
       "       'Precipitation', 'Ice_Accretion_3hr', 'Day_of_Week', 'Month', 'Year',\n",
       "       'Time_of_Day'],\n",
       "      dtype='object')"
      ]
     },
     "execution_count": 96,
     "metadata": {},
     "output_type": "execute_result"
    }
   ],
   "source": [
    "X.columns"
   ]
  },
  {
   "cell_type": "code",
   "execution_count": 90,
   "id": "5c53ef12-b955-49e2-818c-bcf16ca1cb55",
   "metadata": {},
   "outputs": [],
   "source": [
    "y = preprocessed_df['Weather_Delayed']"
   ]
  },
  {
   "cell_type": "markdown",
   "id": "e717fd4d-f47f-4fa9-94f3-e3d2c1425bd2",
   "metadata": {},
   "source": [
    "Split the dataset while maintaining the class distribution"
   ]
  },
  {
   "cell_type": "code",
   "execution_count": 93,
   "id": "a5b2406d-edec-4a61-83ef-e23357c6db84",
   "metadata": {},
   "outputs": [],
   "source": [
    "X_train, X_test, y_train, y_test = train_test_split(\n",
    "    X, y, test_size=0.2, random_state=42, stratify=y\n",
    ")"
   ]
  },
  {
   "cell_type": "markdown",
   "id": "6e251a23-4479-4dd5-868f-fee9965bcf8f",
   "metadata": {},
   "source": [
    "Verify the distribution"
   ]
  },
  {
   "cell_type": "code",
   "execution_count": 94,
   "id": "71cbe3e3-73c6-4584-a78c-ec3abefe9c52",
   "metadata": {},
   "outputs": [
    {
     "name": "stdout",
     "output_type": "stream",
     "text": [
      "Original dataset class distribution:\n",
      "Weather_Delayed\n",
      "False    0.981845\n",
      "True     0.018155\n",
      "Name: proportion, dtype: float64\n",
      "\n",
      "Training set class distribution:\n",
      "Weather_Delayed\n",
      "False    0.981845\n",
      "True     0.018155\n",
      "Name: proportion, dtype: float64\n",
      "\n",
      "Test set class distribution:\n",
      "Weather_Delayed\n",
      "False    0.981845\n",
      "True     0.018155\n",
      "Name: proportion, dtype: float64\n"
     ]
    }
   ],
   "source": [
    "print(\"Original dataset class distribution:\")\n",
    "print(pd.Series(y).value_counts(normalize=True))\n",
    "\n",
    "print(\"\\nTraining set class distribution:\")\n",
    "print(pd.Series(y_train).value_counts(normalize=True))\n",
    "\n",
    "print(\"\\nTest set class distribution:\")\n",
    "print(pd.Series(y_test).value_counts(normalize=True))"
   ]
  },
  {
   "cell_type": "markdown",
   "id": "06d43a0a-549c-4fbb-b289-953094f012d4",
   "metadata": {},
   "source": [
    "### Scaling"
   ]
  },
  {
   "cell_type": "code",
   "execution_count": null,
   "id": "b3dead01-3c94-4a13-9f11-6b1256a8ea58",
   "metadata": {},
   "outputs": [],
   "source": []
  },
  {
   "cell_type": "markdown",
   "id": "fe1b7804-1a6e-4d32-a2c2-c08c676f2de0",
   "metadata": {},
   "source": [
    "### Balancing"
   ]
  },
  {
   "cell_type": "code",
   "execution_count": null,
   "id": "75c7663b-bb74-45c9-b204-5773e89086de",
   "metadata": {},
   "outputs": [],
   "source": []
  },
  {
   "cell_type": "code",
   "execution_count": null,
   "id": "9bac593c-c722-4f83-b7c6-3afebed8870b",
   "metadata": {},
   "outputs": [],
   "source": []
  }
 ],
 "metadata": {
  "kernelspec": {
   "display_name": "Python 3 (ipykernel)",
   "language": "python",
   "name": "python3"
  },
  "language_info": {
   "codemirror_mode": {
    "name": "ipython",
    "version": 3
   },
   "file_extension": ".py",
   "mimetype": "text/x-python",
   "name": "python",
   "nbconvert_exporter": "python",
   "pygments_lexer": "ipython3",
   "version": "3.10.6"
  }
 },
 "nbformat": 4,
 "nbformat_minor": 5
}
