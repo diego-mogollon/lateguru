{
 "cells": [
  {
   "cell_type": "markdown",
   "id": "eae3b0ee-9591-418c-bfee-89bcd1aa5941",
   "metadata": {},
   "source": [
    "# Data modelling"
   ]
  },
  {
   "cell_type": "code",
   "execution_count": 1,
   "id": "38520ffe-41f5-46df-a6da-5200094c768a",
   "metadata": {},
   "outputs": [],
   "source": [
    "# Import libraries\n",
    "\n",
    "import pandas as pd\n",
    "import numpy as np\n",
    "import matplotlib.pyplot as plt\n",
    "import seaborn as sns\n",
    "import os\n",
    "import tensorflow as tf\n",
    "import shap\n",
    "\n",
    "from scipy import stats\n",
    "\n",
    "from sklearn.compose import ColumnTransformer\n",
    "from sklearn.impute import SimpleImputer\n",
    "from sklearn.pipeline import Pipeline\n",
    "from sklearn.preprocessing import StandardScaler, RobustScaler, MinMaxScaler, OneHotEncoder\n",
    "from sklearn.model_selection import GridSearchCV, StratifiedKFold\n",
    "from sklearn.model_selection import train_test_split\n",
    "from sklearn.ensemble import RandomForestClassifier\n",
    "from sklearn.metrics import f1_score, recall_score, roc_auc_score, confusion_matrix, classification_report\n",
    "\n",
    "from imblearn.over_sampling import SMOTE, ADASYN\n",
    "from imblearn.under_sampling import RandomUnderSampler\n",
    "from imblearn.pipeline import Pipeline as ImbPipeline\n",
    "\n",
    "from tensorflow.keras import layers, models, regularizers\n",
    "from tensorflow.keras.callbacks import EarlyStopping, ReduceLROnPlateau\n",
    "\n",
    "import lightgbm as lgb"
   ]
  },
  {
   "cell_type": "markdown",
   "id": "cb49199e-1e22-4f94-ab24-ddca0a526e82",
   "metadata": {},
   "source": [
    "## Load preprocessed dataset as agreed by group"
   ]
  },
  {
   "cell_type": "code",
   "execution_count": 2,
   "id": "ca58a63a-e999-4627-8109-114cbb1e238b",
   "metadata": {},
   "outputs": [
    {
     "name": "stdout",
     "output_type": "stream",
     "text": [
      "                  Time Origin Dest                 Carrier  Cancelled  \\\n",
      "0  2021-01-01 09:00:00    LAX  JFK  American Airlines Inc.      False   \n",
      "1  2021-01-02 09:00:00    LAX  JFK  American Airlines Inc.      False   \n",
      "2  2021-01-03 09:00:00    LAX  JFK  American Airlines Inc.      False   \n",
      "3  2021-01-03 09:00:00    LAX  JFK  American Airlines Inc.      False   \n",
      "4  2021-01-04 09:00:00    LAX  JFK  American Airlines Inc.      False   \n",
      "\n",
      "  CancellationReason  Delayed  DepDelayMinutes  CarrierDelay  \\\n",
      "0      Not Cancelled    False              0.0           0.0   \n",
      "1      Not Cancelled     True              2.0           0.0   \n",
      "2      Not Cancelled     True             25.0          28.0   \n",
      "3      Not Cancelled     True             25.0          28.0   \n",
      "4      Not Cancelled    False              0.0           0.0   \n",
      "\n",
      "   Weather_Delay_Length  ...  Temperature  Feels_Like_Temperature  \\\n",
      "0                   0.0  ...         56.0                    55.9   \n",
      "1                   0.0  ...         54.0                    54.0   \n",
      "2                   0.0  ...         52.0                    52.0   \n",
      "3                   0.0  ...         53.0                    53.1   \n",
      "4                   0.0  ...         51.0                    51.1   \n",
      "\n",
      "   Altimeter_Pressure  Sea_Level_Pressure  Visibility  Wind_Speed  Wind_Gust  \\\n",
      "0             1020.32              1020.1    16093.40         0.0      24.97   \n",
      "1             1025.74              1025.5    16093.40         0.0      24.97   \n",
      "2             1024.38              1015.2     4828.02         4.6      24.97   \n",
      "3             1024.38              1024.1     6437.36         4.6      24.97   \n",
      "4             1023.03              1015.2     6437.36         4.6      24.97   \n",
      "\n",
      "   Precipitation  Ice_Accretion_3hr  Weather_Delayed  \n",
      "0            0.0                0.0                0  \n",
      "1            0.0                0.0                0  \n",
      "2            0.0                0.0                0  \n",
      "3            0.0                0.0                0  \n",
      "4            0.0                0.0                0  \n",
      "\n",
      "[5 rows x 23 columns]\n"
     ]
    }
   ],
   "source": [
    "# Load preprocessed data set from /data folder\n",
    "current_dir = os.getcwd()\n",
    "base_dir = os.path.abspath(os.path.join(current_dir, \"..\", \"data\"))\n",
    "file_path = os.path.join(base_dir, \"preprocessed_treated_outliers.csv\")\n",
    "    \n",
    "preprocessed_df = pd.read_csv(file_path)\n",
    "\n",
    "print(preprocessed_df.head())"
   ]
  },
  {
   "cell_type": "code",
   "execution_count": 3,
   "id": "f039427d-c926-4781-8962-5f43d1a15270",
   "metadata": {},
   "outputs": [
    {
     "name": "stdout",
     "output_type": "stream",
     "text": [
      "Data type of 'Time': object\n",
      "After conversion, Data type of 'Time': datetime64[ns]\n"
     ]
    }
   ],
   "source": [
    "# Check the datatype of the 'Time' column\n",
    "print(f\"Data type of 'Time': {preprocessed_df['Time'].dtype}\")\n",
    "\n",
    "# If not datetime, convert it to datetime\n",
    "if not pd.api.types.is_datetime64_any_dtype(preprocessed_df['Time']):\n",
    "    preprocessed_df['Time'] = pd.to_datetime(preprocessed_df['Time'])\n",
    "    print(f\"After conversion, Data type of 'Time': {preprocessed_df['Time'].dtype}\")"
   ]
  },
  {
   "cell_type": "code",
   "execution_count": 4,
   "id": "7d476939-4816-4ded-9f61-68480dff4c04",
   "metadata": {},
   "outputs": [],
   "source": [
    "# Extract hour, day of the week, and month from the Time column\n",
    "preprocessed_df['Hour'] = preprocessed_df['Time'].dt.hour\n",
    "preprocessed_df['Day_Of_Week'] = preprocessed_df['Time'].dt.dayofweek\n",
    "preprocessed_df['Month'] = preprocessed_df['Time'].dt.month"
   ]
  },
  {
   "cell_type": "markdown",
   "id": "c8de422c-f918-4a15-9ddf-1d37e5f16515",
   "metadata": {},
   "source": [
    "## Train and Test split"
   ]
  },
  {
   "cell_type": "code",
   "execution_count": 5,
   "id": "6619e7dc-0af8-4f11-901d-84dd735c83e1",
   "metadata": {},
   "outputs": [
    {
     "data": {
      "text/plain": [
       "Index(['Time', 'Origin', 'Dest', 'Carrier', 'Cancelled', 'CancellationReason',\n",
       "       'Delayed', 'DepDelayMinutes', 'CarrierDelay', 'Weather_Delay_Length',\n",
       "       'NASDelay', 'SecurityDelay', 'LateAircraftDelay', 'Temperature',\n",
       "       'Feels_Like_Temperature', 'Altimeter_Pressure', 'Sea_Level_Pressure',\n",
       "       'Visibility', 'Wind_Speed', 'Wind_Gust', 'Precipitation',\n",
       "       'Ice_Accretion_3hr', 'Weather_Delayed', 'Hour', 'Day_Of_Week', 'Month'],\n",
       "      dtype='object')"
      ]
     },
     "execution_count": 5,
     "metadata": {},
     "output_type": "execute_result"
    }
   ],
   "source": [
    "preprocessed_df.columns"
   ]
  },
  {
   "cell_type": "code",
   "execution_count": 6,
   "id": "bdb11f4b-0a18-477e-87d6-4bdb5017e768",
   "metadata": {},
   "outputs": [],
   "source": [
    "# Define X and y_pred. Drop all delay columns from X (as per group decision) and 'Delayed' is the new y_pred.\n",
    "X = preprocessed_df.drop(columns=[\n",
    "    'Time', 'Cancelled', 'CancellationReason', 'Delayed', \n",
    "    'DepDelayMinutes', 'CarrierDelay', 'Weather_Delay_Length', \n",
    "    'NASDelay', 'SecurityDelay', 'LateAircraftDelay',\n",
    "    'Weather_Delayed'\n",
    "    ])\n",
    "y = preprocessed_df['Delayed']"
   ]
  },
  {
   "cell_type": "code",
   "execution_count": 7,
   "id": "2cfc98fa-90cc-4a9b-ab1d-a1e0d5e85f6d",
   "metadata": {},
   "outputs": [
    {
     "data": {
      "text/plain": [
       "Index(['Origin', 'Dest', 'Carrier', 'Temperature', 'Feels_Like_Temperature',\n",
       "       'Altimeter_Pressure', 'Sea_Level_Pressure', 'Visibility', 'Wind_Speed',\n",
       "       'Wind_Gust', 'Precipitation', 'Ice_Accretion_3hr', 'Hour',\n",
       "       'Day_Of_Week', 'Month'],\n",
       "      dtype='object')"
      ]
     },
     "execution_count": 7,
     "metadata": {},
     "output_type": "execute_result"
    }
   ],
   "source": [
    "# Checking columns of X\n",
    "X.columns"
   ]
  },
  {
   "cell_type": "code",
   "execution_count": 8,
   "id": "a0b31baa-4c81-43a4-87f4-ade944fe75d1",
   "metadata": {},
   "outputs": [],
   "source": [
    "# Train/test split of preprocessed_df while keeping ratio\n",
    "X_train, X_test, y_train, y_test = train_test_split(\n",
    "    X, y, \n",
    "    test_size=0.2, # 80% train, 20% test\n",
    "    random_state=42, # Reproducibility\n",
    "    stratify=y # # Maintain the class distribution\n",
    ")"
   ]
  },
  {
   "cell_type": "code",
   "execution_count": 9,
   "id": "d6944276-9f6e-4c9a-a5ad-cecf58401b50",
   "metadata": {},
   "outputs": [],
   "source": [
    "# Sample only 10% of the data for quick testing\n",
    "X_sample, _, y_sample, _ = train_test_split(\n",
    "    X, y, \n",
    "    test_size=0.9,  # Keep only 10% for the sample\n",
    "    random_state=42, # Reproducibility\n",
    "    stratify=y  # Maintain the class distribution\n",
    ")"
   ]
  },
  {
   "cell_type": "code",
   "execution_count": 10,
   "id": "302cd983-44fe-42ba-857d-483385525ffa",
   "metadata": {},
   "outputs": [],
   "source": [
    "# Split the sampled data into train and test sets\n",
    "X_train_sample, X_test_sample, y_train_sample, y_test_sample = train_test_split(\n",
    "    X_sample, y_sample, \n",
    "    test_size=0.2,  # 80% train, 20% test\n",
    "    random_state=42, # Reproducibility\n",
    "    stratify=y_sample  # Maintain the class distribution in the split\n",
    ")"
   ]
  },
  {
   "cell_type": "code",
   "execution_count": 13,
   "id": "ed31263e-0066-44dd-9119-851dad5defa9",
   "metadata": {},
   "outputs": [],
   "source": [
    "# Define the categorical and numerical features\n",
    "categorical_features = ['Origin', 'Dest', 'Carrier']\n",
    "numerical_features = ['Temperature', 'Feels_Like_Temperature', 'Altimeter_Pressure', \n",
    "                    'Sea_Level_Pressure', 'Visibility', 'Wind_Speed',\n",
    "                    'Wind_Gust', 'Precipitation', 'Ice_Accretion_3hr', \n",
    "                    'Hour', 'Day_Of_Week', 'Month']\n",
    "\n",
    "# Define the preprocessing pipeline\n",
    "preprocessor = ColumnTransformer(\n",
    "    transformers=[\n",
    "        ('num', StandardScaler(), numerical_features),\n",
    "        ('cat', OneHotEncoder(), categorical_features)\n",
    "    ]\n",
    ")\n",
    "\n",
    "# Fit the preprocessor on the training data and transform both the training and test data\n",
    "X_train_transformed = preprocessor.fit_transform(X_train_sample)\n",
    "X_test_transformed = preprocessor.transform(X_test_sample)\n",
    "\n",
    "# Get the feature names from the OneHotEncoder and combine with numerical features\n",
    "ohe = preprocessor.named_transformers_['cat']\n",
    "ohe_feature_names = ohe.get_feature_names_out(categorical_features)\n",
    "\n",
    "# Combine numerical feature names with the one-hot encoded feature names\n",
    "all_feature_names = numerical_features + list(ohe_feature_names)\n",
    "\n",
    "# Now, X_train_transformed and X_test_transformed are ready for model training\n",
    "# all_feature_names contains the correct feature names to be used for plotting or analysis when evaluating the trained model"
   ]
  },
  {
   "cell_type": "code",
   "execution_count": 16,
   "id": "49485c17-250e-45a3-8087-f1514cffbeda",
   "metadata": {},
   "outputs": [],
   "source": [
    "# # Apply SMOTE to balance the training data\n",
    "# smote = SMOTE(random_state=42)\n",
    "# X_train_balanced, y_train_balanced = smote.fit_resample(X_train_transformed, y_train_sample)"
   ]
  },
  {
   "cell_type": "markdown",
   "id": "922da497-0fe1-407c-964c-723370b9ff7f",
   "metadata": {},
   "source": [
    "## FCNN"
   ]
  },
  {
   "cell_type": "code",
   "execution_count": 21,
   "id": "b8b0b0bf-65b3-4d79-bf95-bcc06c46f6b1",
   "metadata": {},
   "outputs": [
    {
     "name": "stdout",
     "output_type": "stream",
     "text": [
      "Epoch 1/30\n",
      "\u001b[1m17038/17038\u001b[0m \u001b[32m━━━━━━━━━━━━━━━━━━━━\u001b[0m\u001b[37m\u001b[0m \u001b[1m15s\u001b[0m 864us/step - accuracy: 0.6093 - loss: 0.7902 - val_accuracy: 0.6096 - val_loss: 0.6760 - learning_rate: 0.0010\n",
      "Epoch 2/30\n",
      "\u001b[1m17038/17038\u001b[0m \u001b[32m━━━━━━━━━━━━━━━━━━━━\u001b[0m\u001b[37m\u001b[0m \u001b[1m15s\u001b[0m 859us/step - accuracy: 0.6108 - loss: 0.6755 - val_accuracy: 0.6096 - val_loss: 0.6760 - learning_rate: 0.0010\n",
      "Epoch 3/30\n",
      "\u001b[1m17038/17038\u001b[0m \u001b[32m━━━━━━━━━━━━━━━━━━━━\u001b[0m\u001b[37m\u001b[0m \u001b[1m15s\u001b[0m 855us/step - accuracy: 0.6110 - loss: 0.6753 - val_accuracy: 0.6096 - val_loss: 0.6760 - learning_rate: 0.0010\n",
      "Epoch 4/30\n",
      "\u001b[1m17038/17038\u001b[0m \u001b[32m━━━━━━━━━━━━━━━━━━━━\u001b[0m\u001b[37m\u001b[0m \u001b[1m15s\u001b[0m 859us/step - accuracy: 0.6099 - loss: 0.6759 - val_accuracy: 0.6096 - val_loss: 0.6760 - learning_rate: 0.0010\n",
      "Epoch 5/30\n",
      "\u001b[1m17038/17038\u001b[0m \u001b[32m━━━━━━━━━━━━━━━━━━━━\u001b[0m\u001b[37m\u001b[0m \u001b[1m15s\u001b[0m 882us/step - accuracy: 0.6106 - loss: 0.6721 - val_accuracy: 0.6096 - val_loss: 0.6724 - learning_rate: 5.0000e-04\n",
      "Epoch 6/30\n",
      "\u001b[1m17038/17038\u001b[0m \u001b[32m━━━━━━━━━━━━━━━━━━━━\u001b[0m\u001b[37m\u001b[0m \u001b[1m15s\u001b[0m 881us/step - accuracy: 0.6105 - loss: 0.6722 - val_accuracy: 0.6096 - val_loss: 0.6725 - learning_rate: 5.0000e-04\n",
      "Epoch 7/30\n",
      "\u001b[1m17038/17038\u001b[0m \u001b[32m━━━━━━━━━━━━━━━━━━━━\u001b[0m\u001b[37m\u001b[0m \u001b[1m15s\u001b[0m 892us/step - accuracy: 0.6112 - loss: 0.6719 - val_accuracy: 0.6096 - val_loss: 0.6727 - learning_rate: 5.0000e-04\n",
      "Epoch 8/30\n",
      "\u001b[1m17038/17038\u001b[0m \u001b[32m━━━━━━━━━━━━━━━━━━━━\u001b[0m\u001b[37m\u001b[0m \u001b[1m15s\u001b[0m 880us/step - accuracy: 0.6105 - loss: 0.6722 - val_accuracy: 0.6096 - val_loss: 0.6724 - learning_rate: 5.0000e-04\n",
      "Epoch 9/30\n",
      "\u001b[1m17038/17038\u001b[0m \u001b[32m━━━━━━━━━━━━━━━━━━━━\u001b[0m\u001b[37m\u001b[0m \u001b[1m15s\u001b[0m 893us/step - accuracy: 0.6104 - loss: 0.6704 - val_accuracy: 0.6096 - val_loss: 0.6707 - learning_rate: 2.5000e-04\n",
      "Epoch 10/30\n",
      "\u001b[1m17038/17038\u001b[0m \u001b[32m━━━━━━━━━━━━━━━━━━━━\u001b[0m\u001b[37m\u001b[0m \u001b[1m15s\u001b[0m 886us/step - accuracy: 0.6113 - loss: 0.6700 - val_accuracy: 0.6096 - val_loss: 0.6707 - learning_rate: 2.5000e-04\n",
      "Epoch 11/30\n",
      "\u001b[1m17038/17038\u001b[0m \u001b[32m━━━━━━━━━━━━━━━━━━━━\u001b[0m\u001b[37m\u001b[0m \u001b[1m15s\u001b[0m 879us/step - accuracy: 0.6107 - loss: 0.6703 - val_accuracy: 0.6096 - val_loss: 0.6708 - learning_rate: 2.5000e-04\n",
      "Epoch 12/30\n",
      "\u001b[1m17038/17038\u001b[0m \u001b[32m━━━━━━━━━━━━━━━━━━━━\u001b[0m\u001b[37m\u001b[0m \u001b[1m15s\u001b[0m 886us/step - accuracy: 0.6114 - loss: 0.6700 - val_accuracy: 0.6096 - val_loss: 0.6707 - learning_rate: 2.5000e-04\n",
      "Epoch 13/30\n",
      "\u001b[1m17038/17038\u001b[0m \u001b[32m━━━━━━━━━━━━━━━━━━━━\u001b[0m\u001b[37m\u001b[0m \u001b[1m15s\u001b[0m 887us/step - accuracy: 0.6107 - loss: 0.6694 - val_accuracy: 0.6096 - val_loss: 0.6698 - learning_rate: 1.2500e-04\n",
      "Epoch 14/30\n",
      "\u001b[1m17038/17038\u001b[0m \u001b[32m━━━━━━━━━━━━━━━━━━━━\u001b[0m\u001b[37m\u001b[0m \u001b[1m15s\u001b[0m 895us/step - accuracy: 0.6113 - loss: 0.6691 - val_accuracy: 0.6096 - val_loss: 0.6698 - learning_rate: 1.2500e-04\n",
      "Epoch 15/30\n",
      "\u001b[1m17038/17038\u001b[0m \u001b[32m━━━━━━━━━━━━━━━━━━━━\u001b[0m\u001b[37m\u001b[0m \u001b[1m15s\u001b[0m 896us/step - accuracy: 0.6101 - loss: 0.6696 - val_accuracy: 0.6096 - val_loss: 0.6699 - learning_rate: 1.2500e-04\n",
      "Epoch 16/30\n",
      "\u001b[1m17038/17038\u001b[0m \u001b[32m━━━━━━━━━━━━━━━━━━━━\u001b[0m\u001b[37m\u001b[0m \u001b[1m15s\u001b[0m 894us/step - accuracy: 0.6112 - loss: 0.6692 - val_accuracy: 0.6096 - val_loss: 0.6698 - learning_rate: 1.2500e-04\n",
      "Epoch 17/30\n",
      "\u001b[1m17038/17038\u001b[0m \u001b[32m━━━━━━━━━━━━━━━━━━━━\u001b[0m\u001b[37m\u001b[0m \u001b[1m15s\u001b[0m 889us/step - accuracy: 0.6112 - loss: 0.6687 - val_accuracy: 0.6096 - val_loss: 0.6694 - learning_rate: 6.2500e-05\n",
      "Epoch 18/30\n",
      "\u001b[1m17038/17038\u001b[0m \u001b[32m━━━━━━━━━━━━━━━━━━━━\u001b[0m\u001b[37m\u001b[0m \u001b[1m15s\u001b[0m 890us/step - accuracy: 0.6110 - loss: 0.6688 - val_accuracy: 0.6096 - val_loss: 0.6694 - learning_rate: 6.2500e-05\n",
      "Epoch 19/30\n",
      "\u001b[1m17038/17038\u001b[0m \u001b[32m━━━━━━━━━━━━━━━━━━━━\u001b[0m\u001b[37m\u001b[0m \u001b[1m15s\u001b[0m 898us/step - accuracy: 0.6109 - loss: 0.6688 - val_accuracy: 0.6096 - val_loss: 0.6694 - learning_rate: 6.2500e-05\n",
      "Epoch 20/30\n",
      "\u001b[1m17038/17038\u001b[0m \u001b[32m━━━━━━━━━━━━━━━━━━━━\u001b[0m\u001b[37m\u001b[0m \u001b[1m15s\u001b[0m 882us/step - accuracy: 0.6108 - loss: 0.6688 - val_accuracy: 0.6096 - val_loss: 0.6694 - learning_rate: 6.2500e-05\n",
      "Epoch 21/30\n",
      "\u001b[1m17038/17038\u001b[0m \u001b[32m━━━━━━━━━━━━━━━━━━━━\u001b[0m\u001b[37m\u001b[0m \u001b[1m15s\u001b[0m 899us/step - accuracy: 0.6106 - loss: 0.6687 - val_accuracy: 0.6096 - val_loss: 0.6691 - learning_rate: 3.1250e-05\n",
      "Epoch 22/30\n",
      "\u001b[1m17038/17038\u001b[0m \u001b[32m━━━━━━━━━━━━━━━━━━━━\u001b[0m\u001b[37m\u001b[0m \u001b[1m15s\u001b[0m 886us/step - accuracy: 0.6113 - loss: 0.6684 - val_accuracy: 0.6096 - val_loss: 0.6691 - learning_rate: 3.1250e-05\n",
      "Epoch 23/30\n",
      "\u001b[1m17038/17038\u001b[0m \u001b[32m━━━━━━━━━━━━━━━━━━━━\u001b[0m\u001b[37m\u001b[0m \u001b[1m15s\u001b[0m 882us/step - accuracy: 0.6104 - loss: 0.6688 - val_accuracy: 0.6096 - val_loss: 0.6692 - learning_rate: 3.1250e-05\n",
      "Epoch 24/30\n",
      "\u001b[1m17038/17038\u001b[0m \u001b[32m━━━━━━━━━━━━━━━━━━━━\u001b[0m\u001b[37m\u001b[0m \u001b[1m16s\u001b[0m 922us/step - accuracy: 0.6107 - loss: 0.6687 - val_accuracy: 0.6096 - val_loss: 0.6691 - learning_rate: 3.1250e-05\n",
      "Epoch 25/30\n",
      "\u001b[1m17038/17038\u001b[0m \u001b[32m━━━━━━━━━━━━━━━━━━━━\u001b[0m\u001b[37m\u001b[0m \u001b[1m15s\u001b[0m 888us/step - accuracy: 0.6110 - loss: 0.6684 - val_accuracy: 0.6096 - val_loss: 0.6690 - learning_rate: 1.5625e-05\n",
      "Epoch 26/30\n",
      "\u001b[1m17038/17038\u001b[0m \u001b[32m━━━━━━━━━━━━━━━━━━━━\u001b[0m\u001b[37m\u001b[0m \u001b[1m15s\u001b[0m 883us/step - accuracy: 0.6112 - loss: 0.6683 - val_accuracy: 0.6096 - val_loss: 0.6690 - learning_rate: 1.5625e-05\n",
      "Epoch 27/30\n",
      "\u001b[1m17038/17038\u001b[0m \u001b[32m━━━━━━━━━━━━━━━━━━━━\u001b[0m\u001b[37m\u001b[0m \u001b[1m15s\u001b[0m 900us/step - accuracy: 0.6105 - loss: 0.6686 - val_accuracy: 0.6096 - val_loss: 0.6690 - learning_rate: 1.5625e-05\n",
      "Epoch 28/30\n",
      "\u001b[1m17038/17038\u001b[0m \u001b[32m━━━━━━━━━━━━━━━━━━━━\u001b[0m\u001b[37m\u001b[0m \u001b[1m16s\u001b[0m 927us/step - accuracy: 0.6109 - loss: 0.6685 - val_accuracy: 0.6096 - val_loss: 0.6690 - learning_rate: 1.5625e-05\n",
      "Epoch 29/30\n",
      "\u001b[1m17038/17038\u001b[0m \u001b[32m━━━━━━━━━━━━━━━━━━━━\u001b[0m\u001b[37m\u001b[0m \u001b[1m16s\u001b[0m 914us/step - accuracy: 0.6103 - loss: 0.6687 - val_accuracy: 0.6096 - val_loss: 0.6690 - learning_rate: 1.0000e-05\n",
      "Epoch 30/30\n",
      "\u001b[1m17038/17038\u001b[0m \u001b[32m━━━━━━━━━━━━━━━━━━━━\u001b[0m\u001b[37m\u001b[0m \u001b[1m16s\u001b[0m 914us/step - accuracy: 0.6106 - loss: 0.6685 - val_accuracy: 0.6096 - val_loss: 0.6690 - learning_rate: 1.0000e-05\n"
     ]
    }
   ],
   "source": [
    "# Build the FNN model\n",
    "model = models.Sequential()\n",
    "model.add(layers.Dense(128, activation='relu', input_shape=(X_train_transformed.shape[1],), \n",
    "                       kernel_regularizer=regularizers.l1(0.001)))\n",
    "model.add(layers.Dropout(0.5))\n",
    "model.add(layers.Dense(64, activation='relu',\n",
    "                       kernel_regularizer=regularizers.l1(0.001)))\n",
    "model.add(layers.Dropout(0.5))\n",
    "model.add(layers.Dense(32, activation='relu',\n",
    "                       kernel_regularizer=regularizers.l1(0.001)))\n",
    "model.add(layers.Dropout(0.5))\n",
    "model.add(layers.Dense(16, activation='relu',\n",
    "                       kernel_regularizer=regularizers.l1(0.001)))\n",
    "model.add(layers.Dropout(0.5))\n",
    "model.add(layers.Dense(1, activation='sigmoid'))  # Single output for binary classification\n",
    "\n",
    "# Compile the model\n",
    "model.compile(optimizer='adam', loss='binary_crossentropy', metrics=['accuracy'])\n",
    "\n",
    "# Define the learning rate reduction callback\n",
    "lr_reduction = ReduceLROnPlateau(monitor='val_loss', factor=0.5, patience=3, min_lr=0.00001)\n",
    "\n",
    "# Train the model\n",
    "history = model.fit(X_train_transformed, \n",
    "                    y_train_sample, \n",
    "                    epochs=30, \n",
    "                    batch_size=64, \n",
    "                    validation_split=0.1, \n",
    "                    callbacks=[tf.keras.callbacks.EarlyStopping(patience=3), lr_reduction]\n",
    "                   )"
   ]
  },
  {
   "cell_type": "code",
   "execution_count": 22,
   "id": "ad05cedb-4358-4dd9-9706-36c3abc0ffab",
   "metadata": {},
   "outputs": [
    {
     "name": "stdout",
     "output_type": "stream",
     "text": [
      "\u001b[1m9466/9466\u001b[0m \u001b[32m━━━━━━━━━━━━━━━━━━━━\u001b[0m\u001b[37m\u001b[0m \u001b[1m3s\u001b[0m 309us/step - accuracy: 0.6106 - loss: 0.6686\n",
      "Test Loss: 0.6684838533401489\n",
      "Test Accuracy: 0.6107213497161865\n"
     ]
    },
    {
     "data": {
      "image/png": "[encoded data removed]",
      "text/plain": [
       "<Figure size 1400x500 with 2 Axes>"
      ]
     },
     "metadata": {},
     "output_type": "display_data"
    }
   ],
   "source": [
    "# Evaluate the model on the test data\n",
    "test_loss, test_accuracy = model.evaluate(X_test_transformed, y_test_sample)\n",
    "print(f\"Test Loss: {test_loss}\")\n",
    "print(f\"Test Accuracy: {test_accuracy}\")\n",
    "\n",
    "# Plot the training and validation accuracy and loss\n",
    "plt.figure(figsize=(14, 5))\n",
    "\n",
    "# Accuracy plot\n",
    "plt.subplot(1, 2, 1)\n",
    "plt.plot(history.history['accuracy'], label='Train Accuracy')\n",
    "plt.plot(history.history['val_accuracy'], label='Val Accuracy')\n",
    "plt.xlabel('Epochs')\n",
    "plt.ylabel('Accuracy')\n",
    "plt.legend()\n",
    "plt.title('Training and Validation Accuracy')\n",
    "\n",
    "# Loss plot\n",
    "plt.subplot(1, 2, 2)\n",
    "plt.plot(history.history['loss'], label='Train Loss')\n",
    "plt.plot(history.history['val_loss'], label='Val Loss')\n",
    "plt.xlabel('Epochs')\n",
    "plt.ylabel('Loss')\n",
    "plt.legend()\n",
    "plt.title('Training and Validation Loss')\n",
    "\n",
    "plt.show()"
   ]
  },
  {
   "cell_type": "code",
   "execution_count": 38,
   "id": "ffe1b1d1-fa46-4858-980e-b46015942e24",
   "metadata": {},
   "outputs": [
    {
     "name": "stdout",
     "output_type": "stream",
     "text": [
      "\u001b[1m9466/9466\u001b[0m \u001b[32m━━━━━━━━━━━━━━━━━━━━\u001b[0m\u001b[37m\u001b[0m \u001b[1m4s\u001b[0m 410us/step\n"
     ]
    }
   ],
   "source": [
    "# Use model.predict to get y_pred values for evaluation\n",
    "y_pred = model.predict(X_test_transformed)"
   ]
  },
  {
   "cell_type": "code",
   "execution_count": 39,
   "id": "fc9ac4aa-fcfb-4fa9-9f5c-9e076264a537",
   "metadata": {},
   "outputs": [
    {
     "data": {
      "text/plain": [
       "array([[0.38912103],\n",
       "       [0.38912103],\n",
       "       [0.38912103],\n",
       "       ...,\n",
       "       [0.38912106],\n",
       "       [0.38912106],\n",
       "       [0.38912106]], dtype=float32)"
      ]
     },
     "execution_count": 39,
     "metadata": {},
     "output_type": "execute_result"
    }
   ],
   "source": [
    "y_pred"
   ]
  },
  {
   "cell_type": "code",
   "execution_count": 40,
   "id": "60f06e57-f937-4482-902e-e893b3f67972",
   "metadata": {},
   "outputs": [
    {
     "ename": "ValueError",
     "evalue": "Classification metrics can't handle a mix of binary and continuous targets",
     "output_type": "error",
     "traceback": [
      "\u001b[0;31m---------------------------------------------------------------------------\u001b[0m",
      "\u001b[0;31mValueError\u001b[0m                                Traceback (most recent call last)",
      "Cell \u001b[0;32mIn[40], line 2\u001b[0m\n\u001b[1;32m      1\u001b[0m \u001b[38;5;66;03m# Calculate F1 score\u001b[39;00m\n\u001b[0;32m----> 2\u001b[0m f1 \u001b[38;5;241m=\u001b[39m \u001b[43mf1_score\u001b[49m\u001b[43m(\u001b[49m\u001b[43my_test_sample\u001b[49m\u001b[43m,\u001b[49m\u001b[43m \u001b[49m\u001b[43my_pred\u001b[49m\u001b[43m)\u001b[49m\n\u001b[1;32m      3\u001b[0m \u001b[38;5;28mprint\u001b[39m(\u001b[38;5;124mf\u001b[39m\u001b[38;5;124m\"\u001b[39m\u001b[38;5;124mF1 Score on the test set: \u001b[39m\u001b[38;5;132;01m{\u001b[39;00mf1\u001b[38;5;132;01m}\u001b[39;00m\u001b[38;5;124m\"\u001b[39m)\n",
      "File \u001b[0;32m~/.pyenv/versions/3.10.6/envs/lateguru/lib/python3.10/site-packages/sklearn/utils/_param_validation.py:213\u001b[0m, in \u001b[0;36mvalidate_params.<locals>.decorator.<locals>.wrapper\u001b[0;34m(*args, **kwargs)\u001b[0m\n\u001b[1;32m    207\u001b[0m \u001b[38;5;28;01mtry\u001b[39;00m:\n\u001b[1;32m    208\u001b[0m     \u001b[38;5;28;01mwith\u001b[39;00m config_context(\n\u001b[1;32m    209\u001b[0m         skip_parameter_validation\u001b[38;5;241m=\u001b[39m(\n\u001b[1;32m    210\u001b[0m             prefer_skip_nested_validation \u001b[38;5;129;01mor\u001b[39;00m global_skip_validation\n\u001b[1;32m    211\u001b[0m         )\n\u001b[1;32m    212\u001b[0m     ):\n\u001b[0;32m--> 213\u001b[0m         \u001b[38;5;28;01mreturn\u001b[39;00m \u001b[43mfunc\u001b[49m\u001b[43m(\u001b[49m\u001b[38;5;241;43m*\u001b[39;49m\u001b[43margs\u001b[49m\u001b[43m,\u001b[49m\u001b[43m \u001b[49m\u001b[38;5;241;43m*\u001b[39;49m\u001b[38;5;241;43m*\u001b[39;49m\u001b[43mkwargs\u001b[49m\u001b[43m)\u001b[49m\n\u001b[1;32m    214\u001b[0m \u001b[38;5;28;01mexcept\u001b[39;00m InvalidParameterError \u001b[38;5;28;01mas\u001b[39;00m e:\n\u001b[1;32m    215\u001b[0m     \u001b[38;5;66;03m# When the function is just a wrapper around an estimator, we allow\u001b[39;00m\n\u001b[1;32m    216\u001b[0m     \u001b[38;5;66;03m# the function to delegate validation to the estimator, but we replace\u001b[39;00m\n\u001b[1;32m    217\u001b[0m     \u001b[38;5;66;03m# the name of the estimator by the name of the function in the error\u001b[39;00m\n\u001b[1;32m    218\u001b[0m     \u001b[38;5;66;03m# message to avoid confusion.\u001b[39;00m\n\u001b[1;32m    219\u001b[0m     msg \u001b[38;5;241m=\u001b[39m re\u001b[38;5;241m.\u001b[39msub(\n\u001b[1;32m    220\u001b[0m         \u001b[38;5;124mr\u001b[39m\u001b[38;5;124m\"\u001b[39m\u001b[38;5;124mparameter of \u001b[39m\u001b[38;5;124m\\\u001b[39m\u001b[38;5;124mw+ must be\u001b[39m\u001b[38;5;124m\"\u001b[39m,\n\u001b[1;32m    221\u001b[0m         \u001b[38;5;124mf\u001b[39m\u001b[38;5;124m\"\u001b[39m\u001b[38;5;124mparameter of \u001b[39m\u001b[38;5;132;01m{\u001b[39;00mfunc\u001b[38;5;241m.\u001b[39m\u001b[38;5;18m__qualname__\u001b[39m\u001b[38;5;132;01m}\u001b[39;00m\u001b[38;5;124m must be\u001b[39m\u001b[38;5;124m\"\u001b[39m,\n\u001b[1;32m    222\u001b[0m         \u001b[38;5;28mstr\u001b[39m(e),\n\u001b[1;32m    223\u001b[0m     )\n",
      "File \u001b[0;32m~/.pyenv/versions/3.10.6/envs/lateguru/lib/python3.10/site-packages/sklearn/metrics/_classification.py:1293\u001b[0m, in \u001b[0;36mf1_score\u001b[0;34m(y_true, y_pred, labels, pos_label, average, sample_weight, zero_division)\u001b[0m\n\u001b[1;32m   1113\u001b[0m \u001b[38;5;129m@validate_params\u001b[39m(\n\u001b[1;32m   1114\u001b[0m     {\n\u001b[1;32m   1115\u001b[0m         \u001b[38;5;124m\"\u001b[39m\u001b[38;5;124my_true\u001b[39m\u001b[38;5;124m\"\u001b[39m: [\u001b[38;5;124m\"\u001b[39m\u001b[38;5;124marray-like\u001b[39m\u001b[38;5;124m\"\u001b[39m, \u001b[38;5;124m\"\u001b[39m\u001b[38;5;124msparse matrix\u001b[39m\u001b[38;5;124m\"\u001b[39m],\n\u001b[0;32m   (...)\u001b[0m\n\u001b[1;32m   1140\u001b[0m     zero_division\u001b[38;5;241m=\u001b[39m\u001b[38;5;124m\"\u001b[39m\u001b[38;5;124mwarn\u001b[39m\u001b[38;5;124m\"\u001b[39m,\n\u001b[1;32m   1141\u001b[0m ):\n\u001b[1;32m   1142\u001b[0m \u001b[38;5;250m    \u001b[39m\u001b[38;5;124;03m\"\"\"Compute the F1 score, also known as balanced F-score or F-measure.\u001b[39;00m\n\u001b[1;32m   1143\u001b[0m \n\u001b[1;32m   1144\u001b[0m \u001b[38;5;124;03m    The F1 score can be interpreted as a harmonic mean of the precision and\u001b[39;00m\n\u001b[0;32m   (...)\u001b[0m\n\u001b[1;32m   1291\u001b[0m \u001b[38;5;124;03m    array([0.66666667, 1.        , 0.66666667])\u001b[39;00m\n\u001b[1;32m   1292\u001b[0m \u001b[38;5;124;03m    \"\"\"\u001b[39;00m\n\u001b[0;32m-> 1293\u001b[0m     \u001b[38;5;28;01mreturn\u001b[39;00m \u001b[43mfbeta_score\u001b[49m\u001b[43m(\u001b[49m\n\u001b[1;32m   1294\u001b[0m \u001b[43m        \u001b[49m\u001b[43my_true\u001b[49m\u001b[43m,\u001b[49m\n\u001b[1;32m   1295\u001b[0m \u001b[43m        \u001b[49m\u001b[43my_pred\u001b[49m\u001b[43m,\u001b[49m\n\u001b[1;32m   1296\u001b[0m \u001b[43m        \u001b[49m\u001b[43mbeta\u001b[49m\u001b[38;5;241;43m=\u001b[39;49m\u001b[38;5;241;43m1\u001b[39;49m\u001b[43m,\u001b[49m\n\u001b[1;32m   1297\u001b[0m \u001b[43m        \u001b[49m\u001b[43mlabels\u001b[49m\u001b[38;5;241;43m=\u001b[39;49m\u001b[43mlabels\u001b[49m\u001b[43m,\u001b[49m\n\u001b[1;32m   1298\u001b[0m \u001b[43m        \u001b[49m\u001b[43mpos_label\u001b[49m\u001b[38;5;241;43m=\u001b[39;49m\u001b[43mpos_label\u001b[49m\u001b[43m,\u001b[49m\n\u001b[1;32m   1299\u001b[0m \u001b[43m        \u001b[49m\u001b[43maverage\u001b[49m\u001b[38;5;241;43m=\u001b[39;49m\u001b[43maverage\u001b[49m\u001b[43m,\u001b[49m\n\u001b[1;32m   1300\u001b[0m \u001b[43m        \u001b[49m\u001b[43msample_weight\u001b[49m\u001b[38;5;241;43m=\u001b[39;49m\u001b[43msample_weight\u001b[49m\u001b[43m,\u001b[49m\n\u001b[1;32m   1301\u001b[0m \u001b[43m        \u001b[49m\u001b[43mzero_division\u001b[49m\u001b[38;5;241;43m=\u001b[39;49m\u001b[43mzero_division\u001b[49m\u001b[43m,\u001b[49m\n\u001b[1;32m   1302\u001b[0m \u001b[43m    \u001b[49m\u001b[43m)\u001b[49m\n",
      "File \u001b[0;32m~/.pyenv/versions/3.10.6/envs/lateguru/lib/python3.10/site-packages/sklearn/utils/_param_validation.py:186\u001b[0m, in \u001b[0;36mvalidate_params.<locals>.decorator.<locals>.wrapper\u001b[0;34m(*args, **kwargs)\u001b[0m\n\u001b[1;32m    184\u001b[0m global_skip_validation \u001b[38;5;241m=\u001b[39m get_config()[\u001b[38;5;124m\"\u001b[39m\u001b[38;5;124mskip_parameter_validation\u001b[39m\u001b[38;5;124m\"\u001b[39m]\n\u001b[1;32m    185\u001b[0m \u001b[38;5;28;01mif\u001b[39;00m global_skip_validation:\n\u001b[0;32m--> 186\u001b[0m     \u001b[38;5;28;01mreturn\u001b[39;00m \u001b[43mfunc\u001b[49m\u001b[43m(\u001b[49m\u001b[38;5;241;43m*\u001b[39;49m\u001b[43margs\u001b[49m\u001b[43m,\u001b[49m\u001b[43m \u001b[49m\u001b[38;5;241;43m*\u001b[39;49m\u001b[38;5;241;43m*\u001b[39;49m\u001b[43mkwargs\u001b[49m\u001b[43m)\u001b[49m\n\u001b[1;32m    188\u001b[0m func_sig \u001b[38;5;241m=\u001b[39m signature(func)\n\u001b[1;32m    190\u001b[0m \u001b[38;5;66;03m# Map *args/**kwargs to the function signature\u001b[39;00m\n",
      "File \u001b[0;32m~/.pyenv/versions/3.10.6/envs/lateguru/lib/python3.10/site-packages/sklearn/metrics/_classification.py:1485\u001b[0m, in \u001b[0;36mfbeta_score\u001b[0;34m(y_true, y_pred, beta, labels, pos_label, average, sample_weight, zero_division)\u001b[0m\n\u001b[1;32m   1305\u001b[0m \u001b[38;5;129m@validate_params\u001b[39m(\n\u001b[1;32m   1306\u001b[0m     {\n\u001b[1;32m   1307\u001b[0m         \u001b[38;5;124m\"\u001b[39m\u001b[38;5;124my_true\u001b[39m\u001b[38;5;124m\"\u001b[39m: [\u001b[38;5;124m\"\u001b[39m\u001b[38;5;124marray-like\u001b[39m\u001b[38;5;124m\"\u001b[39m, \u001b[38;5;124m\"\u001b[39m\u001b[38;5;124msparse matrix\u001b[39m\u001b[38;5;124m\"\u001b[39m],\n\u001b[0;32m   (...)\u001b[0m\n\u001b[1;32m   1334\u001b[0m     zero_division\u001b[38;5;241m=\u001b[39m\u001b[38;5;124m\"\u001b[39m\u001b[38;5;124mwarn\u001b[39m\u001b[38;5;124m\"\u001b[39m,\n\u001b[1;32m   1335\u001b[0m ):\n\u001b[1;32m   1336\u001b[0m \u001b[38;5;250m    \u001b[39m\u001b[38;5;124;03m\"\"\"Compute the F-beta score.\u001b[39;00m\n\u001b[1;32m   1337\u001b[0m \n\u001b[1;32m   1338\u001b[0m \u001b[38;5;124;03m    The F-beta score is the weighted harmonic mean of precision and recall,\u001b[39;00m\n\u001b[0;32m   (...)\u001b[0m\n\u001b[1;32m   1482\u001b[0m \u001b[38;5;124;03m    0.12...\u001b[39;00m\n\u001b[1;32m   1483\u001b[0m \u001b[38;5;124;03m    \"\"\"\u001b[39;00m\n\u001b[0;32m-> 1485\u001b[0m     _, _, f, _ \u001b[38;5;241m=\u001b[39m \u001b[43mprecision_recall_fscore_support\u001b[49m\u001b[43m(\u001b[49m\n\u001b[1;32m   1486\u001b[0m \u001b[43m        \u001b[49m\u001b[43my_true\u001b[49m\u001b[43m,\u001b[49m\n\u001b[1;32m   1487\u001b[0m \u001b[43m        \u001b[49m\u001b[43my_pred\u001b[49m\u001b[43m,\u001b[49m\n\u001b[1;32m   1488\u001b[0m \u001b[43m        \u001b[49m\u001b[43mbeta\u001b[49m\u001b[38;5;241;43m=\u001b[39;49m\u001b[43mbeta\u001b[49m\u001b[43m,\u001b[49m\n\u001b[1;32m   1489\u001b[0m \u001b[43m        \u001b[49m\u001b[43mlabels\u001b[49m\u001b[38;5;241;43m=\u001b[39;49m\u001b[43mlabels\u001b[49m\u001b[43m,\u001b[49m\n\u001b[1;32m   1490\u001b[0m \u001b[43m        \u001b[49m\u001b[43mpos_label\u001b[49m\u001b[38;5;241;43m=\u001b[39;49m\u001b[43mpos_label\u001b[49m\u001b[43m,\u001b[49m\n\u001b[1;32m   1491\u001b[0m \u001b[43m        \u001b[49m\u001b[43maverage\u001b[49m\u001b[38;5;241;43m=\u001b[39;49m\u001b[43maverage\u001b[49m\u001b[43m,\u001b[49m\n\u001b[1;32m   1492\u001b[0m \u001b[43m        \u001b[49m\u001b[43mwarn_for\u001b[49m\u001b[38;5;241;43m=\u001b[39;49m\u001b[43m(\u001b[49m\u001b[38;5;124;43m\"\u001b[39;49m\u001b[38;5;124;43mf-score\u001b[39;49m\u001b[38;5;124;43m\"\u001b[39;49m\u001b[43m,\u001b[49m\u001b[43m)\u001b[49m\u001b[43m,\u001b[49m\n\u001b[1;32m   1493\u001b[0m \u001b[43m        \u001b[49m\u001b[43msample_weight\u001b[49m\u001b[38;5;241;43m=\u001b[39;49m\u001b[43msample_weight\u001b[49m\u001b[43m,\u001b[49m\n\u001b[1;32m   1494\u001b[0m \u001b[43m        \u001b[49m\u001b[43mzero_division\u001b[49m\u001b[38;5;241;43m=\u001b[39;49m\u001b[43mzero_division\u001b[49m\u001b[43m,\u001b[49m\n\u001b[1;32m   1495\u001b[0m \u001b[43m    \u001b[49m\u001b[43m)\u001b[49m\n\u001b[1;32m   1496\u001b[0m     \u001b[38;5;28;01mreturn\u001b[39;00m f\n",
      "File \u001b[0;32m~/.pyenv/versions/3.10.6/envs/lateguru/lib/python3.10/site-packages/sklearn/utils/_param_validation.py:186\u001b[0m, in \u001b[0;36mvalidate_params.<locals>.decorator.<locals>.wrapper\u001b[0;34m(*args, **kwargs)\u001b[0m\n\u001b[1;32m    184\u001b[0m global_skip_validation \u001b[38;5;241m=\u001b[39m get_config()[\u001b[38;5;124m\"\u001b[39m\u001b[38;5;124mskip_parameter_validation\u001b[39m\u001b[38;5;124m\"\u001b[39m]\n\u001b[1;32m    185\u001b[0m \u001b[38;5;28;01mif\u001b[39;00m global_skip_validation:\n\u001b[0;32m--> 186\u001b[0m     \u001b[38;5;28;01mreturn\u001b[39;00m \u001b[43mfunc\u001b[49m\u001b[43m(\u001b[49m\u001b[38;5;241;43m*\u001b[39;49m\u001b[43margs\u001b[49m\u001b[43m,\u001b[49m\u001b[43m \u001b[49m\u001b[38;5;241;43m*\u001b[39;49m\u001b[38;5;241;43m*\u001b[39;49m\u001b[43mkwargs\u001b[49m\u001b[43m)\u001b[49m\n\u001b[1;32m    188\u001b[0m func_sig \u001b[38;5;241m=\u001b[39m signature(func)\n\u001b[1;32m    190\u001b[0m \u001b[38;5;66;03m# Map *args/**kwargs to the function signature\u001b[39;00m\n",
      "File \u001b[0;32m~/.pyenv/versions/3.10.6/envs/lateguru/lib/python3.10/site-packages/sklearn/metrics/_classification.py:1789\u001b[0m, in \u001b[0;36mprecision_recall_fscore_support\u001b[0;34m(y_true, y_pred, beta, labels, pos_label, average, warn_for, sample_weight, zero_division)\u001b[0m\n\u001b[1;32m   1626\u001b[0m \u001b[38;5;250m\u001b[39m\u001b[38;5;124;03m\"\"\"Compute precision, recall, F-measure and support for each class.\u001b[39;00m\n\u001b[1;32m   1627\u001b[0m \n\u001b[1;32m   1628\u001b[0m \u001b[38;5;124;03mThe precision is the ratio ``tp / (tp + fp)`` where ``tp`` is the number of\u001b[39;00m\n\u001b[0;32m   (...)\u001b[0m\n\u001b[1;32m   1786\u001b[0m \u001b[38;5;124;03m array([2, 2, 2]))\u001b[39;00m\n\u001b[1;32m   1787\u001b[0m \u001b[38;5;124;03m\"\"\"\u001b[39;00m\n\u001b[1;32m   1788\u001b[0m _check_zero_division(zero_division)\n\u001b[0;32m-> 1789\u001b[0m labels \u001b[38;5;241m=\u001b[39m \u001b[43m_check_set_wise_labels\u001b[49m\u001b[43m(\u001b[49m\u001b[43my_true\u001b[49m\u001b[43m,\u001b[49m\u001b[43m \u001b[49m\u001b[43my_pred\u001b[49m\u001b[43m,\u001b[49m\u001b[43m \u001b[49m\u001b[43maverage\u001b[49m\u001b[43m,\u001b[49m\u001b[43m \u001b[49m\u001b[43mlabels\u001b[49m\u001b[43m,\u001b[49m\u001b[43m \u001b[49m\u001b[43mpos_label\u001b[49m\u001b[43m)\u001b[49m\n\u001b[1;32m   1791\u001b[0m \u001b[38;5;66;03m# Calculate tp_sum, pred_sum, true_sum ###\u001b[39;00m\n\u001b[1;32m   1792\u001b[0m samplewise \u001b[38;5;241m=\u001b[39m average \u001b[38;5;241m==\u001b[39m \u001b[38;5;124m\"\u001b[39m\u001b[38;5;124msamples\u001b[39m\u001b[38;5;124m\"\u001b[39m\n",
      "File \u001b[0;32m~/.pyenv/versions/3.10.6/envs/lateguru/lib/python3.10/site-packages/sklearn/metrics/_classification.py:1561\u001b[0m, in \u001b[0;36m_check_set_wise_labels\u001b[0;34m(y_true, y_pred, average, labels, pos_label)\u001b[0m\n\u001b[1;32m   1558\u001b[0m \u001b[38;5;28;01mif\u001b[39;00m average \u001b[38;5;129;01mnot\u001b[39;00m \u001b[38;5;129;01min\u001b[39;00m average_options \u001b[38;5;129;01mand\u001b[39;00m average \u001b[38;5;241m!=\u001b[39m \u001b[38;5;124m\"\u001b[39m\u001b[38;5;124mbinary\u001b[39m\u001b[38;5;124m\"\u001b[39m:\n\u001b[1;32m   1559\u001b[0m     \u001b[38;5;28;01mraise\u001b[39;00m \u001b[38;5;167;01mValueError\u001b[39;00m(\u001b[38;5;124m\"\u001b[39m\u001b[38;5;124maverage has to be one of \u001b[39m\u001b[38;5;124m\"\u001b[39m \u001b[38;5;241m+\u001b[39m \u001b[38;5;28mstr\u001b[39m(average_options))\n\u001b[0;32m-> 1561\u001b[0m y_type, y_true, y_pred \u001b[38;5;241m=\u001b[39m \u001b[43m_check_targets\u001b[49m\u001b[43m(\u001b[49m\u001b[43my_true\u001b[49m\u001b[43m,\u001b[49m\u001b[43m \u001b[49m\u001b[43my_pred\u001b[49m\u001b[43m)\u001b[49m\n\u001b[1;32m   1562\u001b[0m \u001b[38;5;66;03m# Convert to Python primitive type to avoid NumPy type / Python str\u001b[39;00m\n\u001b[1;32m   1563\u001b[0m \u001b[38;5;66;03m# comparison. See https://github.com/numpy/numpy/issues/6784\u001b[39;00m\n\u001b[1;32m   1564\u001b[0m present_labels \u001b[38;5;241m=\u001b[39m unique_labels(y_true, y_pred)\u001b[38;5;241m.\u001b[39mtolist()\n",
      "File \u001b[0;32m~/.pyenv/versions/3.10.6/envs/lateguru/lib/python3.10/site-packages/sklearn/metrics/_classification.py:112\u001b[0m, in \u001b[0;36m_check_targets\u001b[0;34m(y_true, y_pred)\u001b[0m\n\u001b[1;32m    109\u001b[0m     y_type \u001b[38;5;241m=\u001b[39m {\u001b[38;5;124m\"\u001b[39m\u001b[38;5;124mmulticlass\u001b[39m\u001b[38;5;124m\"\u001b[39m}\n\u001b[1;32m    111\u001b[0m \u001b[38;5;28;01mif\u001b[39;00m \u001b[38;5;28mlen\u001b[39m(y_type) \u001b[38;5;241m>\u001b[39m \u001b[38;5;241m1\u001b[39m:\n\u001b[0;32m--> 112\u001b[0m     \u001b[38;5;28;01mraise\u001b[39;00m \u001b[38;5;167;01mValueError\u001b[39;00m(\n\u001b[1;32m    113\u001b[0m         \u001b[38;5;124m\"\u001b[39m\u001b[38;5;124mClassification metrics can\u001b[39m\u001b[38;5;124m'\u001b[39m\u001b[38;5;124mt handle a mix of \u001b[39m\u001b[38;5;132;01m{0}\u001b[39;00m\u001b[38;5;124m and \u001b[39m\u001b[38;5;132;01m{1}\u001b[39;00m\u001b[38;5;124m targets\u001b[39m\u001b[38;5;124m\"\u001b[39m\u001b[38;5;241m.\u001b[39mformat(\n\u001b[1;32m    114\u001b[0m             type_true, type_pred\n\u001b[1;32m    115\u001b[0m         )\n\u001b[1;32m    116\u001b[0m     )\n\u001b[1;32m    118\u001b[0m \u001b[38;5;66;03m# We can't have more than one value on y_type => The set is no more needed\u001b[39;00m\n\u001b[1;32m    119\u001b[0m y_type \u001b[38;5;241m=\u001b[39m y_type\u001b[38;5;241m.\u001b[39mpop()\n",
      "\u001b[0;31mValueError\u001b[0m: Classification metrics can't handle a mix of binary and continuous targets"
     ]
    }
   ],
   "source": [
    "# Calculate F1 score\n",
    "f1 = f1_score(y_test_sample, y_pred)\n",
    "print(f\"F1 Score on the test set: {f1}\")"
   ]
  },
  {
   "cell_type": "code",
   "execution_count": 32,
   "id": "a4ef4fc8-58f3-419e-aa8c-97fdfac59c34",
   "metadata": {},
   "outputs": [
    {
     "name": "stdout",
     "output_type": "stream",
     "text": [
      "Recall: 0.0\n"
     ]
    }
   ],
   "source": [
    "# Calculate Recall\n",
    "recall = recall_score(y_test_sample, y_pred)\n",
    "print(f\"Recall: {recall}\")"
   ]
  },
  {
   "cell_type": "code",
   "execution_count": 33,
   "id": "4525e268-e011-4773-b612-84428a455655",
   "metadata": {},
   "outputs": [
    {
     "name": "stdout",
     "output_type": "stream",
     "text": [
      "AUC-ROC: 0.5\n"
     ]
    }
   ],
   "source": [
    "# Calculate ROC AUC\n",
    "auc_roc = roc_auc_score(y_test_sample, y_pred)\n",
    "print(f\"AUC-ROC: {auc_roc}\")"
   ]
  },
  {
   "cell_type": "code",
   "execution_count": 34,
   "id": "89058060-bd1a-4b5f-bd62-35928f5e18b4",
   "metadata": {},
   "outputs": [
    {
     "name": "stdout",
     "output_type": "stream",
     "text": [
      "Confusion Matrix:\n",
      "[[184982      0]\n",
      " [117909      0]]\n"
     ]
    }
   ],
   "source": [
    "# Inspect Confusion Matrix\n",
    "cm = confusion_matrix(y_test_sample, y_pred)\n",
    "print(f\"Confusion Matrix:\\n{cm}\")"
   ]
  },
  {
   "cell_type": "code",
   "execution_count": 35,
   "id": "217445c0-0912-4e83-86bb-e19f9ca41724",
   "metadata": {},
   "outputs": [
    {
     "name": "stdout",
     "output_type": "stream",
     "text": [
      "Classification Report:\n",
      "              precision    recall  f1-score   support\n",
      "\n",
      "       False       0.61      1.00      0.76    184982\n",
      "        True       0.00      0.00      0.00    117909\n",
      "\n",
      "    accuracy                           0.61    302891\n",
      "   macro avg       0.31      0.50      0.38    302891\n",
      "weighted avg       0.37      0.61      0.46    302891\n",
      "\n"
     ]
    },
    {
     "name": "stderr",
     "output_type": "stream",
     "text": [
      "/Users/markmans/.pyenv/versions/3.10.6/envs/lateguru/lib/python3.10/site-packages/sklearn/metrics/_classification.py:1531: UndefinedMetricWarning: Precision is ill-defined and being set to 0.0 in labels with no predicted samples. Use `zero_division` parameter to control this behavior.\n",
      "  _warn_prf(average, modifier, f\"{metric.capitalize()} is\", len(result))\n",
      "/Users/markmans/.pyenv/versions/3.10.6/envs/lateguru/lib/python3.10/site-packages/sklearn/metrics/_classification.py:1531: UndefinedMetricWarning: Precision is ill-defined and being set to 0.0 in labels with no predicted samples. Use `zero_division` parameter to control this behavior.\n",
      "  _warn_prf(average, modifier, f\"{metric.capitalize()} is\", len(result))\n",
      "/Users/markmans/.pyenv/versions/3.10.6/envs/lateguru/lib/python3.10/site-packages/sklearn/metrics/_classification.py:1531: UndefinedMetricWarning: Precision is ill-defined and being set to 0.0 in labels with no predicted samples. Use `zero_division` parameter to control this behavior.\n",
      "  _warn_prf(average, modifier, f\"{metric.capitalize()} is\", len(result))\n"
     ]
    }
   ],
   "source": [
    "# Generate Classification Report\n",
    "report = classification_report(y_test_sample, y_pred)\n",
    "print(f\"Classification Report:\\n{report}\")"
   ]
  },
  {
   "cell_type": "code",
   "execution_count": 36,
   "id": "f7f25412-31f9-4b84-bba9-9d38895823d1",
   "metadata": {},
   "outputs": [],
   "source": [
    "# Create a SHAP explainer\n",
    "# explainer = shap.DeepExplainer(model, X_train_balanced[np.random.choice(X_train_balanced.shape[0], 5000, replace=False)])  # Use DeepExplainer for neural networks\n",
    "# shap_values = explainer.shap_values(X_test_preprocessed)\n",
    "\n",
    "# Summary plot\n",
    "# shap.summary_plot(shap_values, X_test_preprocessed, plot_type=\"bar\")  # Bar plot for overall feature importance# Detailed summary plot (beeswarm plot)\n",
    "# shap.summary_plot(shap_values, X_test_preprocessed)  # Beeswarm plot for detailed insights"
   ]
  },
  {
   "cell_type": "markdown",
   "id": "fdfa777b-58ef-47f5-8750-47d154c5a319",
   "metadata": {},
   "source": [
    "## LightGBM"
   ]
  },
  {
   "cell_type": "code",
   "execution_count": 43,
   "id": "077a5abd-aedf-42e3-a1bf-e786db9a4843",
   "metadata": {},
   "outputs": [],
   "source": [
    "# Prepare LightGBM dataset\n",
    "train_data = lgb.Dataset(X_train_transformed, label=y_train_sample, feature_name=all_feature_names)\n",
    "\n",
    "test_data = lgb.Dataset(X_test_transformed, label=y_test_sample, reference=train_data)"
   ]
  },
  {
   "cell_type": "code",
   "execution_count": 44,
   "id": "43794d22-a154-49c4-b9e9-18afcfe52e8c",
   "metadata": {},
   "outputs": [],
   "source": [
    "# Set parameters\n",
    "params = {\n",
    "    'objective': 'binary',\n",
    "    'metric': 'binary_logloss',\n",
    "    'boosting_type': 'gbdt',\n",
    "    'learning_rate': 0.05,\n",
    "    'num_leaves': 31,\n",
    "    'max_depth': -1,\n",
    "    'feature_fraction': 0.9,\n",
    "    'bagging_fraction': 0.8,\n",
    "    'bagging_freq': 5,\n",
    "    'verbose': -1\n",
    "}"
   ]
  },
  {
   "cell_type": "code",
   "execution_count": 47,
   "id": "b76f0fe4-88da-4078-bfa5-06997c1d7ba9",
   "metadata": {},
   "outputs": [
    {
     "name": "stdout",
     "output_type": "stream",
     "text": [
      "Training until validation scores don't improve for 10 rounds\n",
      "[10]\tcv_agg's valid binary_logloss: 0.641703 + 0.000172743\n",
      "[20]\tcv_agg's valid binary_logloss: 0.629951 + 0.000343157\n",
      "[30]\tcv_agg's valid binary_logloss: 0.623763 + 0.000431965\n",
      "[40]\tcv_agg's valid binary_logloss: 0.619955 + 0.000482654\n",
      "[50]\tcv_agg's valid binary_logloss: 0.617332 + 0.000451142\n",
      "[60]\tcv_agg's valid binary_logloss: 0.615409 + 0.000483586\n",
      "[70]\tcv_agg's valid binary_logloss: 0.613859 + 0.000515648\n",
      "[80]\tcv_agg's valid binary_logloss: 0.612597 + 0.000497368\n",
      "[90]\tcv_agg's valid binary_logloss: 0.611577 + 0.000534793\n",
      "[100]\tcv_agg's valid binary_logloss: 0.610739 + 0.00052329\n",
      "[110]\tcv_agg's valid binary_logloss: 0.610035 + 0.000508798\n",
      "[120]\tcv_agg's valid binary_logloss: 0.609433 + 0.000538481\n",
      "[130]\tcv_agg's valid binary_logloss: 0.608927 + 0.000528786\n",
      "[140]\tcv_agg's valid binary_logloss: 0.608489 + 0.000539942\n",
      "[150]\tcv_agg's valid binary_logloss: 0.608087 + 0.00055029\n",
      "[160]\tcv_agg's valid binary_logloss: 0.607717 + 0.000559673\n",
      "[170]\tcv_agg's valid binary_logloss: 0.607372 + 0.00056059\n",
      "[180]\tcv_agg's valid binary_logloss: 0.607064 + 0.000570137\n",
      "[190]\tcv_agg's valid binary_logloss: 0.606792 + 0.000576609\n",
      "[200]\tcv_agg's valid binary_logloss: 0.606554 + 0.000592086\n",
      "[210]\tcv_agg's valid binary_logloss: 0.606327 + 0.000591632\n",
      "[220]\tcv_agg's valid binary_logloss: 0.606126 + 0.000608071\n",
      "[230]\tcv_agg's valid binary_logloss: 0.605934 + 0.000603773\n",
      "[240]\tcv_agg's valid binary_logloss: 0.605748 + 0.000603337\n",
      "[250]\tcv_agg's valid binary_logloss: 0.605587 + 0.000609879\n",
      "[260]\tcv_agg's valid binary_logloss: 0.605445 + 0.000622404\n",
      "[270]\tcv_agg's valid binary_logloss: 0.605319 + 0.000616486\n",
      "[280]\tcv_agg's valid binary_logloss: 0.605179 + 0.000629615\n",
      "[290]\tcv_agg's valid binary_logloss: 0.605066 + 0.000635514\n",
      "[300]\tcv_agg's valid binary_logloss: 0.604956 + 0.000640577\n",
      "[310]\tcv_agg's valid binary_logloss: 0.604857 + 0.000643699\n",
      "[320]\tcv_agg's valid binary_logloss: 0.60474 + 0.000630889\n",
      "[330]\tcv_agg's valid binary_logloss: 0.604631 + 0.000630281\n",
      "[340]\tcv_agg's valid binary_logloss: 0.604537 + 0.000631832\n",
      "[350]\tcv_agg's valid binary_logloss: 0.604442 + 0.000634073\n",
      "[360]\tcv_agg's valid binary_logloss: 0.604341 + 0.000640731\n",
      "[370]\tcv_agg's valid binary_logloss: 0.604248 + 0.000633517\n",
      "[380]\tcv_agg's valid binary_logloss: 0.604172 + 0.000635096\n",
      "[390]\tcv_agg's valid binary_logloss: 0.604105 + 0.00063335\n",
      "[400]\tcv_agg's valid binary_logloss: 0.604038 + 0.000629825\n",
      "[410]\tcv_agg's valid binary_logloss: 0.603956 + 0.000641211\n",
      "[420]\tcv_agg's valid binary_logloss: 0.60388 + 0.000660211\n",
      "[430]\tcv_agg's valid binary_logloss: 0.603829 + 0.000653335\n",
      "[440]\tcv_agg's valid binary_logloss: 0.603756 + 0.000646641\n",
      "[450]\tcv_agg's valid binary_logloss: 0.603696 + 0.00065282\n",
      "[460]\tcv_agg's valid binary_logloss: 0.603624 + 0.000650866\n",
      "[470]\tcv_agg's valid binary_logloss: 0.603561 + 0.000647341\n",
      "[480]\tcv_agg's valid binary_logloss: 0.603526 + 0.000646532\n",
      "[490]\tcv_agg's valid binary_logloss: 0.603469 + 0.000628415\n",
      "[500]\tcv_agg's valid binary_logloss: 0.603412 + 0.000629363\n",
      "[510]\tcv_agg's valid binary_logloss: 0.603344 + 0.000634008\n",
      "[520]\tcv_agg's valid binary_logloss: 0.603285 + 0.000633257\n",
      "[530]\tcv_agg's valid binary_logloss: 0.603221 + 0.0006371\n",
      "[540]\tcv_agg's valid binary_logloss: 0.603178 + 0.000652861\n",
      "[550]\tcv_agg's valid binary_logloss: 0.603127 + 0.000654016\n",
      "[560]\tcv_agg's valid binary_logloss: 0.603073 + 0.000680947\n",
      "[570]\tcv_agg's valid binary_logloss: 0.603023 + 0.00067203\n",
      "[580]\tcv_agg's valid binary_logloss: 0.602981 + 0.000667759\n",
      "[590]\tcv_agg's valid binary_logloss: 0.602926 + 0.000670061\n",
      "[600]\tcv_agg's valid binary_logloss: 0.602858 + 0.000676496\n",
      "[610]\tcv_agg's valid binary_logloss: 0.602801 + 0.000696328\n",
      "[620]\tcv_agg's valid binary_logloss: 0.602751 + 0.000688332\n",
      "[630]\tcv_agg's valid binary_logloss: 0.602704 + 0.000688765\n",
      "[640]\tcv_agg's valid binary_logloss: 0.602659 + 0.000703617\n",
      "[650]\tcv_agg's valid binary_logloss: 0.602617 + 0.000709175\n",
      "[660]\tcv_agg's valid binary_logloss: 0.602552 + 0.000707892\n",
      "[670]\tcv_agg's valid binary_logloss: 0.602499 + 0.000704237\n",
      "[680]\tcv_agg's valid binary_logloss: 0.60247 + 0.000699002\n",
      "[690]\tcv_agg's valid binary_logloss: 0.602404 + 0.00068026\n",
      "[700]\tcv_agg's valid binary_logloss: 0.602357 + 0.000674103\n",
      "[710]\tcv_agg's valid binary_logloss: 0.602305 + 0.000667116\n",
      "[720]\tcv_agg's valid binary_logloss: 0.602256 + 0.000683609\n",
      "[730]\tcv_agg's valid binary_logloss: 0.602214 + 0.00068078\n",
      "[740]\tcv_agg's valid binary_logloss: 0.602162 + 0.000675367\n",
      "[750]\tcv_agg's valid binary_logloss: 0.602115 + 0.000654034\n",
      "[760]\tcv_agg's valid binary_logloss: 0.602074 + 0.000652238\n",
      "[770]\tcv_agg's valid binary_logloss: 0.602028 + 0.000658942\n",
      "[780]\tcv_agg's valid binary_logloss: 0.60199 + 0.00066745\n",
      "[790]\tcv_agg's valid binary_logloss: 0.601952 + 0.000652334\n",
      "[800]\tcv_agg's valid binary_logloss: 0.601895 + 0.000631386\n",
      "[810]\tcv_agg's valid binary_logloss: 0.60185 + 0.000623268\n",
      "[820]\tcv_agg's valid binary_logloss: 0.601809 + 0.000612094\n",
      "[830]\tcv_agg's valid binary_logloss: 0.601768 + 0.000609045\n",
      "[840]\tcv_agg's valid binary_logloss: 0.601732 + 0.000609499\n",
      "[850]\tcv_agg's valid binary_logloss: 0.601698 + 0.000624766\n",
      "[860]\tcv_agg's valid binary_logloss: 0.60165 + 0.00063854\n",
      "[870]\tcv_agg's valid binary_logloss: 0.601605 + 0.000641515\n",
      "[880]\tcv_agg's valid binary_logloss: 0.601559 + 0.000644342\n",
      "[890]\tcv_agg's valid binary_logloss: 0.601522 + 0.000629965\n",
      "[900]\tcv_agg's valid binary_logloss: 0.60148 + 0.000621749\n",
      "[910]\tcv_agg's valid binary_logloss: 0.601448 + 0.000629485\n",
      "[920]\tcv_agg's valid binary_logloss: 0.601411 + 0.000620068\n",
      "[930]\tcv_agg's valid binary_logloss: 0.601387 + 0.000623627\n",
      "[940]\tcv_agg's valid binary_logloss: 0.601352 + 0.000625487\n",
      "[950]\tcv_agg's valid binary_logloss: 0.60133 + 0.000629431\n",
      "[960]\tcv_agg's valid binary_logloss: 0.601308 + 0.000632329\n",
      "[970]\tcv_agg's valid binary_logloss: 0.601274 + 0.000641215\n",
      "[980]\tcv_agg's valid binary_logloss: 0.601251 + 0.000638156\n",
      "[990]\tcv_agg's valid binary_logloss: 0.601216 + 0.000644144\n",
      "[1000]\tcv_agg's valid binary_logloss: 0.601186 + 0.000646368\n",
      "Did not meet early stopping. Best iteration is:\n",
      "[1000]\tcv_agg's valid binary_logloss: 0.601186 + 0.000646368\n"
     ]
    }
   ],
   "source": [
    "# Perform cross-validation with early stopping\n",
    "cv_results = lgb.cv(\n",
    "    params,\n",
    "    train_data,\n",
    "    num_boost_round=1000,\n",
    "    nfold=5,\n",
    "    stratified=True,\n",
    "    shuffle=True,\n",
    "    callbacks=[lgb.early_stopping(stopping_rounds=10), lgb.log_evaluation(period=10)],\n",
    "    seed=42\n",
    ")"
   ]
  },
  {
   "cell_type": "code",
   "execution_count": 48,
   "id": "287732bc-1118-46bc-84b2-484bb03010e6",
   "metadata": {},
   "outputs": [
    {
     "ename": "KeyError",
     "evalue": "'binary_logloss-mean'",
     "output_type": "error",
     "traceback": [
      "\u001b[0;31m---------------------------------------------------------------------------\u001b[0m",
      "\u001b[0;31mKeyError\u001b[0m                                  Traceback (most recent call last)",
      "Cell \u001b[0;32mIn[48], line 2\u001b[0m\n\u001b[1;32m      1\u001b[0m \u001b[38;5;66;03m# The best number of boosting rounds can be determined from cv_results\u001b[39;00m\n\u001b[0;32m----> 2\u001b[0m best_num_boost_rounds \u001b[38;5;241m=\u001b[39m \u001b[38;5;28mlen\u001b[39m(\u001b[43mcv_results\u001b[49m\u001b[43m[\u001b[49m\u001b[38;5;124;43m'\u001b[39;49m\u001b[38;5;124;43mbinary_logloss-mean\u001b[39;49m\u001b[38;5;124;43m'\u001b[39;49m\u001b[43m]\u001b[49m)\n\u001b[1;32m      3\u001b[0m \u001b[38;5;28mprint\u001b[39m(\u001b[38;5;124mf\u001b[39m\u001b[38;5;124m\"\u001b[39m\u001b[38;5;124mBest number of boosting rounds: \u001b[39m\u001b[38;5;132;01m{\u001b[39;00mbest_num_boost_rounds\u001b[38;5;132;01m}\u001b[39;00m\u001b[38;5;124m\"\u001b[39m)\n",
      "\u001b[0;31mKeyError\u001b[0m: 'binary_logloss-mean'"
     ]
    }
   ],
   "source": [
    "# The best number of boosting rounds can be determined from cv_results\n",
    "best_num_boost_rounds = len(cv_results['binary_logloss-mean'])\n",
    "print(f\"Best number of boosting rounds: {best_num_boost_rounds}\")"
   ]
  },
  {
   "cell_type": "code",
   "execution_count": null,
   "id": "5f35a06a-f941-4dfd-b2d7-d75f387f204e",
   "metadata": {},
   "outputs": [],
   "source": [
    "# Train the final LightGBM model using the optimal number of rounds\n",
    "model_lgbm = lgb.train(\n",
    "    params,\n",
    "    train_data,\n",
    "    num_boost_round=best_num_boost_rounds,\n",
    "    valid_sets=[train_data, test_data],\n",
    "    callbacks=[lgb.early_stopping(stopping_rounds=10)]\n",
    ")"
   ]
  },
  {
   "cell_type": "code",
   "execution_count": null,
   "id": "958a0cc8-2968-4a02-9733-03f69652e472",
   "metadata": {},
   "outputs": [],
   "source": [
    "# Make predictions\n",
    "y_pred_prob = model_lgbm.predict(X_test_transformed, num_iteration=model_lgbm.best_iteration)\n",
    "y_pred_lgm = np.round(y_pred_prob)"
   ]
  },
  {
   "cell_type": "code",
   "execution_count": null,
   "id": "fe52705f-a3ad-49db-9fd0-844f5855444d",
   "metadata": {},
   "outputs": [],
   "source": [
    "# Evaluate the model\n",
    "from sklearn.metrics import accuracy_score\n",
    "\n",
    "accuracy = accuracy_score(y_test_sample, y_pred_lgm)\n",
    "roc_auc = roc_auc_score(y_test_sample, y_pred_prob)\n",
    "print(f\"Accuracy: {accuracy:.4f}\")\n",
    "print(f\"ROC AUC Score: {roc_auc:.4f}\")"
   ]
  },
  {
   "cell_type": "code",
   "execution_count": null,
   "id": "067bdc3b-6c06-4c1d-ba40-ec9161ad96a9",
   "metadata": {},
   "outputs": [],
   "source": [
    "# Calculate F1 score\n",
    "f1 = f1_score(y_test_sample, y_pred_2)\n",
    "print(f\"F1 Score on the test set: {f1}\")"
   ]
  },
  {
   "cell_type": "code",
   "execution_count": null,
   "id": "2c36d2b4-6bab-4087-961d-e562aafef628",
   "metadata": {},
   "outputs": [],
   "source": [
    "# Calculate Recall\n",
    "recall = recall_score(y_test_sample, y_pred_2)\n",
    "print(f\"Recall: {recall}\")"
   ]
  },
  {
   "cell_type": "code",
   "execution_count": null,
   "id": "44f997ff-a7a6-46c1-b08e-9927af557029",
   "metadata": {},
   "outputs": [],
   "source": [
    "# Generate Classification Report\n",
    "report = classification_report(y_test_sample, y_pred_2)\n",
    "print(f\"Classification Report:\\n{report}\")"
   ]
  },
  {
   "cell_type": "code",
   "execution_count": null,
   "id": "cc0a42fd-8ecb-4c29-9b23-bc9bdbf75815",
   "metadata": {},
   "outputs": [],
   "source": [
    "# Feature importance\n",
    "model_lgbm.feature_name = all_feature_names # add back the feature columns names \n",
    "lgb.plot_importance(model_lgbm, max_num_features=30)\n",
    "plt.show()"
   ]
  },
  {
   "cell_type": "code",
   "execution_count": null,
   "id": "e5ad1a13-8406-472b-a7b4-27dfca0b6671",
   "metadata": {},
   "outputs": [],
   "source": []
  }
 ],
 "metadata": {
  "kernelspec": {
   "display_name": "Python 3 (ipykernel)",
   "language": "python",
   "name": "python3"
  },
  "language_info": {
   "codemirror_mode": {
    "name": "ipython",
    "version": 3
   },
   "file_extension": ".py",
   "mimetype": "text/x-python",
   "name": "python",
   "nbconvert_exporter": "python",
   "pygments_lexer": "ipython3",
   "version": "3.10.6"
  }
 },
 "nbformat": 4,
 "nbformat_minor": 5
}
