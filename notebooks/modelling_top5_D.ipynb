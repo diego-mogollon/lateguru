{
  "cells": [
    {
      "cell_type": "markdown",
      "metadata": {
        "id": "bT1PYnVpJrpK"
      },
      "source": [
        "# Data Preprocessing"
      ]
    },
    {
      "cell_type": "code",
      "source": [
        "from google.colab import drive\n",
        "drive.mount('/content/drive')"
      ],
      "metadata": {
        "colab": {
          "base_uri": "https://localhost:8080/"
        },
        "id": "cYgmXrZbJ0Uf",
        "outputId": "1f7bdd60-6d26-4a13-8442-aa45080e69f9"
      },
      "execution_count": 36,
      "outputs": [
        {
          "output_type": "stream",
          "name": "stdout",
          "text": [
            "Drive already mounted at /content/drive; to attempt to forcibly remount, call drive.mount(\"/content/drive\", force_remount=True).\n"
          ]
        }
      ]
    },
    {
      "cell_type": "code",
      "execution_count": 37,
      "metadata": {
        "id": "d18v7U7RJrpL"
      },
      "outputs": [],
      "source": [
        "import pandas as pd\n",
        "import numpy as np\n",
        "import matplotlib.pyplot as plt\n",
        "import seaborn as sns\n",
        "import os\n",
        "\n",
        "from scipy import stats\n",
        "from scipy.sparse import hstack, csr_matrix\n",
        "\n",
        "from sklearn.compose import ColumnTransformer\n",
        "from sklearn.impute import SimpleImputer\n",
        "from sklearn.pipeline import Pipeline\n",
        "from sklearn.preprocessing import StandardScaler, RobustScaler, MinMaxScaler, OneHotEncoder\n",
        "from sklearn.model_selection import GridSearchCV, StratifiedKFold\n",
        "from sklearn.model_selection import train_test_split\n",
        "from sklearn.ensemble import RandomForestClassifier\n",
        "from sklearn.decomposition import PCA\n",
        "from sklearn.model_selection import learning_curve\n",
        "from sklearn.model_selection import cross_val_score\n",
        "from sklearn.model_selection import cross_validate\n",
        "\n",
        "\n",
        "\n",
        "import xgboost as xgb\n",
        "from xgboost import plot_importance\n",
        "\n",
        "from imblearn.over_sampling import SMOTE, ADASYN\n",
        "from imblearn.under_sampling import RandomUnderSampler\n",
        "from imblearn.pipeline import Pipeline as ImbPipeline"
      ]
    },
    {
      "cell_type": "markdown",
      "metadata": {
        "id": "EK0gJioKJrpT"
      },
      "source": [
        "## Load preprocessed data"
      ]
    },
    {
      "cell_type": "code",
      "execution_count": 38,
      "metadata": {
        "colab": {
          "base_uri": "https://localhost:8080/"
        },
        "id": "NdZfz9YSJrpT",
        "outputId": "413668b8-d1fa-4624-e360-470d8c4cf81b"
      },
      "outputs": [
        {
          "output_type": "stream",
          "name": "stdout",
          "text": [
            "                  Time Origin Dest                 Carrier  Cancelled  \\\n",
            "0  2021-01-01 09:00:00    LAX  JFK  American Airlines Inc.      False   \n",
            "1  2021-01-02 09:00:00    LAX  JFK  American Airlines Inc.      False   \n",
            "2  2021-01-03 09:00:00    LAX  JFK  American Airlines Inc.      False   \n",
            "3  2021-01-03 09:00:00    LAX  JFK  American Airlines Inc.      False   \n",
            "4  2021-01-04 09:00:00    LAX  JFK  American Airlines Inc.      False   \n",
            "\n",
            "  CancellationReason  Delayed  DepDelayMinutes  CarrierDelay  WeatherDelay  \\\n",
            "0                NaN    False              0.0           NaN           NaN   \n",
            "1                NaN     True              2.0           NaN           NaN   \n",
            "2                NaN     True             28.0          28.0           0.0   \n",
            "3                NaN     True             28.0          28.0           0.0   \n",
            "4                NaN    False              0.0           NaN           NaN   \n",
            "\n",
            "   ...  LateAircraftDelay  Temperature  Feels_Like_Temperature  \\\n",
            "0  ...                NaN         56.0                    55.9   \n",
            "1  ...                NaN         54.0                    54.0   \n",
            "2  ...                0.0         52.0                    52.0   \n",
            "3  ...                0.0         53.0                    53.1   \n",
            "4  ...                NaN         51.0                    51.1   \n",
            "\n",
            "   Altimeter_Pressure  Sea_Level_Pressure  Visibility  Wind_Speed  Wind_Gust  \\\n",
            "0             1020.32              1020.1    16093.40         0.0      24.97   \n",
            "1             1025.74              1025.5    16093.40         0.0      24.97   \n",
            "2             1024.38              1015.2     4828.02         4.6      24.97   \n",
            "3             1024.38              1024.1     6437.36         4.6      24.97   \n",
            "4             1023.03              1015.2     6437.36         4.6      24.97   \n",
            "\n",
            "   Precipitation  Ice_Accretion_3hr  \n",
            "0            0.0                0.0  \n",
            "1            0.0                0.0  \n",
            "2            0.0                0.0  \n",
            "3            0.0                0.0  \n",
            "4            0.0                0.0  \n",
            "\n",
            "[5 rows x 22 columns]\n"
          ]
        }
      ],
      "source": [
        "# Load preprocessed data set from /data folder\n",
        "file_path = '/content/drive/My Drive/Colab Notebooks/lateguru/data/Top_5_Airports.csv'\n",
        "\n",
        "preprocessed_df = pd.read_csv(file_path)\n",
        "\n",
        "print(preprocessed_df.head())"
      ]
    },
    {
      "cell_type": "code",
      "execution_count": 39,
      "metadata": {
        "colab": {
          "base_uri": "https://localhost:8080/"
        },
        "id": "VvZhEM4nJrpU",
        "outputId": "c46b9d25-979b-43b3-e58c-8cdc246b451e"
      },
      "outputs": [
        {
          "output_type": "execute_result",
          "data": {
            "text/plain": [
              "Index(['Time', 'Origin', 'Dest', 'Carrier', 'Cancelled', 'CancellationReason',\n",
              "       'Delayed', 'DepDelayMinutes', 'CarrierDelay', 'WeatherDelay',\n",
              "       'NASDelay', 'SecurityDelay', 'LateAircraftDelay', 'Temperature',\n",
              "       'Feels_Like_Temperature', 'Altimeter_Pressure', 'Sea_Level_Pressure',\n",
              "       'Visibility', 'Wind_Speed', 'Wind_Gust', 'Precipitation',\n",
              "       'Ice_Accretion_3hr'],\n",
              "      dtype='object')"
            ]
          },
          "metadata": {},
          "execution_count": 39
        }
      ],
      "source": [
        "preprocessed_df.columns"
      ]
    },
    {
      "cell_type": "code",
      "source": [
        "preprocessed_df['Origin'].unique()"
      ],
      "metadata": {
        "colab": {
          "base_uri": "https://localhost:8080/"
        },
        "id": "ojcEZ7-K7yIx",
        "outputId": "8bb907ae-0b9c-4b38-9add-3b7f3191a6b4"
      },
      "execution_count": 40,
      "outputs": [
        {
          "output_type": "execute_result",
          "data": {
            "text/plain": [
              "array(['LAX', 'DFW', 'DEN', 'ATL', 'ORD'], dtype=object)"
            ]
          },
          "metadata": {},
          "execution_count": 40
        }
      ]
    },
    {
      "cell_type": "markdown",
      "source": [
        "Generate 'mean' delay for each carrier"
      ],
      "metadata": {
        "id": "72Cyrw-Z78LP"
      }
    },
    {
      "cell_type": "code",
      "source": [
        "#Create carrier_avg_delay\n",
        "preprocessed_df['Carrier'] = preprocessed_df['Carrier'].str.replace('.', '')\n",
        "carrier_avg_delay = preprocessed_df.groupby('Carrier')['DepDelayMinutes'].mean()\n",
        "preprocessed_df['CarrierAvgDelay'] = preprocessed_df['Carrier'].map(carrier_avg_delay)"
      ],
      "metadata": {
        "id": "E5J0mAhp8AnK"
      },
      "execution_count": 41,
      "outputs": []
    },
    {
      "cell_type": "code",
      "source": [
        "#Inspect CarrierAvgDelay\n",
        "preprocessed_df['CarrierAvgDelay']"
      ],
      "metadata": {
        "colab": {
          "base_uri": "https://localhost:8080/",
          "height": 458
        },
        "id": "q6yUjg1G8VMK",
        "outputId": "e365e7f9-bb32-49c8-8404-a24ed1a539e5"
      },
      "execution_count": 42,
      "outputs": [
        {
          "output_type": "execute_result",
          "data": {
            "text/plain": [
              "0          20.101924\n",
              "1          20.101924\n",
              "2          20.101924\n",
              "3          20.101924\n",
              "4          20.101924\n",
              "             ...    \n",
              "4618830    11.582883\n",
              "4618831    11.582883\n",
              "4618832    11.582883\n",
              "4618833    11.582883\n",
              "4618834    11.582883\n",
              "Name: CarrierAvgDelay, Length: 4618835, dtype: float64"
            ],
            "text/html": [
              "<div>\n",
              "<style scoped>\n",
              "    .dataframe tbody tr th:only-of-type {\n",
              "        vertical-align: middle;\n",
              "    }\n",
              "\n",
              "    .dataframe tbody tr th {\n",
              "        vertical-align: top;\n",
              "    }\n",
              "\n",
              "    .dataframe thead th {\n",
              "        text-align: right;\n",
              "    }\n",
              "</style>\n",
              "<table border=\"1\" class=\"dataframe\">\n",
              "  <thead>\n",
              "    <tr style=\"text-align: right;\">\n",
              "      <th></th>\n",
              "      <th>CarrierAvgDelay</th>\n",
              "    </tr>\n",
              "  </thead>\n",
              "  <tbody>\n",
              "    <tr>\n",
              "      <th>0</th>\n",
              "      <td>20.101924</td>\n",
              "    </tr>\n",
              "    <tr>\n",
              "      <th>1</th>\n",
              "      <td>20.101924</td>\n",
              "    </tr>\n",
              "    <tr>\n",
              "      <th>2</th>\n",
              "      <td>20.101924</td>\n",
              "    </tr>\n",
              "    <tr>\n",
              "      <th>3</th>\n",
              "      <td>20.101924</td>\n",
              "    </tr>\n",
              "    <tr>\n",
              "      <th>4</th>\n",
              "      <td>20.101924</td>\n",
              "    </tr>\n",
              "    <tr>\n",
              "      <th>...</th>\n",
              "      <td>...</td>\n",
              "    </tr>\n",
              "    <tr>\n",
              "      <th>4618830</th>\n",
              "      <td>11.582883</td>\n",
              "    </tr>\n",
              "    <tr>\n",
              "      <th>4618831</th>\n",
              "      <td>11.582883</td>\n",
              "    </tr>\n",
              "    <tr>\n",
              "      <th>4618832</th>\n",
              "      <td>11.582883</td>\n",
              "    </tr>\n",
              "    <tr>\n",
              "      <th>4618833</th>\n",
              "      <td>11.582883</td>\n",
              "    </tr>\n",
              "    <tr>\n",
              "      <th>4618834</th>\n",
              "      <td>11.582883</td>\n",
              "    </tr>\n",
              "  </tbody>\n",
              "</table>\n",
              "<p>4618835 rows × 1 columns</p>\n",
              "</div><br><label><b>dtype:</b> float64</label>"
            ]
          },
          "metadata": {},
          "execution_count": 42
        }
      ]
    },
    {
      "cell_type": "markdown",
      "source": [
        "Create 'Route' feature"
      ],
      "metadata": {
        "id": "dO00yptg8jjO"
      }
    },
    {
      "cell_type": "code",
      "source": [
        "preprocessed_df['Route'] = preprocessed_df['Origin'] + '_' + preprocessed_df['Dest']\n",
        "preprocessed_df['Route']"
      ],
      "metadata": {
        "colab": {
          "base_uri": "https://localhost:8080/",
          "height": 458
        },
        "id": "47hsCt5f8pTE",
        "outputId": "57c244e6-5055-4667-b31a-02ab039ad9e9"
      },
      "execution_count": 43,
      "outputs": [
        {
          "output_type": "execute_result",
          "data": {
            "text/plain": [
              "0          LAX_JFK\n",
              "1          LAX_JFK\n",
              "2          LAX_JFK\n",
              "3          LAX_JFK\n",
              "4          LAX_JFK\n",
              "            ...   \n",
              "4618830    ORD_DLH\n",
              "4618831    ORD_IND\n",
              "4618832    ORD_IND\n",
              "4618833    ORD_SDF\n",
              "4618834    ORD_PIT\n",
              "Name: Route, Length: 4618835, dtype: object"
            ],
            "text/html": [
              "<div>\n",
              "<style scoped>\n",
              "    .dataframe tbody tr th:only-of-type {\n",
              "        vertical-align: middle;\n",
              "    }\n",
              "\n",
              "    .dataframe tbody tr th {\n",
              "        vertical-align: top;\n",
              "    }\n",
              "\n",
              "    .dataframe thead th {\n",
              "        text-align: right;\n",
              "    }\n",
              "</style>\n",
              "<table border=\"1\" class=\"dataframe\">\n",
              "  <thead>\n",
              "    <tr style=\"text-align: right;\">\n",
              "      <th></th>\n",
              "      <th>Route</th>\n",
              "    </tr>\n",
              "  </thead>\n",
              "  <tbody>\n",
              "    <tr>\n",
              "      <th>0</th>\n",
              "      <td>LAX_JFK</td>\n",
              "    </tr>\n",
              "    <tr>\n",
              "      <th>1</th>\n",
              "      <td>LAX_JFK</td>\n",
              "    </tr>\n",
              "    <tr>\n",
              "      <th>2</th>\n",
              "      <td>LAX_JFK</td>\n",
              "    </tr>\n",
              "    <tr>\n",
              "      <th>3</th>\n",
              "      <td>LAX_JFK</td>\n",
              "    </tr>\n",
              "    <tr>\n",
              "      <th>4</th>\n",
              "      <td>LAX_JFK</td>\n",
              "    </tr>\n",
              "    <tr>\n",
              "      <th>...</th>\n",
              "      <td>...</td>\n",
              "    </tr>\n",
              "    <tr>\n",
              "      <th>4618830</th>\n",
              "      <td>ORD_DLH</td>\n",
              "    </tr>\n",
              "    <tr>\n",
              "      <th>4618831</th>\n",
              "      <td>ORD_IND</td>\n",
              "    </tr>\n",
              "    <tr>\n",
              "      <th>4618832</th>\n",
              "      <td>ORD_IND</td>\n",
              "    </tr>\n",
              "    <tr>\n",
              "      <th>4618833</th>\n",
              "      <td>ORD_SDF</td>\n",
              "    </tr>\n",
              "    <tr>\n",
              "      <th>4618834</th>\n",
              "      <td>ORD_PIT</td>\n",
              "    </tr>\n",
              "  </tbody>\n",
              "</table>\n",
              "<p>4618835 rows × 1 columns</p>\n",
              "</div><br><label><b>dtype:</b> object</label>"
            ]
          },
          "metadata": {},
          "execution_count": 43
        }
      ]
    },
    {
      "cell_type": "code",
      "source": [
        "preprocessed_df['Time'] = pd.to_datetime(preprocessed_df['Time'])\n",
        "preprocessed_df['DayOfWeek'] = preprocessed_df['Time'].dt.dayofweek\n",
        "preprocessed_df['HourOfDay'] = preprocessed_df['Time'].dt.hour\n",
        "preprocessed_df['Month'] = preprocessed_df['Time'].dt.month"
      ],
      "metadata": {
        "id": "bapsx9EdFOBU"
      },
      "execution_count": 44,
      "outputs": []
    },
    {
      "cell_type": "code",
      "source": [
        "#Check features\n",
        "preprocessed_df.columns"
      ],
      "metadata": {
        "colab": {
          "base_uri": "https://localhost:8080/"
        },
        "id": "zjrDiya78sVN",
        "outputId": "00248ed9-16fc-4829-aed6-08e9c3904d5d"
      },
      "execution_count": 45,
      "outputs": [
        {
          "output_type": "execute_result",
          "data": {
            "text/plain": [
              "Index(['Time', 'Origin', 'Dest', 'Carrier', 'Cancelled', 'CancellationReason',\n",
              "       'Delayed', 'DepDelayMinutes', 'CarrierDelay', 'WeatherDelay',\n",
              "       'NASDelay', 'SecurityDelay', 'LateAircraftDelay', 'Temperature',\n",
              "       'Feels_Like_Temperature', 'Altimeter_Pressure', 'Sea_Level_Pressure',\n",
              "       'Visibility', 'Wind_Speed', 'Wind_Gust', 'Precipitation',\n",
              "       'Ice_Accretion_3hr', 'CarrierAvgDelay', 'Route', 'DayOfWeek',\n",
              "       'HourOfDay', 'Month'],\n",
              "      dtype='object')"
            ]
          },
          "metadata": {},
          "execution_count": 45
        }
      ]
    },
    {
      "cell_type": "markdown",
      "source": [
        "Create new 'Features' set"
      ],
      "metadata": {
        "id": "9qVUvmq59StL"
      }
    },
    {
      "cell_type": "code",
      "source": [
        "features = [\n",
        "    'Origin', 'Dest', 'Route', 'Carrier', 'DayOfWeek', 'HourOfDay',\n",
        "    'Temperature', 'Feels_Like_Temperature', 'Altimeter_Pressure',\n",
        "    'Sea_Level_Pressure', 'Visibility', 'Wind_Speed', 'Wind_Gust',\n",
        "    'Precipitation', 'Ice_Accretion_3hr', 'CarrierAvgDelay', 'Month'\n",
        "]"
      ],
      "metadata": {
        "id": "An1wv8-69Zr7"
      },
      "execution_count": 46,
      "outputs": []
    },
    {
      "cell_type": "code",
      "source": [
        "# Check available columns in the DataFrame\n",
        "print(preprocessed_df.columns)\n",
        "\n",
        "# Check if specific columns are in the DataFrame\n",
        "missing_features = [col for col in ['DayOfWeek', 'HourOfDay', 'Month'] if col not in preprocessed_df.columns]\n",
        "if missing_features:\n",
        "    print(f\"Missing features: {missing_features}\")\n",
        "else:\n",
        "    print(\"All features are present.\")"
      ],
      "metadata": {
        "colab": {
          "base_uri": "https://localhost:8080/"
        },
        "id": "G0XonNovDw2_",
        "outputId": "dcac0984-daa2-4b7a-8584-065aa81e16e9"
      },
      "execution_count": 47,
      "outputs": [
        {
          "output_type": "stream",
          "name": "stdout",
          "text": [
            "Index(['Time', 'Origin', 'Dest', 'Carrier', 'Cancelled', 'CancellationReason',\n",
            "       'Delayed', 'DepDelayMinutes', 'CarrierDelay', 'WeatherDelay',\n",
            "       'NASDelay', 'SecurityDelay', 'LateAircraftDelay', 'Temperature',\n",
            "       'Feels_Like_Temperature', 'Altimeter_Pressure', 'Sea_Level_Pressure',\n",
            "       'Visibility', 'Wind_Speed', 'Wind_Gust', 'Precipitation',\n",
            "       'Ice_Accretion_3hr', 'CarrierAvgDelay', 'Route', 'DayOfWeek',\n",
            "       'HourOfDay', 'Month'],\n",
            "      dtype='object')\n",
            "All features are present.\n"
          ]
        }
      ]
    },
    {
      "cell_type": "markdown",
      "metadata": {
        "id": "noOhAmBxJrpU"
      },
      "source": [
        "### Modelling for y_pred = 'Weather_Delayed'"
      ]
    },
    {
      "cell_type": "code",
      "execution_count": 48,
      "metadata": {
        "id": "jbUi54s7JrpU"
      },
      "outputs": [],
      "source": [
        "# Define y_pred and drop X columns based on 'delayed' feature engineering\n",
        "X = preprocessed_df[features]"
      ]
    },
    {
      "cell_type": "code",
      "source": [
        "# Downcast integer and float columns to reduce memory usage\n",
        "for col in X.select_dtypes(include=['int']).columns:\n",
        "    X[col] = X[col].astype('int32')\n",
        "\n",
        "for col in X.select_dtypes(include=['float']).columns:\n",
        "    X[col] = X[col].astype('float32')"
      ],
      "metadata": {
        "colab": {
          "base_uri": "https://localhost:8080/"
        },
        "id": "HR7hybzN-Zi8",
        "outputId": "ad5b5949-fa63-4836-b034-2ce3ada6abc5"
      },
      "execution_count": 49,
      "outputs": [
        {
          "output_type": "stream",
          "name": "stderr",
          "text": [
            "<ipython-input-49-536a9ea1cf67>:3: SettingWithCopyWarning: \n",
            "A value is trying to be set on a copy of a slice from a DataFrame.\n",
            "Try using .loc[row_indexer,col_indexer] = value instead\n",
            "\n",
            "See the caveats in the documentation: https://pandas.pydata.org/pandas-docs/stable/user_guide/indexing.html#returning-a-view-versus-a-copy\n",
            "  X[col] = X[col].astype('int32')\n",
            "<ipython-input-49-536a9ea1cf67>:3: SettingWithCopyWarning: \n",
            "A value is trying to be set on a copy of a slice from a DataFrame.\n",
            "Try using .loc[row_indexer,col_indexer] = value instead\n",
            "\n",
            "See the caveats in the documentation: https://pandas.pydata.org/pandas-docs/stable/user_guide/indexing.html#returning-a-view-versus-a-copy\n",
            "  X[col] = X[col].astype('int32')\n",
            "<ipython-input-49-536a9ea1cf67>:3: SettingWithCopyWarning: \n",
            "A value is trying to be set on a copy of a slice from a DataFrame.\n",
            "Try using .loc[row_indexer,col_indexer] = value instead\n",
            "\n",
            "See the caveats in the documentation: https://pandas.pydata.org/pandas-docs/stable/user_guide/indexing.html#returning-a-view-versus-a-copy\n",
            "  X[col] = X[col].astype('int32')\n",
            "<ipython-input-49-536a9ea1cf67>:6: SettingWithCopyWarning: \n",
            "A value is trying to be set on a copy of a slice from a DataFrame.\n",
            "Try using .loc[row_indexer,col_indexer] = value instead\n",
            "\n",
            "See the caveats in the documentation: https://pandas.pydata.org/pandas-docs/stable/user_guide/indexing.html#returning-a-view-versus-a-copy\n",
            "  X[col] = X[col].astype('float32')\n",
            "<ipython-input-49-536a9ea1cf67>:6: SettingWithCopyWarning: \n",
            "A value is trying to be set on a copy of a slice from a DataFrame.\n",
            "Try using .loc[row_indexer,col_indexer] = value instead\n",
            "\n",
            "See the caveats in the documentation: https://pandas.pydata.org/pandas-docs/stable/user_guide/indexing.html#returning-a-view-versus-a-copy\n",
            "  X[col] = X[col].astype('float32')\n",
            "<ipython-input-49-536a9ea1cf67>:6: SettingWithCopyWarning: \n",
            "A value is trying to be set on a copy of a slice from a DataFrame.\n",
            "Try using .loc[row_indexer,col_indexer] = value instead\n",
            "\n",
            "See the caveats in the documentation: https://pandas.pydata.org/pandas-docs/stable/user_guide/indexing.html#returning-a-view-versus-a-copy\n",
            "  X[col] = X[col].astype('float32')\n",
            "<ipython-input-49-536a9ea1cf67>:6: SettingWithCopyWarning: \n",
            "A value is trying to be set on a copy of a slice from a DataFrame.\n",
            "Try using .loc[row_indexer,col_indexer] = value instead\n",
            "\n",
            "See the caveats in the documentation: https://pandas.pydata.org/pandas-docs/stable/user_guide/indexing.html#returning-a-view-versus-a-copy\n",
            "  X[col] = X[col].astype('float32')\n",
            "<ipython-input-49-536a9ea1cf67>:6: SettingWithCopyWarning: \n",
            "A value is trying to be set on a copy of a slice from a DataFrame.\n",
            "Try using .loc[row_indexer,col_indexer] = value instead\n",
            "\n",
            "See the caveats in the documentation: https://pandas.pydata.org/pandas-docs/stable/user_guide/indexing.html#returning-a-view-versus-a-copy\n",
            "  X[col] = X[col].astype('float32')\n",
            "<ipython-input-49-536a9ea1cf67>:6: SettingWithCopyWarning: \n",
            "A value is trying to be set on a copy of a slice from a DataFrame.\n",
            "Try using .loc[row_indexer,col_indexer] = value instead\n",
            "\n",
            "See the caveats in the documentation: https://pandas.pydata.org/pandas-docs/stable/user_guide/indexing.html#returning-a-view-versus-a-copy\n",
            "  X[col] = X[col].astype('float32')\n",
            "<ipython-input-49-536a9ea1cf67>:6: SettingWithCopyWarning: \n",
            "A value is trying to be set on a copy of a slice from a DataFrame.\n",
            "Try using .loc[row_indexer,col_indexer] = value instead\n",
            "\n",
            "See the caveats in the documentation: https://pandas.pydata.org/pandas-docs/stable/user_guide/indexing.html#returning-a-view-versus-a-copy\n",
            "  X[col] = X[col].astype('float32')\n",
            "<ipython-input-49-536a9ea1cf67>:6: SettingWithCopyWarning: \n",
            "A value is trying to be set on a copy of a slice from a DataFrame.\n",
            "Try using .loc[row_indexer,col_indexer] = value instead\n",
            "\n",
            "See the caveats in the documentation: https://pandas.pydata.org/pandas-docs/stable/user_guide/indexing.html#returning-a-view-versus-a-copy\n",
            "  X[col] = X[col].astype('float32')\n",
            "<ipython-input-49-536a9ea1cf67>:6: SettingWithCopyWarning: \n",
            "A value is trying to be set on a copy of a slice from a DataFrame.\n",
            "Try using .loc[row_indexer,col_indexer] = value instead\n",
            "\n",
            "See the caveats in the documentation: https://pandas.pydata.org/pandas-docs/stable/user_guide/indexing.html#returning-a-view-versus-a-copy\n",
            "  X[col] = X[col].astype('float32')\n",
            "<ipython-input-49-536a9ea1cf67>:6: SettingWithCopyWarning: \n",
            "A value is trying to be set on a copy of a slice from a DataFrame.\n",
            "Try using .loc[row_indexer,col_indexer] = value instead\n",
            "\n",
            "See the caveats in the documentation: https://pandas.pydata.org/pandas-docs/stable/user_guide/indexing.html#returning-a-view-versus-a-copy\n",
            "  X[col] = X[col].astype('float32')\n"
          ]
        }
      ]
    },
    {
      "cell_type": "code",
      "source": [
        "len(X)"
      ],
      "metadata": {
        "colab": {
          "base_uri": "https://localhost:8080/"
        },
        "id": "5yWLtK3Pk0Nr",
        "outputId": "212ccb38-7277-46b7-c84a-2ef0324584f5"
      },
      "execution_count": 50,
      "outputs": [
        {
          "output_type": "execute_result",
          "data": {
            "text/plain": [
              "4618835"
            ]
          },
          "metadata": {},
          "execution_count": 50
        }
      ]
    },
    {
      "cell_type": "code",
      "source": [
        "X.isna().sum()"
      ],
      "metadata": {
        "colab": {
          "base_uri": "https://localhost:8080/",
          "height": 617
        },
        "id": "LzTsr8lM-gPL",
        "outputId": "5561a9ad-4b47-4b73-f756-e6ec693a6fad"
      },
      "execution_count": 51,
      "outputs": [
        {
          "output_type": "execute_result",
          "data": {
            "text/plain": [
              "Origin                    0\n",
              "Dest                      0\n",
              "Route                     0\n",
              "Carrier                   0\n",
              "DayOfWeek                 0\n",
              "HourOfDay                 0\n",
              "Temperature               0\n",
              "Feels_Like_Temperature    0\n",
              "Altimeter_Pressure        0\n",
              "Sea_Level_Pressure        0\n",
              "Visibility                0\n",
              "Wind_Speed                0\n",
              "Wind_Gust                 0\n",
              "Precipitation             0\n",
              "Ice_Accretion_3hr         0\n",
              "CarrierAvgDelay           0\n",
              "Month                     0\n",
              "dtype: int64"
            ],
            "text/html": [
              "<div>\n",
              "<style scoped>\n",
              "    .dataframe tbody tr th:only-of-type {\n",
              "        vertical-align: middle;\n",
              "    }\n",
              "\n",
              "    .dataframe tbody tr th {\n",
              "        vertical-align: top;\n",
              "    }\n",
              "\n",
              "    .dataframe thead th {\n",
              "        text-align: right;\n",
              "    }\n",
              "</style>\n",
              "<table border=\"1\" class=\"dataframe\">\n",
              "  <thead>\n",
              "    <tr style=\"text-align: right;\">\n",
              "      <th></th>\n",
              "      <th>0</th>\n",
              "    </tr>\n",
              "  </thead>\n",
              "  <tbody>\n",
              "    <tr>\n",
              "      <th>Origin</th>\n",
              "      <td>0</td>\n",
              "    </tr>\n",
              "    <tr>\n",
              "      <th>Dest</th>\n",
              "      <td>0</td>\n",
              "    </tr>\n",
              "    <tr>\n",
              "      <th>Route</th>\n",
              "      <td>0</td>\n",
              "    </tr>\n",
              "    <tr>\n",
              "      <th>Carrier</th>\n",
              "      <td>0</td>\n",
              "    </tr>\n",
              "    <tr>\n",
              "      <th>DayOfWeek</th>\n",
              "      <td>0</td>\n",
              "    </tr>\n",
              "    <tr>\n",
              "      <th>HourOfDay</th>\n",
              "      <td>0</td>\n",
              "    </tr>\n",
              "    <tr>\n",
              "      <th>Temperature</th>\n",
              "      <td>0</td>\n",
              "    </tr>\n",
              "    <tr>\n",
              "      <th>Feels_Like_Temperature</th>\n",
              "      <td>0</td>\n",
              "    </tr>\n",
              "    <tr>\n",
              "      <th>Altimeter_Pressure</th>\n",
              "      <td>0</td>\n",
              "    </tr>\n",
              "    <tr>\n",
              "      <th>Sea_Level_Pressure</th>\n",
              "      <td>0</td>\n",
              "    </tr>\n",
              "    <tr>\n",
              "      <th>Visibility</th>\n",
              "      <td>0</td>\n",
              "    </tr>\n",
              "    <tr>\n",
              "      <th>Wind_Speed</th>\n",
              "      <td>0</td>\n",
              "    </tr>\n",
              "    <tr>\n",
              "      <th>Wind_Gust</th>\n",
              "      <td>0</td>\n",
              "    </tr>\n",
              "    <tr>\n",
              "      <th>Precipitation</th>\n",
              "      <td>0</td>\n",
              "    </tr>\n",
              "    <tr>\n",
              "      <th>Ice_Accretion_3hr</th>\n",
              "      <td>0</td>\n",
              "    </tr>\n",
              "    <tr>\n",
              "      <th>CarrierAvgDelay</th>\n",
              "      <td>0</td>\n",
              "    </tr>\n",
              "    <tr>\n",
              "      <th>Month</th>\n",
              "      <td>0</td>\n",
              "    </tr>\n",
              "  </tbody>\n",
              "</table>\n",
              "</div><br><label><b>dtype:</b> int64</label>"
            ]
          },
          "metadata": {},
          "execution_count": 51
        }
      ]
    },
    {
      "cell_type": "code",
      "source": [
        "categorical_features = ['Origin', 'Dest', 'Route', 'Carrier']\n",
        "numerical_features = [\n",
        "    'DayOfWeek', 'HourOfDay', 'Temperature', 'Feels_Like_Temperature',\n",
        "    'Altimeter_Pressure', 'Sea_Level_Pressure', 'Visibility',\n",
        "    'Wind_Speed', 'Wind_Gust', 'Precipitation', 'Ice_Accretion_3hr',\n",
        "    'CarrierAvgDelay', 'Month'\n",
        "]\n",
        "\n",
        "categorical_transformer = Pipeline(steps=[\n",
        "    ('imputer', SimpleImputer(strategy='most_frequent')),\n",
        "    ('onehot', OneHotEncoder(handle_unknown='ignore'))\n",
        "])\n",
        "\n",
        "numerical_transformer = Pipeline(steps=[\n",
        "    ('imputer', SimpleImputer(strategy='mean')),\n",
        "    ('scaler', StandardScaler())\n",
        "])\n",
        "\n",
        "preprocessor = ColumnTransformer(\n",
        "    transformers=[\n",
        "        ('num', numerical_transformer, numerical_features),\n",
        "        ('cat', categorical_transformer, categorical_features)\n",
        "    ])"
      ],
      "metadata": {
        "id": "x034geKV-ipU"
      },
      "execution_count": 52,
      "outputs": []
    },
    {
      "cell_type": "code",
      "source": [
        "# # Apply SMOTE to balance the training data\n",
        "# smote = SMOTE(random_state=42)\n",
        "# X_train_balanced, y_train_balanced = smote.fit_resample(X_train_preprocessed, y_train)"
      ],
      "metadata": {
        "id": "97zZ9VgDAKAE"
      },
      "execution_count": 53,
      "outputs": []
    },
    {
      "cell_type": "code",
      "source": [
        "y = preprocessed_df['Delayed'].astype(int)"
      ],
      "metadata": {
        "id": "SBAngeXx-mWQ"
      },
      "execution_count": 54,
      "outputs": []
    },
    {
      "cell_type": "code",
      "source": [
        "X_train, X_test, y_train, y_test = train_test_split(X, y, test_size=0.2, random_state=42, stratify=y)"
      ],
      "metadata": {
        "id": "Bmksub_d-1Zp"
      },
      "execution_count": 55,
      "outputs": []
    },
    {
      "cell_type": "markdown",
      "metadata": {
        "id": "8DO9PqRwJrpU"
      },
      "source": [
        "### Split into train/test (applicable to all model variations)"
      ]
    },
    {
      "cell_type": "code",
      "source": [
        "len(X_train)"
      ],
      "metadata": {
        "colab": {
          "base_uri": "https://localhost:8080/"
        },
        "id": "BV7rmDTHkawC",
        "outputId": "8971fd40-7e22-40c5-b670-89b000798498"
      },
      "execution_count": 56,
      "outputs": [
        {
          "output_type": "execute_result",
          "data": {
            "text/plain": [
              "3695068"
            ]
          },
          "metadata": {},
          "execution_count": 56
        }
      ]
    },
    {
      "cell_type": "code",
      "source": [
        "len(X_test)"
      ],
      "metadata": {
        "colab": {
          "base_uri": "https://localhost:8080/"
        },
        "id": "c4HjjPWZkk4_",
        "outputId": "15e5521f-c6c9-4fda-be59-a1b2d6f14201"
      },
      "execution_count": 57,
      "outputs": [
        {
          "output_type": "execute_result",
          "data": {
            "text/plain": [
              "923767"
            ]
          },
          "metadata": {},
          "execution_count": 57
        }
      ]
    },
    {
      "cell_type": "code",
      "source": [
        "len(y_train)"
      ],
      "metadata": {
        "colab": {
          "base_uri": "https://localhost:8080/"
        },
        "id": "JR9bmDUHko3d",
        "outputId": "00078f45-27e7-42a1-9e89-4aea69087139"
      },
      "execution_count": 58,
      "outputs": [
        {
          "output_type": "execute_result",
          "data": {
            "text/plain": [
              "3695068"
            ]
          },
          "metadata": {},
          "execution_count": 58
        }
      ]
    },
    {
      "cell_type": "code",
      "source": [
        "len(y_test)"
      ],
      "metadata": {
        "colab": {
          "base_uri": "https://localhost:8080/"
        },
        "id": "NSBn5ZSLkrqO",
        "outputId": "d9a9c618-29fd-46e7-c773-ef3f19e7e2d0"
      },
      "execution_count": 59,
      "outputs": [
        {
          "output_type": "execute_result",
          "data": {
            "text/plain": [
              "923767"
            ]
          },
          "metadata": {},
          "execution_count": 59
        }
      ]
    },
    {
      "cell_type": "code",
      "source": [
        "# Define the XGBClassifier with the specified parameters\n",
        "xgb_model_top5 = xgb.XGBClassifier(\n",
        "    use_label_encoder=False,  # Disable the use of the label encoder\n",
        "    eval_metric='logloss',    # Logloss as the evaluation metric\n",
        "    random_state=42,          # For reproducibility\n",
        "    max_depth=7,              # Maximum depth of the trees\n",
        "    n_estimators=500,         # Number of boosting rounds\n",
        "    learning_rate=0.01,       # Learning rate for the boosting process\n",
        "    n_jobs=4,                 # Number of parallel threads\n",
        "    min_child_weight=5,       # Minimum sum of instance weight (hessian) needed in a child\n",
        "    gamma=0.3                 # Minimum loss reduction required to make a further partition\n",
        ")\n",
        "\n",
        "pipeline = Pipeline(steps=[\n",
        "    ('preprocessor', preprocessor),\n",
        "    ('classifier', xgb_model_top5)\n",
        "])"
      ],
      "metadata": {
        "id": "0izLzEuj_TsT"
      },
      "execution_count": 60,
      "outputs": []
    },
    {
      "cell_type": "code",
      "source": [
        "stratified_kfold = StratifiedKFold(n_splits=5, shuffle=True, random_state=42)"
      ],
      "metadata": {
        "id": "CYo7WpDh_WqF"
      },
      "execution_count": 61,
      "outputs": []
    },
    {
      "cell_type": "code",
      "source": [
        "cv_results = cross_validate(\n",
        "    pipeline,\n",
        "    X_train,\n",
        "    y_train,\n",
        "    cv=stratified_kfold,  # Use StratifiedKFold for cross-validation\n",
        "    scoring=['accuracy', 'precision', 'recall', 'f1', 'roc_auc']\n",
        ")\n",
        "\n",
        "# Print the cross-validation results for each metric\n",
        "for metric in ['accuracy', 'precision', 'recall', 'f1', 'roc_auc']:\n",
        "    print(f\"{metric}: {cv_results['test_' + metric].mean():.4f} (+/- {cv_results['test_' + metric].std():.4f})\")"
      ],
      "metadata": {
        "colab": {
          "base_uri": "https://localhost:8080/"
        },
        "id": "31I7u3FtA9fd",
        "outputId": "9579246f-e6e5-45ab-822a-dfbac50d3e74"
      },
      "execution_count": 62,
      "outputs": [
        {
          "output_type": "stream",
          "name": "stderr",
          "text": [
            "/usr/local/lib/python3.10/dist-packages/xgboost/core.py:158: UserWarning: [06:44:18] WARNING: /workspace/src/learner.cc:740: \n",
            "Parameters: { \"use_label_encoder\" } are not used.\n",
            "\n",
            "  warnings.warn(smsg, UserWarning)\n",
            "/usr/local/lib/python3.10/dist-packages/xgboost/core.py:158: UserWarning: [06:46:12] WARNING: /workspace/src/learner.cc:740: \n",
            "Parameters: { \"use_label_encoder\" } are not used.\n",
            "\n",
            "  warnings.warn(smsg, UserWarning)\n",
            "/usr/local/lib/python3.10/dist-packages/xgboost/core.py:158: UserWarning: [06:48:05] WARNING: /workspace/src/learner.cc:740: \n",
            "Parameters: { \"use_label_encoder\" } are not used.\n",
            "\n",
            "  warnings.warn(smsg, UserWarning)\n",
            "/usr/local/lib/python3.10/dist-packages/xgboost/core.py:158: UserWarning: [06:49:58] WARNING: /workspace/src/learner.cc:740: \n",
            "Parameters: { \"use_label_encoder\" } are not used.\n",
            "\n",
            "  warnings.warn(smsg, UserWarning)\n",
            "/usr/local/lib/python3.10/dist-packages/xgboost/core.py:158: UserWarning: [06:51:49] WARNING: /workspace/src/learner.cc:740: \n",
            "Parameters: { \"use_label_encoder\" } are not used.\n",
            "\n",
            "  warnings.warn(smsg, UserWarning)\n"
          ]
        },
        {
          "output_type": "stream",
          "name": "stdout",
          "text": [
            "accuracy: 0.6715 (+/- 0.0005)\n",
            "precision: 0.6630 (+/- 0.0013)\n",
            "recall: 0.3657 (+/- 0.0007)\n",
            "f1: 0.4714 (+/- 0.0007)\n",
            "roc_auc: 0.7002 (+/- 0.0006)\n"
          ]
        }
      ]
    },
    {
      "cell_type": "code",
      "source": [
        "# After cross-validation, fit the pipeline on the entire training data\n",
        "pipeline.fit(X_train, y_train)"
      ],
      "metadata": {
        "colab": {
          "base_uri": "https://localhost:8080/",
          "height": 292
        },
        "id": "q74hPqAWCLVn",
        "outputId": "ed6225d7-d7ea-4008-e7db-9ca6c8fcb774"
      },
      "execution_count": null,
      "outputs": [
        {
          "output_type": "stream",
          "name": "stderr",
          "text": [
            "/usr/local/lib/python3.10/dist-packages/xgboost/core.py:158: UserWarning: [06:53:46] WARNING: /workspace/src/learner.cc:740: \n",
            "Parameters: { \"use_label_encoder\" } are not used.\n",
            "\n",
            "  warnings.warn(smsg, UserWarning)\n"
          ]
        },
        {
          "output_type": "execute_result",
          "data": {
            "text/plain": [
              "Pipeline(steps=[('preprocessor',\n",
              "                 ColumnTransformer(transformers=[('num',\n",
              "                                                  Pipeline(steps=[('imputer',\n",
              "                                                                   SimpleImputer()),\n",
              "                                                                  ('scaler',\n",
              "                                                                   StandardScaler())]),\n",
              "                                                  ['DayOfWeek', 'HourOfDay',\n",
              "                                                   'Temperature',\n",
              "                                                   'Feels_Like_Temperature',\n",
              "                                                   'Altimeter_Pressure',\n",
              "                                                   'Sea_Level_Pressure',\n",
              "                                                   'Visibility', 'Wind_Speed',\n",
              "                                                   'Wind_Gust', 'Precipitation',\n",
              "                                                   'Ice_Accretion_3hr',\n",
              "                                                   'CarrierAvgDelay',\n",
              "                                                   'Month'...\n",
              "                               feature_types=None, gamma=0.3, grow_policy=None,\n",
              "                               importance_type=None,\n",
              "                               interaction_constraints=None, learning_rate=0.01,\n",
              "                               max_bin=None, max_cat_threshold=None,\n",
              "                               max_cat_to_onehot=None, max_delta_step=None,\n",
              "                               max_depth=7, max_leaves=None, min_child_weight=5,\n",
              "                               missing=nan, monotone_constraints=None,\n",
              "                               multi_strategy=None, n_estimators=500, n_jobs=4,\n",
              "                               num_parallel_tree=None, random_state=42, ...))])"
            ],
            "text/html": [
              "<style>#sk-container-id-2 {color: black;}#sk-container-id-2 pre{padding: 0;}#sk-container-id-2 div.sk-toggleable {background-color: white;}#sk-container-id-2 label.sk-toggleable__label {cursor: pointer;display: block;width: 100%;margin-bottom: 0;padding: 0.3em;box-sizing: border-box;text-align: center;}#sk-container-id-2 label.sk-toggleable__label-arrow:before {content: \"▸\";float: left;margin-right: 0.25em;color: #696969;}#sk-container-id-2 label.sk-toggleable__label-arrow:hover:before {color: black;}#sk-container-id-2 div.sk-estimator:hover label.sk-toggleable__label-arrow:before {color: black;}#sk-container-id-2 div.sk-toggleable__content {max-height: 0;max-width: 0;overflow: hidden;text-align: left;background-color: #f0f8ff;}#sk-container-id-2 div.sk-toggleable__content pre {margin: 0.2em;color: black;border-radius: 0.25em;background-color: #f0f8ff;}#sk-container-id-2 input.sk-toggleable__control:checked~div.sk-toggleable__content {max-height: 200px;max-width: 100%;overflow: auto;}#sk-container-id-2 input.sk-toggleable__control:checked~label.sk-toggleable__label-arrow:before {content: \"▾\";}#sk-container-id-2 div.sk-estimator input.sk-toggleable__control:checked~label.sk-toggleable__label {background-color: #d4ebff;}#sk-container-id-2 div.sk-label input.sk-toggleable__control:checked~label.sk-toggleable__label {background-color: #d4ebff;}#sk-container-id-2 input.sk-hidden--visually {border: 0;clip: rect(1px 1px 1px 1px);clip: rect(1px, 1px, 1px, 1px);height: 1px;margin: -1px;overflow: hidden;padding: 0;position: absolute;width: 1px;}#sk-container-id-2 div.sk-estimator {font-family: monospace;background-color: #f0f8ff;border: 1px dotted black;border-radius: 0.25em;box-sizing: border-box;margin-bottom: 0.5em;}#sk-container-id-2 div.sk-estimator:hover {background-color: #d4ebff;}#sk-container-id-2 div.sk-parallel-item::after {content: \"\";width: 100%;border-bottom: 1px solid gray;flex-grow: 1;}#sk-container-id-2 div.sk-label:hover label.sk-toggleable__label {background-color: #d4ebff;}#sk-container-id-2 div.sk-serial::before {content: \"\";position: absolute;border-left: 1px solid gray;box-sizing: border-box;top: 0;bottom: 0;left: 50%;z-index: 0;}#sk-container-id-2 div.sk-serial {display: flex;flex-direction: column;align-items: center;background-color: white;padding-right: 0.2em;padding-left: 0.2em;position: relative;}#sk-container-id-2 div.sk-item {position: relative;z-index: 1;}#sk-container-id-2 div.sk-parallel {display: flex;align-items: stretch;justify-content: center;background-color: white;position: relative;}#sk-container-id-2 div.sk-item::before, #sk-container-id-2 div.sk-parallel-item::before {content: \"\";position: absolute;border-left: 1px solid gray;box-sizing: border-box;top: 0;bottom: 0;left: 50%;z-index: -1;}#sk-container-id-2 div.sk-parallel-item {display: flex;flex-direction: column;z-index: 1;position: relative;background-color: white;}#sk-container-id-2 div.sk-parallel-item:first-child::after {align-self: flex-end;width: 50%;}#sk-container-id-2 div.sk-parallel-item:last-child::after {align-self: flex-start;width: 50%;}#sk-container-id-2 div.sk-parallel-item:only-child::after {width: 0;}#sk-container-id-2 div.sk-dashed-wrapped {border: 1px dashed gray;margin: 0 0.4em 0.5em 0.4em;box-sizing: border-box;padding-bottom: 0.4em;background-color: white;}#sk-container-id-2 div.sk-label label {font-family: monospace;font-weight: bold;display: inline-block;line-height: 1.2em;}#sk-container-id-2 div.sk-label-container {text-align: center;}#sk-container-id-2 div.sk-container {/* jupyter's `normalize.less` sets `[hidden] { display: none; }` but bootstrap.min.css set `[hidden] { display: none !important; }` so we also need the `!important` here to be able to override the default hidden behavior on the sphinx rendered scikit-learn.org. See: https://github.com/scikit-learn/scikit-learn/issues/21755 */display: inline-block !important;position: relative;}#sk-container-id-2 div.sk-text-repr-fallback {display: none;}</style><div id=\"sk-container-id-2\" class=\"sk-top-container\"><div class=\"sk-text-repr-fallback\"><pre>Pipeline(steps=[(&#x27;preprocessor&#x27;,\n",
              "                 ColumnTransformer(transformers=[(&#x27;num&#x27;,\n",
              "                                                  Pipeline(steps=[(&#x27;imputer&#x27;,\n",
              "                                                                   SimpleImputer()),\n",
              "                                                                  (&#x27;scaler&#x27;,\n",
              "                                                                   StandardScaler())]),\n",
              "                                                  [&#x27;DayOfWeek&#x27;, &#x27;HourOfDay&#x27;,\n",
              "                                                   &#x27;Temperature&#x27;,\n",
              "                                                   &#x27;Feels_Like_Temperature&#x27;,\n",
              "                                                   &#x27;Altimeter_Pressure&#x27;,\n",
              "                                                   &#x27;Sea_Level_Pressure&#x27;,\n",
              "                                                   &#x27;Visibility&#x27;, &#x27;Wind_Speed&#x27;,\n",
              "                                                   &#x27;Wind_Gust&#x27;, &#x27;Precipitation&#x27;,\n",
              "                                                   &#x27;Ice_Accretion_3hr&#x27;,\n",
              "                                                   &#x27;CarrierAvgDelay&#x27;,\n",
              "                                                   &#x27;Month&#x27;...\n",
              "                               feature_types=None, gamma=0.3, grow_policy=None,\n",
              "                               importance_type=None,\n",
              "                               interaction_constraints=None, learning_rate=0.01,\n",
              "                               max_bin=None, max_cat_threshold=None,\n",
              "                               max_cat_to_onehot=None, max_delta_step=None,\n",
              "                               max_depth=7, max_leaves=None, min_child_weight=5,\n",
              "                               missing=nan, monotone_constraints=None,\n",
              "                               multi_strategy=None, n_estimators=500, n_jobs=4,\n",
              "                               num_parallel_tree=None, random_state=42, ...))])</pre><b>In a Jupyter environment, please rerun this cell to show the HTML representation or trust the notebook. <br />On GitHub, the HTML representation is unable to render, please try loading this page with nbviewer.org.</b></div><div class=\"sk-container\" hidden><div class=\"sk-item sk-dashed-wrapped\"><div class=\"sk-label-container\"><div class=\"sk-label sk-toggleable\"><input class=\"sk-toggleable__control sk-hidden--visually\" id=\"sk-estimator-id-10\" type=\"checkbox\" ><label for=\"sk-estimator-id-10\" class=\"sk-toggleable__label sk-toggleable__label-arrow\">Pipeline</label><div class=\"sk-toggleable__content\"><pre>Pipeline(steps=[(&#x27;preprocessor&#x27;,\n",
              "                 ColumnTransformer(transformers=[(&#x27;num&#x27;,\n",
              "                                                  Pipeline(steps=[(&#x27;imputer&#x27;,\n",
              "                                                                   SimpleImputer()),\n",
              "                                                                  (&#x27;scaler&#x27;,\n",
              "                                                                   StandardScaler())]),\n",
              "                                                  [&#x27;DayOfWeek&#x27;, &#x27;HourOfDay&#x27;,\n",
              "                                                   &#x27;Temperature&#x27;,\n",
              "                                                   &#x27;Feels_Like_Temperature&#x27;,\n",
              "                                                   &#x27;Altimeter_Pressure&#x27;,\n",
              "                                                   &#x27;Sea_Level_Pressure&#x27;,\n",
              "                                                   &#x27;Visibility&#x27;, &#x27;Wind_Speed&#x27;,\n",
              "                                                   &#x27;Wind_Gust&#x27;, &#x27;Precipitation&#x27;,\n",
              "                                                   &#x27;Ice_Accretion_3hr&#x27;,\n",
              "                                                   &#x27;CarrierAvgDelay&#x27;,\n",
              "                                                   &#x27;Month&#x27;...\n",
              "                               feature_types=None, gamma=0.3, grow_policy=None,\n",
              "                               importance_type=None,\n",
              "                               interaction_constraints=None, learning_rate=0.01,\n",
              "                               max_bin=None, max_cat_threshold=None,\n",
              "                               max_cat_to_onehot=None, max_delta_step=None,\n",
              "                               max_depth=7, max_leaves=None, min_child_weight=5,\n",
              "                               missing=nan, monotone_constraints=None,\n",
              "                               multi_strategy=None, n_estimators=500, n_jobs=4,\n",
              "                               num_parallel_tree=None, random_state=42, ...))])</pre></div></div></div><div class=\"sk-serial\"><div class=\"sk-item sk-dashed-wrapped\"><div class=\"sk-label-container\"><div class=\"sk-label sk-toggleable\"><input class=\"sk-toggleable__control sk-hidden--visually\" id=\"sk-estimator-id-11\" type=\"checkbox\" ><label for=\"sk-estimator-id-11\" class=\"sk-toggleable__label sk-toggleable__label-arrow\">preprocessor: ColumnTransformer</label><div class=\"sk-toggleable__content\"><pre>ColumnTransformer(transformers=[(&#x27;num&#x27;,\n",
              "                                 Pipeline(steps=[(&#x27;imputer&#x27;, SimpleImputer()),\n",
              "                                                 (&#x27;scaler&#x27;, StandardScaler())]),\n",
              "                                 [&#x27;DayOfWeek&#x27;, &#x27;HourOfDay&#x27;, &#x27;Temperature&#x27;,\n",
              "                                  &#x27;Feels_Like_Temperature&#x27;,\n",
              "                                  &#x27;Altimeter_Pressure&#x27;, &#x27;Sea_Level_Pressure&#x27;,\n",
              "                                  &#x27;Visibility&#x27;, &#x27;Wind_Speed&#x27;, &#x27;Wind_Gust&#x27;,\n",
              "                                  &#x27;Precipitation&#x27;, &#x27;Ice_Accretion_3hr&#x27;,\n",
              "                                  &#x27;CarrierAvgDelay&#x27;, &#x27;Month&#x27;]),\n",
              "                                (&#x27;cat&#x27;,\n",
              "                                 Pipeline(steps=[(&#x27;imputer&#x27;,\n",
              "                                                  SimpleImputer(strategy=&#x27;most_frequent&#x27;)),\n",
              "                                                 (&#x27;onehot&#x27;,\n",
              "                                                  OneHotEncoder(handle_unknown=&#x27;ignore&#x27;))]),\n",
              "                                 [&#x27;Origin&#x27;, &#x27;Dest&#x27;, &#x27;Route&#x27;, &#x27;Carrier&#x27;])])</pre></div></div></div><div class=\"sk-parallel\"><div class=\"sk-parallel-item\"><div class=\"sk-item\"><div class=\"sk-label-container\"><div class=\"sk-label sk-toggleable\"><input class=\"sk-toggleable__control sk-hidden--visually\" id=\"sk-estimator-id-12\" type=\"checkbox\" ><label for=\"sk-estimator-id-12\" class=\"sk-toggleable__label sk-toggleable__label-arrow\">num</label><div class=\"sk-toggleable__content\"><pre>[&#x27;DayOfWeek&#x27;, &#x27;HourOfDay&#x27;, &#x27;Temperature&#x27;, &#x27;Feels_Like_Temperature&#x27;, &#x27;Altimeter_Pressure&#x27;, &#x27;Sea_Level_Pressure&#x27;, &#x27;Visibility&#x27;, &#x27;Wind_Speed&#x27;, &#x27;Wind_Gust&#x27;, &#x27;Precipitation&#x27;, &#x27;Ice_Accretion_3hr&#x27;, &#x27;CarrierAvgDelay&#x27;, &#x27;Month&#x27;]</pre></div></div></div><div class=\"sk-serial\"><div class=\"sk-item\"><div class=\"sk-serial\"><div class=\"sk-item\"><div class=\"sk-estimator sk-toggleable\"><input class=\"sk-toggleable__control sk-hidden--visually\" id=\"sk-estimator-id-13\" type=\"checkbox\" ><label for=\"sk-estimator-id-13\" class=\"sk-toggleable__label sk-toggleable__label-arrow\">SimpleImputer</label><div class=\"sk-toggleable__content\"><pre>SimpleImputer()</pre></div></div></div><div class=\"sk-item\"><div class=\"sk-estimator sk-toggleable\"><input class=\"sk-toggleable__control sk-hidden--visually\" id=\"sk-estimator-id-14\" type=\"checkbox\" ><label for=\"sk-estimator-id-14\" class=\"sk-toggleable__label sk-toggleable__label-arrow\">StandardScaler</label><div class=\"sk-toggleable__content\"><pre>StandardScaler()</pre></div></div></div></div></div></div></div></div><div class=\"sk-parallel-item\"><div class=\"sk-item\"><div class=\"sk-label-container\"><div class=\"sk-label sk-toggleable\"><input class=\"sk-toggleable__control sk-hidden--visually\" id=\"sk-estimator-id-15\" type=\"checkbox\" ><label for=\"sk-estimator-id-15\" class=\"sk-toggleable__label sk-toggleable__label-arrow\">cat</label><div class=\"sk-toggleable__content\"><pre>[&#x27;Origin&#x27;, &#x27;Dest&#x27;, &#x27;Route&#x27;, &#x27;Carrier&#x27;]</pre></div></div></div><div class=\"sk-serial\"><div class=\"sk-item\"><div class=\"sk-serial\"><div class=\"sk-item\"><div class=\"sk-estimator sk-toggleable\"><input class=\"sk-toggleable__control sk-hidden--visually\" id=\"sk-estimator-id-16\" type=\"checkbox\" ><label for=\"sk-estimator-id-16\" class=\"sk-toggleable__label sk-toggleable__label-arrow\">SimpleImputer</label><div class=\"sk-toggleable__content\"><pre>SimpleImputer(strategy=&#x27;most_frequent&#x27;)</pre></div></div></div><div class=\"sk-item\"><div class=\"sk-estimator sk-toggleable\"><input class=\"sk-toggleable__control sk-hidden--visually\" id=\"sk-estimator-id-17\" type=\"checkbox\" ><label for=\"sk-estimator-id-17\" class=\"sk-toggleable__label sk-toggleable__label-arrow\">OneHotEncoder</label><div class=\"sk-toggleable__content\"><pre>OneHotEncoder(handle_unknown=&#x27;ignore&#x27;)</pre></div></div></div></div></div></div></div></div></div></div><div class=\"sk-item\"><div class=\"sk-estimator sk-toggleable\"><input class=\"sk-toggleable__control sk-hidden--visually\" id=\"sk-estimator-id-18\" type=\"checkbox\" ><label for=\"sk-estimator-id-18\" class=\"sk-toggleable__label sk-toggleable__label-arrow\">XGBClassifier</label><div class=\"sk-toggleable__content\"><pre>XGBClassifier(base_score=None, booster=None, callbacks=None,\n",
              "              colsample_bylevel=None, colsample_bynode=None,\n",
              "              colsample_bytree=None, device=None, early_stopping_rounds=None,\n",
              "              enable_categorical=False, eval_metric=&#x27;logloss&#x27;,\n",
              "              feature_types=None, gamma=0.3, grow_policy=None,\n",
              "              importance_type=None, interaction_constraints=None,\n",
              "              learning_rate=0.01, max_bin=None, max_cat_threshold=None,\n",
              "              max_cat_to_onehot=None, max_delta_step=None, max_depth=7,\n",
              "              max_leaves=None, min_child_weight=5, missing=nan,\n",
              "              monotone_constraints=None, multi_strategy=None, n_estimators=500,\n",
              "              n_jobs=4, num_parallel_tree=None, random_state=42, ...)</pre></div></div></div></div></div></div></div>"
            ]
          },
          "metadata": {},
          "execution_count": 63
        }
      ]
    },
    {
      "cell_type": "code",
      "source": [
        "import os\n",
        "import joblib\n",
        "\n",
        "# Define the directory path where models should be saved and loaded\n",
        "model_directory = '/content/drive/My Drive/Colab Notebooks/lateguru/data'\n",
        "\n",
        "# Save the model\n",
        "def save_model(model, filename):\n",
        "    filepath = os.path.join(model_directory, filename)\n",
        "    joblib.dump(model, filepath)\n",
        "    print(f\"Model saved to {filepath}\")\n",
        "\n",
        "# Load the model\n",
        "def load_model(filename):\n",
        "    filepath = os.path.join(model_directory, filename)\n",
        "    model = joblib.load(filepath)\n",
        "    print(f\"Model loaded from {filepath}\")\n",
        "    return model\n",
        "\n",
        "# Save the model\n",
        "save_model(pipeline, 'xgb_model_top5.pkl')"
      ],
      "metadata": {
        "id": "8tI61D0b_cVN"
      },
      "execution_count": null,
      "outputs": []
    },
    {
      "cell_type": "markdown",
      "metadata": {
        "id": "apmwRKoEJrpV"
      },
      "source": [
        "### Learning Curves"
      ]
    },
    {
      "cell_type": "code",
      "execution_count": null,
      "metadata": {
        "id": "tDj3oVcYJrpV"
      },
      "outputs": [],
      "source": [
        "# # Define more granular training sizes and reduce to a smaller range\n",
        "# train_sizes = np.linspace(0.1, 1.0, 5)  # Choose 5 points from 10% to 100% of the training data\n",
        "\n",
        "# # Calculate learning curve using a smaller subset for faster computation\n",
        "# train_sizes, train_scores, test_scores = learning_curve(\n",
        "#     estimator=xgb_model_weather,\n",
        "#     X=X_train_balanced.sample(frac=0.1, random_state=42),  # Use 10% of the training data for speed\n",
        "#     y=y_train_balanced.sample(frac=0.1, random_state=42),\n",
        "#     train_sizes=train_sizes,\n",
        "#     cv=3,  # 3-fold cross-validation\n",
        "#     scoring='recall',  # Use Recall score to measure performance\n",
        "#     n_jobs=4,\n",
        "\n",
        "\n",
        "\n",
        "# )"
      ]
    },
    {
      "cell_type": "code",
      "source": [
        "# # Calculate mean and standard deviation for training scores\n",
        "# train_mean = np.mean(train_scores, axis=1)\n",
        "# train_std = np.std(train_scores, axis=1)"
      ],
      "metadata": {
        "id": "xr7sjacERWEO"
      },
      "execution_count": null,
      "outputs": []
    },
    {
      "cell_type": "code",
      "source": [
        "# # Calculate mean and standard deviation for test scores\n",
        "# test_mean = np.mean(test_scores, axis=1)\n",
        "# test_std = np.std(test_scores, axis=1)"
      ],
      "metadata": {
        "id": "FE3zuIBuRc4V"
      },
      "execution_count": null,
      "outputs": []
    },
    {
      "cell_type": "code",
      "source": [
        "# # Plot learning curve\n",
        "# plt.figure(figsize=(10, 6))\n",
        "\n",
        "# # Plot mean training recall scores\n",
        "# plt.plot(train_sizes, train_mean, 'o-', color='r', label='Training Recall', linestyle='--')\n",
        "# # Plot mean cross-validation recall scores\n",
        "# plt.plot(train_sizes, test_mean, 'o-', color='g', label='Cross-Validation Recall')\n",
        "\n",
        "# # Add error bars to indicate standard deviation\n",
        "# plt.errorbar(train_sizes, train_mean, yerr=train_std, fmt='o', color='r', alpha=0.5)\n",
        "# plt.errorbar(train_sizes, test_mean, yerr=test_std, fmt='o', color='g', alpha=0.5)\n",
        "\n",
        "# # Fill between the recall scores to indicate standard deviation\n",
        "# plt.fill_between(train_sizes, train_mean - train_std, train_mean + train_std, alpha=0.1, color='r')\n",
        "# plt.fill_between(train_sizes, test_mean - test_std, test_mean + test_std, alpha=0.1, color='g')\n",
        "\n",
        "# # Add titles and labels\n",
        "# plt.title('Learning Curve (Recall)')\n",
        "# plt.xlabel('Training Size')\n",
        "# plt.ylabel('Recall Score')\n",
        "\n",
        "# # Add grid lines\n",
        "# plt.grid(True)\n",
        "\n",
        "# # Dynamic legend positioning\n",
        "# plt.legend(loc='best')\n",
        "\n",
        "# # Show plot\n",
        "# plt.show()"
      ],
      "metadata": {
        "id": "prFoMU3KRfTy"
      },
      "execution_count": null,
      "outputs": []
    },
    {
      "cell_type": "code",
      "execution_count": null,
      "metadata": {
        "id": "U6Yft7VbJrpW"
      },
      "outputs": [],
      "source": [
        "# # Generate Classifiation Report\n",
        "# from sklearn.metrics import classification_report\n",
        "# report = classification_report(y_test, y_pred)\n",
        "# print(f\"Classification Report:\\n{report}\")"
      ]
    },
    {
      "cell_type": "markdown",
      "metadata": {
        "id": "zWaoZcjMJrpW"
      },
      "source": [
        "#### Plot Feature Importance"
      ]
    },
    {
      "cell_type": "code",
      "execution_count": null,
      "metadata": {
        "id": "IIK_83woJrpX"
      },
      "outputs": [],
      "source": [
        "# # Plot the feature importance\n",
        "# plot_importance(xgb_model_weather, max_num_features=10)\n",
        "# plt.show()"
      ]
    },
    {
      "cell_type": "code",
      "execution_count": null,
      "metadata": {
        "id": "2C_uUZf1JrpX"
      },
      "outputs": [],
      "source": [
        "# # Get the feature names from the encoder\n",
        "# encoded_feature_names = encoder.get_feature_names_out(categorical_features)"
      ]
    },
    {
      "cell_type": "code",
      "execution_count": null,
      "metadata": {
        "id": "49PeHgpwJrpX"
      },
      "outputs": [],
      "source": [
        "# # Combine feature names\n",
        "# all_feature_names = np.hstack([\n",
        "#     encoded_feature_names,  # Encoded categorical feature names\n",
        "#     numeric_features,        # Numeric feature names\n",
        "#     # binary_features          # Binary feature names\n",
        "# ])"
      ]
    },
    {
      "cell_type": "code",
      "execution_count": null,
      "metadata": {
        "id": "OAY5MH9eJrpY"
      },
      "outputs": [],
      "source": [
        "# # Mapping indices to feature names\n",
        "# important_features = [(all_feature_names[i], importance) for i, importance in enumerate(xgb_model_weather.feature_importances_)]\n",
        "\n",
        "# # Sort by importance\n",
        "# important_features.sort(key=lambda x: x[1], reverse=True)\n",
        "\n",
        "# # Display top important features\n",
        "# for feature, importance in important_features[:30]:\n",
        "#     print(f\"Feature: {feature}, Importance: {importance}\")"
      ]
    },
    {
      "cell_type": "code",
      "execution_count": null,
      "metadata": {
        "id": "YHYH293rJrpY"
      },
      "outputs": [],
      "source": [
        "# # Sort the important features by importance\n",
        "# important_features.sort(key=lambda x: x[1], reverse=True)\n",
        "\n",
        "# # Extract the top 10 features and their importance\n",
        "# top_features = important_features[:30]\n",
        "# features = [f[0] for f in top_features]\n",
        "# importances = [f[1] for f in top_features]\n",
        "\n",
        "# # Plot\n",
        "# plt.figure(figsize=(10, 6))\n",
        "# plt.barh(features, importances)\n",
        "# plt.xlabel('Importance')\n",
        "# plt.title('Top 30 Feature Importances')\n",
        "# plt.gca().invert_yaxis()\n",
        "# plt.show()"
      ]
    },
    {
      "cell_type": "code",
      "execution_count": null,
      "metadata": {
        "id": "HaDTI_SYJrpY"
      },
      "outputs": [],
      "source": [
        "from google.colab import runtime\n",
        "runtime.unassign()"
      ]
    }
  ],
  "metadata": {
    "kernelspec": {
      "display_name": "Python 3",
      "name": "python3"
    },
    "language_info": {
      "codemirror_mode": {
        "name": "ipython",
        "version": 3
      },
      "file_extension": ".py",
      "mimetype": "text/x-python",
      "name": "python",
      "nbconvert_exporter": "python",
      "pygments_lexer": "ipython3",
      "version": "3.10.6"
    },
    "colab": {
      "provenance": [],
      "machine_shape": "hm",
      "gpuType": "A100"
    },
    "accelerator": "GPU"
  },
  "nbformat": 4,
  "nbformat_minor": 0
}