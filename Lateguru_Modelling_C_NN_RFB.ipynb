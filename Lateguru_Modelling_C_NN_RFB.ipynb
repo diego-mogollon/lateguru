{
  "nbformat": 4,
  "nbformat_minor": 0,
  "metadata": {
    "colab": {
      "provenance": [],
      "machine_shape": "hm",
      "gpuType": "V28",
      "authorship_tag": "ABX9TyPjQ751VdbOlBl91yHYJYr4",
      "include_colab_link": true
    },
    "kernelspec": {
      "name": "python3",
      "display_name": "Python 3"
    },
    "language_info": {
      "name": "python"
    },
    "accelerator": "TPU"
  },
  "cells": [
    {
      "cell_type": "markdown",
      "metadata": {
        "id": "view-in-github",
        "colab_type": "text"
      },
      "source": [
        "<a href=\"https://colab.research.google.com/github/diego-mogollon/lateguru/blob/conor-data-modelling/Lateguru_Modelling_C_NN_RFB.ipynb\" target=\"_parent\"><img src=\"https://colab.research.google.com/assets/colab-badge.svg\" alt=\"Open In Colab\"/></a>"
      ]
    },
    {
      "cell_type": "markdown",
      "source": [
        "# **Importing Libraries & Datasets**"
      ],
      "metadata": {
        "id": "78-lK1FRIfYI"
      }
    },
    {
      "cell_type": "markdown",
      "source": [
        "This notebook models flight delays using binary classification with two models:\n",
        "- A dense neural network with a sigmoid activation function\n",
        "- A Bagged Classifier of Random Forest Base Models"
      ],
      "metadata": {
        "id": "VLWaiHhqHZNE"
      }
    },
    {
      "cell_type": "code",
      "execution_count": 1,
      "metadata": {
        "id": "kYTq6K7uE4Xw"
      },
      "outputs": [],
      "source": [
        "#importing python libraries\n",
        "import pandas as pd\n",
        "import numpy as np\n",
        "import matplotlib.pyplot as plt\n",
        "import seaborn as sns\n",
        "import os\n",
        "\n",
        "from scipy import stats\n",
        "\n",
        "from sklearn.compose import ColumnTransformer\n",
        "from sklearn.impute import SimpleImputer\n",
        "from sklearn.pipeline import Pipeline\n",
        "from sklearn.preprocessing import StandardScaler, RobustScaler, MinMaxScaler, OneHotEncoder\n",
        "from sklearn.model_selection import GridSearchCV, StratifiedKFold\n",
        "from sklearn.model_selection import train_test_split\n",
        "from sklearn.ensemble import RandomForestClassifier\n",
        "from sklearn.ensemble import BaggingClassifier\n",
        "from sklearn.metrics import accuracy_score\n",
        "\n",
        "from sklearn.decomposition import PCA\n",
        "\n",
        "#import xgboost as xgb\n",
        "\n",
        "#from imblearn.over_sampling import SMOTE, ADASYN\n"
      ]
    },
    {
      "cell_type": "code",
      "source": [
        "from google.colab import drive\n",
        "\n",
        "\n",
        "# Mount your Google Drive\n",
        "drive.mount('/content/drive', force_remount=True)"
      ],
      "metadata": {
        "colab": {
          "base_uri": "https://localhost:8080/"
        },
        "id": "ThFlnBQcMpfP",
        "outputId": "d858097f-14bb-46fd-a55b-8c34e9eb5545"
      },
      "execution_count": 2,
      "outputs": [
        {
          "output_type": "stream",
          "name": "stdout",
          "text": [
            "Mounted at /content/drive\n"
          ]
        }
      ]
    },
    {
      "cell_type": "code",
      "source": [
        "\n",
        "\n",
        "# Specify the path to your CSV file (replace with your actual path)\n",
        "X_test_preprocessed = '/content/drive/MyDrive/Lateguru/data/X_test_preprocessed_dt.csv'\n",
        "X_train_preprocessed = '/content/drive/MyDrive/Lateguru/data/X_train_preprocessed_dt.csv'\n",
        "y_test_sample = '/content/drive/MyDrive/Lateguru/data/y_test_sample_dt.csv'\n",
        "y_train_sample = '/content/drive/MyDrive/Lateguru/data/y_train_sample_dt.csv'\n",
        "\n",
        "# Specify the path to your CSV file (replace with your actual path)\n",
        "# - Lighter csvs with smaller dimensionality\n",
        "'''X_test_preprocessed_lite = '/content/drive/MyDrive/Lateguru/data/X_test_preprocessed_dt_lite.csv'\n",
        "X_train_preprocessed_lite = '/content/drive/MyDrive/Lateguru/data/X_train_balanced_dt_lite.csv'\n",
        "y_test_sample_lite = '/content/drive/MyDrive/Lateguru/data/y_test_sample_dt_lite.csv'\n",
        "y_train_sample_lite = '/content/drive/MyDrive/Lateguru/data/y_train_balanced_dt_lite.csv'''\n",
        "\n",
        "'''# Read the CSV file into a Pandas DataFrame\n",
        "X_test_preprocessed_df = pd.read_csv(X_test_preprocessed, compression='zip')\n",
        "X_train_preprocessed_df = pd.read_csv(X_train_preprocessed,compression='zip')\n",
        "y_test_sample_df = pd.read_csv(y_test_sample, compression='zip')\n",
        "y_train_sample_df = pd.read_csv(y_train_sample, compression='zip')'''\n",
        "\n",
        "# Read the CSV file into a Pandas DataFrame\n",
        "X_test_preprocessed_df = pd.read_csv(X_test_preprocessed, compression='zip')\n",
        "X_train_preprocessed_df = pd.read_csv(X_train_preprocessed,compression='zip')\n",
        "y_test_sample_df = pd.read_csv(y_test_sample, compression='zip')\n",
        "y_train_sample_df = pd.read_csv(y_train_sample, compression='zip')\n",
        "\n",
        "# Print the first few rows of the DataFrame\n",
        "print(X_test_preprocessed_df.head(1))\n",
        "print(X_train_preprocessed_df.head(1))\n",
        "print(y_test_sample_df.head(1))\n",
        "print(y_train_sample_df.head(1))"
      ],
      "metadata": {
        "colab": {
          "base_uri": "https://localhost:8080/"
        },
        "id": "IaDx4axvIpyV",
        "outputId": "06743290-42db-4cea-e258-a52ed63d6422"
      },
      "execution_count": 26,
      "outputs": [
        {
          "output_type": "stream",
          "name": "stdout",
          "text": [
            "     0    1    2    3    4    5    6    7    8    9  ...       411       412  \\\n",
            "0  0.0  0.0  0.0  0.0  0.0  0.0  0.0  0.0  0.0  0.0  ... -0.343952 -0.392953   \n",
            "\n",
            "        413       414       415     416       417       418       419  \\\n",
            "0  0.418822 -1.065777 -0.428486 -0.1986 -0.010991 -1.336718  1.011177   \n",
            "\n",
            "        420  \n",
            "0  0.098363  \n",
            "\n",
            "[1 rows x 421 columns]\n",
            "     0    1    2    3    4    5    6    7    8    9  ...       411       412  \\\n",
            "0  0.0  0.0  0.0  0.0  0.0  0.0  0.0  0.0  0.0  0.0  ... -0.398641 -0.497578   \n",
            "\n",
            "        413       414      415     416       417       418       419       420  \n",
            "0  0.418822 -1.065777 -0.62108 -0.1986 -0.010991 -0.143549  0.010834  1.555977  \n",
            "\n",
            "[1 rows x 421 columns]\n",
            "   Delayed\n",
            "0    False\n",
            "   Delayed\n",
            "0     True\n"
          ]
        }
      ]
    },
    {
      "cell_type": "code",
      "source": [
        "y_test_sample_df.value_counts(normalize=True)"
      ],
      "metadata": {
        "colab": {
          "base_uri": "https://localhost:8080/",
          "height": 178
        },
        "id": "5rQCLefIudIO",
        "outputId": "d3a6edeb-0e61-414e-da31-9013fb904875"
      },
      "execution_count": 4,
      "outputs": [
        {
          "output_type": "execute_result",
          "data": {
            "text/plain": [
              "Delayed\n",
              "False      0.610721\n",
              "True       0.389279\n",
              "Name: proportion, dtype: float64"
            ],
            "text/html": [
              "<div>\n",
              "<style scoped>\n",
              "    .dataframe tbody tr th:only-of-type {\n",
              "        vertical-align: middle;\n",
              "    }\n",
              "\n",
              "    .dataframe tbody tr th {\n",
              "        vertical-align: top;\n",
              "    }\n",
              "\n",
              "    .dataframe thead th {\n",
              "        text-align: right;\n",
              "    }\n",
              "</style>\n",
              "<table border=\"1\" class=\"dataframe\">\n",
              "  <thead>\n",
              "    <tr style=\"text-align: right;\">\n",
              "      <th></th>\n",
              "      <th>proportion</th>\n",
              "    </tr>\n",
              "    <tr>\n",
              "      <th>Delayed</th>\n",
              "      <th></th>\n",
              "    </tr>\n",
              "  </thead>\n",
              "  <tbody>\n",
              "    <tr>\n",
              "      <th>False</th>\n",
              "      <td>0.610721</td>\n",
              "    </tr>\n",
              "    <tr>\n",
              "      <th>True</th>\n",
              "      <td>0.389279</td>\n",
              "    </tr>\n",
              "  </tbody>\n",
              "</table>\n",
              "</div><br><label><b>dtype:</b> float64</label>"
            ]
          },
          "metadata": {},
          "execution_count": 4
        }
      ]
    },
    {
      "cell_type": "code",
      "source": [
        "y_train_sample_df.value_counts(normalize=True)"
      ],
      "metadata": {
        "colab": {
          "base_uri": "https://localhost:8080/",
          "height": 178
        },
        "id": "AqyOuqpUmCE0",
        "outputId": "af73d07c-76f0-463d-d98b-b815406c4b1d"
      },
      "execution_count": 5,
      "outputs": [
        {
          "output_type": "execute_result",
          "data": {
            "text/plain": [
              "Delayed\n",
              "False      0.61072\n",
              "True       0.38928\n",
              "Name: proportion, dtype: float64"
            ],
            "text/html": [
              "<div>\n",
              "<style scoped>\n",
              "    .dataframe tbody tr th:only-of-type {\n",
              "        vertical-align: middle;\n",
              "    }\n",
              "\n",
              "    .dataframe tbody tr th {\n",
              "        vertical-align: top;\n",
              "    }\n",
              "\n",
              "    .dataframe thead th {\n",
              "        text-align: right;\n",
              "    }\n",
              "</style>\n",
              "<table border=\"1\" class=\"dataframe\">\n",
              "  <thead>\n",
              "    <tr style=\"text-align: right;\">\n",
              "      <th></th>\n",
              "      <th>proportion</th>\n",
              "    </tr>\n",
              "    <tr>\n",
              "      <th>Delayed</th>\n",
              "      <th></th>\n",
              "    </tr>\n",
              "  </thead>\n",
              "  <tbody>\n",
              "    <tr>\n",
              "      <th>False</th>\n",
              "      <td>0.61072</td>\n",
              "    </tr>\n",
              "    <tr>\n",
              "      <th>True</th>\n",
              "      <td>0.38928</td>\n",
              "    </tr>\n",
              "  </tbody>\n",
              "</table>\n",
              "</div><br><label><b>dtype:</b> float64</label>"
            ]
          },
          "metadata": {},
          "execution_count": 5
        }
      ]
    },
    {
      "cell_type": "code",
      "source": [
        "y_test_sample_df['Delayed'] = y_test_sample_df['Delayed'].apply(lambda x: 1 if x == True else 0)\n",
        "y_train_sample_df['Delayed'] = y_train_sample_df['Delayed'].apply(lambda x: 1 if x == True else 0)"
      ],
      "metadata": {
        "id": "sT1qozeMuLd8"
      },
      "execution_count": 27,
      "outputs": []
    },
    {
      "cell_type": "code",
      "source": [
        "#Using principal component analysis to reduce dimensionality\n",
        "pca = PCA(n_components=7)\n",
        "X_train_preprocessed_df = pca.fit_transform(X_train_preprocessed_df)\n",
        "X_test_preprocessed_df = pca.transform(X_test_preprocessed_df)\n"
      ],
      "metadata": {
        "id": "R2GfMg_FxThn"
      },
      "execution_count": 28,
      "outputs": []
    },
    {
      "cell_type": "code",
      "source": [
        "X_test_preprocessed_arr = np.array(X_test_preprocessed_df)\n",
        "X_train_preprocessed_arr = np.array(X_train_preprocessed_df)\n",
        "y_test_sample_arr = np.array(y_test_sample_df)\n",
        "y_train_sample_arr = np.array(y_train_sample_df)\n"
      ],
      "metadata": {
        "id": "KIjvPa_qSZyu"
      },
      "execution_count": 29,
      "outputs": []
    },
    {
      "cell_type": "code",
      "source": [
        "print(f\"X_test_preprocessed shape: {X_test_preprocessed_arr.shape}\")\n",
        "print(f\"X_train_preprocessed shape: {X_train_preprocessed_arr.shape}\")\n",
        "print(f\"y_test_sample shape: {y_test_sample_arr.shape}\")\n",
        "print(f\"y_train_sample shape: {y_train_sample_arr.shape}\")\n"
      ],
      "metadata": {
        "colab": {
          "base_uri": "https://localhost:8080/"
        },
        "id": "Hfj2MunSTMoH",
        "outputId": "a09da624-9f84-4b1d-82b8-28072ceace69"
      },
      "execution_count": 30,
      "outputs": [
        {
          "output_type": "stream",
          "name": "stdout",
          "text": [
            "X_test_preprocessed shape: (302891, 7)\n",
            "X_train_preprocessed shape: (1211560, 7)\n",
            "y_test_sample shape: (302891, 1)\n",
            "y_train_sample shape: (1211560, 1)\n"
          ]
        }
      ]
    },
    {
      "cell_type": "code",
      "source": [
        "y_train_sample_arr = y_train_sample_arr.reshape(-1)\n",
        "#only needed with SVM, uncomment for NN\n"
      ],
      "metadata": {
        "id": "Eo4DSspoYUeh"
      },
      "execution_count": 31,
      "outputs": []
    },
    {
      "cell_type": "code",
      "source": [
        "#splitting the test data into a validation set to ensure no data leakage during nn training\n",
        "#make sure to evaluate the model on X_test_sample_nn\n",
        "\n",
        "X_val, X_test_sample_nn, y_val, y_test_sample_nn = train_test_split(X_test_preprocessed_arr, y_test_sample_arr,\n",
        "                 test_size=0.5,\n",
        "                 random_state=42,\n",
        "                 stratify=y_test_sample_arr)"
      ],
      "metadata": {
        "id": "sE2vFVuoK4Qv"
      },
      "execution_count": 18,
      "outputs": []
    },
    {
      "cell_type": "code",
      "source": [
        "pd.DataFrame(y_val).value_counts(normalize=True)"
      ],
      "metadata": {
        "colab": {
          "base_uri": "https://localhost:8080/",
          "height": 144
        },
        "id": "vC9rtc_Jmlzq",
        "outputId": "2c31f85f-148a-4615-d6ca-e13ecb8d78e5"
      },
      "execution_count": 10,
      "outputs": [
        {
          "output_type": "error",
          "ename": "NameError",
          "evalue": "name 'y_val' is not defined",
          "traceback": [
            "\u001b[0;31m---------------------------------------------------------------------------\u001b[0m",
            "\u001b[0;31mNameError\u001b[0m                                 Traceback (most recent call last)",
            "\u001b[0;32m<ipython-input-10-48d9cf755a94>\u001b[0m in \u001b[0;36m<cell line: 1>\u001b[0;34m()\u001b[0m\n\u001b[0;32m----> 1\u001b[0;31m \u001b[0mpd\u001b[0m\u001b[0;34m.\u001b[0m\u001b[0mDataFrame\u001b[0m\u001b[0;34m(\u001b[0m\u001b[0my_val\u001b[0m\u001b[0;34m)\u001b[0m\u001b[0;34m.\u001b[0m\u001b[0mvalue_counts\u001b[0m\u001b[0;34m(\u001b[0m\u001b[0mnormalize\u001b[0m\u001b[0;34m=\u001b[0m\u001b[0;32mTrue\u001b[0m\u001b[0;34m)\u001b[0m\u001b[0;34m\u001b[0m\u001b[0;34m\u001b[0m\u001b[0m\n\u001b[0m",
            "\u001b[0;31mNameError\u001b[0m: name 'y_val' is not defined"
          ]
        }
      ]
    },
    {
      "cell_type": "code",
      "source": [
        "pd.DataFrame(y_test_sample_nn).value_counts(normalize=True)"
      ],
      "metadata": {
        "colab": {
          "base_uri": "https://localhost:8080/",
          "height": 178
        },
        "id": "QY7l2nEjmsrD",
        "outputId": "e4e74ba4-9bba-4dc3-984a-0463e09170d0"
      },
      "execution_count": 45,
      "outputs": [
        {
          "output_type": "execute_result",
          "data": {
            "text/plain": [
              "0    0.610719\n",
              "1    0.389281\n",
              "Name: proportion, dtype: float64"
            ],
            "text/html": [
              "<div>\n",
              "<style scoped>\n",
              "    .dataframe tbody tr th:only-of-type {\n",
              "        vertical-align: middle;\n",
              "    }\n",
              "\n",
              "    .dataframe tbody tr th {\n",
              "        vertical-align: top;\n",
              "    }\n",
              "\n",
              "    .dataframe thead th {\n",
              "        text-align: right;\n",
              "    }\n",
              "</style>\n",
              "<table border=\"1\" class=\"dataframe\">\n",
              "  <thead>\n",
              "    <tr style=\"text-align: right;\">\n",
              "      <th></th>\n",
              "      <th>proportion</th>\n",
              "    </tr>\n",
              "    <tr>\n",
              "      <th>0</th>\n",
              "      <th></th>\n",
              "    </tr>\n",
              "  </thead>\n",
              "  <tbody>\n",
              "    <tr>\n",
              "      <th>0</th>\n",
              "      <td>0.610719</td>\n",
              "    </tr>\n",
              "    <tr>\n",
              "      <th>1</th>\n",
              "      <td>0.389281</td>\n",
              "    </tr>\n",
              "  </tbody>\n",
              "</table>\n",
              "</div><br><label><b>dtype:</b> float64</label>"
            ]
          },
          "metadata": {},
          "execution_count": 45
        }
      ]
    },
    {
      "cell_type": "code",
      "source": [
        "print(f\"X_val shape: {X_val.shape}\")\n",
        "print(f\"y_val: {y_val.shape}\")\n",
        "print(f\"X_test_sample_nn shape: {X_test_sample_nn.shape}\")\n",
        "print(f\"y_test_sample_nn: {y_test_sample_nn.shape}\")"
      ],
      "metadata": {
        "colab": {
          "base_uri": "https://localhost:8080/"
        },
        "id": "FhhduQpCMPJR",
        "outputId": "b7f3f8bb-d20c-4c16-c5d2-c40efc07b96d"
      },
      "execution_count": 21,
      "outputs": [
        {
          "output_type": "stream",
          "name": "stdout",
          "text": [
            "X_val shape: (151445, 414)\n",
            "y_val: (151445, 1)\n",
            "X_test_sample_nn shape: (151446, 414)\n",
            "y_test_sample_nn: (151446, 1)\n"
          ]
        }
      ]
    },
    {
      "cell_type": "markdown",
      "source": [
        " #  **Modelling with a SVM Classifier**"
      ],
      "metadata": {
        "id": "m7tIGzUcQrHy"
      }
    },
    {
      "cell_type": "code",
      "source": [
        "from sklearn.svm import SVC\n",
        "from sklearn.metrics import recall_score, roc_auc_score, accuracy_score, f1_score, confusion_matrix\n",
        "\n"
      ],
      "metadata": {
        "id": "xvog1QskRGqZ"
      },
      "execution_count": 8,
      "outputs": []
    },
    {
      "cell_type": "code",
      "source": [
        "sig_svm_clf = SVC(kernel='rbf')"
      ],
      "metadata": {
        "id": "DYRc4TL9RKkq"
      },
      "execution_count": 9,
      "outputs": []
    },
    {
      "cell_type": "code",
      "source": [
        "sig_svm_clf.fit(X_train_preprocessed_arr, y_train_sample_arr)"
      ],
      "metadata": {
        "id": "8CLXvpOhRPBD"
      },
      "execution_count": null,
      "outputs": []
    },
    {
      "cell_type": "code",
      "source": [
        "y_pred = sig_svm_clf.predict(X_test_preprocessed)"
      ],
      "metadata": {
        "id": "8A1cTjVmRiyv"
      },
      "execution_count": null,
      "outputs": []
    },
    {
      "cell_type": "code",
      "source": [
        "recall = recall_score(y_test_sample, y_pred)\n",
        "print(f\"Recall: {recall}\")\n",
        "\n",
        "f1 = f1_score(y_test_sample, y_pred)\n",
        "print(f\"F1 score: {f1}\")"
      ],
      "metadata": {
        "id": "2Z2hy57BSFi1"
      },
      "execution_count": null,
      "outputs": []
    },
    {
      "cell_type": "markdown",
      "source": [
        "# **Modelling with a Dense Neural Network**"
      ],
      "metadata": {
        "id": "uhBr6aWVIRND"
      }
    },
    {
      "cell_type": "code",
      "source": [
        "from tensorflow.keras import Sequential, layers\n",
        "from tensorflow.keras.layers import Dense\n",
        "from tensorflow.keras.optimizers import Adam\n",
        "from tensorflow.keras.optimizers import RMSprop\n",
        "\n",
        "\n",
        "# Assuming you have your input data prepared\n",
        "\n",
        "\n",
        "model = Sequential()\n",
        "model.add(layers.Dense(256,activation='tanh', input_dim=X_train_preprocessed_arr.shape[1]))\n",
        "model.add(layers.Dense(128,activation='tanh'))\n",
        "#model.add(layers.Dense(128,activation='relu'))\n",
        "#model.add(layers.Dense(128,activation='tanh'))\n",
        "model.add(layers.Dense(64,activation='tanh'))\n",
        "model.add(layers.Dense(32,activation='tanh')) #regularise some layers, try tanh a bit\n",
        "#model.add(layers.Dense(16,activation='tanh'))\n",
        "model.add(layers.Dense(8,activation='tanh'))\n",
        "model.add(layers.Dense(1,activation='sigmoid'))"
      ],
      "metadata": {
        "colab": {
          "base_uri": "https://localhost:8080/"
        },
        "id": "rjtpwa6KHyre",
        "outputId": "21a09dbf-84a3-4d70-fe52-d6e14cc2ddef"
      },
      "execution_count": 22,
      "outputs": [
        {
          "output_type": "stream",
          "name": "stderr",
          "text": [
            "/usr/local/lib/python3.10/dist-packages/keras/src/layers/core/dense.py:87: UserWarning: Do not pass an `input_shape`/`input_dim` argument to a layer. When using Sequential models, prefer using an `Input(shape)` object as the first layer in the model instead.\n",
            "  super().__init__(activity_regularizer=activity_regularizer, **kwargs)\n"
          ]
        }
      ]
    },
    {
      "cell_type": "code",
      "source": [
        "model.summary()"
      ],
      "metadata": {
        "colab": {
          "base_uri": "https://localhost:8080/",
          "height": 331
        },
        "id": "8E1VF8_6Sjys",
        "outputId": "a322d7aa-f9cb-4e0e-9a6b-191bbe089e49"
      },
      "execution_count": 23,
      "outputs": [
        {
          "output_type": "display_data",
          "data": {
            "text/plain": [
              "\u001b[1mModel: \"sequential\"\u001b[0m\n"
            ],
            "text/html": [
              "<pre style=\"white-space:pre;overflow-x:auto;line-height:normal;font-family:Menlo,'DejaVu Sans Mono',consolas,'Courier New',monospace\"><span style=\"font-weight: bold\">Model: \"sequential\"</span>\n",
              "</pre>\n"
            ]
          },
          "metadata": {}
        },
        {
          "output_type": "display_data",
          "data": {
            "text/plain": [
              "┏━━━━━━━━━━━━━━━━━━━━━━━━━━━━━━━━━━━━━━┳━━━━━━━━━━━━━━━━━━━━━━━━━━━━━┳━━━━━━━━━━━━━━━━━┓\n",
              "┃\u001b[1m \u001b[0m\u001b[1mLayer (type)                        \u001b[0m\u001b[1m \u001b[0m┃\u001b[1m \u001b[0m\u001b[1mOutput Shape               \u001b[0m\u001b[1m \u001b[0m┃\u001b[1m \u001b[0m\u001b[1m        Param #\u001b[0m\u001b[1m \u001b[0m┃\n",
              "┡━━━━━━━━━━━━━━━━━━━━━━━━━━━━━━━━━━━━━━╇━━━━━━━━━━━━━━━━━━━━━━━━━━━━━╇━━━━━━━━━━━━━━━━━┩\n",
              "│ dense (\u001b[38;5;33mDense\u001b[0m)                        │ (\u001b[38;5;45mNone\u001b[0m, \u001b[38;5;34m256\u001b[0m)                 │         \u001b[38;5;34m106,240\u001b[0m │\n",
              "├──────────────────────────────────────┼─────────────────────────────┼─────────────────┤\n",
              "│ dense_1 (\u001b[38;5;33mDense\u001b[0m)                      │ (\u001b[38;5;45mNone\u001b[0m, \u001b[38;5;34m128\u001b[0m)                 │          \u001b[38;5;34m32,896\u001b[0m │\n",
              "├──────────────────────────────────────┼─────────────────────────────┼─────────────────┤\n",
              "│ dense_2 (\u001b[38;5;33mDense\u001b[0m)                      │ (\u001b[38;5;45mNone\u001b[0m, \u001b[38;5;34m64\u001b[0m)                  │           \u001b[38;5;34m8,256\u001b[0m │\n",
              "├──────────────────────────────────────┼─────────────────────────────┼─────────────────┤\n",
              "│ dense_3 (\u001b[38;5;33mDense\u001b[0m)                      │ (\u001b[38;5;45mNone\u001b[0m, \u001b[38;5;34m32\u001b[0m)                  │           \u001b[38;5;34m2,080\u001b[0m │\n",
              "├──────────────────────────────────────┼─────────────────────────────┼─────────────────┤\n",
              "│ dense_4 (\u001b[38;5;33mDense\u001b[0m)                      │ (\u001b[38;5;45mNone\u001b[0m, \u001b[38;5;34m8\u001b[0m)                   │             \u001b[38;5;34m264\u001b[0m │\n",
              "├──────────────────────────────────────┼─────────────────────────────┼─────────────────┤\n",
              "│ dense_5 (\u001b[38;5;33mDense\u001b[0m)                      │ (\u001b[38;5;45mNone\u001b[0m, \u001b[38;5;34m1\u001b[0m)                   │               \u001b[38;5;34m9\u001b[0m │\n",
              "└──────────────────────────────────────┴─────────────────────────────┴─────────────────┘\n"
            ],
            "text/html": [
              "<pre style=\"white-space:pre;overflow-x:auto;line-height:normal;font-family:Menlo,'DejaVu Sans Mono',consolas,'Courier New',monospace\">┏━━━━━━━━━━━━━━━━━━━━━━━━━━━━━━━━━━━━━━┳━━━━━━━━━━━━━━━━━━━━━━━━━━━━━┳━━━━━━━━━━━━━━━━━┓\n",
              "┃<span style=\"font-weight: bold\"> Layer (type)                         </span>┃<span style=\"font-weight: bold\"> Output Shape                </span>┃<span style=\"font-weight: bold\">         Param # </span>┃\n",
              "┡━━━━━━━━━━━━━━━━━━━━━━━━━━━━━━━━━━━━━━╇━━━━━━━━━━━━━━━━━━━━━━━━━━━━━╇━━━━━━━━━━━━━━━━━┩\n",
              "│ dense (<span style=\"color: #0087ff; text-decoration-color: #0087ff\">Dense</span>)                        │ (<span style=\"color: #00d7ff; text-decoration-color: #00d7ff\">None</span>, <span style=\"color: #00af00; text-decoration-color: #00af00\">256</span>)                 │         <span style=\"color: #00af00; text-decoration-color: #00af00\">106,240</span> │\n",
              "├──────────────────────────────────────┼─────────────────────────────┼─────────────────┤\n",
              "│ dense_1 (<span style=\"color: #0087ff; text-decoration-color: #0087ff\">Dense</span>)                      │ (<span style=\"color: #00d7ff; text-decoration-color: #00d7ff\">None</span>, <span style=\"color: #00af00; text-decoration-color: #00af00\">128</span>)                 │          <span style=\"color: #00af00; text-decoration-color: #00af00\">32,896</span> │\n",
              "├──────────────────────────────────────┼─────────────────────────────┼─────────────────┤\n",
              "│ dense_2 (<span style=\"color: #0087ff; text-decoration-color: #0087ff\">Dense</span>)                      │ (<span style=\"color: #00d7ff; text-decoration-color: #00d7ff\">None</span>, <span style=\"color: #00af00; text-decoration-color: #00af00\">64</span>)                  │           <span style=\"color: #00af00; text-decoration-color: #00af00\">8,256</span> │\n",
              "├──────────────────────────────────────┼─────────────────────────────┼─────────────────┤\n",
              "│ dense_3 (<span style=\"color: #0087ff; text-decoration-color: #0087ff\">Dense</span>)                      │ (<span style=\"color: #00d7ff; text-decoration-color: #00d7ff\">None</span>, <span style=\"color: #00af00; text-decoration-color: #00af00\">32</span>)                  │           <span style=\"color: #00af00; text-decoration-color: #00af00\">2,080</span> │\n",
              "├──────────────────────────────────────┼─────────────────────────────┼─────────────────┤\n",
              "│ dense_4 (<span style=\"color: #0087ff; text-decoration-color: #0087ff\">Dense</span>)                      │ (<span style=\"color: #00d7ff; text-decoration-color: #00d7ff\">None</span>, <span style=\"color: #00af00; text-decoration-color: #00af00\">8</span>)                   │             <span style=\"color: #00af00; text-decoration-color: #00af00\">264</span> │\n",
              "├──────────────────────────────────────┼─────────────────────────────┼─────────────────┤\n",
              "│ dense_5 (<span style=\"color: #0087ff; text-decoration-color: #0087ff\">Dense</span>)                      │ (<span style=\"color: #00d7ff; text-decoration-color: #00d7ff\">None</span>, <span style=\"color: #00af00; text-decoration-color: #00af00\">1</span>)                   │               <span style=\"color: #00af00; text-decoration-color: #00af00\">9</span> │\n",
              "└──────────────────────────────────────┴─────────────────────────────┴─────────────────┘\n",
              "</pre>\n"
            ]
          },
          "metadata": {}
        },
        {
          "output_type": "display_data",
          "data": {
            "text/plain": [
              "\u001b[1m Total params: \u001b[0m\u001b[38;5;34m149,745\u001b[0m (584.94 KB)\n"
            ],
            "text/html": [
              "<pre style=\"white-space:pre;overflow-x:auto;line-height:normal;font-family:Menlo,'DejaVu Sans Mono',consolas,'Courier New',monospace\"><span style=\"font-weight: bold\"> Total params: </span><span style=\"color: #00af00; text-decoration-color: #00af00\">149,745</span> (584.94 KB)\n",
              "</pre>\n"
            ]
          },
          "metadata": {}
        },
        {
          "output_type": "display_data",
          "data": {
            "text/plain": [
              "\u001b[1m Trainable params: \u001b[0m\u001b[38;5;34m149,745\u001b[0m (584.94 KB)\n"
            ],
            "text/html": [
              "<pre style=\"white-space:pre;overflow-x:auto;line-height:normal;font-family:Menlo,'DejaVu Sans Mono',consolas,'Courier New',monospace\"><span style=\"font-weight: bold\"> Trainable params: </span><span style=\"color: #00af00; text-decoration-color: #00af00\">149,745</span> (584.94 KB)\n",
              "</pre>\n"
            ]
          },
          "metadata": {}
        },
        {
          "output_type": "display_data",
          "data": {
            "text/plain": [
              "\u001b[1m Non-trainable params: \u001b[0m\u001b[38;5;34m0\u001b[0m (0.00 B)\n"
            ],
            "text/html": [
              "<pre style=\"white-space:pre;overflow-x:auto;line-height:normal;font-family:Menlo,'DejaVu Sans Mono',consolas,'Courier New',monospace\"><span style=\"font-weight: bold\"> Non-trainable params: </span><span style=\"color: #00af00; text-decoration-color: #00af00\">0</span> (0.00 B)\n",
              "</pre>\n"
            ]
          },
          "metadata": {}
        }
      ]
    },
    {
      "cell_type": "code",
      "source": [
        "adam = Adam(\n",
        "    learning_rate=0.001\n",
        ")\n",
        "\n",
        "RMSprop = RMSprop(\n",
        "    learning_rate=0.001\n",
        ")\n",
        "\n",
        "model.compile(loss='binary_crossentropy', optimizer=adam, metrics=['accuracy', 'recall', 'precision', 'f1_score'])\n",
        "\n",
        "\n",
        "#optimise learning rates by splitting out adam"
      ],
      "metadata": {
        "id": "rXSxSRTwSkgh"
      },
      "execution_count": 24,
      "outputs": []
    },
    {
      "cell_type": "code",
      "source": [
        "from tensorflow.keras.callbacks import EarlyStopping\n",
        "\n",
        "es = EarlyStopping(patience=20, restore_best_weights=True)"
      ],
      "metadata": {
        "id": "m8VyfmrrSnEF"
      },
      "execution_count": 25,
      "outputs": []
    },
    {
      "cell_type": "code",
      "source": [
        "#Need to manually define a balanced validation set"
      ],
      "metadata": {
        "id": "FYVjAIudGVAU"
      },
      "execution_count": 115,
      "outputs": []
    },
    {
      "cell_type": "code",
      "source": [
        "history = model.fit(X_train_preprocessed_arr, y_train_sample_arr, batch_size=32, epochs=10, validation_data=(X_val, y_val), callbacks =[es])"
      ],
      "metadata": {
        "colab": {
          "base_uri": "https://localhost:8080/"
        },
        "id": "gSnhUu7jSpaD",
        "outputId": "643a6d3d-cb49-4575-e03e-3bac33a10169"
      },
      "execution_count": 26,
      "outputs": [
        {
          "output_type": "stream",
          "name": "stdout",
          "text": [
            "Epoch 1/10\n",
            "\u001b[1m37862/37862\u001b[0m \u001b[32m━━━━━━━━━━━━━━━━━━━━\u001b[0m\u001b[37m\u001b[0m \u001b[1m84s\u001b[0m 2ms/step - accuracy: 0.7868 - f1_score: 0.5607 - loss: 0.4586 - precision: 0.8981 - recall: 0.5106 - val_accuracy: 0.7932 - val_f1_score: 0.5604 - val_loss: 0.4459 - val_precision: 0.9073 - val_recall: 0.5220\n",
            "Epoch 2/10\n",
            "\u001b[1m37862/37862\u001b[0m \u001b[32m━━━━━━━━━━━━━━━━━━━━\u001b[0m\u001b[37m\u001b[0m \u001b[1m76s\u001b[0m 2ms/step - accuracy: 0.7916 - f1_score: 0.5607 - loss: 0.4463 - precision: 0.9028 - recall: 0.5211 - val_accuracy: 0.7918 - val_f1_score: 0.5604 - val_loss: 0.4436 - val_precision: 0.9457 - val_recall: 0.4935\n",
            "Epoch 3/10\n",
            "\u001b[1m37862/37862\u001b[0m \u001b[32m━━━━━━━━━━━━━━━━━━━━\u001b[0m\u001b[37m\u001b[0m \u001b[1m74s\u001b[0m 2ms/step - accuracy: 0.7926 - f1_score: 0.5605 - loss: 0.4439 - precision: 0.9003 - recall: 0.5257 - val_accuracy: 0.7934 - val_f1_score: 0.5604 - val_loss: 0.4426 - val_precision: 0.8727 - val_recall: 0.5493\n",
            "Epoch 4/10\n",
            "\u001b[1m37862/37862\u001b[0m \u001b[32m━━━━━━━━━━━━━━━━━━━━\u001b[0m\u001b[37m\u001b[0m \u001b[1m74s\u001b[0m 2ms/step - accuracy: 0.7932 - f1_score: 0.5606 - loss: 0.4425 - precision: 0.8984 - recall: 0.5288 - val_accuracy: 0.7944 - val_f1_score: 0.5604 - val_loss: 0.4413 - val_precision: 0.9183 - val_recall: 0.5180\n",
            "Epoch 5/10\n",
            "\u001b[1m37862/37862\u001b[0m \u001b[32m━━━━━━━━━━━━━━━━━━━━\u001b[0m\u001b[37m\u001b[0m \u001b[1m74s\u001b[0m 2ms/step - accuracy: 0.7935 - f1_score: 0.5601 - loss: 0.4416 - precision: 0.9030 - recall: 0.5255 - val_accuracy: 0.7935 - val_f1_score: 0.5604 - val_loss: 0.4406 - val_precision: 0.9428 - val_recall: 0.4999\n",
            "Epoch 6/10\n",
            "\u001b[1m37862/37862\u001b[0m \u001b[32m━━━━━━━━━━━━━━━━━━━━\u001b[0m\u001b[37m\u001b[0m \u001b[1m75s\u001b[0m 2ms/step - accuracy: 0.7941 - f1_score: 0.5604 - loss: 0.4407 - precision: 0.8946 - recall: 0.5339 - val_accuracy: 0.7952 - val_f1_score: 0.5604 - val_loss: 0.4394 - val_precision: 0.8910 - val_recall: 0.5401\n",
            "Epoch 7/10\n",
            "\u001b[1m37862/37862\u001b[0m \u001b[32m━━━━━━━━━━━━━━━━━━━━\u001b[0m\u001b[37m\u001b[0m \u001b[1m76s\u001b[0m 2ms/step - accuracy: 0.7944 - f1_score: 0.5604 - loss: 0.4393 - precision: 0.8931 - recall: 0.5360 - val_accuracy: 0.7951 - val_f1_score: 0.5604 - val_loss: 0.4391 - val_precision: 0.8770 - val_recall: 0.5510\n",
            "Epoch 8/10\n",
            "\u001b[1m37862/37862\u001b[0m \u001b[32m━━━━━━━━━━━━━━━━━━━━\u001b[0m\u001b[37m\u001b[0m \u001b[1m74s\u001b[0m 2ms/step - accuracy: 0.7939 - f1_score: 0.5612 - loss: 0.4398 - precision: 0.8877 - recall: 0.5400 - val_accuracy: 0.7935 - val_f1_score: 0.5604 - val_loss: 0.4417 - val_precision: 0.8774 - val_recall: 0.5458\n",
            "Epoch 9/10\n",
            "\u001b[1m37862/37862\u001b[0m \u001b[32m━━━━━━━━━━━━━━━━━━━━\u001b[0m\u001b[37m\u001b[0m \u001b[1m74s\u001b[0m 2ms/step - accuracy: 0.7944 - f1_score: 0.5610 - loss: 0.4393 - precision: 0.8911 - recall: 0.5386 - val_accuracy: 0.7941 - val_f1_score: 0.5604 - val_loss: 0.4392 - val_precision: 0.8638 - val_recall: 0.5594\n",
            "Epoch 10/10\n",
            "\u001b[1m37862/37862\u001b[0m \u001b[32m━━━━━━━━━━━━━━━━━━━━\u001b[0m\u001b[37m\u001b[0m \u001b[1m76s\u001b[0m 2ms/step - accuracy: 0.7952 - f1_score: 0.5608 - loss: 0.4377 - precision: 0.8955 - recall: 0.5371 - val_accuracy: 0.7952 - val_f1_score: 0.5604 - val_loss: 0.4391 - val_precision: 0.9092 - val_recall: 0.5265\n"
          ]
        }
      ]
    },
    {
      "cell_type": "code",
      "source": [
        "history.history"
      ],
      "metadata": {
        "colab": {
          "base_uri": "https://localhost:8080/"
        },
        "id": "sT50LY8qv7Sc",
        "outputId": "8c9c7b3d-b7bf-4560-a9f2-3201e354cc4e"
      },
      "execution_count": 27,
      "outputs": [
        {
          "output_type": "execute_result",
          "data": {
            "text/plain": [
              "{'accuracy': [0.7897487282752991,\n",
              "  0.7922958731651306,\n",
              "  0.7931352853775024,\n",
              "  0.7935141324996948,\n",
              "  0.7936676740646362,\n",
              "  0.7941100597381592,\n",
              "  0.7941464185714722,\n",
              "  0.7945359945297241,\n",
              "  0.7946746349334717,\n",
              "  0.7949965596199036],\n",
              " 'f1_score': [0.5604052543640137,\n",
              "  0.5604052543640137,\n",
              "  0.5604052543640137,\n",
              "  0.5604052543640137,\n",
              "  0.5604052543640137,\n",
              "  0.5604052543640137,\n",
              "  0.5604052543640137,\n",
              "  0.5604052543640137,\n",
              "  0.5604052543640137,\n",
              "  0.5604052543640137],\n",
              " 'loss': [0.45186659693717957,\n",
              "  0.4452356994152069,\n",
              "  0.4434267580509186,\n",
              "  0.4420732259750366,\n",
              "  0.44127267599105835,\n",
              "  0.44049975275993347,\n",
              "  0.43989261984825134,\n",
              "  0.4394705891609192,\n",
              "  0.4394010603427887,\n",
              "  0.4386238157749176],\n",
              " 'precision': [0.8998525142669678,\n",
              "  0.899644672870636,\n",
              "  0.9010681509971619,\n",
              "  0.9000093936920166,\n",
              "  0.9004119038581848,\n",
              "  0.8939615488052368,\n",
              "  0.892652690410614,\n",
              "  0.8922944664955139,\n",
              "  0.8899663090705872,\n",
              "  0.8969187140464783],\n",
              " 'recall': [0.5174902081489563,\n",
              "  0.5250044465065002,\n",
              "  0.5263910889625549,\n",
              "  0.5282590985298157,\n",
              "  0.5284075140953064,\n",
              "  0.5345011949539185,\n",
              "  0.5356037020683289,\n",
              "  0.5370158553123474,\n",
              "  0.5392187833786011,\n",
              "  0.5348467826843262],\n",
              " 'val_accuracy': [0.7931592464447021,\n",
              "  0.7918187975883484,\n",
              "  0.7933639287948608,\n",
              "  0.7944138050079346,\n",
              "  0.7935290336608887,\n",
              "  0.7952458262443542,\n",
              "  0.7951335310935974,\n",
              "  0.793482780456543,\n",
              "  0.7941364645957947,\n",
              "  0.7952128052711487],\n",
              " 'val_f1_score': [0.5604018568992615,\n",
              "  0.5604018568992615,\n",
              "  0.5604018568992615,\n",
              "  0.5604018568992615,\n",
              "  0.5604018568992615,\n",
              "  0.5604018568992615,\n",
              "  0.5604018568992615,\n",
              "  0.5604018568992615,\n",
              "  0.5604018568992615,\n",
              "  0.5604018568992615],\n",
              " 'val_loss': [0.4458981454372406,\n",
              "  0.44357022643089294,\n",
              "  0.4425939619541168,\n",
              "  0.44130128622055054,\n",
              "  0.4405774474143982,\n",
              "  0.4394489824771881,\n",
              "  0.43906718492507935,\n",
              "  0.4417031407356262,\n",
              "  0.43922314047813416,\n",
              "  0.4391317665576935],\n",
              " 'val_precision': [0.9072551131248474,\n",
              "  0.9457482695579529,\n",
              "  0.8726758360862732,\n",
              "  0.9182930588722229,\n",
              "  0.9427757859230042,\n",
              "  0.8909813165664673,\n",
              "  0.8769978284835815,\n",
              "  0.8773518204689026,\n",
              "  0.8637542128562927,\n",
              "  0.9091734290122986],\n",
              " 'val_recall': [0.5220171809196472,\n",
              "  0.4935203790664673,\n",
              "  0.5493265986442566,\n",
              "  0.517963171005249,\n",
              "  0.4999491274356842,\n",
              "  0.5400990843772888,\n",
              "  0.5510058403015137,\n",
              "  0.5457814335823059,\n",
              "  0.5594022274017334,\n",
              "  0.5265291333198547]}"
            ]
          },
          "metadata": {},
          "execution_count": 27
        }
      ]
    },
    {
      "cell_type": "code",
      "source": [
        "loss, accuracy, recall, precision, f1_score = model.evaluate(X_test_sample_nn, y_test_sample_nn)\n",
        "\n",
        "print(f\"Test loss:{loss}\")\n",
        "print(f\"Test recall:{recall}\")\n",
        "print(f\"Test accuracy:{accuracy}\")\n",
        "print(f\"Test precision:{precision}\")\n",
        "print(f\"Test f1 score:{f1_score}\")"
      ],
      "metadata": {
        "colab": {
          "base_uri": "https://localhost:8080/"
        },
        "id": "pWk68cvRSroh",
        "outputId": "7470be29-78ce-4e70-8acf-db8178d1d11c"
      },
      "execution_count": 28,
      "outputs": [
        {
          "output_type": "stream",
          "name": "stdout",
          "text": [
            "\u001b[1m4733/4733\u001b[0m \u001b[32m━━━━━━━━━━━━━━━━━━━━\u001b[0m\u001b[37m\u001b[0m \u001b[1m8s\u001b[0m 2ms/step - accuracy: 0.7934 - f1_score: 0.5623 - loss: 0.4415 - precision: 0.8782 - recall: 0.5477\n",
            "Test loss:0.44103559851646423\n",
            "Test recall:0.5455856323242188\n",
            "Test accuracy:0.7933850884437561\n",
            "Test precision:0.8772432208061218\n",
            "Test f1 score:0.5604060292243958\n"
          ]
        }
      ]
    },
    {
      "cell_type": "code",
      "source": [
        "y_pred = model.predict(X_test_sample_nn)"
      ],
      "metadata": {
        "colab": {
          "base_uri": "https://localhost:8080/"
        },
        "id": "OtruK4Z_rcSx",
        "outputId": "558c03e5-d6ab-4594-b8e7-8a6f18dd613b"
      },
      "execution_count": 29,
      "outputs": [
        {
          "output_type": "stream",
          "name": "stdout",
          "text": [
            "\u001b[1m4733/4733\u001b[0m \u001b[32m━━━━━━━━━━━━━━━━━━━━\u001b[0m\u001b[37m\u001b[0m \u001b[1m6s\u001b[0m 1ms/step\n"
          ]
        }
      ]
    },
    {
      "cell_type": "code",
      "source": [
        "y_test_sample_nn"
      ],
      "metadata": {
        "colab": {
          "base_uri": "https://localhost:8080/"
        },
        "id": "dTzII69A3cnN",
        "outputId": "24714f23-cc5d-4829-ac63-c2fa8d6a09db"
      },
      "execution_count": 30,
      "outputs": [
        {
          "output_type": "execute_result",
          "data": {
            "text/plain": [
              "array([[1],\n",
              "       [0],\n",
              "       [1],\n",
              "       ...,\n",
              "       [1],\n",
              "       [1],\n",
              "       [0]])"
            ]
          },
          "metadata": {},
          "execution_count": 30
        }
      ]
    },
    {
      "cell_type": "code",
      "source": [
        "y_test_sample_nn"
      ],
      "metadata": {
        "colab": {
          "base_uri": "https://localhost:8080/"
        },
        "id": "vzZzdmEWsk6X",
        "outputId": "8e3665c1-3256-429b-cc4d-df7e989d32d1"
      },
      "execution_count": 31,
      "outputs": [
        {
          "output_type": "execute_result",
          "data": {
            "text/plain": [
              "array([[1],\n",
              "       [0],\n",
              "       [1],\n",
              "       ...,\n",
              "       [1],\n",
              "       [1],\n",
              "       [0]])"
            ]
          },
          "metadata": {},
          "execution_count": 31
        }
      ]
    },
    {
      "cell_type": "code",
      "source": [
        "y_pred"
      ],
      "metadata": {
        "colab": {
          "base_uri": "https://localhost:8080/"
        },
        "id": "CGUvlE-OsFUp",
        "outputId": "fc3a30fe-0690-4b5c-c324-3831daffc771"
      },
      "execution_count": 32,
      "outputs": [
        {
          "output_type": "execute_result",
          "data": {
            "text/plain": [
              "array([[0.99934715],\n",
              "       [0.22829515],\n",
              "       [0.9994399 ],\n",
              "       ...,\n",
              "       [0.9994837 ],\n",
              "       [0.3719132 ],\n",
              "       [0.14613904]], dtype=float32)"
            ]
          },
          "metadata": {},
          "execution_count": 32
        }
      ]
    },
    {
      "cell_type": "code",
      "source": [
        "#visualise  graph for overfitting using history\n",
        "\n",
        "import matplotlib.pyplot as plt\n",
        "\n",
        "# Assuming you have a history object from model.fit()\n",
        "plt.plot(history.history['loss'])\n",
        "plt.plot(history.history['val_loss'])\n",
        "\n",
        "plt.title('Model loss')\n",
        "plt.ylabel('Loss')\n",
        "plt.xlabel('Epoch')\n",
        "plt.legend(['Train', 'Val'])\n",
        "plt.show()\n",
        "\n",
        "\n"
      ],
      "metadata": {
        "colab": {
          "base_uri": "https://localhost:8080/",
          "height": 472
        },
        "id": "cP2F2SpNWbOa",
        "outputId": "b832d721-88ea-44b4-e11b-a5950297b084"
      },
      "execution_count": 33,
      "outputs": [
        {
          "output_type": "display_data",
          "data": {
            "text/plain": [
              "<Figure size 640x480 with 1 Axes>"
            ],
            "image/png": "[encoded data removed]"
          },
          "metadata": {}
        }
      ]
    },
    {
      "cell_type": "code",
      "source": [
        "plt.plot(history.history['recall'])\n",
        "plt.plot(history.history['val_recall'])\n",
        "plt.title('Model Recall')\n",
        "plt.ylabel('Recall')\n",
        "plt.xlabel('Epoch')\n",
        "plt.legend(['Train', 'Test'])\n",
        "plt.show()"
      ],
      "metadata": {
        "colab": {
          "base_uri": "https://localhost:8080/",
          "height": 472
        },
        "id": "s-i_wwXQkN_n",
        "outputId": "f7db7d85-b889-4f62-c0ed-ae562e754a55"
      },
      "execution_count": 34,
      "outputs": [
        {
          "output_type": "display_data",
          "data": {
            "text/plain": [
              "<Figure size 640x480 with 1 Axes>"
            ],
            "image/png": "[encoded data removed]"
          },
          "metadata": {}
        }
      ]
    },
    {
      "cell_type": "markdown",
      "source": [
        "# **Bagged Random Forest Model**"
      ],
      "metadata": {
        "id": "aCmLy5Z5lhUt"
      }
    },
    {
      "cell_type": "code",
      "source": [
        "# Create base Random Forest model\n",
        "base_model = RandomForestClassifier(n_estimators=100, random_state=42)\n",
        "\n",
        "# Create bagged ensemble\n",
        "bagged_model = BaggingClassifier(estimator=base_model, n_estimators=10, random_state=42)"
      ],
      "metadata": {
        "id": "NwZ0OM-jjLuR"
      },
      "execution_count": 32,
      "outputs": []
    },
    {
      "cell_type": "code",
      "source": [
        "# Fit the model\n",
        "bagged_model.fit(X_train_preprocessed_arr, y_train_sample_arr)\n",
        "\n"
      ],
      "metadata": {
        "id": "deBivW5il5PR"
      },
      "execution_count": null,
      "outputs": []
    },
    {
      "cell_type": "code",
      "source": [
        "# Make predictions\n",
        "y_pred = bagged_model.predict(X_test_preprocessed_arr)"
      ],
      "metadata": {
        "id": "CjmU04A7l87y"
      },
      "execution_count": 18,
      "outputs": []
    },
    {
      "cell_type": "code",
      "source": [
        "y_pred"
      ],
      "metadata": {
        "id": "7467qZJ2u4mM"
      },
      "execution_count": null,
      "outputs": []
    },
    {
      "cell_type": "code",
      "source": [
        "y_test_sample_arr = y_test_sample_arr.reshape(-1)"
      ],
      "metadata": {
        "id": "RuJoXRdmvLt9"
      },
      "execution_count": null,
      "outputs": []
    },
    {
      "cell_type": "code",
      "source": [
        "from sklearn.metrics import recall_score, roc_auc_score, accuracy_score, f1_score, confusion_matrix, precision_score, precision_recall_curve\n",
        "\n",
        "recall = recall_score(y_test_sample_arr, y_pred)\n",
        "print(f\"Recall: {recall}\")\n",
        "\n",
        "f1 = f1_score(y_test_sample_arr, y_pred)\n",
        "print(f\"F1 score: {f1}\")\n",
        "\n",
        "roc_auc = roc_auc_score(y_test_sample_arr, y_pred)\n",
        "print(f\"Roc-auc score: {roc_auc}\")\n",
        "\n",
        "accuracy = accuracy_score(y_test_sample_arr, y_pred)\n",
        "print(f\"accuracy score: {accuracy}\")\n",
        "\n",
        "precision = precision_score(y_test_sample_arr, y_pred)\n",
        "print(f\"precision score: {precision}\")"
      ],
      "metadata": {
        "colab": {
          "base_uri": "https://localhost:8080/"
        },
        "id": "TOJMKugrjNt-",
        "outputId": "20aa01f5-de52-4bcb-ef8b-6a5a868e630c"
      },
      "execution_count": 19,
      "outputs": [
        {
          "output_type": "stream",
          "name": "stdout",
          "text": [
            "Recall: 0.43402963302207637\n",
            "F1 score: 0.505264820729522\n",
            "Roc-auc score: 0.6265033072831132\n",
            "accuracy score: 0.6691251968529933\n",
            "precision score: 0.6044742623609175\n"
          ]
        }
      ]
    },
    {
      "cell_type": "code",
      "source": [
        "cm = confusion_matrix(y_test_sample_arr, y_pred)\n",
        "print(f\"Confusion Matrix:\\n{cm}\")"
      ],
      "metadata": {
        "colab": {
          "base_uri": "https://localhost:8080/"
        },
        "id": "U1498m83oLfi",
        "outputId": "ccff8118-8cf2-470c-c1be-2093664a9764"
      },
      "execution_count": 20,
      "outputs": [
        {
          "output_type": "stream",
          "name": "stdout",
          "text": [
            "Confusion Matrix:\n",
            "[[151496  33486]\n",
            " [ 66733  51176]]\n"
          ]
        }
      ]
    },
    {
      "cell_type": "code",
      "source": [
        "from sklearn.metrics import classification_report\n",
        "report = classification_report(y_test_sample_arr, y_pred)\n",
        "print(f\"Classification Report:\\n{report}\")"
      ],
      "metadata": {
        "colab": {
          "base_uri": "https://localhost:8080/"
        },
        "id": "5Pbn5c4eoQap",
        "outputId": "86f7c366-48a5-454a-bc6f-1ff60c88a47d"
      },
      "execution_count": 21,
      "outputs": [
        {
          "output_type": "stream",
          "name": "stdout",
          "text": [
            "Classification Report:\n",
            "              precision    recall  f1-score   support\n",
            "\n",
            "           0       0.69      0.82      0.75    184982\n",
            "           1       0.60      0.43      0.51    117909\n",
            "\n",
            "    accuracy                           0.67    302891\n",
            "   macro avg       0.65      0.63      0.63    302891\n",
            "weighted avg       0.66      0.67      0.66    302891\n",
            "\n"
          ]
        }
      ]
    },
    {
      "cell_type": "code",
      "source": [
        "precision, recall, thresholds = precision_recall_curve(y_test_sample_arr, y_pred)"
      ],
      "metadata": {
        "id": "c9w2qI1poTOk"
      },
      "execution_count": 22,
      "outputs": []
    },
    {
      "cell_type": "code",
      "source": [
        "from sklearn.metrics import average_precision_score\n",
        "average_precision = average_precision_score(y_test_sample_arr, y_pred)"
      ],
      "metadata": {
        "id": "t1yxWXxdpoJM"
      },
      "execution_count": 23,
      "outputs": []
    },
    {
      "cell_type": "code",
      "source": [
        "average_precision"
      ],
      "metadata": {
        "colab": {
          "base_uri": "https://localhost:8080/"
        },
        "id": "t7FUuBySv9K_",
        "outputId": "961a5d65-561a-48af-8622-0e853519e8e5"
      },
      "execution_count": 24,
      "outputs": [
        {
          "output_type": "execute_result",
          "data": {
            "text/plain": [
              "0.4826799234510911"
            ]
          },
          "metadata": {},
          "execution_count": 24
        }
      ]
    },
    {
      "cell_type": "code",
      "source": [
        "plt.figure()\n",
        "plt.step(recall, precision, color='b', alpha=0.2, where='post')\n",
        "plt.fill_between(recall, precision, step='post', alpha=0.2, color='b')\n",
        "\n",
        "plt.xlabel('Recall')\n",
        "plt.ylabel('Precision')\n",
        "#plt.ylim([0.0, 1.05])\n",
        "#plt.xlim([0.0, 1.0])\n",
        "plt.title('Precision-Recall curve: AP={0:0.2f}'.format(average_precision))\n",
        "\n",
        "\n",
        "plt.show()"
      ],
      "metadata": {
        "colab": {
          "base_uri": "https://localhost:8080/",
          "height": 472
        },
        "id": "yRxcuN23pE2y",
        "outputId": "58269bad-1110-4a9a-c2bf-06179cf9e4dc"
      },
      "execution_count": 25,
      "outputs": [
        {
          "output_type": "display_data",
          "data": {
            "text/plain": [
              "<Figure size 640x480 with 1 Axes>"
            ],
            "image/png": "[encoded data removed]"
          },
          "metadata": {}
        }
      ]
    }
  ]
}