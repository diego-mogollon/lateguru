{
  "nbformat": 4,
  "nbformat_minor": 0,
  "metadata": {
    "colab": {
      "provenance": [],
      "machine_shape": "hm",
      "gpuType": "T4",
      "collapsed_sections": [
        "m7tIGzUcQrHy"
      ],
      "authorship_tag": "ABX9TyOH6fi49Plz+gsP96HhHAaa",
      "include_colab_link": true
    },
    "kernelspec": {
      "name": "python3",
      "display_name": "Python 3"
    },
    "language_info": {
      "name": "python"
    },
    "accelerator": "GPU"
  },
  "cells": [
    {
      "cell_type": "markdown",
      "metadata": {
        "id": "view-in-github",
        "colab_type": "text"
      },
      "source": [
        "<a href=\"https://colab.research.google.com/github/diego-mogollon/lateguru/blob/conor-data-modelling/Lateguru_Modelling_C_NN.ipynb\" target=\"_parent\"><img src=\"https://colab.research.google.com/assets/colab-badge.svg\" alt=\"Open In Colab\"/></a>"
      ]
    },
    {
      "cell_type": "markdown",
      "source": [
        "# **Importing Libraries & Datasets**"
      ],
      "metadata": {
        "id": "78-lK1FRIfYI"
      }
    },
    {
      "cell_type": "markdown",
      "source": [
        "This notebook models flight delays using binary classification with two models:\n",
        "- A dense neural network with a sigmoid activation function\n",
        "- A Bagged Classifier of Random Forest Base Models"
      ],
      "metadata": {
        "id": "VLWaiHhqHZNE"
      }
    },
    {
      "cell_type": "code",
      "execution_count": 1,
      "metadata": {
        "id": "kYTq6K7uE4Xw"
      },
      "outputs": [],
      "source": [
        "#importing python libraries\n",
        "import pandas as pd\n",
        "import numpy as np\n",
        "import matplotlib.pyplot as plt\n",
        "import seaborn as sns\n",
        "import os\n",
        "\n",
        "from scipy import stats\n",
        "\n",
        "from sklearn.compose import ColumnTransformer\n",
        "from sklearn.impute import SimpleImputer\n",
        "from sklearn.pipeline import Pipeline\n",
        "from sklearn.preprocessing import StandardScaler, RobustScaler, MinMaxScaler, OneHotEncoder\n",
        "from sklearn.model_selection import GridSearchCV, StratifiedKFold\n",
        "from sklearn.model_selection import train_test_split\n",
        "from sklearn.ensemble import RandomForestClassifier\n",
        "from sklearn.ensemble import BaggingClassifier\n",
        "from sklearn.metrics import accuracy_score\n",
        "\n",
        "from sklearn.decomposition import PCA\n",
        "\n",
        "#import xgboost as xgb\n",
        "\n",
        "#from imblearn.over_sampling import SMOTE, ADASYN\n"
      ]
    },
    {
      "cell_type": "code",
      "source": [
        "from google.colab import drive\n",
        "\n",
        "\n",
        "# Mount your Google Drive\n",
        "drive.mount('/content/drive', force_remount=True)"
      ],
      "metadata": {
        "colab": {
          "base_uri": "https://localhost:8080/"
        },
        "id": "ThFlnBQcMpfP",
        "outputId": "bf4c92a9-5aea-4379-e4e7-b1b7703d34cc"
      },
      "execution_count": 2,
      "outputs": [
        {
          "output_type": "stream",
          "name": "stdout",
          "text": [
            "Mounted at /content/drive\n"
          ]
        }
      ]
    },
    {
      "cell_type": "code",
      "source": [
        "\n",
        "\n",
        "# Specify the path to your CSV file (replace with your actual path)\n",
        "X_test_preprocessed = '/content/drive/MyDrive/Lateguru/data/X_test_preprocessed_dt.csv'\n",
        "X_train_preprocessed = '/content/drive/MyDrive/Lateguru/data/X_train_preprocessed_dt.csv'\n",
        "y_test_sample = '/content/drive/MyDrive/Lateguru/data/y_test_sample_dt.csv'\n",
        "y_train_sample = '/content/drive/MyDrive/Lateguru/data/y_train_sample_dt.csv'\n",
        "\n",
        "# Specify the path to your CSV file (replace with your actual path)\n",
        "# - Lighter csvs with smaller dimensionality\n",
        "'''X_test_preprocessed_lite = '/content/drive/MyDrive/Lateguru/data/X_test_preprocessed_dt_lite.csv'\n",
        "X_train_preprocessed_lite = '/content/drive/MyDrive/Lateguru/data/X_train_balanced_dt_lite.csv'\n",
        "y_test_sample_lite = '/content/drive/MyDrive/Lateguru/data/y_test_sample_dt_lite.csv'\n",
        "y_train_sample_lite = '/content/drive/MyDrive/Lateguru/data/y_train_balanced_dt_lite.csv'''\n",
        "\n",
        "'''# Read the CSV file into a Pandas DataFrame\n",
        "X_test_preprocessed_df = pd.read_csv(X_test_preprocessed, compression='zip')\n",
        "X_train_preprocessed_df = pd.read_csv(X_train_preprocessed,compression='zip')\n",
        "y_test_sample_df = pd.read_csv(y_test_sample, compression='zip')\n",
        "y_train_sample_df = pd.read_csv(y_train_sample, compression='zip')'''\n",
        "\n",
        "# Read the CSV file into a Pandas DataFrame\n",
        "X_test_preprocessed_df = pd.read_csv(X_test_preprocessed, compression='zip')\n",
        "X_train_preprocessed_df = pd.read_csv(X_train_preprocessed,compression='zip')\n",
        "y_test_sample_df = pd.read_csv(y_test_sample, compression='zip')\n",
        "y_train_sample_df = pd.read_csv(y_train_sample, compression='zip')\n",
        "\n",
        "# Print the first few rows of the DataFrame\n",
        "print(X_test_preprocessed_df.head(1))\n",
        "print(X_train_preprocessed_df.head(1))\n",
        "print(y_test_sample_df.head(1))\n",
        "print(y_train_sample_df.head(1))"
      ],
      "metadata": {
        "colab": {
          "base_uri": "https://localhost:8080/"
        },
        "id": "IaDx4axvIpyV",
        "outputId": "fc082627-73b7-4fda-8b84-1f91ab7933b9"
      },
      "execution_count": 3,
      "outputs": [
        {
          "output_type": "stream",
          "name": "stdout",
          "text": [
            "     0    1    2    3    4    5    6    7    8    9  ...       411       412  \\\n",
            "0  0.0  0.0  0.0  0.0  0.0  0.0  0.0  0.0  0.0  0.0  ... -0.343952 -0.392953   \n",
            "\n",
            "        413       414       415     416       417       418       419  \\\n",
            "0  0.418822 -1.065777 -0.428486 -0.1986 -0.010991 -1.336718  1.011177   \n",
            "\n",
            "        420  \n",
            "0  0.098363  \n",
            "\n",
            "[1 rows x 421 columns]\n",
            "     0    1    2    3    4    5    6    7    8    9  ...       411       412  \\\n",
            "0  0.0  0.0  0.0  0.0  0.0  0.0  0.0  0.0  0.0  0.0  ... -0.398641 -0.497578   \n",
            "\n",
            "        413       414      415     416       417       418       419       420  \n",
            "0  0.418822 -1.065777 -0.62108 -0.1986 -0.010991 -0.143549  0.010834  1.555977  \n",
            "\n",
            "[1 rows x 421 columns]\n",
            "   Delayed\n",
            "0    False\n",
            "   Delayed\n",
            "0     True\n"
          ]
        }
      ]
    },
    {
      "cell_type": "code",
      "source": [
        "y_test_sample_df.value_counts(normalize=True)"
      ],
      "metadata": {
        "colab": {
          "base_uri": "https://localhost:8080/",
          "height": 178
        },
        "id": "5rQCLefIudIO",
        "outputId": "f8cf50c1-4ff6-4ca8-bcb8-61642d4b05e6"
      },
      "execution_count": 4,
      "outputs": [
        {
          "output_type": "execute_result",
          "data": {
            "text/plain": [
              "Delayed\n",
              "False      0.610721\n",
              "True       0.389279\n",
              "Name: proportion, dtype: float64"
            ],
            "text/html": [
              "<div>\n",
              "<style scoped>\n",
              "    .dataframe tbody tr th:only-of-type {\n",
              "        vertical-align: middle;\n",
              "    }\n",
              "\n",
              "    .dataframe tbody tr th {\n",
              "        vertical-align: top;\n",
              "    }\n",
              "\n",
              "    .dataframe thead th {\n",
              "        text-align: right;\n",
              "    }\n",
              "</style>\n",
              "<table border=\"1\" class=\"dataframe\">\n",
              "  <thead>\n",
              "    <tr style=\"text-align: right;\">\n",
              "      <th></th>\n",
              "      <th>proportion</th>\n",
              "    </tr>\n",
              "    <tr>\n",
              "      <th>Delayed</th>\n",
              "      <th></th>\n",
              "    </tr>\n",
              "  </thead>\n",
              "  <tbody>\n",
              "    <tr>\n",
              "      <th>False</th>\n",
              "      <td>0.610721</td>\n",
              "    </tr>\n",
              "    <tr>\n",
              "      <th>True</th>\n",
              "      <td>0.389279</td>\n",
              "    </tr>\n",
              "  </tbody>\n",
              "</table>\n",
              "</div><br><label><b>dtype:</b> float64</label>"
            ]
          },
          "metadata": {},
          "execution_count": 4
        }
      ]
    },
    {
      "cell_type": "code",
      "source": [
        "y_train_sample_df.value_counts(normalize=True)"
      ],
      "metadata": {
        "colab": {
          "base_uri": "https://localhost:8080/",
          "height": 178
        },
        "id": "AqyOuqpUmCE0",
        "outputId": "abd5bb1b-c780-412d-d37d-6af320e6f6a9"
      },
      "execution_count": 5,
      "outputs": [
        {
          "output_type": "execute_result",
          "data": {
            "text/plain": [
              "Delayed\n",
              "False      0.61072\n",
              "True       0.38928\n",
              "Name: proportion, dtype: float64"
            ],
            "text/html": [
              "<div>\n",
              "<style scoped>\n",
              "    .dataframe tbody tr th:only-of-type {\n",
              "        vertical-align: middle;\n",
              "    }\n",
              "\n",
              "    .dataframe tbody tr th {\n",
              "        vertical-align: top;\n",
              "    }\n",
              "\n",
              "    .dataframe thead th {\n",
              "        text-align: right;\n",
              "    }\n",
              "</style>\n",
              "<table border=\"1\" class=\"dataframe\">\n",
              "  <thead>\n",
              "    <tr style=\"text-align: right;\">\n",
              "      <th></th>\n",
              "      <th>proportion</th>\n",
              "    </tr>\n",
              "    <tr>\n",
              "      <th>Delayed</th>\n",
              "      <th></th>\n",
              "    </tr>\n",
              "  </thead>\n",
              "  <tbody>\n",
              "    <tr>\n",
              "      <th>False</th>\n",
              "      <td>0.61072</td>\n",
              "    </tr>\n",
              "    <tr>\n",
              "      <th>True</th>\n",
              "      <td>0.38928</td>\n",
              "    </tr>\n",
              "  </tbody>\n",
              "</table>\n",
              "</div><br><label><b>dtype:</b> float64</label>"
            ]
          },
          "metadata": {},
          "execution_count": 5
        }
      ]
    },
    {
      "cell_type": "code",
      "source": [
        "print(type(y_train_sample_arr))"
      ],
      "metadata": {
        "colab": {
          "base_uri": "https://localhost:8080/"
        },
        "id": "yp1JBRi_Oxw-",
        "outputId": "39d64ef6-8352-44cc-87b7-8bd24aebf4dc"
      },
      "execution_count": null,
      "outputs": [
        {
          "output_type": "stream",
          "name": "stdout",
          "text": [
            "<class 'numpy.ndarray'>\n"
          ]
        }
      ]
    },
    {
      "cell_type": "code",
      "source": [
        "y_test_sample_df['Delayed'] = y_test_sample_df['Delayed'].apply(lambda x: 1 if x == True else 0)\n",
        "y_train_sample_df['Delayed'] = y_train_sample_df['Delayed'].apply(lambda x: 1 if x == True else 0)"
      ],
      "metadata": {
        "id": "sT1qozeMuLd8"
      },
      "execution_count": 6,
      "outputs": []
    },
    {
      "cell_type": "code",
      "source": [
        "#Using principal component analysis to reduce dimensionality\n",
        "pca = PCA(n_components=7)\n",
        "X_train_preprocessed_df = pca.fit_transform(X_train_preprocessed_df)\n",
        "X_test_preprocessed_df = pca.transform(X_test_preprocessed_df)\n"
      ],
      "metadata": {
        "id": "R2GfMg_FxThn"
      },
      "execution_count": null,
      "outputs": []
    },
    {
      "cell_type": "code",
      "source": [
        "X_test_preprocessed_arr = np.array(X_test_preprocessed_df)\n",
        "X_train_preprocessed_arr = np.array(X_train_preprocessed_df)\n",
        "y_test_sample_arr = np.array(y_test_sample_df)\n",
        "y_train_sample_arr = np.array(y_train_sample_df)\n"
      ],
      "metadata": {
        "id": "KIjvPa_qSZyu"
      },
      "execution_count": 28,
      "outputs": []
    },
    {
      "cell_type": "code",
      "source": [
        "print(f\"X_test_preprocessed shape: {X_test_preprocessed_arr.shape}\")\n",
        "print(f\"X_train_preprocessed shape: {X_train_preprocessed_arr.shape}\")\n",
        "print(f\"y_test_sample shape: {y_test_sample_arr.shape}\")\n",
        "print(f\"y_train_sample shape: {y_train_sample_arr.shape}\")\n"
      ],
      "metadata": {
        "colab": {
          "base_uri": "https://localhost:8080/"
        },
        "id": "Hfj2MunSTMoH",
        "outputId": "ad99ad86-cc38-4a06-eba9-00661bc93e5e"
      },
      "execution_count": 29,
      "outputs": [
        {
          "output_type": "stream",
          "name": "stdout",
          "text": [
            "X_test_preprocessed shape: (302891, 421)\n",
            "X_train_preprocessed shape: (1211560, 421)\n",
            "y_test_sample shape: (302891, 1)\n",
            "y_train_sample shape: (1211560, 1)\n"
          ]
        }
      ]
    },
    {
      "cell_type": "code",
      "source": [
        "#y_train_sample_arr = y_train_sample_arr.reshape(-1)\n",
        "#only needed with SVM, uncomment for NN\n"
      ],
      "metadata": {
        "id": "Eo4DSspoYUeh"
      },
      "execution_count": null,
      "outputs": []
    },
    {
      "cell_type": "code",
      "source": [
        "#splitting the test data into a validation set to ensure no data leakage during nn training\n",
        "#make sure to evaluate the model on X_test_sample_nn\n",
        "\n",
        "X_val, X_test_sample_nn, y_val, y_test_sample_nn = train_test_split(X_test_preprocessed_arr, y_test_sample_arr,\n",
        "                 test_size=0.5,\n",
        "                 random_state=42,\n",
        "                 stratify=y_test_sample_arr)"
      ],
      "metadata": {
        "id": "sE2vFVuoK4Qv"
      },
      "execution_count": 30,
      "outputs": []
    },
    {
      "cell_type": "code",
      "source": [
        "pd.DataFrame(y_val).value_counts(normalize=True)"
      ],
      "metadata": {
        "colab": {
          "base_uri": "https://localhost:8080/",
          "height": 178
        },
        "id": "vC9rtc_Jmlzq",
        "outputId": "1c90c6b9-2d27-464e-b37b-6fa16628e70e"
      },
      "execution_count": null,
      "outputs": [
        {
          "output_type": "execute_result",
          "data": {
            "text/plain": [
              "False    0.610723\n",
              "True     0.389277\n",
              "Name: proportion, dtype: float64"
            ],
            "text/html": [
              "<div>\n",
              "<style scoped>\n",
              "    .dataframe tbody tr th:only-of-type {\n",
              "        vertical-align: middle;\n",
              "    }\n",
              "\n",
              "    .dataframe tbody tr th {\n",
              "        vertical-align: top;\n",
              "    }\n",
              "\n",
              "    .dataframe thead th {\n",
              "        text-align: right;\n",
              "    }\n",
              "</style>\n",
              "<table border=\"1\" class=\"dataframe\">\n",
              "  <thead>\n",
              "    <tr style=\"text-align: right;\">\n",
              "      <th></th>\n",
              "      <th>proportion</th>\n",
              "    </tr>\n",
              "    <tr>\n",
              "      <th>0</th>\n",
              "      <th></th>\n",
              "    </tr>\n",
              "  </thead>\n",
              "  <tbody>\n",
              "    <tr>\n",
              "      <th>False</th>\n",
              "      <td>0.610723</td>\n",
              "    </tr>\n",
              "    <tr>\n",
              "      <th>True</th>\n",
              "      <td>0.389277</td>\n",
              "    </tr>\n",
              "  </tbody>\n",
              "</table>\n",
              "</div><br><label><b>dtype:</b> float64</label>"
            ]
          },
          "metadata": {},
          "execution_count": 67
        }
      ]
    },
    {
      "cell_type": "code",
      "source": [
        "pd.DataFrame(y_test_sample_nn).value_counts(normalize=True)"
      ],
      "metadata": {
        "colab": {
          "base_uri": "https://localhost:8080/",
          "height": 178
        },
        "id": "QY7l2nEjmsrD",
        "outputId": "0c86d970-9145-4e2e-d569-40ebaceb1aa2"
      },
      "execution_count": null,
      "outputs": [
        {
          "output_type": "execute_result",
          "data": {
            "text/plain": [
              "False    0.610719\n",
              "True     0.389281\n",
              "Name: proportion, dtype: float64"
            ],
            "text/html": [
              "<div>\n",
              "<style scoped>\n",
              "    .dataframe tbody tr th:only-of-type {\n",
              "        vertical-align: middle;\n",
              "    }\n",
              "\n",
              "    .dataframe tbody tr th {\n",
              "        vertical-align: top;\n",
              "    }\n",
              "\n",
              "    .dataframe thead th {\n",
              "        text-align: right;\n",
              "    }\n",
              "</style>\n",
              "<table border=\"1\" class=\"dataframe\">\n",
              "  <thead>\n",
              "    <tr style=\"text-align: right;\">\n",
              "      <th></th>\n",
              "      <th>proportion</th>\n",
              "    </tr>\n",
              "    <tr>\n",
              "      <th>0</th>\n",
              "      <th></th>\n",
              "    </tr>\n",
              "  </thead>\n",
              "  <tbody>\n",
              "    <tr>\n",
              "      <th>False</th>\n",
              "      <td>0.610719</td>\n",
              "    </tr>\n",
              "    <tr>\n",
              "      <th>True</th>\n",
              "      <td>0.389281</td>\n",
              "    </tr>\n",
              "  </tbody>\n",
              "</table>\n",
              "</div><br><label><b>dtype:</b> float64</label>"
            ]
          },
          "metadata": {},
          "execution_count": 68
        }
      ]
    },
    {
      "cell_type": "code",
      "source": [
        "print(f\"X_val shape: {X_val.shape}\")\n",
        "print(f\"y_val: {y_val.shape}\")\n",
        "print(f\"X_test_sample_nn shape: {X_test_sample_nn.shape}\")\n",
        "print(f\"y_test_sample_nn: {y_test_sample_nn.shape}\")"
      ],
      "metadata": {
        "colab": {
          "base_uri": "https://localhost:8080/"
        },
        "id": "FhhduQpCMPJR",
        "outputId": "75e1f036-2277-40f2-f129-f3495b4a56e4"
      },
      "execution_count": 31,
      "outputs": [
        {
          "output_type": "stream",
          "name": "stdout",
          "text": [
            "X_val shape: (151445, 421)\n",
            "y_val: (151445, 1)\n",
            "X_test_sample_nn shape: (151446, 421)\n",
            "y_test_sample_nn: (151446, 1)\n"
          ]
        }
      ]
    },
    {
      "cell_type": "markdown",
      "source": [
        " #  **Modelling with a SVM Classifier**"
      ],
      "metadata": {
        "id": "m7tIGzUcQrHy"
      }
    },
    {
      "cell_type": "code",
      "source": [
        "from sklearn.svm import SVC\n",
        "from sklearn.metrics import recall_score, roc_auc_score, accuracy_score, f1_score, confusion_matrix\n",
        "\n"
      ],
      "metadata": {
        "id": "xvog1QskRGqZ"
      },
      "execution_count": null,
      "outputs": []
    },
    {
      "cell_type": "code",
      "source": [
        "sig_svm_clf = SVC(kernel='rbf')"
      ],
      "metadata": {
        "id": "DYRc4TL9RKkq"
      },
      "execution_count": null,
      "outputs": []
    },
    {
      "cell_type": "code",
      "source": [
        "sig_svm_clf.fit(X_train_preprocessed_arr, y_train_sample_arr)"
      ],
      "metadata": {
        "id": "8CLXvpOhRPBD"
      },
      "execution_count": null,
      "outputs": []
    },
    {
      "cell_type": "code",
      "source": [
        "y_pred = sig_svm_clf.predict(X_test_preprocessed)"
      ],
      "metadata": {
        "id": "8A1cTjVmRiyv"
      },
      "execution_count": null,
      "outputs": []
    },
    {
      "cell_type": "code",
      "source": [
        "recall = recall_score(y_test_sample, y_pred)\n",
        "print(f\"Recall: {recall}\")\n",
        "\n",
        "f1 = f1_score(y_test_sample, y_pred)\n",
        "print(f\"F1 score: {f1}\")"
      ],
      "metadata": {
        "id": "2Z2hy57BSFi1"
      },
      "execution_count": null,
      "outputs": []
    },
    {
      "cell_type": "markdown",
      "source": [
        "# **Modelling with Neural Networks**"
      ],
      "metadata": {
        "id": "uhBr6aWVIRND"
      }
    },
    {
      "cell_type": "markdown",
      "source": [
        "## Dense Neural Net"
      ],
      "metadata": {
        "id": "E4E1AK7Zn5fm"
      }
    },
    {
      "cell_type": "code",
      "source": [
        "from tensorflow.keras import Sequential, layers\n",
        "from tensorflow.keras.layers import Dense\n",
        "from tensorflow.keras.optimizers import Adam\n",
        "from tensorflow.keras.optimizers import RMSprop\n",
        "\n",
        "\n",
        "# Assuming you have your input data prepared\n",
        "\n",
        "\n",
        "model = Sequential()\n",
        "model.add(layers.Dense(128,activation='tanh', input_dim=X_train_preprocessed_arr.shape[1]))\n",
        "#model.add(layers.Conv1D(128,activation='relu'))\n",
        "#model.add(layers.Conv1D(64,2,activation='relu'))\n",
        "#model.add(layers.Dense(128,activation='relu'))\n",
        "#model.add(layers.Dense(128,activation='tanh'))\n",
        "model.add(layers.Dense(64,activation='relu'))\n",
        "model.add(layers.Dense(32,activation='tanh')) #regularise some layers, try tanh a bit\n",
        "#model.add(layers.Dense(16,activation='tanh'))\n",
        "model.add(layers.Dense(8,activation='tanh'))\n",
        "model.add(layers.Dense(1,activation='sigmoid'))"
      ],
      "metadata": {
        "id": "rjtpwa6KHyre"
      },
      "execution_count": null,
      "outputs": []
    },
    {
      "cell_type": "code",
      "source": [
        "model.summary()"
      ],
      "metadata": {
        "colab": {
          "base_uri": "https://localhost:8080/",
          "height": 298
        },
        "id": "8E1VF8_6Sjys",
        "outputId": "be86e173-abce-4b12-960d-6aa19f10a08f"
      },
      "execution_count": null,
      "outputs": [
        {
          "output_type": "display_data",
          "data": {
            "text/plain": [
              "\u001b[1mModel: \"sequential_6\"\u001b[0m\n"
            ],
            "text/html": [
              "<pre style=\"white-space:pre;overflow-x:auto;line-height:normal;font-family:Menlo,'DejaVu Sans Mono',consolas,'Courier New',monospace\"><span style=\"font-weight: bold\">Model: \"sequential_6\"</span>\n",
              "</pre>\n"
            ]
          },
          "metadata": {}
        },
        {
          "output_type": "display_data",
          "data": {
            "text/plain": [
              "┏━━━━━━━━━━━━━━━━━━━━━━━━━━━━━━━━━━━━━━┳━━━━━━━━━━━━━━━━━━━━━━━━━━━━━┳━━━━━━━━━━━━━━━━━┓\n",
              "┃\u001b[1m \u001b[0m\u001b[1mLayer (type)                        \u001b[0m\u001b[1m \u001b[0m┃\u001b[1m \u001b[0m\u001b[1mOutput Shape               \u001b[0m\u001b[1m \u001b[0m┃\u001b[1m \u001b[0m\u001b[1m        Param #\u001b[0m\u001b[1m \u001b[0m┃\n",
              "┡━━━━━━━━━━━━━━━━━━━━━━━━━━━━━━━━━━━━━━╇━━━━━━━━━━━━━━━━━━━━━━━━━━━━━╇━━━━━━━━━━━━━━━━━┩\n",
              "│ dense_16 (\u001b[38;5;33mDense\u001b[0m)                     │ (\u001b[38;5;45mNone\u001b[0m, \u001b[38;5;34m128\u001b[0m)                 │          \u001b[38;5;34m54,016\u001b[0m │\n",
              "├──────────────────────────────────────┼─────────────────────────────┼─────────────────┤\n",
              "│ dense_17 (\u001b[38;5;33mDense\u001b[0m)                     │ (\u001b[38;5;45mNone\u001b[0m, \u001b[38;5;34m64\u001b[0m)                  │           \u001b[38;5;34m8,256\u001b[0m │\n",
              "├──────────────────────────────────────┼─────────────────────────────┼─────────────────┤\n",
              "│ dense_18 (\u001b[38;5;33mDense\u001b[0m)                     │ (\u001b[38;5;45mNone\u001b[0m, \u001b[38;5;34m32\u001b[0m)                  │           \u001b[38;5;34m2,080\u001b[0m │\n",
              "├──────────────────────────────────────┼─────────────────────────────┼─────────────────┤\n",
              "│ dense_19 (\u001b[38;5;33mDense\u001b[0m)                     │ (\u001b[38;5;45mNone\u001b[0m, \u001b[38;5;34m8\u001b[0m)                   │             \u001b[38;5;34m264\u001b[0m │\n",
              "├──────────────────────────────────────┼─────────────────────────────┼─────────────────┤\n",
              "│ dense_20 (\u001b[38;5;33mDense\u001b[0m)                     │ (\u001b[38;5;45mNone\u001b[0m, \u001b[38;5;34m1\u001b[0m)                   │               \u001b[38;5;34m9\u001b[0m │\n",
              "└──────────────────────────────────────┴─────────────────────────────┴─────────────────┘\n"
            ],
            "text/html": [
              "<pre style=\"white-space:pre;overflow-x:auto;line-height:normal;font-family:Menlo,'DejaVu Sans Mono',consolas,'Courier New',monospace\">┏━━━━━━━━━━━━━━━━━━━━━━━━━━━━━━━━━━━━━━┳━━━━━━━━━━━━━━━━━━━━━━━━━━━━━┳━━━━━━━━━━━━━━━━━┓\n",
              "┃<span style=\"font-weight: bold\"> Layer (type)                         </span>┃<span style=\"font-weight: bold\"> Output Shape                </span>┃<span style=\"font-weight: bold\">         Param # </span>┃\n",
              "┡━━━━━━━━━━━━━━━━━━━━━━━━━━━━━━━━━━━━━━╇━━━━━━━━━━━━━━━━━━━━━━━━━━━━━╇━━━━━━━━━━━━━━━━━┩\n",
              "│ dense_16 (<span style=\"color: #0087ff; text-decoration-color: #0087ff\">Dense</span>)                     │ (<span style=\"color: #00d7ff; text-decoration-color: #00d7ff\">None</span>, <span style=\"color: #00af00; text-decoration-color: #00af00\">128</span>)                 │          <span style=\"color: #00af00; text-decoration-color: #00af00\">54,016</span> │\n",
              "├──────────────────────────────────────┼─────────────────────────────┼─────────────────┤\n",
              "│ dense_17 (<span style=\"color: #0087ff; text-decoration-color: #0087ff\">Dense</span>)                     │ (<span style=\"color: #00d7ff; text-decoration-color: #00d7ff\">None</span>, <span style=\"color: #00af00; text-decoration-color: #00af00\">64</span>)                  │           <span style=\"color: #00af00; text-decoration-color: #00af00\">8,256</span> │\n",
              "├──────────────────────────────────────┼─────────────────────────────┼─────────────────┤\n",
              "│ dense_18 (<span style=\"color: #0087ff; text-decoration-color: #0087ff\">Dense</span>)                     │ (<span style=\"color: #00d7ff; text-decoration-color: #00d7ff\">None</span>, <span style=\"color: #00af00; text-decoration-color: #00af00\">32</span>)                  │           <span style=\"color: #00af00; text-decoration-color: #00af00\">2,080</span> │\n",
              "├──────────────────────────────────────┼─────────────────────────────┼─────────────────┤\n",
              "│ dense_19 (<span style=\"color: #0087ff; text-decoration-color: #0087ff\">Dense</span>)                     │ (<span style=\"color: #00d7ff; text-decoration-color: #00d7ff\">None</span>, <span style=\"color: #00af00; text-decoration-color: #00af00\">8</span>)                   │             <span style=\"color: #00af00; text-decoration-color: #00af00\">264</span> │\n",
              "├──────────────────────────────────────┼─────────────────────────────┼─────────────────┤\n",
              "│ dense_20 (<span style=\"color: #0087ff; text-decoration-color: #0087ff\">Dense</span>)                     │ (<span style=\"color: #00d7ff; text-decoration-color: #00d7ff\">None</span>, <span style=\"color: #00af00; text-decoration-color: #00af00\">1</span>)                   │               <span style=\"color: #00af00; text-decoration-color: #00af00\">9</span> │\n",
              "└──────────────────────────────────────┴─────────────────────────────┴─────────────────┘\n",
              "</pre>\n"
            ]
          },
          "metadata": {}
        },
        {
          "output_type": "display_data",
          "data": {
            "text/plain": [
              "\u001b[1m Total params: \u001b[0m\u001b[38;5;34m64,625\u001b[0m (252.44 KB)\n"
            ],
            "text/html": [
              "<pre style=\"white-space:pre;overflow-x:auto;line-height:normal;font-family:Menlo,'DejaVu Sans Mono',consolas,'Courier New',monospace\"><span style=\"font-weight: bold\"> Total params: </span><span style=\"color: #00af00; text-decoration-color: #00af00\">64,625</span> (252.44 KB)\n",
              "</pre>\n"
            ]
          },
          "metadata": {}
        },
        {
          "output_type": "display_data",
          "data": {
            "text/plain": [
              "\u001b[1m Trainable params: \u001b[0m\u001b[38;5;34m64,625\u001b[0m (252.44 KB)\n"
            ],
            "text/html": [
              "<pre style=\"white-space:pre;overflow-x:auto;line-height:normal;font-family:Menlo,'DejaVu Sans Mono',consolas,'Courier New',monospace\"><span style=\"font-weight: bold\"> Trainable params: </span><span style=\"color: #00af00; text-decoration-color: #00af00\">64,625</span> (252.44 KB)\n",
              "</pre>\n"
            ]
          },
          "metadata": {}
        },
        {
          "output_type": "display_data",
          "data": {
            "text/plain": [
              "\u001b[1m Non-trainable params: \u001b[0m\u001b[38;5;34m0\u001b[0m (0.00 B)\n"
            ],
            "text/html": [
              "<pre style=\"white-space:pre;overflow-x:auto;line-height:normal;font-family:Menlo,'DejaVu Sans Mono',consolas,'Courier New',monospace\"><span style=\"font-weight: bold\"> Non-trainable params: </span><span style=\"color: #00af00; text-decoration-color: #00af00\">0</span> (0.00 B)\n",
              "</pre>\n"
            ]
          },
          "metadata": {}
        }
      ]
    },
    {
      "cell_type": "code",
      "source": [
        "adam = Adam(\n",
        "    learning_rate=0.001\n",
        ")\n",
        "\n",
        "RMSprop = RMSprop(\n",
        "    learning_rate=0.001\n",
        ")\n",
        "\n",
        "model.compile(loss='binary_crossentropy', optimizer=adam, metrics=['accuracy', 'recall', 'precision', 'f1_score'])\n",
        "\n",
        "\n",
        "#optimise learning rates by splitting out adam"
      ],
      "metadata": {
        "id": "rXSxSRTwSkgh"
      },
      "execution_count": null,
      "outputs": []
    },
    {
      "cell_type": "code",
      "source": [
        "from tensorflow.keras.callbacks import EarlyStopping\n",
        "\n",
        "es = EarlyStopping(patience=20, restore_best_weights=True)"
      ],
      "metadata": {
        "id": "m8VyfmrrSnEF"
      },
      "execution_count": null,
      "outputs": []
    },
    {
      "cell_type": "code",
      "source": [
        "#Need to manually define a balanced validation set"
      ],
      "metadata": {
        "id": "FYVjAIudGVAU"
      },
      "execution_count": null,
      "outputs": []
    },
    {
      "cell_type": "code",
      "source": [
        "history = model.fit(X_train_preprocessed_arr, y_train_sample_arr, batch_size=32, epochs=10, validation_data=(X_val, y_val), callbacks =[es])"
      ],
      "metadata": {
        "colab": {
          "base_uri": "https://localhost:8080/",
          "height": 581
        },
        "id": "gSnhUu7jSpaD",
        "outputId": "3db244a2-c76e-46a5-c56c-423cc3b63d88"
      },
      "execution_count": null,
      "outputs": [
        {
          "output_type": "stream",
          "name": "stdout",
          "text": [
            "Epoch 1/10\n",
            "\u001b[1m37862/37862\u001b[0m \u001b[32m━━━━━━━━━━━━━━━━━━━━\u001b[0m\u001b[37m\u001b[0m \u001b[1m65s\u001b[0m 2ms/step - loss: 0.4488 - recall: 0.5309 - val_loss: 0.4384 - val_recall: 0.5370\n",
            "Epoch 2/10\n",
            "\u001b[1m37862/37862\u001b[0m \u001b[32m━━━━━━━━━━━━━━━━━━━━\u001b[0m\u001b[37m\u001b[0m \u001b[1m61s\u001b[0m 2ms/step - loss: 0.4386 - recall: 0.5430 - val_loss: 0.4359 - val_recall: 0.5450\n",
            "Epoch 3/10\n",
            "\u001b[1m37862/37862\u001b[0m \u001b[32m━━━━━━━━━━━━━━━━━━━━\u001b[0m\u001b[37m\u001b[0m \u001b[1m61s\u001b[0m 2ms/step - loss: 0.4361 - recall: 0.5474 - val_loss: 0.4344 - val_recall: 0.5482\n",
            "Epoch 4/10\n",
            "\u001b[1m37862/37862\u001b[0m \u001b[32m━━━━━━━━━━━━━━━━━━━━\u001b[0m\u001b[37m\u001b[0m \u001b[1m60s\u001b[0m 2ms/step - loss: 0.4336 - recall: 0.5520 - val_loss: 0.4341 - val_recall: 0.5568\n",
            "Epoch 5/10\n",
            "\u001b[1m37862/37862\u001b[0m \u001b[32m━━━━━━━━━━━━━━━━━━━━\u001b[0m\u001b[37m\u001b[0m \u001b[1m59s\u001b[0m 2ms/step - loss: 0.4330 - recall: 0.5541 - val_loss: 0.4331 - val_recall: 0.5515\n",
            "Epoch 6/10\n",
            "\u001b[1m30320/37862\u001b[0m \u001b[32m━━━━━━━━━━━━━━━━\u001b[0m\u001b[37m━━━━\u001b[0m \u001b[1m10s\u001b[0m 1ms/step - loss: 0.4314 - recall: 0.5555"
          ]
        },
        {
          "output_type": "error",
          "ename": "KeyboardInterrupt",
          "evalue": "",
          "traceback": [
            "\u001b[0;31m---------------------------------------------------------------------------\u001b[0m",
            "\u001b[0;31mKeyboardInterrupt\u001b[0m                         Traceback (most recent call last)",
            "\u001b[0;32m<ipython-input-34-d1188e893e59>\u001b[0m in \u001b[0;36m<cell line: 1>\u001b[0;34m()\u001b[0m\n\u001b[0;32m----> 1\u001b[0;31m \u001b[0mhistory\u001b[0m \u001b[0;34m=\u001b[0m \u001b[0mmodel\u001b[0m\u001b[0;34m.\u001b[0m\u001b[0mfit\u001b[0m\u001b[0;34m(\u001b[0m\u001b[0mX_train_preprocessed_arr\u001b[0m\u001b[0;34m,\u001b[0m \u001b[0my_train_sample_arr\u001b[0m\u001b[0;34m,\u001b[0m \u001b[0mbatch_size\u001b[0m\u001b[0;34m=\u001b[0m\u001b[0;36m32\u001b[0m\u001b[0;34m,\u001b[0m \u001b[0mepochs\u001b[0m\u001b[0;34m=\u001b[0m\u001b[0;36m10\u001b[0m\u001b[0;34m,\u001b[0m \u001b[0mvalidation_data\u001b[0m\u001b[0;34m=\u001b[0m\u001b[0;34m(\u001b[0m\u001b[0mX_val\u001b[0m\u001b[0;34m,\u001b[0m \u001b[0my_val\u001b[0m\u001b[0;34m)\u001b[0m\u001b[0;34m,\u001b[0m \u001b[0mcallbacks\u001b[0m \u001b[0;34m=\u001b[0m\u001b[0;34m[\u001b[0m\u001b[0mes\u001b[0m\u001b[0;34m]\u001b[0m\u001b[0;34m)\u001b[0m\u001b[0;34m\u001b[0m\u001b[0;34m\u001b[0m\u001b[0m\n\u001b[0m",
            "\u001b[0;32m/usr/local/lib/python3.10/dist-packages/keras/src/utils/traceback_utils.py\u001b[0m in \u001b[0;36merror_handler\u001b[0;34m(*args, **kwargs)\u001b[0m\n\u001b[1;32m    115\u001b[0m         \u001b[0mfiltered_tb\u001b[0m \u001b[0;34m=\u001b[0m \u001b[0;32mNone\u001b[0m\u001b[0;34m\u001b[0m\u001b[0;34m\u001b[0m\u001b[0m\n\u001b[1;32m    116\u001b[0m         \u001b[0;32mtry\u001b[0m\u001b[0;34m:\u001b[0m\u001b[0;34m\u001b[0m\u001b[0;34m\u001b[0m\u001b[0m\n\u001b[0;32m--> 117\u001b[0;31m             \u001b[0;32mreturn\u001b[0m \u001b[0mfn\u001b[0m\u001b[0;34m(\u001b[0m\u001b[0;34m*\u001b[0m\u001b[0margs\u001b[0m\u001b[0;34m,\u001b[0m \u001b[0;34m**\u001b[0m\u001b[0mkwargs\u001b[0m\u001b[0;34m)\u001b[0m\u001b[0;34m\u001b[0m\u001b[0;34m\u001b[0m\u001b[0m\n\u001b[0m\u001b[1;32m    118\u001b[0m         \u001b[0;32mexcept\u001b[0m \u001b[0mException\u001b[0m \u001b[0;32mas\u001b[0m \u001b[0me\u001b[0m\u001b[0;34m:\u001b[0m\u001b[0;34m\u001b[0m\u001b[0;34m\u001b[0m\u001b[0m\n\u001b[1;32m    119\u001b[0m             \u001b[0mfiltered_tb\u001b[0m \u001b[0;34m=\u001b[0m \u001b[0m_process_traceback_frames\u001b[0m\u001b[0;34m(\u001b[0m\u001b[0me\u001b[0m\u001b[0;34m.\u001b[0m\u001b[0m__traceback__\u001b[0m\u001b[0;34m)\u001b[0m\u001b[0;34m\u001b[0m\u001b[0;34m\u001b[0m\u001b[0m\n",
            "\u001b[0;32m/usr/local/lib/python3.10/dist-packages/keras/src/backend/tensorflow/trainer.py\u001b[0m in \u001b[0;36mfit\u001b[0;34m(self, x, y, batch_size, epochs, verbose, callbacks, validation_split, validation_data, shuffle, class_weight, sample_weight, initial_epoch, steps_per_epoch, validation_steps, validation_batch_size, validation_freq)\u001b[0m\n\u001b[1;32m    316\u001b[0m                 \u001b[0;32mfor\u001b[0m \u001b[0mstep\u001b[0m\u001b[0;34m,\u001b[0m \u001b[0miterator\u001b[0m \u001b[0;32min\u001b[0m \u001b[0mepoch_iterator\u001b[0m\u001b[0;34m.\u001b[0m\u001b[0menumerate_epoch\u001b[0m\u001b[0;34m(\u001b[0m\u001b[0;34m)\u001b[0m\u001b[0;34m:\u001b[0m\u001b[0;34m\u001b[0m\u001b[0;34m\u001b[0m\u001b[0m\n\u001b[1;32m    317\u001b[0m                     \u001b[0mcallbacks\u001b[0m\u001b[0;34m.\u001b[0m\u001b[0mon_train_batch_begin\u001b[0m\u001b[0;34m(\u001b[0m\u001b[0mstep\u001b[0m\u001b[0;34m)\u001b[0m\u001b[0;34m\u001b[0m\u001b[0;34m\u001b[0m\u001b[0m\n\u001b[0;32m--> 318\u001b[0;31m                     \u001b[0mlogs\u001b[0m \u001b[0;34m=\u001b[0m \u001b[0mself\u001b[0m\u001b[0;34m.\u001b[0m\u001b[0mtrain_function\u001b[0m\u001b[0;34m(\u001b[0m\u001b[0miterator\u001b[0m\u001b[0;34m)\u001b[0m\u001b[0;34m\u001b[0m\u001b[0;34m\u001b[0m\u001b[0m\n\u001b[0m\u001b[1;32m    319\u001b[0m                     \u001b[0mlogs\u001b[0m \u001b[0;34m=\u001b[0m \u001b[0mself\u001b[0m\u001b[0;34m.\u001b[0m\u001b[0m_pythonify_logs\u001b[0m\u001b[0;34m(\u001b[0m\u001b[0mlogs\u001b[0m\u001b[0;34m)\u001b[0m\u001b[0;34m\u001b[0m\u001b[0;34m\u001b[0m\u001b[0m\n\u001b[1;32m    320\u001b[0m                     \u001b[0mcallbacks\u001b[0m\u001b[0;34m.\u001b[0m\u001b[0mon_train_batch_end\u001b[0m\u001b[0;34m(\u001b[0m\u001b[0mstep\u001b[0m\u001b[0;34m,\u001b[0m \u001b[0mlogs\u001b[0m\u001b[0;34m)\u001b[0m\u001b[0;34m\u001b[0m\u001b[0;34m\u001b[0m\u001b[0m\n",
            "\u001b[0;32m/usr/local/lib/python3.10/dist-packages/tensorflow/python/util/traceback_utils.py\u001b[0m in \u001b[0;36merror_handler\u001b[0;34m(*args, **kwargs)\u001b[0m\n\u001b[1;32m    148\u001b[0m     \u001b[0mfiltered_tb\u001b[0m \u001b[0;34m=\u001b[0m \u001b[0;32mNone\u001b[0m\u001b[0;34m\u001b[0m\u001b[0;34m\u001b[0m\u001b[0m\n\u001b[1;32m    149\u001b[0m     \u001b[0;32mtry\u001b[0m\u001b[0;34m:\u001b[0m\u001b[0;34m\u001b[0m\u001b[0;34m\u001b[0m\u001b[0m\n\u001b[0;32m--> 150\u001b[0;31m       \u001b[0;32mreturn\u001b[0m \u001b[0mfn\u001b[0m\u001b[0;34m(\u001b[0m\u001b[0;34m*\u001b[0m\u001b[0margs\u001b[0m\u001b[0;34m,\u001b[0m \u001b[0;34m**\u001b[0m\u001b[0mkwargs\u001b[0m\u001b[0;34m)\u001b[0m\u001b[0;34m\u001b[0m\u001b[0;34m\u001b[0m\u001b[0m\n\u001b[0m\u001b[1;32m    151\u001b[0m     \u001b[0;32mexcept\u001b[0m \u001b[0mException\u001b[0m \u001b[0;32mas\u001b[0m \u001b[0me\u001b[0m\u001b[0;34m:\u001b[0m\u001b[0;34m\u001b[0m\u001b[0;34m\u001b[0m\u001b[0m\n\u001b[1;32m    152\u001b[0m       \u001b[0mfiltered_tb\u001b[0m \u001b[0;34m=\u001b[0m \u001b[0m_process_traceback_frames\u001b[0m\u001b[0;34m(\u001b[0m\u001b[0me\u001b[0m\u001b[0;34m.\u001b[0m\u001b[0m__traceback__\u001b[0m\u001b[0;34m)\u001b[0m\u001b[0;34m\u001b[0m\u001b[0;34m\u001b[0m\u001b[0m\n",
            "\u001b[0;32m/usr/local/lib/python3.10/dist-packages/tensorflow/python/eager/polymorphic_function/polymorphic_function.py\u001b[0m in \u001b[0;36m__call__\u001b[0;34m(self, *args, **kwds)\u001b[0m\n\u001b[1;32m    831\u001b[0m \u001b[0;34m\u001b[0m\u001b[0m\n\u001b[1;32m    832\u001b[0m       \u001b[0;32mwith\u001b[0m \u001b[0mOptionalXlaContext\u001b[0m\u001b[0;34m(\u001b[0m\u001b[0mself\u001b[0m\u001b[0;34m.\u001b[0m\u001b[0m_jit_compile\u001b[0m\u001b[0;34m)\u001b[0m\u001b[0;34m:\u001b[0m\u001b[0;34m\u001b[0m\u001b[0;34m\u001b[0m\u001b[0m\n\u001b[0;32m--> 833\u001b[0;31m         \u001b[0mresult\u001b[0m \u001b[0;34m=\u001b[0m \u001b[0mself\u001b[0m\u001b[0;34m.\u001b[0m\u001b[0m_call\u001b[0m\u001b[0;34m(\u001b[0m\u001b[0;34m*\u001b[0m\u001b[0margs\u001b[0m\u001b[0;34m,\u001b[0m \u001b[0;34m**\u001b[0m\u001b[0mkwds\u001b[0m\u001b[0;34m)\u001b[0m\u001b[0;34m\u001b[0m\u001b[0;34m\u001b[0m\u001b[0m\n\u001b[0m\u001b[1;32m    834\u001b[0m \u001b[0;34m\u001b[0m\u001b[0m\n\u001b[1;32m    835\u001b[0m       \u001b[0mnew_tracing_count\u001b[0m \u001b[0;34m=\u001b[0m \u001b[0mself\u001b[0m\u001b[0;34m.\u001b[0m\u001b[0mexperimental_get_tracing_count\u001b[0m\u001b[0;34m(\u001b[0m\u001b[0;34m)\u001b[0m\u001b[0;34m\u001b[0m\u001b[0;34m\u001b[0m\u001b[0m\n",
            "\u001b[0;32m/usr/local/lib/python3.10/dist-packages/tensorflow/python/eager/polymorphic_function/polymorphic_function.py\u001b[0m in \u001b[0;36m_call\u001b[0;34m(self, *args, **kwds)\u001b[0m\n\u001b[1;32m    876\u001b[0m       \u001b[0;31m# In this case we have not created variables on the first call. So we can\u001b[0m\u001b[0;34m\u001b[0m\u001b[0;34m\u001b[0m\u001b[0m\n\u001b[1;32m    877\u001b[0m       \u001b[0;31m# run the first trace but we should fail if variables are created.\u001b[0m\u001b[0;34m\u001b[0m\u001b[0;34m\u001b[0m\u001b[0m\n\u001b[0;32m--> 878\u001b[0;31m       results = tracing_compilation.call_function(\n\u001b[0m\u001b[1;32m    879\u001b[0m           \u001b[0margs\u001b[0m\u001b[0;34m,\u001b[0m \u001b[0mkwds\u001b[0m\u001b[0;34m,\u001b[0m \u001b[0mself\u001b[0m\u001b[0;34m.\u001b[0m\u001b[0m_variable_creation_config\u001b[0m\u001b[0;34m\u001b[0m\u001b[0;34m\u001b[0m\u001b[0m\n\u001b[1;32m    880\u001b[0m       )\n",
            "\u001b[0;32m/usr/local/lib/python3.10/dist-packages/tensorflow/python/eager/polymorphic_function/tracing_compilation.py\u001b[0m in \u001b[0;36mcall_function\u001b[0;34m(args, kwargs, tracing_options)\u001b[0m\n\u001b[1;32m    130\u001b[0m   \u001b[0margs\u001b[0m \u001b[0;34m=\u001b[0m \u001b[0margs\u001b[0m \u001b[0;32mif\u001b[0m \u001b[0margs\u001b[0m \u001b[0;32melse\u001b[0m \u001b[0;34m(\u001b[0m\u001b[0;34m)\u001b[0m\u001b[0;34m\u001b[0m\u001b[0;34m\u001b[0m\u001b[0m\n\u001b[1;32m    131\u001b[0m   \u001b[0mkwargs\u001b[0m \u001b[0;34m=\u001b[0m \u001b[0mkwargs\u001b[0m \u001b[0;32mif\u001b[0m \u001b[0mkwargs\u001b[0m \u001b[0;32melse\u001b[0m \u001b[0;34m{\u001b[0m\u001b[0;34m}\u001b[0m\u001b[0;34m\u001b[0m\u001b[0;34m\u001b[0m\u001b[0m\n\u001b[0;32m--> 132\u001b[0;31m   function = trace_function(\n\u001b[0m\u001b[1;32m    133\u001b[0m       \u001b[0margs\u001b[0m\u001b[0;34m=\u001b[0m\u001b[0margs\u001b[0m\u001b[0;34m,\u001b[0m \u001b[0mkwargs\u001b[0m\u001b[0;34m=\u001b[0m\u001b[0mkwargs\u001b[0m\u001b[0;34m,\u001b[0m \u001b[0mtracing_options\u001b[0m\u001b[0;34m=\u001b[0m\u001b[0mtracing_options\u001b[0m\u001b[0;34m\u001b[0m\u001b[0;34m\u001b[0m\u001b[0m\n\u001b[1;32m    134\u001b[0m   )\n",
            "\u001b[0;32m/usr/local/lib/python3.10/dist-packages/tensorflow/python/eager/polymorphic_function/tracing_compilation.py\u001b[0m in \u001b[0;36mtrace_function\u001b[0;34m(args, kwargs, tracing_options)\u001b[0m\n\u001b[1;32m    176\u001b[0m       \u001b[0mkwargs\u001b[0m \u001b[0;34m=\u001b[0m \u001b[0;34m{\u001b[0m\u001b[0;34m}\u001b[0m\u001b[0;34m\u001b[0m\u001b[0;34m\u001b[0m\u001b[0m\n\u001b[1;32m    177\u001b[0m \u001b[0;34m\u001b[0m\u001b[0m\n\u001b[0;32m--> 178\u001b[0;31m     concrete_function = _maybe_define_function(\n\u001b[0m\u001b[1;32m    179\u001b[0m         \u001b[0margs\u001b[0m\u001b[0;34m,\u001b[0m \u001b[0mkwargs\u001b[0m\u001b[0;34m,\u001b[0m \u001b[0mtracing_options\u001b[0m\u001b[0;34m\u001b[0m\u001b[0;34m\u001b[0m\u001b[0m\n\u001b[1;32m    180\u001b[0m     )\n",
            "\u001b[0;32m/usr/local/lib/python3.10/dist-packages/tensorflow/python/eager/polymorphic_function/tracing_compilation.py\u001b[0m in \u001b[0;36m_maybe_define_function\u001b[0;34m(args, kwargs, tracing_options)\u001b[0m\n\u001b[1;32m    228\u001b[0m   )\n\u001b[1;32m    229\u001b[0m   lookup_func_type, lookup_func_context = (\n\u001b[0;32m--> 230\u001b[0;31m       function_type_utils.make_canonicalized_monomorphic_type(\n\u001b[0m\u001b[1;32m    231\u001b[0m           \u001b[0margs\u001b[0m\u001b[0;34m,\u001b[0m\u001b[0;34m\u001b[0m\u001b[0;34m\u001b[0m\u001b[0m\n\u001b[1;32m    232\u001b[0m           \u001b[0mkwargs\u001b[0m\u001b[0;34m,\u001b[0m\u001b[0;34m\u001b[0m\u001b[0;34m\u001b[0m\u001b[0m\n",
            "\u001b[0;32m/usr/local/lib/python3.10/dist-packages/tensorflow/python/eager/polymorphic_function/function_type_utils.py\u001b[0m in \u001b[0;36mmake_canonicalized_monomorphic_type\u001b[0;34m(args, kwargs, capture_types, polymorphic_type)\u001b[0m\n\u001b[1;32m    373\u001b[0m \u001b[0;34m\u001b[0m\u001b[0m\n\u001b[1;32m    374\u001b[0m   function_type, type_context = (\n\u001b[0;32m--> 375\u001b[0;31m       function_type_lib.canonicalize_to_monomorphic(\n\u001b[0m\u001b[1;32m    376\u001b[0m           \u001b[0margs\u001b[0m\u001b[0;34m,\u001b[0m \u001b[0mkwargs\u001b[0m\u001b[0;34m,\u001b[0m \u001b[0;34m{\u001b[0m\u001b[0;34m}\u001b[0m\u001b[0;34m,\u001b[0m \u001b[0mcapture_types\u001b[0m\u001b[0;34m,\u001b[0m \u001b[0mpolymorphic_type\u001b[0m\u001b[0;34m\u001b[0m\u001b[0;34m\u001b[0m\u001b[0m\n\u001b[1;32m    377\u001b[0m       )\n",
            "\u001b[0;32m/usr/local/lib/python3.10/dist-packages/tensorflow/core/function/polymorphism/function_type.py\u001b[0m in \u001b[0;36mcanonicalize_to_monomorphic\u001b[0;34m(args, kwargs, default_values, capture_types, polymorphic_type)\u001b[0m\n\u001b[1;32m    581\u001b[0m     \u001b[0;32melse\u001b[0m\u001b[0;34m:\u001b[0m\u001b[0;34m\u001b[0m\u001b[0;34m\u001b[0m\u001b[0m\n\u001b[1;32m    582\u001b[0m       parameters.append(\n\u001b[0;32m--> 583\u001b[0;31m           _make_validated_mono_param(name, arg, poly_parameter.kind,\n\u001b[0m\u001b[1;32m    584\u001b[0m                                      \u001b[0mtype_context\u001b[0m\u001b[0;34m,\u001b[0m\u001b[0;34m\u001b[0m\u001b[0;34m\u001b[0m\u001b[0m\n\u001b[1;32m    585\u001b[0m                                      poly_parameter.type_constraint))\n",
            "\u001b[0;32m/usr/local/lib/python3.10/dist-packages/tensorflow/core/function/polymorphism/function_type.py\u001b[0m in \u001b[0;36m_make_validated_mono_param\u001b[0;34m(name, value, kind, type_context, poly_type)\u001b[0m\n\u001b[1;32m    526\u001b[0m                     f\"{poly_type} but is {mono_type}\")\n\u001b[1;32m    527\u001b[0m \u001b[0;34m\u001b[0m\u001b[0m\n\u001b[0;32m--> 528\u001b[0;31m   \u001b[0;32mreturn\u001b[0m \u001b[0mParameter\u001b[0m\u001b[0;34m(\u001b[0m\u001b[0mname\u001b[0m\u001b[0;34m,\u001b[0m \u001b[0mkind\u001b[0m\u001b[0;34m,\u001b[0m \u001b[0;32mFalse\u001b[0m\u001b[0;34m,\u001b[0m \u001b[0mmono_type\u001b[0m\u001b[0;34m)\u001b[0m\u001b[0;34m\u001b[0m\u001b[0;34m\u001b[0m\u001b[0m\n\u001b[0m\u001b[1;32m    529\u001b[0m \u001b[0;34m\u001b[0m\u001b[0m\n\u001b[1;32m    530\u001b[0m \u001b[0;34m\u001b[0m\u001b[0m\n",
            "\u001b[0;32m/usr/local/lib/python3.10/dist-packages/tensorflow/core/function/polymorphism/function_type.py\u001b[0m in \u001b[0;36m__init__\u001b[0;34m(self, name, kind, optional, type_constraint)\u001b[0m\n\u001b[1;32m     76\u001b[0m           \"type_constraint=\" + str(type_constraint) + \" for Parameter \" + name)\n\u001b[1;32m     77\u001b[0m \u001b[0;34m\u001b[0m\u001b[0m\n\u001b[0;32m---> 78\u001b[0;31m     super().__init__(\n\u001b[0m\u001b[1;32m     79\u001b[0m         \u001b[0mname\u001b[0m\u001b[0;34m,\u001b[0m\u001b[0;34m\u001b[0m\u001b[0;34m\u001b[0m\u001b[0m\n\u001b[1;32m     80\u001b[0m         \u001b[0mkind\u001b[0m\u001b[0;34m,\u001b[0m\u001b[0;34m\u001b[0m\u001b[0;34m\u001b[0m\u001b[0m\n",
            "\u001b[0;32m/usr/lib/python3.10/inspect.py\u001b[0m in \u001b[0;36m__init__\u001b[0;34m(self, name, kind, default, annotation)\u001b[0m\n\u001b[1;32m   2637\u001b[0m     \u001b[0;32mdef\u001b[0m \u001b[0m__init__\u001b[0m\u001b[0;34m(\u001b[0m\u001b[0mself\u001b[0m\u001b[0;34m,\u001b[0m \u001b[0mname\u001b[0m\u001b[0;34m,\u001b[0m \u001b[0mkind\u001b[0m\u001b[0;34m,\u001b[0m \u001b[0;34m*\u001b[0m\u001b[0;34m,\u001b[0m \u001b[0mdefault\u001b[0m\u001b[0;34m=\u001b[0m\u001b[0m_empty\u001b[0m\u001b[0;34m,\u001b[0m \u001b[0mannotation\u001b[0m\u001b[0;34m=\u001b[0m\u001b[0m_empty\u001b[0m\u001b[0;34m)\u001b[0m\u001b[0;34m:\u001b[0m\u001b[0;34m\u001b[0m\u001b[0;34m\u001b[0m\u001b[0m\n\u001b[1;32m   2638\u001b[0m         \u001b[0;32mtry\u001b[0m\u001b[0;34m:\u001b[0m\u001b[0;34m\u001b[0m\u001b[0;34m\u001b[0m\u001b[0m\n\u001b[0;32m-> 2639\u001b[0;31m             \u001b[0mself\u001b[0m\u001b[0;34m.\u001b[0m\u001b[0m_kind\u001b[0m \u001b[0;34m=\u001b[0m \u001b[0m_ParameterKind\u001b[0m\u001b[0;34m(\u001b[0m\u001b[0mkind\u001b[0m\u001b[0;34m)\u001b[0m\u001b[0;34m\u001b[0m\u001b[0;34m\u001b[0m\u001b[0m\n\u001b[0m\u001b[1;32m   2640\u001b[0m         \u001b[0;32mexcept\u001b[0m \u001b[0mValueError\u001b[0m\u001b[0;34m:\u001b[0m\u001b[0;34m\u001b[0m\u001b[0;34m\u001b[0m\u001b[0m\n\u001b[1;32m   2641\u001b[0m             \u001b[0;32mraise\u001b[0m \u001b[0mValueError\u001b[0m\u001b[0;34m(\u001b[0m\u001b[0;34mf'value {kind!r} is not a valid Parameter.kind'\u001b[0m\u001b[0;34m)\u001b[0m\u001b[0;34m\u001b[0m\u001b[0;34m\u001b[0m\u001b[0m\n",
            "\u001b[0;32m/usr/lib/python3.10/enum.py\u001b[0m in \u001b[0;36m__call__\u001b[0;34m(cls, value, names, module, qualname, type, start)\u001b[0m\n\u001b[1;32m    357\u001b[0m         \u001b[0;32mreturn\u001b[0m \u001b[0;32mTrue\u001b[0m\u001b[0;34m\u001b[0m\u001b[0;34m\u001b[0m\u001b[0m\n\u001b[1;32m    358\u001b[0m \u001b[0;34m\u001b[0m\u001b[0m\n\u001b[0;32m--> 359\u001b[0;31m     \u001b[0;32mdef\u001b[0m \u001b[0m__call__\u001b[0m\u001b[0;34m(\u001b[0m\u001b[0mcls\u001b[0m\u001b[0;34m,\u001b[0m \u001b[0mvalue\u001b[0m\u001b[0;34m,\u001b[0m \u001b[0mnames\u001b[0m\u001b[0;34m=\u001b[0m\u001b[0;32mNone\u001b[0m\u001b[0;34m,\u001b[0m \u001b[0;34m*\u001b[0m\u001b[0;34m,\u001b[0m \u001b[0mmodule\u001b[0m\u001b[0;34m=\u001b[0m\u001b[0;32mNone\u001b[0m\u001b[0;34m,\u001b[0m \u001b[0mqualname\u001b[0m\u001b[0;34m=\u001b[0m\u001b[0;32mNone\u001b[0m\u001b[0;34m,\u001b[0m \u001b[0mtype\u001b[0m\u001b[0;34m=\u001b[0m\u001b[0;32mNone\u001b[0m\u001b[0;34m,\u001b[0m \u001b[0mstart\u001b[0m\u001b[0;34m=\u001b[0m\u001b[0;36m1\u001b[0m\u001b[0;34m)\u001b[0m\u001b[0;34m:\u001b[0m\u001b[0;34m\u001b[0m\u001b[0;34m\u001b[0m\u001b[0m\n\u001b[0m\u001b[1;32m    360\u001b[0m         \"\"\"\n\u001b[1;32m    361\u001b[0m         \u001b[0mEither\u001b[0m \u001b[0mreturns\u001b[0m \u001b[0man\u001b[0m \u001b[0mexisting\u001b[0m \u001b[0mmember\u001b[0m\u001b[0;34m,\u001b[0m \u001b[0;32mor\u001b[0m \u001b[0mcreates\u001b[0m \u001b[0ma\u001b[0m \u001b[0mnew\u001b[0m \u001b[0menum\u001b[0m \u001b[0;32mclass\u001b[0m\u001b[0;34m.\u001b[0m\u001b[0;34m\u001b[0m\u001b[0;34m\u001b[0m\u001b[0m\n",
            "\u001b[0;31mKeyboardInterrupt\u001b[0m: "
          ]
        }
      ]
    },
    {
      "cell_type": "markdown",
      "source": [
        "## Ann Neural Network"
      ],
      "metadata": {
        "id": "72NX8ge7oBco"
      }
    },
    {
      "cell_type": "code",
      "source": [
        "from tensorflow.keras.models import Sequential\n",
        "from tensorflow.keras.layers import Dense, Dropout, BatchNormalization\n",
        "from tensorflow.keras.metrics import Recall, Precision\n",
        "\n",
        "def create_ann(input_shape):\n",
        "    model = Sequential()\n",
        "\n",
        "    model.add(Dense(128, input_shape=(input_shape,), activation='relu'))\n",
        "    model.add(BatchNormalization())\n",
        "    model.add(Dropout(0.3))\n",
        "\n",
        "    model.add(Dense(256, activation='relu'))\n",
        "    model.add(BatchNormalization())\n",
        "    model.add(Dropout(0.4))\n",
        "\n",
        "    model.add(Dense(128, activation='relu'))\n",
        "    model.add(BatchNormalization())\n",
        "    model.add(Dropout(0.3))\n",
        "\n",
        "    model.add(Dense(1, activation='sigmoid'))\n",
        "\n",
        "    model.compile(optimizer='adam', loss='binary_crossentropy', metrics=['accuracy', Recall(), Precision()])\n",
        "\n",
        "    return model\n",
        "\n",
        "ann_model = create_ann(X_train_preprocessed_arr.shape[1])"
      ],
      "metadata": {
        "colab": {
          "base_uri": "https://localhost:8080/"
        },
        "id": "SZM5-yyaoA8_",
        "outputId": "4eed90fc-0e48-40cd-db25-53edd562109f"
      },
      "execution_count": 32,
      "outputs": [
        {
          "output_type": "stream",
          "name": "stderr",
          "text": [
            "/usr/local/lib/python3.10/dist-packages/keras/src/layers/core/dense.py:87: UserWarning: Do not pass an `input_shape`/`input_dim` argument to a layer. When using Sequential models, prefer using an `Input(shape)` object as the first layer in the model instead.\n",
            "  super().__init__(activity_regularizer=activity_regularizer, **kwargs)\n"
          ]
        }
      ]
    },
    {
      "cell_type": "code",
      "source": [
        "from tensorflow.keras.callbacks import EarlyStopping\n",
        "\n",
        "es = EarlyStopping(patience=20, restore_best_weights=True)"
      ],
      "metadata": {
        "id": "evwXBv4LsJ9N"
      },
      "execution_count": 34,
      "outputs": []
    },
    {
      "cell_type": "code",
      "source": [
        "ann_model.summary()"
      ],
      "metadata": {
        "colab": {
          "base_uri": "https://localhost:8080/",
          "height": 512
        },
        "id": "5HlpvOTBo05L",
        "outputId": "f44e2b69-b863-46d3-e7a6-4066ec5d384c"
      },
      "execution_count": 33,
      "outputs": [
        {
          "output_type": "display_data",
          "data": {
            "text/plain": [
              "\u001b[1mModel: \"sequential_2\"\u001b[0m\n"
            ],
            "text/html": [
              "<pre style=\"white-space:pre;overflow-x:auto;line-height:normal;font-family:Menlo,'DejaVu Sans Mono',consolas,'Courier New',monospace\"><span style=\"font-weight: bold\">Model: \"sequential_2\"</span>\n",
              "</pre>\n"
            ]
          },
          "metadata": {}
        },
        {
          "output_type": "display_data",
          "data": {
            "text/plain": [
              "┏━━━━━━━━━━━━━━━━━━━━━━━━━━━━━━━━━━━━━━┳━━━━━━━━━━━━━━━━━━━━━━━━━━━━━┳━━━━━━━━━━━━━━━━━┓\n",
              "┃\u001b[1m \u001b[0m\u001b[1mLayer (type)                        \u001b[0m\u001b[1m \u001b[0m┃\u001b[1m \u001b[0m\u001b[1mOutput Shape               \u001b[0m\u001b[1m \u001b[0m┃\u001b[1m \u001b[0m\u001b[1m        Param #\u001b[0m\u001b[1m \u001b[0m┃\n",
              "┡━━━━━━━━━━━━━━━━━━━━━━━━━━━━━━━━━━━━━━╇━━━━━━━━━━━━━━━━━━━━━━━━━━━━━╇━━━━━━━━━━━━━━━━━┩\n",
              "│ dense_8 (\u001b[38;5;33mDense\u001b[0m)                      │ (\u001b[38;5;45mNone\u001b[0m, \u001b[38;5;34m128\u001b[0m)                 │          \u001b[38;5;34m54,016\u001b[0m │\n",
              "├──────────────────────────────────────┼─────────────────────────────┼─────────────────┤\n",
              "│ batch_normalization_6                │ (\u001b[38;5;45mNone\u001b[0m, \u001b[38;5;34m128\u001b[0m)                 │             \u001b[38;5;34m512\u001b[0m │\n",
              "│ (\u001b[38;5;33mBatchNormalization\u001b[0m)                 │                             │                 │\n",
              "├──────────────────────────────────────┼─────────────────────────────┼─────────────────┤\n",
              "│ dropout_6 (\u001b[38;5;33mDropout\u001b[0m)                  │ (\u001b[38;5;45mNone\u001b[0m, \u001b[38;5;34m128\u001b[0m)                 │               \u001b[38;5;34m0\u001b[0m │\n",
              "├──────────────────────────────────────┼─────────────────────────────┼─────────────────┤\n",
              "│ dense_9 (\u001b[38;5;33mDense\u001b[0m)                      │ (\u001b[38;5;45mNone\u001b[0m, \u001b[38;5;34m256\u001b[0m)                 │          \u001b[38;5;34m33,024\u001b[0m │\n",
              "├──────────────────────────────────────┼─────────────────────────────┼─────────────────┤\n",
              "│ batch_normalization_7                │ (\u001b[38;5;45mNone\u001b[0m, \u001b[38;5;34m256\u001b[0m)                 │           \u001b[38;5;34m1,024\u001b[0m │\n",
              "│ (\u001b[38;5;33mBatchNormalization\u001b[0m)                 │                             │                 │\n",
              "├──────────────────────────────────────┼─────────────────────────────┼─────────────────┤\n",
              "│ dropout_7 (\u001b[38;5;33mDropout\u001b[0m)                  │ (\u001b[38;5;45mNone\u001b[0m, \u001b[38;5;34m256\u001b[0m)                 │               \u001b[38;5;34m0\u001b[0m │\n",
              "├──────────────────────────────────────┼─────────────────────────────┼─────────────────┤\n",
              "│ dense_10 (\u001b[38;5;33mDense\u001b[0m)                     │ (\u001b[38;5;45mNone\u001b[0m, \u001b[38;5;34m128\u001b[0m)                 │          \u001b[38;5;34m32,896\u001b[0m │\n",
              "├──────────────────────────────────────┼─────────────────────────────┼─────────────────┤\n",
              "│ batch_normalization_8                │ (\u001b[38;5;45mNone\u001b[0m, \u001b[38;5;34m128\u001b[0m)                 │             \u001b[38;5;34m512\u001b[0m │\n",
              "│ (\u001b[38;5;33mBatchNormalization\u001b[0m)                 │                             │                 │\n",
              "├──────────────────────────────────────┼─────────────────────────────┼─────────────────┤\n",
              "│ dropout_8 (\u001b[38;5;33mDropout\u001b[0m)                  │ (\u001b[38;5;45mNone\u001b[0m, \u001b[38;5;34m128\u001b[0m)                 │               \u001b[38;5;34m0\u001b[0m │\n",
              "├──────────────────────────────────────┼─────────────────────────────┼─────────────────┤\n",
              "│ dense_11 (\u001b[38;5;33mDense\u001b[0m)                     │ (\u001b[38;5;45mNone\u001b[0m, \u001b[38;5;34m1\u001b[0m)                   │             \u001b[38;5;34m129\u001b[0m │\n",
              "└──────────────────────────────────────┴─────────────────────────────┴─────────────────┘\n"
            ],
            "text/html": [
              "<pre style=\"white-space:pre;overflow-x:auto;line-height:normal;font-family:Menlo,'DejaVu Sans Mono',consolas,'Courier New',monospace\">┏━━━━━━━━━━━━━━━━━━━━━━━━━━━━━━━━━━━━━━┳━━━━━━━━━━━━━━━━━━━━━━━━━━━━━┳━━━━━━━━━━━━━━━━━┓\n",
              "┃<span style=\"font-weight: bold\"> Layer (type)                         </span>┃<span style=\"font-weight: bold\"> Output Shape                </span>┃<span style=\"font-weight: bold\">         Param # </span>┃\n",
              "┡━━━━━━━━━━━━━━━━━━━━━━━━━━━━━━━━━━━━━━╇━━━━━━━━━━━━━━━━━━━━━━━━━━━━━╇━━━━━━━━━━━━━━━━━┩\n",
              "│ dense_8 (<span style=\"color: #0087ff; text-decoration-color: #0087ff\">Dense</span>)                      │ (<span style=\"color: #00d7ff; text-decoration-color: #00d7ff\">None</span>, <span style=\"color: #00af00; text-decoration-color: #00af00\">128</span>)                 │          <span style=\"color: #00af00; text-decoration-color: #00af00\">54,016</span> │\n",
              "├──────────────────────────────────────┼─────────────────────────────┼─────────────────┤\n",
              "│ batch_normalization_6                │ (<span style=\"color: #00d7ff; text-decoration-color: #00d7ff\">None</span>, <span style=\"color: #00af00; text-decoration-color: #00af00\">128</span>)                 │             <span style=\"color: #00af00; text-decoration-color: #00af00\">512</span> │\n",
              "│ (<span style=\"color: #0087ff; text-decoration-color: #0087ff\">BatchNormalization</span>)                 │                             │                 │\n",
              "├──────────────────────────────────────┼─────────────────────────────┼─────────────────┤\n",
              "│ dropout_6 (<span style=\"color: #0087ff; text-decoration-color: #0087ff\">Dropout</span>)                  │ (<span style=\"color: #00d7ff; text-decoration-color: #00d7ff\">None</span>, <span style=\"color: #00af00; text-decoration-color: #00af00\">128</span>)                 │               <span style=\"color: #00af00; text-decoration-color: #00af00\">0</span> │\n",
              "├──────────────────────────────────────┼─────────────────────────────┼─────────────────┤\n",
              "│ dense_9 (<span style=\"color: #0087ff; text-decoration-color: #0087ff\">Dense</span>)                      │ (<span style=\"color: #00d7ff; text-decoration-color: #00d7ff\">None</span>, <span style=\"color: #00af00; text-decoration-color: #00af00\">256</span>)                 │          <span style=\"color: #00af00; text-decoration-color: #00af00\">33,024</span> │\n",
              "├──────────────────────────────────────┼─────────────────────────────┼─────────────────┤\n",
              "│ batch_normalization_7                │ (<span style=\"color: #00d7ff; text-decoration-color: #00d7ff\">None</span>, <span style=\"color: #00af00; text-decoration-color: #00af00\">256</span>)                 │           <span style=\"color: #00af00; text-decoration-color: #00af00\">1,024</span> │\n",
              "│ (<span style=\"color: #0087ff; text-decoration-color: #0087ff\">BatchNormalization</span>)                 │                             │                 │\n",
              "├──────────────────────────────────────┼─────────────────────────────┼─────────────────┤\n",
              "│ dropout_7 (<span style=\"color: #0087ff; text-decoration-color: #0087ff\">Dropout</span>)                  │ (<span style=\"color: #00d7ff; text-decoration-color: #00d7ff\">None</span>, <span style=\"color: #00af00; text-decoration-color: #00af00\">256</span>)                 │               <span style=\"color: #00af00; text-decoration-color: #00af00\">0</span> │\n",
              "├──────────────────────────────────────┼─────────────────────────────┼─────────────────┤\n",
              "│ dense_10 (<span style=\"color: #0087ff; text-decoration-color: #0087ff\">Dense</span>)                     │ (<span style=\"color: #00d7ff; text-decoration-color: #00d7ff\">None</span>, <span style=\"color: #00af00; text-decoration-color: #00af00\">128</span>)                 │          <span style=\"color: #00af00; text-decoration-color: #00af00\">32,896</span> │\n",
              "├──────────────────────────────────────┼─────────────────────────────┼─────────────────┤\n",
              "│ batch_normalization_8                │ (<span style=\"color: #00d7ff; text-decoration-color: #00d7ff\">None</span>, <span style=\"color: #00af00; text-decoration-color: #00af00\">128</span>)                 │             <span style=\"color: #00af00; text-decoration-color: #00af00\">512</span> │\n",
              "│ (<span style=\"color: #0087ff; text-decoration-color: #0087ff\">BatchNormalization</span>)                 │                             │                 │\n",
              "├──────────────────────────────────────┼─────────────────────────────┼─────────────────┤\n",
              "│ dropout_8 (<span style=\"color: #0087ff; text-decoration-color: #0087ff\">Dropout</span>)                  │ (<span style=\"color: #00d7ff; text-decoration-color: #00d7ff\">None</span>, <span style=\"color: #00af00; text-decoration-color: #00af00\">128</span>)                 │               <span style=\"color: #00af00; text-decoration-color: #00af00\">0</span> │\n",
              "├──────────────────────────────────────┼─────────────────────────────┼─────────────────┤\n",
              "│ dense_11 (<span style=\"color: #0087ff; text-decoration-color: #0087ff\">Dense</span>)                     │ (<span style=\"color: #00d7ff; text-decoration-color: #00d7ff\">None</span>, <span style=\"color: #00af00; text-decoration-color: #00af00\">1</span>)                   │             <span style=\"color: #00af00; text-decoration-color: #00af00\">129</span> │\n",
              "└──────────────────────────────────────┴─────────────────────────────┴─────────────────┘\n",
              "</pre>\n"
            ]
          },
          "metadata": {}
        },
        {
          "output_type": "display_data",
          "data": {
            "text/plain": [
              "\u001b[1m Total params: \u001b[0m\u001b[38;5;34m122,113\u001b[0m (477.00 KB)\n"
            ],
            "text/html": [
              "<pre style=\"white-space:pre;overflow-x:auto;line-height:normal;font-family:Menlo,'DejaVu Sans Mono',consolas,'Courier New',monospace\"><span style=\"font-weight: bold\"> Total params: </span><span style=\"color: #00af00; text-decoration-color: #00af00\">122,113</span> (477.00 KB)\n",
              "</pre>\n"
            ]
          },
          "metadata": {}
        },
        {
          "output_type": "display_data",
          "data": {
            "text/plain": [
              "\u001b[1m Trainable params: \u001b[0m\u001b[38;5;34m121,089\u001b[0m (473.00 KB)\n"
            ],
            "text/html": [
              "<pre style=\"white-space:pre;overflow-x:auto;line-height:normal;font-family:Menlo,'DejaVu Sans Mono',consolas,'Courier New',monospace\"><span style=\"font-weight: bold\"> Trainable params: </span><span style=\"color: #00af00; text-decoration-color: #00af00\">121,089</span> (473.00 KB)\n",
              "</pre>\n"
            ]
          },
          "metadata": {}
        },
        {
          "output_type": "display_data",
          "data": {
            "text/plain": [
              "\u001b[1m Non-trainable params: \u001b[0m\u001b[38;5;34m1,024\u001b[0m (4.00 KB)\n"
            ],
            "text/html": [
              "<pre style=\"white-space:pre;overflow-x:auto;line-height:normal;font-family:Menlo,'DejaVu Sans Mono',consolas,'Courier New',monospace\"><span style=\"font-weight: bold\"> Non-trainable params: </span><span style=\"color: #00af00; text-decoration-color: #00af00\">1,024</span> (4.00 KB)\n",
              "</pre>\n"
            ]
          },
          "metadata": {}
        }
      ]
    },
    {
      "cell_type": "code",
      "source": [
        "history = ann_model.fit(X_train_preprocessed_arr, y_train_sample_arr, epochs=50, batch_size=256, validation_data=(X_val, y_val), callbacks=[es])"
      ],
      "metadata": {
        "colab": {
          "base_uri": "https://localhost:8080/"
        },
        "id": "HBmYzZ8loHFA",
        "outputId": "12219292-f775-41b8-d933-37ddc32fda89"
      },
      "execution_count": 37,
      "outputs": [
        {
          "output_type": "stream",
          "name": "stdout",
          "text": [
            "Epoch 1/50\n",
            "\u001b[1m4733/4733\u001b[0m \u001b[32m━━━━━━━━━━━━━━━━━━━━\u001b[0m\u001b[37m\u001b[0m \u001b[1m20s\u001b[0m 3ms/step - accuracy: 0.7784 - loss: 0.4790 - precision_2: 0.8580 - recall_2: 0.5206 - val_accuracy: 0.7967 - val_loss: 0.4375 - val_precision_2: 0.9094 - val_recall_2: 0.5306\n",
            "Epoch 2/50\n",
            "\u001b[1m4733/4733\u001b[0m \u001b[32m━━━━━━━━━━━━━━━━━━━━\u001b[0m\u001b[37m\u001b[0m \u001b[1m11s\u001b[0m 2ms/step - accuracy: 0.7942 - loss: 0.4425 - precision_2: 0.8951 - recall_2: 0.5340 - val_accuracy: 0.7981 - val_loss: 0.4348 - val_precision_2: 0.8908 - val_recall_2: 0.5485\n",
            "Epoch 3/50\n",
            "\u001b[1m4733/4733\u001b[0m \u001b[32m━━━━━━━━━━━━━━━━━━━━\u001b[0m\u001b[37m\u001b[0m \u001b[1m11s\u001b[0m 2ms/step - accuracy: 0.7955 - loss: 0.4392 - precision_2: 0.8917 - recall_2: 0.5393 - val_accuracy: 0.7983 - val_loss: 0.4333 - val_precision_2: 0.8862 - val_recall_2: 0.5528\n",
            "Epoch 4/50\n",
            "\u001b[1m4733/4733\u001b[0m \u001b[32m━━━━━━━━━━━━━━━━━━━━\u001b[0m\u001b[37m\u001b[0m \u001b[1m11s\u001b[0m 2ms/step - accuracy: 0.7963 - loss: 0.4374 - precision_2: 0.8894 - recall_2: 0.5451 - val_accuracy: 0.7985 - val_loss: 0.4322 - val_precision_2: 0.9007 - val_recall_2: 0.5423\n",
            "Epoch 5/50\n",
            "\u001b[1m4733/4733\u001b[0m \u001b[32m━━━━━━━━━━━━━━━━━━━━\u001b[0m\u001b[37m\u001b[0m \u001b[1m11s\u001b[0m 2ms/step - accuracy: 0.7961 - loss: 0.4367 - precision_2: 0.8906 - recall_2: 0.5437 - val_accuracy: 0.7986 - val_loss: 0.4323 - val_precision_2: 0.9016 - val_recall_2: 0.5416\n",
            "Epoch 6/50\n",
            "\u001b[1m4733/4733\u001b[0m \u001b[32m━━━━━━━━━━━━━━━━━━━━\u001b[0m\u001b[37m\u001b[0m \u001b[1m11s\u001b[0m 2ms/step - accuracy: 0.7963 - loss: 0.4366 - precision_2: 0.8900 - recall_2: 0.5453 - val_accuracy: 0.7989 - val_loss: 0.4316 - val_precision_2: 0.9028 - val_recall_2: 0.5416\n",
            "Epoch 7/50\n",
            "\u001b[1m4733/4733\u001b[0m \u001b[32m━━━━━━━━━━━━━━━━━━━━\u001b[0m\u001b[37m\u001b[0m \u001b[1m11s\u001b[0m 2ms/step - accuracy: 0.7970 - loss: 0.4347 - precision_2: 0.8903 - recall_2: 0.5455 - val_accuracy: 0.7992 - val_loss: 0.4315 - val_precision_2: 0.9028 - val_recall_2: 0.5425\n",
            "Epoch 8/50\n",
            "\u001b[1m4733/4733\u001b[0m \u001b[32m━━━━━━━━━━━━━━━━━━━━\u001b[0m\u001b[37m\u001b[0m \u001b[1m11s\u001b[0m 2ms/step - accuracy: 0.7976 - loss: 0.4339 - precision_2: 0.8891 - recall_2: 0.5484 - val_accuracy: 0.7993 - val_loss: 0.4317 - val_precision_2: 0.8884 - val_recall_2: 0.5541\n",
            "Epoch 9/50\n",
            "\u001b[1m4733/4733\u001b[0m \u001b[32m━━━━━━━━━━━━━━━━━━━━\u001b[0m\u001b[37m\u001b[0m \u001b[1m11s\u001b[0m 2ms/step - accuracy: 0.7974 - loss: 0.4338 - precision_2: 0.8902 - recall_2: 0.5468 - val_accuracy: 0.7995 - val_loss: 0.4306 - val_precision_2: 0.8996 - val_recall_2: 0.5459\n",
            "Epoch 10/50\n",
            "\u001b[1m4733/4733\u001b[0m \u001b[32m━━━━━━━━━━━━━━━━━━━━\u001b[0m\u001b[37m\u001b[0m \u001b[1m11s\u001b[0m 2ms/step - accuracy: 0.7976 - loss: 0.4330 - precision_2: 0.8899 - recall_2: 0.5489 - val_accuracy: 0.7989 - val_loss: 0.4307 - val_precision_2: 0.8985 - val_recall_2: 0.5450\n",
            "Epoch 11/50\n",
            "\u001b[1m4733/4733\u001b[0m \u001b[32m━━━━━━━━━━━━━━━━━━━━\u001b[0m\u001b[37m\u001b[0m \u001b[1m11s\u001b[0m 2ms/step - accuracy: 0.7987 - loss: 0.4316 - precision_2: 0.8902 - recall_2: 0.5506 - val_accuracy: 0.7994 - val_loss: 0.4305 - val_precision_2: 0.8859 - val_recall_2: 0.5565\n",
            "Epoch 12/50\n",
            "\u001b[1m4733/4733\u001b[0m \u001b[32m━━━━━━━━━━━━━━━━━━━━\u001b[0m\u001b[37m\u001b[0m \u001b[1m11s\u001b[0m 2ms/step - accuracy: 0.7987 - loss: 0.4313 - precision_2: 0.8889 - recall_2: 0.5509 - val_accuracy: 0.7993 - val_loss: 0.4302 - val_precision_2: 0.8936 - val_recall_2: 0.5500\n",
            "Epoch 13/50\n",
            "\u001b[1m4733/4733\u001b[0m \u001b[32m━━━━━━━━━━━━━━━━━━━━\u001b[0m\u001b[37m\u001b[0m \u001b[1m11s\u001b[0m 2ms/step - accuracy: 0.7981 - loss: 0.4313 - precision_2: 0.8901 - recall_2: 0.5490 - val_accuracy: 0.7997 - val_loss: 0.4305 - val_precision_2: 0.8976 - val_recall_2: 0.5479\n",
            "Epoch 14/50\n",
            "\u001b[1m4733/4733\u001b[0m \u001b[32m━━━━━━━━━━━━━━━━━━━━\u001b[0m\u001b[37m\u001b[0m \u001b[1m11s\u001b[0m 2ms/step - accuracy: 0.7984 - loss: 0.4313 - precision_2: 0.8909 - recall_2: 0.5495 - val_accuracy: 0.7991 - val_loss: 0.4307 - val_precision_2: 0.9029 - val_recall_2: 0.5422\n",
            "Epoch 15/50\n",
            "\u001b[1m4733/4733\u001b[0m \u001b[32m━━━━━━━━━━━━━━━━━━━━\u001b[0m\u001b[37m\u001b[0m \u001b[1m11s\u001b[0m 2ms/step - accuracy: 0.7989 - loss: 0.4305 - precision_2: 0.8919 - recall_2: 0.5496 - val_accuracy: 0.7994 - val_loss: 0.4302 - val_precision_2: 0.9000 - val_recall_2: 0.5453\n",
            "Epoch 16/50\n",
            "\u001b[1m4733/4733\u001b[0m \u001b[32m━━━━━━━━━━━━━━━━━━━━\u001b[0m\u001b[37m\u001b[0m \u001b[1m11s\u001b[0m 2ms/step - accuracy: 0.7985 - loss: 0.4303 - precision_2: 0.8900 - recall_2: 0.5514 - val_accuracy: 0.7994 - val_loss: 0.4310 - val_precision_2: 0.9107 - val_recall_2: 0.5374\n",
            "Epoch 17/50\n",
            "\u001b[1m4733/4733\u001b[0m \u001b[32m━━━━━━━━━━━━━━━━━━━━\u001b[0m\u001b[37m\u001b[0m \u001b[1m11s\u001b[0m 2ms/step - accuracy: 0.7991 - loss: 0.4300 - precision_2: 0.8895 - recall_2: 0.5518 - val_accuracy: 0.7996 - val_loss: 0.4299 - val_precision_2: 0.8763 - val_recall_2: 0.5648\n",
            "Epoch 18/50\n",
            "\u001b[1m4733/4733\u001b[0m \u001b[32m━━━━━━━━━━━━━━━━━━━━\u001b[0m\u001b[37m\u001b[0m \u001b[1m11s\u001b[0m 2ms/step - accuracy: 0.7987 - loss: 0.4304 - precision_2: 0.8897 - recall_2: 0.5520 - val_accuracy: 0.7998 - val_loss: 0.4299 - val_precision_2: 0.8971 - val_recall_2: 0.5488\n",
            "Epoch 19/50\n",
            "\u001b[1m4733/4733\u001b[0m \u001b[32m━━━━━━━━━━━━━━━━━━━━\u001b[0m\u001b[37m\u001b[0m \u001b[1m11s\u001b[0m 2ms/step - accuracy: 0.7993 - loss: 0.4292 - precision_2: 0.8905 - recall_2: 0.5517 - val_accuracy: 0.7997 - val_loss: 0.4306 - val_precision_2: 0.8837 - val_recall_2: 0.5590\n",
            "Epoch 20/50\n",
            "\u001b[1m4733/4733\u001b[0m \u001b[32m━━━━━━━━━━━━━━━━━━━━\u001b[0m\u001b[37m\u001b[0m \u001b[1m11s\u001b[0m 2ms/step - accuracy: 0.7987 - loss: 0.4297 - precision_2: 0.8884 - recall_2: 0.5524 - val_accuracy: 0.7997 - val_loss: 0.4306 - val_precision_2: 0.8806 - val_recall_2: 0.5617\n",
            "Epoch 21/50\n",
            "\u001b[1m4733/4733\u001b[0m \u001b[32m━━━━━━━━━━━━━━━━━━━━\u001b[0m\u001b[37m\u001b[0m \u001b[1m11s\u001b[0m 2ms/step - accuracy: 0.7997 - loss: 0.4291 - precision_2: 0.8902 - recall_2: 0.5530 - val_accuracy: 0.7996 - val_loss: 0.4298 - val_precision_2: 0.9025 - val_recall_2: 0.5439\n",
            "Epoch 22/50\n",
            "\u001b[1m4733/4733\u001b[0m \u001b[32m━━━━━━━━━━━━━━━━━━━━\u001b[0m\u001b[37m\u001b[0m \u001b[1m11s\u001b[0m 2ms/step - accuracy: 0.7991 - loss: 0.4292 - precision_2: 0.8899 - recall_2: 0.5532 - val_accuracy: 0.7998 - val_loss: 0.4306 - val_precision_2: 0.8985 - val_recall_2: 0.5477\n",
            "Epoch 23/50\n",
            "\u001b[1m4733/4733\u001b[0m \u001b[32m━━━━━━━━━━━━━━━━━━━━\u001b[0m\u001b[37m\u001b[0m \u001b[1m11s\u001b[0m 2ms/step - accuracy: 0.7994 - loss: 0.4289 - precision_2: 0.8902 - recall_2: 0.5530 - val_accuracy: 0.7999 - val_loss: 0.4300 - val_precision_2: 0.8935 - val_recall_2: 0.5516\n",
            "Epoch 24/50\n",
            "\u001b[1m4733/4733\u001b[0m \u001b[32m━━━━━━━━━━━━━━━━━━━━\u001b[0m\u001b[37m\u001b[0m \u001b[1m11s\u001b[0m 2ms/step - accuracy: 0.8000 - loss: 0.4285 - precision_2: 0.8919 - recall_2: 0.5527 - val_accuracy: 0.8003 - val_loss: 0.4301 - val_precision_2: 0.8863 - val_recall_2: 0.5586\n",
            "Epoch 25/50\n",
            "\u001b[1m4733/4733\u001b[0m \u001b[32m━━━━━━━━━━━━━━━━━━━━\u001b[0m\u001b[37m\u001b[0m \u001b[1m11s\u001b[0m 2ms/step - accuracy: 0.7995 - loss: 0.4281 - precision_2: 0.8890 - recall_2: 0.5541 - val_accuracy: 0.7998 - val_loss: 0.4303 - val_precision_2: 0.8954 - val_recall_2: 0.5500\n",
            "Epoch 26/50\n",
            "\u001b[1m4733/4733\u001b[0m \u001b[32m━━━━━━━━━━━━━━━━━━━━\u001b[0m\u001b[37m\u001b[0m \u001b[1m11s\u001b[0m 2ms/step - accuracy: 0.7995 - loss: 0.4282 - precision_2: 0.8886 - recall_2: 0.5548 - val_accuracy: 0.7996 - val_loss: 0.4301 - val_precision_2: 0.8899 - val_recall_2: 0.5537\n",
            "Epoch 27/50\n",
            "\u001b[1m4733/4733\u001b[0m \u001b[32m━━━━━━━━━━━━━━━━━━━━\u001b[0m\u001b[37m\u001b[0m \u001b[1m11s\u001b[0m 2ms/step - accuracy: 0.7988 - loss: 0.4292 - precision_2: 0.8881 - recall_2: 0.5528 - val_accuracy: 0.7995 - val_loss: 0.4299 - val_precision_2: 0.9002 - val_recall_2: 0.5453\n",
            "Epoch 28/50\n",
            "\u001b[1m4733/4733\u001b[0m \u001b[32m━━━━━━━━━━━━━━━━━━━━\u001b[0m\u001b[37m\u001b[0m \u001b[1m11s\u001b[0m 2ms/step - accuracy: 0.7994 - loss: 0.4285 - precision_2: 0.8903 - recall_2: 0.5526 - val_accuracy: 0.7997 - val_loss: 0.4302 - val_precision_2: 0.9035 - val_recall_2: 0.5434\n",
            "Epoch 29/50\n",
            "\u001b[1m4733/4733\u001b[0m \u001b[32m━━━━━━━━━━━━━━━━━━━━\u001b[0m\u001b[37m\u001b[0m \u001b[1m11s\u001b[0m 2ms/step - accuracy: 0.7998 - loss: 0.4274 - precision_2: 0.8906 - recall_2: 0.5529 - val_accuracy: 0.7996 - val_loss: 0.4302 - val_precision_2: 0.9045 - val_recall_2: 0.5424\n",
            "Epoch 30/50\n",
            "\u001b[1m4733/4733\u001b[0m \u001b[32m━━━━━━━━━━━━━━━━━━━━\u001b[0m\u001b[37m\u001b[0m \u001b[1m11s\u001b[0m 2ms/step - accuracy: 0.8000 - loss: 0.4276 - precision_2: 0.8899 - recall_2: 0.5551 - val_accuracy: 0.8001 - val_loss: 0.4297 - val_precision_2: 0.9015 - val_recall_2: 0.5461\n",
            "Epoch 31/50\n",
            "\u001b[1m4733/4733\u001b[0m \u001b[32m━━━━━━━━━━━━━━━━━━━━\u001b[0m\u001b[37m\u001b[0m \u001b[1m11s\u001b[0m 2ms/step - accuracy: 0.8000 - loss: 0.4273 - precision_2: 0.8903 - recall_2: 0.5539 - val_accuracy: 0.7999 - val_loss: 0.4304 - val_precision_2: 0.9018 - val_recall_2: 0.5455\n",
            "Epoch 32/50\n",
            "\u001b[1m4733/4733\u001b[0m \u001b[32m━━━━━━━━━━━━━━━━━━━━\u001b[0m\u001b[37m\u001b[0m \u001b[1m11s\u001b[0m 2ms/step - accuracy: 0.7999 - loss: 0.4276 - precision_2: 0.8905 - recall_2: 0.5536 - val_accuracy: 0.7996 - val_loss: 0.4299 - val_precision_2: 0.8891 - val_recall_2: 0.5542\n",
            "Epoch 33/50\n",
            "\u001b[1m4733/4733\u001b[0m \u001b[32m━━━━━━━━━━━━━━━━━━━━\u001b[0m\u001b[37m\u001b[0m \u001b[1m11s\u001b[0m 2ms/step - accuracy: 0.7997 - loss: 0.4276 - precision_2: 0.8903 - recall_2: 0.5541 - val_accuracy: 0.8000 - val_loss: 0.4298 - val_precision_2: 0.8894 - val_recall_2: 0.5552\n",
            "Epoch 34/50\n",
            "\u001b[1m4733/4733\u001b[0m \u001b[32m━━━━━━━━━━━━━━━━━━━━\u001b[0m\u001b[37m\u001b[0m \u001b[1m11s\u001b[0m 2ms/step - accuracy: 0.8001 - loss: 0.4270 - precision_2: 0.8902 - recall_2: 0.5549 - val_accuracy: 0.7993 - val_loss: 0.4302 - val_precision_2: 0.9073 - val_recall_2: 0.5395\n",
            "Epoch 35/50\n",
            "\u001b[1m4733/4733\u001b[0m \u001b[32m━━━━━━━━━━━━━━━━━━━━\u001b[0m\u001b[37m\u001b[0m \u001b[1m11s\u001b[0m 2ms/step - accuracy: 0.7993 - loss: 0.4278 - precision_2: 0.8887 - recall_2: 0.5552 - val_accuracy: 0.7998 - val_loss: 0.4299 - val_precision_2: 0.8918 - val_recall_2: 0.5529\n",
            "Epoch 36/50\n",
            "\u001b[1m4733/4733\u001b[0m \u001b[32m━━━━━━━━━━━━━━━━━━━━\u001b[0m\u001b[37m\u001b[0m \u001b[1m11s\u001b[0m 2ms/step - accuracy: 0.7999 - loss: 0.4273 - precision_2: 0.8887 - recall_2: 0.5558 - val_accuracy: 0.8000 - val_loss: 0.4299 - val_precision_2: 0.8892 - val_recall_2: 0.5555\n",
            "Epoch 37/50\n",
            "\u001b[1m4733/4733\u001b[0m \u001b[32m━━━━━━━━━━━━━━━━━━━━\u001b[0m\u001b[37m\u001b[0m \u001b[1m11s\u001b[0m 2ms/step - accuracy: 0.8001 - loss: 0.4270 - precision_2: 0.8876 - recall_2: 0.5577 - val_accuracy: 0.7999 - val_loss: 0.4303 - val_precision_2: 0.8777 - val_recall_2: 0.5646\n",
            "Epoch 38/50\n",
            "\u001b[1m4733/4733\u001b[0m \u001b[32m━━━━━━━━━━━━━━━━━━━━\u001b[0m\u001b[37m\u001b[0m \u001b[1m11s\u001b[0m 2ms/step - accuracy: 0.7997 - loss: 0.4278 - precision_2: 0.8882 - recall_2: 0.5560 - val_accuracy: 0.8000 - val_loss: 0.4300 - val_precision_2: 0.8850 - val_recall_2: 0.5588\n",
            "Epoch 39/50\n",
            "\u001b[1m4733/4733\u001b[0m \u001b[32m━━━━━━━━━━━━━━━━━━━━\u001b[0m\u001b[37m\u001b[0m \u001b[1m11s\u001b[0m 2ms/step - accuracy: 0.7998 - loss: 0.4266 - precision_2: 0.8876 - recall_2: 0.5573 - val_accuracy: 0.7996 - val_loss: 0.4301 - val_precision_2: 0.9084 - val_recall_2: 0.5396\n",
            "Epoch 40/50\n",
            "\u001b[1m4733/4733\u001b[0m \u001b[32m━━━━━━━━━━━━━━━━━━━━\u001b[0m\u001b[37m\u001b[0m \u001b[1m11s\u001b[0m 2ms/step - accuracy: 0.7998 - loss: 0.4271 - precision_2: 0.8894 - recall_2: 0.5544 - val_accuracy: 0.7995 - val_loss: 0.4301 - val_precision_2: 0.8732 - val_recall_2: 0.5675\n",
            "Epoch 41/50\n",
            "\u001b[1m4733/4733\u001b[0m \u001b[32m━━━━━━━━━━━━━━━━━━━━\u001b[0m\u001b[37m\u001b[0m \u001b[1m11s\u001b[0m 2ms/step - accuracy: 0.8000 - loss: 0.4270 - precision_2: 0.8887 - recall_2: 0.5566 - val_accuracy: 0.7994 - val_loss: 0.4300 - val_precision_2: 0.8699 - val_recall_2: 0.5700\n",
            "Epoch 42/50\n",
            "\u001b[1m4733/4733\u001b[0m \u001b[32m━━━━━━━━━━━━━━━━━━━━\u001b[0m\u001b[37m\u001b[0m \u001b[1m11s\u001b[0m 2ms/step - accuracy: 0.8001 - loss: 0.4265 - precision_2: 0.8883 - recall_2: 0.5574 - val_accuracy: 0.7996 - val_loss: 0.4300 - val_precision_2: 0.8741 - val_recall_2: 0.5667\n",
            "Epoch 43/50\n",
            "\u001b[1m4733/4733\u001b[0m \u001b[32m━━━━━━━━━━━━━━━━━━━━\u001b[0m\u001b[37m\u001b[0m \u001b[1m11s\u001b[0m 2ms/step - accuracy: 0.7997 - loss: 0.4273 - precision_2: 0.8883 - recall_2: 0.5554 - val_accuracy: 0.7996 - val_loss: 0.4299 - val_precision_2: 0.8904 - val_recall_2: 0.5534\n",
            "Epoch 44/50\n",
            "\u001b[1m4733/4733\u001b[0m \u001b[32m━━━━━━━━━━━━━━━━━━━━\u001b[0m\u001b[37m\u001b[0m \u001b[1m11s\u001b[0m 2ms/step - accuracy: 0.7999 - loss: 0.4270 - precision_2: 0.8886 - recall_2: 0.5548 - val_accuracy: 0.7988 - val_loss: 0.4305 - val_precision_2: 0.8629 - val_recall_2: 0.5744\n",
            "Epoch 45/50\n",
            "\u001b[1m4733/4733\u001b[0m \u001b[32m━━━━━━━━━━━━━━━━━━━━\u001b[0m\u001b[37m\u001b[0m \u001b[1m11s\u001b[0m 2ms/step - accuracy: 0.8002 - loss: 0.4260 - precision_2: 0.8872 - recall_2: 0.5579 - val_accuracy: 0.7997 - val_loss: 0.4303 - val_precision_2: 0.8934 - val_recall_2: 0.5511\n",
            "Epoch 46/50\n",
            "\u001b[1m4733/4733\u001b[0m \u001b[32m━━━━━━━━━━━━━━━━━━━━\u001b[0m\u001b[37m\u001b[0m \u001b[1m11s\u001b[0m 2ms/step - accuracy: 0.8005 - loss: 0.4259 - precision_2: 0.8883 - recall_2: 0.5571 - val_accuracy: 0.7995 - val_loss: 0.4300 - val_precision_2: 0.8923 - val_recall_2: 0.5514\n",
            "Epoch 47/50\n",
            "\u001b[1m4733/4733\u001b[0m \u001b[32m━━━━━━━━━━━━━━━━━━━━\u001b[0m\u001b[37m\u001b[0m \u001b[1m11s\u001b[0m 2ms/step - accuracy: 0.8000 - loss: 0.4269 - precision_2: 0.8878 - recall_2: 0.5574 - val_accuracy: 0.7997 - val_loss: 0.4300 - val_precision_2: 0.8899 - val_recall_2: 0.5538\n",
            "Epoch 48/50\n",
            "\u001b[1m4733/4733\u001b[0m \u001b[32m━━━━━━━━━━━━━━━━━━━━\u001b[0m\u001b[37m\u001b[0m \u001b[1m11s\u001b[0m 2ms/step - accuracy: 0.8008 - loss: 0.4259 - precision_2: 0.8895 - recall_2: 0.5580 - val_accuracy: 0.8000 - val_loss: 0.4301 - val_precision_2: 0.8914 - val_recall_2: 0.5538\n",
            "Epoch 49/50\n",
            "\u001b[1m4733/4733\u001b[0m \u001b[32m━━━━━━━━━━━━━━━━━━━━\u001b[0m\u001b[37m\u001b[0m \u001b[1m11s\u001b[0m 2ms/step - accuracy: 0.8008 - loss: 0.4255 - precision_2: 0.8883 - recall_2: 0.5584 - val_accuracy: 0.7994 - val_loss: 0.4309 - val_precision_2: 0.9102 - val_recall_2: 0.5378\n",
            "Epoch 50/50\n",
            "\u001b[1m4733/4733\u001b[0m \u001b[32m━━━━━━━━━━━━━━━━━━━━\u001b[0m\u001b[37m\u001b[0m \u001b[1m11s\u001b[0m 2ms/step - accuracy: 0.8000 - loss: 0.4262 - precision_2: 0.8900 - recall_2: 0.5549 - val_accuracy: 0.7997 - val_loss: 0.4304 - val_precision_2: 0.8989 - val_recall_2: 0.5469\n"
          ]
        }
      ]
    },
    {
      "cell_type": "code",
      "source": [
        "history.history"
      ],
      "metadata": {
        "colab": {
          "base_uri": "https://localhost:8080/"
        },
        "id": "sT50LY8qv7Sc",
        "outputId": "0df11ccc-30a6-46aa-eedf-565833a86d1b"
      },
      "execution_count": 16,
      "outputs": [
        {
          "output_type": "execute_result",
          "data": {
            "text/plain": [
              "{'accuracy': [0.788326621055603,\n",
              "  0.7933975458145142,\n",
              "  0.7946676015853882,\n",
              "  0.7952216267585754,\n",
              "  0.7958768010139465,\n",
              "  0.796166718006134,\n",
              "  0.7963390350341797,\n",
              "  0.7968136072158813,\n",
              "  0.7968817353248596,\n",
              "  0.7972995638847351,\n",
              "  0.7975719571113586,\n",
              "  0.7974997162818909,\n",
              "  0.797500729560852,\n",
              "  0.7977731227874756,\n",
              "  0.7977101802825928,\n",
              "  0.7980496287345886,\n",
              "  0.7981992363929749,\n",
              "  0.7986387610435486,\n",
              "  0.7984520196914673,\n",
              "  0.7986067533493042,\n",
              "  0.798503577709198,\n",
              "  0.7987769842147827,\n",
              "  0.7987769842147827,\n",
              "  0.7988605499267578,\n",
              "  0.7989152669906616,\n",
              "  0.7991896867752075,\n",
              "  0.7992454171180725,\n",
              "  0.7991793751716614,\n",
              "  0.7993392944335938,\n",
              "  0.7994145750999451,\n",
              "  0.7994610071182251,\n",
              "  0.7994630932807922,\n",
              "  0.7996591329574585,\n",
              "  0.7995538711547852,\n",
              "  0.7994073629379272,\n",
              "  0.7997695207595825,\n",
              "  0.7997901439666748,\n",
              "  0.7996158003807068,\n",
              "  0.7998902201652527,\n",
              "  0.8000233173370361,\n",
              "  0.8001161813735962,\n",
              "  0.7999696731567383,\n",
              "  0.8003947138786316,\n",
              "  0.7998159527778625,\n",
              "  0.8000666499137878,\n",
              "  0.8001461029052734,\n",
              "  0.800178050994873,\n",
              "  0.8002471923828125,\n",
              "  0.8002761006355286,\n",
              "  0.8003297448158264],\n",
              " 'loss': [0.4575430452823639,\n",
              "  0.44352635741233826,\n",
              "  0.4407021403312683,\n",
              "  0.439136266708374,\n",
              "  0.43787676095962524,\n",
              "  0.4367488920688629,\n",
              "  0.4360656440258026,\n",
              "  0.4351784884929657,\n",
              "  0.4347333014011383,\n",
              "  0.4342556893825531,\n",
              "  0.43361905217170715,\n",
              "  0.43320655822753906,\n",
              "  0.4328307509422302,\n",
              "  0.4321776330471039,\n",
              "  0.43201014399528503,\n",
              "  0.43143877387046814,\n",
              "  0.43120744824409485,\n",
              "  0.43064209818840027,\n",
              "  0.4302726089954376,\n",
              "  0.43018215894699097,\n",
              "  0.4298895001411438,\n",
              "  0.4297654926776886,\n",
              "  0.42966675758361816,\n",
              "  0.4294512867927551,\n",
              "  0.42913928627967834,\n",
              "  0.42891353368759155,\n",
              "  0.42878037691116333,\n",
              "  0.42861416935920715,\n",
              "  0.42851048707962036,\n",
              "  0.42810338735580444,\n",
              "  0.4280780553817749,\n",
              "  0.42798182368278503,\n",
              "  0.42801496386528015,\n",
              "  0.42762768268585205,\n",
              "  0.427765429019928,\n",
              "  0.4273837208747864,\n",
              "  0.4274064600467682,\n",
              "  0.4273524284362793,\n",
              "  0.4272049069404602,\n",
              "  0.4270191490650177,\n",
              "  0.42681822180747986,\n",
              "  0.42681145668029785,\n",
              "  0.4265187978744507,\n",
              "  0.42652586102485657,\n",
              "  0.42639604210853577,\n",
              "  0.4262583255767822,\n",
              "  0.42630234360694885,\n",
              "  0.42620259523391724,\n",
              "  0.42595213651657104,\n",
              "  0.42602336406707764],\n",
              " 'precision': [0.8913484811782837,\n",
              "  0.8950191140174866,\n",
              "  0.8923038244247437,\n",
              "  0.8918176889419556,\n",
              "  0.8901968002319336,\n",
              "  0.8894608616828918,\n",
              "  0.8891327381134033,\n",
              "  0.8899832367897034,\n",
              "  0.8900719881057739,\n",
              "  0.8913291096687317,\n",
              "  0.8906859159469604,\n",
              "  0.8905381560325623,\n",
              "  0.8903599977493286,\n",
              "  0.8886886239051819,\n",
              "  0.8895858526229858,\n",
              "  0.8908838033676147,\n",
              "  0.8904542326927185,\n",
              "  0.8913769721984863,\n",
              "  0.889986515045166,\n",
              "  0.8898934721946716,\n",
              "  0.8898229002952576,\n",
              "  0.8896509408950806,\n",
              "  0.8906537294387817,\n",
              "  0.8901898264884949,\n",
              "  0.8895809054374695,\n",
              "  0.8898894190788269,\n",
              "  0.8895687460899353,\n",
              "  0.8894155621528625,\n",
              "  0.8896049857139587,\n",
              "  0.8893604278564453,\n",
              "  0.8895774483680725,\n",
              "  0.8887466788291931,\n",
              "  0.8891407251358032,\n",
              "  0.8886626958847046,\n",
              "  0.8891714215278625,\n",
              "  0.889449417591095,\n",
              "  0.8888997435569763,\n",
              "  0.8889985084533691,\n",
              "  0.8891470432281494,\n",
              "  0.8892474174499512,\n",
              "  0.8888903260231018,\n",
              "  0.8879674673080444,\n",
              "  0.8901342749595642,\n",
              "  0.8880776166915894,\n",
              "  0.8892308473587036,\n",
              "  0.8874290585517883,\n",
              "  0.8892485499382019,\n",
              "  0.887312114238739,\n",
              "  0.8880720734596252,\n",
              "  0.8883428573608398],\n",
              " 'recall': [0.5193699598312378,\n",
              "  0.5314251184463501,\n",
              "  0.5371915698051453,\n",
              "  0.5391853451728821,\n",
              "  0.5423614978790283,\n",
              "  0.5437878966331482,\n",
              "  0.544551432132721,\n",
              "  0.5452752113342285,\n",
              "  0.5454051494598389,\n",
              "  0.5456437468528748,\n",
              "  0.5469455122947693,\n",
              "  0.5468500852584839,\n",
              "  0.5469932556152344,\n",
              "  0.5491142272949219,\n",
              "  0.5482181310653687,\n",
              "  0.5481889247894287,\n",
              "  0.5489657521247864,\n",
              "  0.5495251417160034,\n",
              "  0.5500766038894653,\n",
              "  0.5506042242050171,\n",
              "  0.5503576397895813,\n",
              "  0.5512961745262146,\n",
              "  0.5505008101463318,\n",
              "  0.5511132478713989,\n",
              "  0.5517575144767761,\n",
              "  0.5523169040679932,\n",
              "  0.5527358055114746,\n",
              "  0.5526642203330994,\n",
              "  0.5529823899269104,\n",
              "  0.553398609161377,\n",
              "  0.5533615350723267,\n",
              "  0.5540322661399841,\n",
              "  0.5542920827865601,\n",
              "  0.5543663501739502,\n",
              "  0.5535285472869873,\n",
              "  0.5543689727783203,\n",
              "  0.554870069026947,\n",
              "  0.5542788505554199,\n",
              "  0.5549654960632324,\n",
              "  0.5552756786346436,\n",
              "  0.5558351278305054,\n",
              "  0.5561479330062866,\n",
              "  0.5556548237800598,\n",
              "  0.5556070804595947,\n",
              "  0.5554162263870239,\n",
              "  0.557102382183075,\n",
              "  0.55572909116745,\n",
              "  0.5574948191642761,\n",
              "  0.5569645166397095,\n",
              "  0.5569035410881042],\n",
              " 'val_accuracy': [0.7961264848709106,\n",
              "  0.7969642281532288,\n",
              "  0.7981321811676025,\n",
              "  0.798383891582489,\n",
              "  0.7987594604492188,\n",
              "  0.7994362711906433,\n",
              "  0.7987264394760132,\n",
              "  0.7990070581436157,\n",
              "  0.7984746694564819,\n",
              "  0.7993165850639343,\n",
              "  0.7994734048843384,\n",
              "  0.7995765805244446,\n",
              "  0.7991432547569275,\n",
              "  0.7996096014976501,\n",
              "  0.7994568943977356,\n",
              "  0.7993908524513245,\n",
              "  0.7993289828300476,\n",
              "  0.7991803884506226,\n",
              "  0.7995311617851257,\n",
              "  0.7987058162689209,\n",
              "  0.7992794513702393,\n",
              "  0.7994610071182251,\n",
              "  0.7994321584701538,\n",
              "  0.7994527816772461,\n",
              "  0.7993578314781189,\n",
              "  0.7997953295707703,\n",
              "  0.7992835640907288,\n",
              "  0.7993330955505371,\n",
              "  0.7994610071182251,\n",
              "  0.7996343374252319,\n",
              "  0.7994610071182251,\n",
              "  0.7996013164520264,\n",
              "  0.7993248105049133,\n",
              "  0.7997003793716431,\n",
              "  0.7996962666511536,\n",
              "  0.7997292876243591,\n",
              "  0.7992711663246155,\n",
              "  0.7995518445968628,\n",
              "  0.799782931804657,\n",
              "  0.7997705340385437,\n",
              "  0.7994032502174377,\n",
              "  0.7992175221443176,\n",
              "  0.7997788190841675,\n",
              "  0.7997788190841675,\n",
              "  0.7993000745773315,\n",
              "  0.7996426224708557,\n",
              "  0.7993578314781189,\n",
              "  0.7995023131370544,\n",
              "  0.7992381453514099,\n",
              "  0.7995765805244446],\n",
              " 'val_loss': [0.43917474150657654,\n",
              "  0.43648767471313477,\n",
              "  0.43475815653800964,\n",
              "  0.4346450865268707,\n",
              "  0.4327407479286194,\n",
              "  0.43228593468666077,\n",
              "  0.4321688711643219,\n",
              "  0.43177902698516846,\n",
              "  0.43255889415740967,\n",
              "  0.4311794638633728,\n",
              "  0.43130388855934143,\n",
              "  0.4311775863170624,\n",
              "  0.4316360652446747,\n",
              "  0.4309511184692383,\n",
              "  0.4308846592903137,\n",
              "  0.43239107728004456,\n",
              "  0.43175792694091797,\n",
              "  0.43090566992759705,\n",
              "  0.4307959973812103,\n",
              "  0.4317292869091034,\n",
              "  0.4308529794216156,\n",
              "  0.43070465326309204,\n",
              "  0.4316345453262329,\n",
              "  0.4307772219181061,\n",
              "  0.4317266643047333,\n",
              "  0.43095311522483826,\n",
              "  0.4313049614429474,\n",
              "  0.43084368109703064,\n",
              "  0.4308556020259857,\n",
              "  0.43083688616752625,\n",
              "  0.43180397152900696,\n",
              "  0.43123719096183777,\n",
              "  0.4315676987171173,\n",
              "  0.43122488260269165,\n",
              "  0.43130630254745483,\n",
              "  0.4311111271381378,\n",
              "  0.4312390685081482,\n",
              "  0.43097198009490967,\n",
              "  0.4312782287597656,\n",
              "  0.43108415603637695,\n",
              "  0.43117278814315796,\n",
              "  0.4312136471271515,\n",
              "  0.4310251772403717,\n",
              "  0.4311278760433197,\n",
              "  0.43183112144470215,\n",
              "  0.4314102828502655,\n",
              "  0.43185678124427795,\n",
              "  0.43138018250465393,\n",
              "  0.43148747086524963,\n",
              "  0.43227604031562805],\n",
              " 'val_precision': [0.907771110534668,\n",
              "  0.8862224221229553,\n",
              "  0.8989819288253784,\n",
              "  0.8864799737930298,\n",
              "  0.8884958624839783,\n",
              "  0.8956496119499207,\n",
              "  0.9077455997467041,\n",
              "  0.8754328489303589,\n",
              "  0.9220039248466492,\n",
              "  0.893153727054596,\n",
              "  0.899665355682373,\n",
              "  0.898169219493866,\n",
              "  0.9075775146484375,\n",
              "  0.885968029499054,\n",
              "  0.8905904293060303,\n",
              "  0.8987683057785034,\n",
              "  0.894417941570282,\n",
              "  0.8977642059326172,\n",
              "  0.8907836675643921,\n",
              "  0.9257194995880127,\n",
              "  0.892504096031189,\n",
              "  0.8965499401092529,\n",
              "  0.8831639885902405,\n",
              "  0.9004383683204651,\n",
              "  0.9121349453926086,\n",
              "  0.8912754654884338,\n",
              "  0.89223712682724,\n",
              "  0.9019047021865845,\n",
              "  0.898036777973175,\n",
              "  0.8924473524093628,\n",
              "  0.8799270987510681,\n",
              "  0.884232223033905,\n",
              "  0.8770858645439148,\n",
              "  0.8824352622032166,\n",
              "  0.8965147733688354,\n",
              "  0.8939035534858704,\n",
              "  0.8804158568382263,\n",
              "  0.9049762487411499,\n",
              "  0.9049558639526367,\n",
              "  0.8854596614837646,\n",
              "  0.9025126695632935,\n",
              "  0.8790175914764404,\n",
              "  0.8929011225700378,\n",
              "  0.8962085247039795,\n",
              "  0.875997006893158,\n",
              "  0.8883211612701416,\n",
              "  0.8791608810424805,\n",
              "  0.8972133994102478,\n",
              "  0.8780016899108887,\n",
              "  0.898321270942688],\n",
              " 'val_recall': [0.5309250950813293,\n",
              "  0.549706757068634,\n",
              "  0.5431638956069946,\n",
              "  0.5536769032478333,\n",
              "  0.553158164024353,\n",
              "  0.5494949817657471,\n",
              "  0.5383678674697876,\n",
              "  0.5647299289703369,\n",
              "  0.527643084526062,\n",
              "  0.5510936379432678,\n",
              "  0.5465199947357178,\n",
              "  0.5479598641395569,\n",
              "  0.5396807193756104,\n",
              "  0.5577000379562378,\n",
              "  0.5535287261009216,\n",
              "  0.5469646453857422,\n",
              "  0.5501407980918884,\n",
              "  0.5471234917640686,\n",
              "  0.5535922050476074,\n",
              "  0.5257903337478638,\n",
              "  0.5514959692955017,\n",
              "  0.548870325088501,\n",
              "  0.5594787001609802,\n",
              "  0.5458741784095764,\n",
              "  0.5370021462440491,\n",
              "  0.553973376750946,\n",
              "  0.5517182946205139,\n",
              "  0.5444237589836121,\n",
              "  0.5477269291877747,\n",
              "  0.5525758862495422,\n",
              "  0.5622631311416626,\n",
              "  0.5590975284576416,\n",
              "  0.5642640590667725,\n",
              "  0.560876190662384,\n",
              "  0.5495796799659729,\n",
              "  0.5517076849937439,\n",
              "  0.5612890720367432,\n",
              "  0.5427615642547607,\n",
              "  0.5434391498565674,\n",
              "  0.5585893392562866,\n",
              "  0.5441696643829346,\n",
              "  0.5623054504394531,\n",
              "  0.552639365196228,\n",
              "  0.5500560998916626,\n",
              "  0.5651216506958008,\n",
              "  0.5558896660804749,\n",
              "  0.5626019239425659,\n",
              "  0.5484786033630371,\n",
              "  0.5632265210151672,\n",
              "  0.5478433966636658]}"
            ]
          },
          "metadata": {},
          "execution_count": 16
        }
      ]
    },
    {
      "cell_type": "code",
      "source": [
        "loss, accuracy, recall, precision = ann_model.evaluate(X_test_sample_nn, y_test_sample_nn)\n",
        "\n",
        "print(f\"Test loss:{loss}\")\n",
        "print(f\"Test recall:{recall}\")\n",
        "print(f\"Test accuracy:{accuracy}\")\n",
        "print(f\"Test precision:{precision}\")\n",
        "#print(f\"Test f1 score:{f1_score}\")"
      ],
      "metadata": {
        "colab": {
          "base_uri": "https://localhost:8080/",
          "height": 325
        },
        "id": "pWk68cvRSroh",
        "outputId": "9dc0fbe4-6c1e-4b15-90c3-ca782a78c801"
      },
      "execution_count": 20,
      "outputs": [
        {
          "output_type": "stream",
          "name": "stdout",
          "text": [
            "\u001b[1m4733/4733\u001b[0m \u001b[32m━━━━━━━━━━━━━━━━━━━━\u001b[0m\u001b[37m\u001b[0m \u001b[1m7s\u001b[0m 1ms/step - accuracy: 0.7974 - loss: 0.4350 - precision: 0.8994 - recall: 0.5428\n",
            "Test loss:0.4343278110027313\n",
            "Test recall:0.5424985289573669\n",
            "Test accuracy:0.7981260418891907\n",
            "Test precision:0.8988028168678284\n"
          ]
        },
        {
          "output_type": "error",
          "ename": "NameError",
          "evalue": "name 'f1_score' is not defined",
          "traceback": [
            "\u001b[0;31m---------------------------------------------------------------------------\u001b[0m",
            "\u001b[0;31mNameError\u001b[0m                                 Traceback (most recent call last)",
            "\u001b[0;32m<ipython-input-20-eb8fa6890f68>\u001b[0m in \u001b[0;36m<cell line: 7>\u001b[0;34m()\u001b[0m\n\u001b[1;32m      5\u001b[0m \u001b[0mprint\u001b[0m\u001b[0;34m(\u001b[0m\u001b[0;34mf\"Test accuracy:{accuracy}\"\u001b[0m\u001b[0;34m)\u001b[0m\u001b[0;34m\u001b[0m\u001b[0;34m\u001b[0m\u001b[0m\n\u001b[1;32m      6\u001b[0m \u001b[0mprint\u001b[0m\u001b[0;34m(\u001b[0m\u001b[0;34mf\"Test precision:{precision}\"\u001b[0m\u001b[0;34m)\u001b[0m\u001b[0;34m\u001b[0m\u001b[0;34m\u001b[0m\u001b[0m\n\u001b[0;32m----> 7\u001b[0;31m \u001b[0mprint\u001b[0m\u001b[0;34m(\u001b[0m\u001b[0;34mf\"Test f1 score:{f1_score}\"\u001b[0m\u001b[0;34m)\u001b[0m\u001b[0;34m\u001b[0m\u001b[0;34m\u001b[0m\u001b[0m\n\u001b[0m",
            "\u001b[0;31mNameError\u001b[0m: name 'f1_score' is not defined"
          ]
        }
      ]
    },
    {
      "cell_type": "code",
      "source": [
        "y_pred = ann_model.predict(X_test_sample_nn)"
      ],
      "metadata": {
        "colab": {
          "base_uri": "https://localhost:8080/"
        },
        "id": "OtruK4Z_rcSx",
        "outputId": "19d5c99c-21e3-42d8-b17e-d738990ef262"
      },
      "execution_count": 22,
      "outputs": [
        {
          "output_type": "stream",
          "name": "stdout",
          "text": [
            "\u001b[1m4733/4733\u001b[0m \u001b[32m━━━━━━━━━━━━━━━━━━━━\u001b[0m\u001b[37m\u001b[0m \u001b[1m6s\u001b[0m 1ms/step\n"
          ]
        }
      ]
    },
    {
      "cell_type": "code",
      "source": [
        "y_test_sample_nn"
      ],
      "metadata": {
        "id": "dTzII69A3cnN"
      },
      "execution_count": null,
      "outputs": []
    },
    {
      "cell_type": "code",
      "source": [
        "y_test_sample_nn"
      ],
      "metadata": {
        "colab": {
          "base_uri": "https://localhost:8080/"
        },
        "id": "vzZzdmEWsk6X",
        "outputId": "8e3665c1-3256-429b-cc4d-df7e989d32d1"
      },
      "execution_count": null,
      "outputs": [
        {
          "output_type": "execute_result",
          "data": {
            "text/plain": [
              "array([[1],\n",
              "       [0],\n",
              "       [1],\n",
              "       ...,\n",
              "       [1],\n",
              "       [1],\n",
              "       [0]])"
            ]
          },
          "metadata": {},
          "execution_count": 31
        }
      ]
    },
    {
      "cell_type": "code",
      "source": [
        "y_pred"
      ],
      "metadata": {
        "colab": {
          "base_uri": "https://localhost:8080/"
        },
        "id": "CGUvlE-OsFUp",
        "outputId": "e3918271-ef76-4018-f545-7493ea15744a"
      },
      "execution_count": 23,
      "outputs": [
        {
          "output_type": "execute_result",
          "data": {
            "text/plain": [
              "array([[0.99932724],\n",
              "       [0.2704296 ],\n",
              "       [0.99999917],\n",
              "       ...,\n",
              "       [0.99995315],\n",
              "       [0.25191122],\n",
              "       [0.1013118 ]], dtype=float32)"
            ]
          },
          "metadata": {},
          "execution_count": 23
        }
      ]
    },
    {
      "cell_type": "code",
      "source": [
        "#visualise  graph for overfitting using history\n",
        "\n",
        "import matplotlib.pyplot as plt\n",
        "\n",
        "# Assuming you have a history object from model.fit()\n",
        "plt.plot(history.history['loss'])\n",
        "plt.plot(history.history['val_loss'])\n",
        "\n",
        "plt.title('Model loss')\n",
        "plt.ylabel('Loss')\n",
        "plt.xlabel('Epoch')\n",
        "plt.legend(['Train', 'Val'])\n",
        "plt.show()\n",
        "\n",
        "\n"
      ],
      "metadata": {
        "colab": {
          "base_uri": "https://localhost:8080/",
          "height": 472
        },
        "id": "cP2F2SpNWbOa",
        "outputId": "5023b020-31eb-4276-bc07-ec565b1f0472"
      },
      "execution_count": 24,
      "outputs": [
        {
          "output_type": "display_data",
          "data": {
            "text/plain": [
              "<Figure size 640x480 with 1 Axes>"
            ],
            "image/png": "[encoded data removed]"
          },
          "metadata": {}
        }
      ]
    },
    {
      "cell_type": "code",
      "source": [
        "plt.plot(history.history['recall'])\n",
        "plt.plot(history.history['val_recall'])\n",
        "plt.title('Model Recall')\n",
        "plt.ylabel('Recall')\n",
        "plt.xlabel('Epoch')\n",
        "plt.legend(['Train', 'Test'])\n",
        "plt.show()"
      ],
      "metadata": {
        "colab": {
          "base_uri": "https://localhost:8080/",
          "height": 472
        },
        "id": "s-i_wwXQkN_n",
        "outputId": "9d46d13f-84cd-43f1-84c7-b5da278a4ad9"
      },
      "execution_count": 25,
      "outputs": [
        {
          "output_type": "display_data",
          "data": {
            "text/plain": [
              "<Figure size 640x480 with 1 Axes>"
            ],
            "image/png": "[encoded data removed]"
          },
          "metadata": {}
        }
      ]
    },
    {
      "cell_type": "markdown",
      "source": [
        "# **Bagged Random Forest Model**"
      ],
      "metadata": {
        "id": "aCmLy5Z5lhUt"
      }
    },
    {
      "cell_type": "code",
      "source": [
        "# Create base Random Forest model\n",
        "base_model = RandomForestClassifier(n_estimators=100, random_state=42)\n",
        "\n",
        "# Create bagged ensemble\n",
        "bagged_model = BaggingClassifier(estimator=base_model, n_estimators=10, random_state=42)"
      ],
      "metadata": {
        "id": "NwZ0OM-jjLuR"
      },
      "execution_count": null,
      "outputs": []
    },
    {
      "cell_type": "code",
      "source": [
        "# Fit the model\n",
        "bagged_model.fit(X_train_preprocessed_arr, y_train_sample_arr)\n",
        "\n"
      ],
      "metadata": {
        "colab": {
          "base_uri": "https://localhost:8080/"
        },
        "id": "deBivW5il5PR",
        "outputId": "9abcdf0b-6e89-4c28-d5ea-d03c70d7968e"
      },
      "execution_count": null,
      "outputs": [
        {
          "output_type": "stream",
          "name": "stderr",
          "text": [
            "/usr/local/lib/python3.10/dist-packages/sklearn/ensemble/_bagging.py:802: DataConversionWarning: A column-vector y was passed when a 1d array was expected. Please change the shape of y to (n_samples, ), for example using ravel().\n",
            "  y = column_or_1d(y, warn=True)\n"
          ]
        }
      ]
    },
    {
      "cell_type": "code",
      "source": [
        "# Make predictions\n",
        "y_pred = bagged_model.predict(X_test_preprocessed_arr)"
      ],
      "metadata": {
        "id": "CjmU04A7l87y"
      },
      "execution_count": null,
      "outputs": []
    },
    {
      "cell_type": "code",
      "source": [
        "y_pred"
      ],
      "metadata": {
        "id": "7467qZJ2u4mM"
      },
      "execution_count": null,
      "outputs": []
    },
    {
      "cell_type": "code",
      "source": [
        "y_test_sample_arr = y_test_sample_arr.reshape(-1)"
      ],
      "metadata": {
        "id": "RuJoXRdmvLt9"
      },
      "execution_count": null,
      "outputs": []
    },
    {
      "cell_type": "code",
      "source": [
        "from sklearn.metrics import recall_score, roc_auc_score, accuracy_score, f1_score, confusion_matrix, precision_score, precision_recall_curve\n",
        "\n",
        "recall = recall_score(y_test_sample_arr, y_pred)\n",
        "print(f\"Recall: {recall}\")\n",
        "\n",
        "f1 = f1_score(y_test_sample_arr, y_pred)\n",
        "print(f\"F1 score: {f1}\")\n",
        "\n",
        "roc_auc = roc_auc_score(y_test_sample_arr, y_pred)\n",
        "print(f\"Roc-auc score: {roc_auc}\")\n",
        "\n",
        "accuracy = accuracy_score(y_test_sample_arr, y_pred)\n",
        "print(f\"accuracy score: {accuracy}\")\n",
        "\n",
        "precision = precision_score(y_test_sample_arr, y_pred)\n",
        "print(f\"precision score: {precision}\")"
      ],
      "metadata": {
        "id": "TOJMKugrjNt-"
      },
      "execution_count": null,
      "outputs": []
    },
    {
      "cell_type": "code",
      "source": [
        "cm = confusion_matrix(y_test_sample_arr, y_pred)\n",
        "print(f\"Confusion Matrix:\\n{cm}\")"
      ],
      "metadata": {
        "id": "U1498m83oLfi"
      },
      "execution_count": null,
      "outputs": []
    },
    {
      "cell_type": "code",
      "source": [
        "from sklearn.metrics import classification_report\n",
        "report = classification_report(y_test_sample_arr, y_pred)\n",
        "print(f\"Classification Report:\\n{report}\")"
      ],
      "metadata": {
        "id": "5Pbn5c4eoQap"
      },
      "execution_count": null,
      "outputs": []
    },
    {
      "cell_type": "code",
      "source": [
        "precision, recall, thresholds = precision_recall_curve(y_test_sample_arr, y_pred)"
      ],
      "metadata": {
        "id": "c9w2qI1poTOk"
      },
      "execution_count": null,
      "outputs": []
    },
    {
      "cell_type": "code",
      "source": [
        "from sklearn.metrics import average_precision_score\n",
        "average_precision = average_precision_score(y_test_sample_arr, y_pred)"
      ],
      "metadata": {
        "id": "t1yxWXxdpoJM"
      },
      "execution_count": null,
      "outputs": []
    },
    {
      "cell_type": "code",
      "source": [
        "average_precision"
      ],
      "metadata": {
        "id": "t7FUuBySv9K_"
      },
      "execution_count": null,
      "outputs": []
    },
    {
      "cell_type": "code",
      "source": [
        "plt.figure()\n",
        "plt.step(recall, precision, color='b', alpha=0.2, where='post')\n",
        "plt.fill_between(recall, precision, step='post', alpha=0.2, color='b')\n",
        "\n",
        "plt.xlabel('Recall')\n",
        "plt.ylabel('Precision')\n",
        "#plt.ylim([0.0, 1.05])\n",
        "#plt.xlim([0.0, 1.0])\n",
        "plt.title('Precision-Recall curve: AP={0:0.2f}'.format(average_precision))\n",
        "\n",
        "\n",
        "plt.show()"
      ],
      "metadata": {
        "id": "yRxcuN23pE2y"
      },
      "execution_count": null,
      "outputs": []
    }
  ]
}
