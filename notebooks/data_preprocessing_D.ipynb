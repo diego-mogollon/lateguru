{
 "cells": [
  {
   "cell_type": "markdown",
   "metadata": {},
   "source": [
    "# Data Preprocessing"
   ]
  },
  {
   "cell_type": "code",
   "execution_count": 178,
   "metadata": {},
   "outputs": [],
   "source": [
    "import pandas as pd\n",
    "import numpy as np\n",
    "import matplotlib.pyplot as plt\n",
    "import seaborn as sns\n",
    "import os\n",
    "\n",
    "from scipy import stats\n",
    "\n",
    "from sklearn.compose import ColumnTransformer\n",
    "from sklearn.impute import SimpleImputer\n",
    "from sklearn.pipeline import Pipeline\n",
    "from sklearn.preprocessing import StandardScaler, RobustScaler, MinMaxScaler, OneHotEncoder\n",
    "from sklearn.model_selection import GridSearchCV, StratifiedKFold\n",
    "from sklearn.model_selection import train_test_split\n",
    "from sklearn.ensemble import RandomForestClassifier\n",
    "from sklearn.decomposition import PCA\n",
    "from sklearn.model_selection import learning_curve\n",
    "\n",
    "\n",
    "import xgboost as xgb\n",
    "from xgboost import plot_importance\n",
    "\n",
    "from imblearn.over_sampling import SMOTE, ADASYN\n",
    "from imblearn.under_sampling import RandomUnderSampler\n",
    "from imblearn.pipeline import Pipeline as ImbPipeline"
   ]
  },
  {
   "cell_type": "code",
   "execution_count": null,
   "metadata": {},
   "outputs": [],
   "source": [
    "# Function to load specific datasets\n",
    "def load_dataset():\n",
    "    # Determine the current working directory\n",
    "    current_dir = os.getcwd()\n",
    "    \n",
    "    # Create the path to the raw_data directory relative to the current directory\n",
    "    base_dir = os.path.abspath(os.path.join(current_dir, \"..\", \"raw_data\"))\n",
    "    \n",
    "# Define the path to the All_Airports.csv file\n",
    "    all_airports_file_path = os.path.join(base_dir, \"All_Airports.csv\")\n",
    "    \n",
    "    # Load the CSV file into a DataFrame\n",
    "    df = pd.read_csv(all_airports_file_path, compression='zip')\n",
    "    \n",
    "    return df\n",
    "\n",
    "df = load_dataset()"
   ]
  },
  {
   "cell_type": "code",
   "execution_count": null,
   "metadata": {},
   "outputs": [],
   "source": [
    "#Inspect DF \n",
    "\n",
    "df.head()"
   ]
  },
  {
   "cell_type": "markdown",
   "metadata": {},
   "source": [
    "### Missing Values"
   ]
  },
  {
   "cell_type": "code",
   "execution_count": null,
   "metadata": {},
   "outputs": [],
   "source": [
    "#Select Numbers only\n",
    "df_num = df.select_dtypes(include='number')\n",
    "print(df_num.info())"
   ]
  },
  {
   "cell_type": "code",
   "execution_count": null,
   "metadata": {},
   "outputs": [],
   "source": [
    "# Check Missing Values\n",
    "missing_values = df.isnull().sum()\n",
    "\n",
    "print(missing_values)"
   ]
  },
  {
   "cell_type": "code",
   "execution_count": null,
   "metadata": {},
   "outputs": [],
   "source": [
    "len(df)"
   ]
  },
  {
   "cell_type": "code",
   "execution_count": null,
   "metadata": {},
   "outputs": [],
   "source": [
    "# Display rows with missing values in 'DepDelayMinutes'\n",
    "missing_dep_delay = df_num[df_num['DepDelayMinutes'].isnull()]\n",
    "print(missing_dep_delay.head())"
   ]
  },
  {
   "cell_type": "markdown",
   "metadata": {},
   "source": [
    "#### Inspect Missing Values in all relevant columns"
   ]
  },
  {
   "cell_type": "code",
   "execution_count": null,
   "metadata": {},
   "outputs": [],
   "source": [
    "# Inspect specific columns with missing values\n",
    "print(df[['DepDelayMinutes', 'CarrierDelay', 'WeatherDelay', 'NASDelay', 'SecurityDelay', 'LateAircraftDelay']].head(20))\n",
    "print(df[['CancellationReason']].head(20))"
   ]
  },
  {
   "cell_type": "code",
   "execution_count": null,
   "metadata": {},
   "outputs": [],
   "source": [
    "# Filter and inspect rows where DepDelayMinutes is NaN\n",
    "print(df[df['DepDelayMinutes'].isnull()][['DepDelayMinutes', 'Delayed', 'CarrierDelay', 'WeatherDelay', 'NASDelay', 'SecurityDelay', 'LateAircraftDelay']].head(20))\n",
    "\n",
    "# Filter and inspect rows where WeatherDelay is NaN\n",
    "print(df[df['WeatherDelay'].isnull()][['DepDelayMinutes', 'Delayed', 'WeatherDelay', 'CarrierDelay', 'NASDelay']].head(20))\n",
    "\n",
    "# Filter and inspect rows where CancellationReason is NaN\n",
    "print(df[df['CancellationReason'].isnull()][['CancellationReason', 'Cancelled']].head(20))"
   ]
  },
  {
   "cell_type": "code",
   "execution_count": null,
   "metadata": {},
   "outputs": [],
   "source": [
    "# # Visualize missing data in the delay columns\n",
    "# plt.figure(figsize=(10, 6))\n",
    "# sns.heatmap(df[['DepDelayMinutes', 'CarrierDelay', 'WeatherDelay', 'NASDelay', 'SecurityDelay', 'LateAircraftDelay']].isnull(), cbar=False, cmap='viridis')\n",
    "# plt.title('Missing Data in Delay Columns')\n",
    "# plt.show()"
   ]
  },
  {
   "cell_type": "markdown",
   "metadata": {},
   "source": [
    "### Data Imputation for NaN"
   ]
  },
  {
   "cell_type": "code",
   "execution_count": null,
   "metadata": {},
   "outputs": [],
   "source": [
    "# Impute NaN in delay columns with 0.0\n",
    "delay_columns = ['CarrierDelay', 'WeatherDelay', 'NASDelay', 'SecurityDelay', 'LateAircraftDelay']\n",
    "df[delay_columns] = df[delay_columns].fillna(0.0)"
   ]
  },
  {
   "cell_type": "code",
   "execution_count": null,
   "metadata": {},
   "outputs": [],
   "source": [
    "# Impute NaN in DepDelayMinutes with 0.0\n",
    "df['DepDelayMinutes'] = df['DepDelayMinutes'].fillna(0.0)"
   ]
  },
  {
   "cell_type": "code",
   "execution_count": null,
   "metadata": {},
   "outputs": [],
   "source": [
    "# Impute NaN in CancellationReason with 'Not Cancelled'\n",
    "df['CancellationReason'] = df['CancellationReason'].fillna('Not Cancelled')"
   ]
  },
  {
   "cell_type": "code",
   "execution_count": null,
   "metadata": {},
   "outputs": [],
   "source": [
    "# Display the first few rows after imputation to confirm changes\n",
    "print(df[['DepDelayMinutes', 'CarrierDelay', 'WeatherDelay', 'NASDelay', 'SecurityDelay', 'LateAircraftDelay', 'CancellationReason']].head(20))"
   ]
  },
  {
   "cell_type": "markdown",
   "metadata": {},
   "source": [
    "### Handling Outliers"
   ]
  },
  {
   "cell_type": "code",
   "execution_count": null,
   "metadata": {},
   "outputs": [],
   "source": [
    "# Identify outliers using Z-score\n",
    "z_scores = np.abs(stats.zscore(df.select_dtypes(include=[np.number])))\n",
    "outliers = np.where(z_scores > 3)\n",
    "print(f\"Outliers found: {len(outliers[0])}\")"
   ]
  },
  {
   "cell_type": "code",
   "execution_count": null,
   "metadata": {},
   "outputs": [],
   "source": [
    "# # Visualize outliers in specific columns\n",
    "# for column in df.select_dtypes(include=[np.number]).columns:\n",
    "#     plt.figure(figsize=(10, 6))\n",
    "#     sns.boxplot(x=df[column])\n",
    "#     plt.title(f'Boxplot of {column}')\n",
    "#     plt.show()"
   ]
  },
  {
   "cell_type": "markdown",
   "metadata": {},
   "source": [
    "### Manually Inspecting Extreme Outliers"
   ]
  },
  {
   "cell_type": "code",
   "execution_count": null,
   "metadata": {},
   "outputs": [],
   "source": [
    "# Define a function to identify and print extreme outliers for a given feature\n",
    "def inspect_outliers(df, feature):\n",
    "    # Calculate the Interquartile Range (IQR)\n",
    "    Q1 = df[feature].quantile(0.25)\n",
    "    Q3 = df[feature].quantile(0.75)\n",
    "    IQR = Q3 - Q1\n",
    "    \n",
    "    # Define outlier criteria: below Q1 - 1.5*IQR or above Q3 + 1.5*IQR\n",
    "    lower_bound = Q1 - 1.5 * IQR\n",
    "    upper_bound = Q3 + 1.5 * IQR\n",
    "    \n",
    "    # Identify extreme outliers\n",
    "    extreme_outliers = df[(df[feature] < lower_bound) | (df[feature] > upper_bound)]\n",
    "    \n",
    "    # Print information about the outliers\n",
    "    print(f\"Feature: {feature}\")\n",
    "    print(f\"Lower Bound: {lower_bound}\")\n",
    "    print(f\"Upper Bound: {upper_bound}\")\n",
    "    print(f\"Number of Extreme Outliers: {len(extreme_outliers)}\")\n",
    "    print(extreme_outliers[[feature]].head(20))  # Show top 20 outliers for inspection\n",
    "    print(\"\\n\" + \"-\"*80 + \"\\n\")\n",
    "\n",
    "# List of features for which to inspect outliers\n",
    "features_to_inspect = [\n",
    "    'DepDelayMinutes', 'CarrierDelay', 'WeatherDelay', 'NASDelay', 'SecurityDelay', \n",
    "    'LateAircraftDelay', 'Temperature', 'Feels_Like_Temperature', 'Altimeter_Pressure', \n",
    "    'Sea_Level_Pressure', 'Visibility', 'Wind_Speed', 'Wind_Gust', \n",
    "    'Precipitation', 'Ice_Accretion_3hr'\n",
    "]\n",
    "\n",
    "# Loop through each feature and inspect outliers\n",
    "for feature in features_to_inspect:\n",
    "    inspect_outliers(df, feature)"
   ]
  },
  {
   "cell_type": "markdown",
   "metadata": {},
   "source": [
    "### Manually Treating Extreme Outliers"
   ]
  },
  {
   "cell_type": "code",
   "execution_count": null,
   "metadata": {},
   "outputs": [],
   "source": [
    "# Departure Delay Minutes\n",
    "df['DepDelayMinutes'] = np.clip(df['DepDelayMinutes'], -15.0, 25.0)"
   ]
  },
  {
   "cell_type": "code",
   "execution_count": null,
   "metadata": {},
   "outputs": [],
   "source": [
    "# Carrier Delay\n",
    "df['CarrierDelay'] = np.clip(df['CarrierDelay'], 0.0, 390.0)"
   ]
  },
  {
   "cell_type": "code",
   "execution_count": null,
   "metadata": {},
   "outputs": [],
   "source": [
    "#Weather Delay\n",
    "df['WeatherDelay'] = np.clip(df['WeatherDelay'], 0.0, 140.0)"
   ]
  },
  {
   "cell_type": "code",
   "execution_count": null,
   "metadata": {},
   "outputs": [],
   "source": [
    "#NASDelay\n",
    "df['NASDelay'] = np.clip(df['NASDelay'], 0.0, 247.0)"
   ]
  },
  {
   "cell_type": "code",
   "execution_count": null,
   "metadata": {},
   "outputs": [],
   "source": [
    "#Security Delay\n",
    "df['SecurityDelay'] = np.clip(df['SecurityDelay'], 0.0, 146.0)"
   ]
  },
  {
   "cell_type": "code",
   "execution_count": null,
   "metadata": {},
   "outputs": [],
   "source": [
    "#LateAircraft Delay\n",
    "df['LateAircraftDelay'] = np.clip(df['LateAircraftDelay'], 0.0, 111.0)"
   ]
  },
  {
   "cell_type": "code",
   "execution_count": null,
   "metadata": {},
   "outputs": [],
   "source": [
    "#Temperature\n",
    "df['Temperature'] = np.clip(df['Temperature'], 13.5, 113.5)"
   ]
  },
  {
   "cell_type": "code",
   "execution_count": null,
   "metadata": {},
   "outputs": [],
   "source": [
    "#Feels_Like_Temperature\n",
    "df['Feels_Like_Temperature'] = np.clip(df['Feels_Like_Temperature'], 13.75, 113.35)"
   ]
  },
  {
   "cell_type": "code",
   "execution_count": null,
   "metadata": {},
   "outputs": [],
   "source": [
    "#Altimeter Pressure\n",
    "df['Altimeter_Pressure'] = np.clip(df['Altimeter_Pressure'], 1000.8449999999998, 1032.005)"
   ]
  },
  {
   "cell_type": "code",
   "execution_count": null,
   "metadata": {},
   "outputs": [],
   "source": [
    "#Sea_Level_Pressure\n",
    "df['Sea_Level_Pressure'] = np.clip(df['Sea_Level_Pressure'], 1003.05, 1029.05)"
   ]
  },
  {
   "cell_type": "code",
   "execution_count": null,
   "metadata": {},
   "outputs": [],
   "source": [
    "#Visibility\n",
    "df['Visibility'] = df['Visibility'].clip(lower=0, upper=16093.4)"
   ]
  },
  {
   "cell_type": "code",
   "execution_count": null,
   "metadata": {},
   "outputs": [],
   "source": [
    "#Wind Speed\n",
    "df['Wind_Speed'] = np.clip(df['Wind_Speed'], 0.0, 23.025)"
   ]
  },
  {
   "cell_type": "code",
   "execution_count": null,
   "metadata": {},
   "outputs": [],
   "source": [
    "#Wind Gust\n",
    "df['Wind_Gust'] = np.clip(df['Wind_Gust'], 20.42, 31.94)\n"
   ]
  },
  {
   "cell_type": "code",
   "execution_count": null,
   "metadata": {},
   "outputs": [],
   "source": [
    "#Precipitation\n",
    "df['Precipitation'] = np.clip(df['Precipitation'], 0.0, 5.59)"
   ]
  },
  {
   "cell_type": "code",
   "execution_count": null,
   "metadata": {},
   "outputs": [],
   "source": [
    "#Ice Accretion\n",
    "df['Ice_Accretion_3hr'] = np.clip(df['Ice_Accretion_3hr'], 0.0, 1.78)"
   ]
  },
  {
   "cell_type": "code",
   "execution_count": null,
   "metadata": {},
   "outputs": [],
   "source": [
    "# # Identify outliers using Z-score\n",
    "# z_scores = np.abs(stats.zscore(df.select_dtypes(include=[np.number])))\n",
    "# outliers = np.where(z_scores > 3)\n",
    "# print(f\"Outliers found: {len(outliers[0])}\")\n",
    "\n",
    "# # Visualize outliers in specific columns\n",
    "# for column in df.select_dtypes(include=[np.number]).columns:\n",
    "#     plt.figure(figsize=(10, 6))\n",
    "#     sns.boxplot(x=df[column])\n",
    "#     plt.title(f'Boxplot of {column}')\n",
    "#     plt.show()"
   ]
  },
  {
   "cell_type": "markdown",
   "metadata": {},
   "source": [
    "#### Outliers Summary\n",
    "\n",
    "After removing extreme outliets, a total of 1,954,889 outliers were kept. This means approximately 12.9% of our data points are classified as outliers using this method.\n",
    "Given the size of our dataset, a large number of outliers might be expected, especially in a dataset with a variety of delay types and weather conditions."
   ]
  },
  {
   "cell_type": "markdown",
   "metadata": {},
   "source": [
    "### Clean Column Names to create a categorical y_pred before creating Train/Test Split"
   ]
  },
  {
   "cell_type": "code",
   "execution_count": null,
   "metadata": {},
   "outputs": [],
   "source": [
    "# Check the datatype of the 'Time' column\n",
    "print(f\"Data type of 'Time': {df['Time'].dtype}\")\n",
    "\n",
    "# If not datetime, convert it to datetime\n",
    "if not pd.api.types.is_datetime64_any_dtype(df['Time']):\n",
    "    df['Time'] = pd.to_datetime(df['Time'])\n",
    "    print(f\"After conversion, Data type of 'Time': {df['Time'].dtype}\")"
   ]
  },
  {
   "cell_type": "code",
   "execution_count": null,
   "metadata": {},
   "outputs": [],
   "source": [
    "# Extract hour, day of the week, and month from the Time column\n",
    "df['Hour'] = df['Time'].dt.hour\n",
    "df['Day_Of_Week'] = df['Time'].dt.dayofweek\n",
    "df['Month'] = df['Time'].dt.month"
   ]
  },
  {
   "cell_type": "code",
   "execution_count": null,
   "metadata": {},
   "outputs": [],
   "source": [
    "# Rename the 'WeatherDelay' column to 'Weather_Delay_Length' for clarity before we create a new 'Binary' column\n",
    "df.rename(columns={'WeatherDelay': 'Weather_Delay_Length'}, inplace=True)\n",
    "\n",
    "# Verify the change\n",
    "print(df.columns)"
   ]
  },
  {
   "cell_type": "code",
   "execution_count": null,
   "metadata": {},
   "outputs": [],
   "source": [
    "\n",
    "# Create a new binary column 'WeatherDelay_Binary'\n",
    "df['Weather_Delayed'] = df['Weather_Delay_Length'].apply(lambda x: 1 if x > 0 else 0)\n",
    "\n",
    "# Check the first few rows to confirm\n",
    "print(df[['Weather_Delay_Length', 'Weather_Delayed']].head(10))\n"
   ]
  },
  {
   "cell_type": "code",
   "execution_count": null,
   "metadata": {},
   "outputs": [],
   "source": [
    "\n",
    "# Calculate the total number of instances\n",
    "total = df['Weather_Delayed'].count()\n",
    "\n",
    "# Calculate the percentage of each class\n",
    "percent_delayed = (df['Weather_Delayed'].value_counts()[1] / total) * 100\n",
    "percent_not_delayed = (df['Weather_Delayed'].value_counts()[0] / total) * 100\n",
    "\n",
    "# Display the results\n",
    "print(f\"Percentage of delayed flights: {percent_delayed:.2f}%\")\n",
    "print(f\"Percentage of not delayed flights: {percent_not_delayed:.2f}%\")\n"
   ]
  },
  {
   "cell_type": "markdown",
   "metadata": {},
   "source": [
    "## Save preprocessed file before test/split and Scaling"
   ]
  },
  {
   "cell_type": "code",
   "execution_count": null,
   "metadata": {},
   "outputs": [],
   "source": [
    "\n",
    "# Function to save the DataFrame to the raw_data directory\n",
    "def save_dataset(df):\n",
    "    # Determine the current working directory\n",
    "    current_dir = os.getcwd()\n",
    "    \n",
    "    # Create the path to the raw_data directory relative to the current directory\n",
    "    base_dir = os.path.abspath(os.path.join(current_dir, \"..\", \"data\"))\n",
    "    \n",
    "    # Define the path to save the treated outliers DataFrame\n",
    "    treated_outliers_file_path = os.path.join(base_dir, \"preprocessed_treated_outliers.csv\")\n",
    "    \n",
    "    # Save the DataFrame as a CSV file\n",
    "    df.to_csv(treated_outliers_file_path, index=False)\n",
    "    \n",
    "# Call the function to save your DataFrame\n",
    "save_dataset(df)"
   ]
  },
  {
   "cell_type": "markdown",
   "metadata": {},
   "source": [
    "## Load preprocessed data"
   ]
  },
  {
   "cell_type": "code",
   "execution_count": 179,
   "metadata": {},
   "outputs": [
    {
     "name": "stdout",
     "output_type": "stream",
     "text": [
      "                  Time Origin Dest                 Carrier  Cancelled  \\\n",
      "0  2021-01-01 09:00:00    LAX  JFK  American Airlines Inc.      False   \n",
      "1  2021-01-02 09:00:00    LAX  JFK  American Airlines Inc.      False   \n",
      "2  2021-01-03 09:00:00    LAX  JFK  American Airlines Inc.      False   \n",
      "3  2021-01-03 09:00:00    LAX  JFK  American Airlines Inc.      False   \n",
      "4  2021-01-04 09:00:00    LAX  JFK  American Airlines Inc.      False   \n",
      "\n",
      "  CancellationReason  Delayed  DepDelayMinutes  CarrierDelay  \\\n",
      "0      Not Cancelled    False              0.0           0.0   \n",
      "1      Not Cancelled     True              2.0           0.0   \n",
      "2      Not Cancelled     True             25.0          28.0   \n",
      "3      Not Cancelled     True             25.0          28.0   \n",
      "4      Not Cancelled    False              0.0           0.0   \n",
      "\n",
      "   Weather_Delay_Length  ...  Sea_Level_Pressure  Visibility  Wind_Speed  \\\n",
      "0                   0.0  ...              1020.1    16093.40         0.0   \n",
      "1                   0.0  ...              1025.5    16093.40         0.0   \n",
      "2                   0.0  ...              1015.2     4828.02         4.6   \n",
      "3                   0.0  ...              1024.1     6437.36         4.6   \n",
      "4                   0.0  ...              1015.2     6437.36         4.6   \n",
      "\n",
      "   Wind_Gust  Precipitation  Ice_Accretion_3hr  Hour  Day_Of_Week  Month  \\\n",
      "0      24.97            0.0                0.0     9            4      1   \n",
      "1      24.97            0.0                0.0     9            5      1   \n",
      "2      24.97            0.0                0.0     9            6      1   \n",
      "3      24.97            0.0                0.0     9            6      1   \n",
      "4      24.97            0.0                0.0     9            0      1   \n",
      "\n",
      "   Weather_Delayed  \n",
      "0                0  \n",
      "1                0  \n",
      "2                0  \n",
      "3                0  \n",
      "4                0  \n",
      "\n",
      "[5 rows x 26 columns]\n"
     ]
    }
   ],
   "source": [
    "# Load preprocessed data set from /data folder\n",
    "current_dir = os.getcwd()\n",
    "base_dir = os.path.abspath(os.path.join(current_dir, \"..\", \"data\"))\n",
    "file_path = os.path.join(base_dir, \"preprocessed_treated_outliers.csv\")\n",
    "    \n",
    "preprocessed_df = pd.read_csv(file_path)\n",
    "\n",
    "print(preprocessed_df.head())"
   ]
  },
  {
   "cell_type": "code",
   "execution_count": 180,
   "metadata": {},
   "outputs": [
    {
     "data": {
      "text/plain": [
       "Index(['Time', 'Origin', 'Dest', 'Carrier', 'Cancelled', 'CancellationReason',\n",
       "       'Delayed', 'DepDelayMinutes', 'CarrierDelay', 'Weather_Delay_Length',\n",
       "       'NASDelay', 'SecurityDelay', 'LateAircraftDelay', 'Temperature',\n",
       "       'Feels_Like_Temperature', 'Altimeter_Pressure', 'Sea_Level_Pressure',\n",
       "       'Visibility', 'Wind_Speed', 'Wind_Gust', 'Precipitation',\n",
       "       'Ice_Accretion_3hr', 'Hour', 'Day_Of_Week', 'Month', 'Weather_Delayed'],\n",
       "      dtype='object')"
      ]
     },
     "execution_count": 180,
     "metadata": {},
     "output_type": "execute_result"
    }
   ],
   "source": [
    "preprocessed_df.columns"
   ]
  },
  {
   "cell_type": "markdown",
   "metadata": {},
   "source": [
    "### Modelling for y_pred = 'Delayed'"
   ]
  },
  {
   "cell_type": "code",
   "execution_count": null,
   "metadata": {},
   "outputs": [],
   "source": [
    "# # Define y_pred and drop X columns based on 'delayed' feature engineering\n",
    "# X = preprocessed_df.drop(columns=['Cancelled', 'CancellationReason',\n",
    "#        'Delayed', 'CarrierDelay', 'DepDelayMinutes', 'Weather_Delay_Length',\n",
    "#        'NASDelay', 'SecurityDelay', 'LateAircraftDelay'])\n",
    "# y = preprocessed_df['Delayed']"
   ]
  },
  {
   "cell_type": "markdown",
   "metadata": {},
   "source": [
    "### Modelling for y_pred = 'Weather_Delayed'"
   ]
  },
  {
   "cell_type": "code",
   "execution_count": 181,
   "metadata": {},
   "outputs": [],
   "source": [
    "# Define y_pred and drop X columns based on 'delayed' feature engineering\n",
    "X = preprocessed_df.drop(columns=['Weather_Delay_Length', 'Weather_Delayed'])\n",
    "y = preprocessed_df['Weather_Delayed']"
   ]
  },
  {
   "cell_type": "markdown",
   "metadata": {},
   "source": [
    "### Split into train/test (applicable to all model variations)"
   ]
  },
  {
   "cell_type": "code",
   "execution_count": 182,
   "metadata": {},
   "outputs": [],
   "source": [
    "#Split into train/test\n",
    "X_train, X_test, y_train, y_test = train_test_split(X, y, test_size=0.2, random_state=42, stratify=y)\n"
   ]
  },
  {
   "cell_type": "markdown",
   "metadata": {},
   "source": [
    "### Sampling down for testing "
   ]
  },
  {
   "cell_type": "code",
   "execution_count": 183,
   "metadata": {},
   "outputs": [],
   "source": [
    "# Sample only 10% of the data for quick testing\n",
    "X_sample, _, y_sample, _ = train_test_split(\n",
    "    X, y, \n",
    "    test_size=0.9,  # Keep only 10% for the sample\n",
    "    random_state=42, \n",
    "    stratify=y  # Maintain the class distribution\n",
    ")"
   ]
  },
  {
   "cell_type": "markdown",
   "metadata": {},
   "source": [
    "### Split sampled data into train/test"
   ]
  },
  {
   "cell_type": "code",
   "execution_count": 184,
   "metadata": {},
   "outputs": [],
   "source": [
    "# Split the sampled data into train and test sets\n",
    "X_train_sample, X_test_sample, y_train_sample, y_test_sample = train_test_split(\n",
    "    X_sample, y_sample, \n",
    "    test_size=0.2,  # 80% train, 20% test\n",
    "    random_state=42, #Reproducibility\n",
    "    stratify=y_sample  # Maintain the class distribution in the split\n",
    ")"
   ]
  },
  {
   "cell_type": "markdown",
   "metadata": {},
   "source": [
    "#### Enconding and scaling for y_pred = Weather_Delayed"
   ]
  },
  {
   "cell_type": "code",
   "execution_count": 185,
   "metadata": {},
   "outputs": [],
   "source": [
    "# Identify categorical, binary, and numeric features\n",
    "categorical_features = ['CancellationReason', 'Origin', 'Dest', 'Carrier']\n",
    "binary_features = ['Cancelled', 'Delayed']\n",
    "numeric_features = ['DepDelayMinutes', 'CarrierDelay', 'NASDelay',\n",
    "                    'SecurityDelay', 'LateAircraftDelay', 'Temperature', 'Feels_Like_Temperature',\n",
    "                    'Altimeter_Pressure', 'Sea_Level_Pressure', 'Visibility', 'Wind_Speed',\n",
    "                    'Wind_Gust', 'Precipitation', 'Ice_Accretion_3hr', 'Hour', 'Day_Of_Week', 'Month']\n",
    "\n",
    "# One-hot encode categorical features\n",
    "encoder = OneHotEncoder()\n",
    "X_train_encoded = encoder.fit_transform(X_train_sample[categorical_features])\n",
    "X_test_encoded = encoder.transform(X_test_sample[categorical_features])\n",
    "\n",
    "# Scale numeric features\n",
    "scaler = StandardScaler()\n",
    "X_train_scaled = scaler.fit_transform(X_train_sample[numeric_features])\n",
    "X_test_scaled = scaler.transform(X_test_sample[numeric_features])\n",
    "\n",
    "# Combine the encoded categorical, scaled numeric, and binary features into a single array\n",
    "X_train_preprocessed = np.hstack([X_train_encoded.toarray(), X_train_scaled, X_train_sample[binary_features]])\n",
    "X_test_preprocessed = np.hstack([X_test_encoded.toarray(), X_test_scaled, X_test_sample[binary_features]])"
   ]
  },
  {
   "cell_type": "markdown",
   "metadata": {},
   "source": [
    "#### Enconding and scaling for y_pred = Delayed"
   ]
  },
  {
   "cell_type": "code",
   "execution_count": null,
   "metadata": {},
   "outputs": [],
   "source": [
    "# # Identify categorical, binary, and numeric features\n",
    "# categorical_features = ['Origin', 'Dest', 'Carrier']\n",
    "# numeric_features = ['Temperature', 'Feels_Like_Temperature',\n",
    "#                     'Altimeter_Pressure', 'Sea_Level_Pressure', 'Visibility', 'Wind_Speed',\n",
    "#                     'Wind_Gust', 'Precipitation', 'Ice_Accretion_3hr', 'Hour', 'Day_Of_Week', 'Month']\n",
    "\n",
    "# # One-hot encode categorical features\n",
    "# encoder = OneHotEncoder()\n",
    "# X_train_encoded = encoder.fit_transform(X_train_sample[categorical_features])\n",
    "# X_test_encoded = encoder.transform(X_test_sample[categorical_features])\n",
    "\n",
    "# # Scale numeric features\n",
    "# scaler = StandardScaler()\n",
    "# X_train_scaled = scaler.fit_transform(X_train_sample[numeric_features])\n",
    "# X_test_scaled = scaler.transform(X_test_sample[numeric_features])\n"
   ]
  },
  {
   "cell_type": "markdown",
   "metadata": {},
   "source": [
    "### PCA Analysis"
   ]
  },
  {
   "cell_type": "code",
   "execution_count": 186,
   "metadata": {},
   "outputs": [],
   "source": [
    "#Assing PCA and number of components\n",
    "pca = PCA(n_components=10)\n",
    "\n",
    "#Apply PCA to scaled numeric features\n",
    "X_train_pca = pca.fit_transform(X_train_scaled)\n",
    "X_test_pca = pca.transform(X_test_scaled)"
   ]
  },
  {
   "cell_type": "code",
   "execution_count": 187,
   "metadata": {},
   "outputs": [],
   "source": [
    "#Concatenate arrays to form one array\n",
    "X_train_preprocessed = np.hstack([X_train_encoded.toarray(), X_train_pca, X_train_sample[binary_features]])\n",
    "X_test_preprocessed = np.hstack([X_test_encoded.toarray(), X_test_pca, X_test_sample[binary_features]])"
   ]
  },
  {
   "cell_type": "code",
   "execution_count": 188,
   "metadata": {},
   "outputs": [],
   "source": [
    "# Apply SMOTE to balance the training data\n",
    "smote = SMOTE(random_state=42)\n",
    "X_train_balanced, y_train_balanced = smote.fit_resample(X_train_preprocessed, y_train_sample)"
   ]
  },
  {
   "cell_type": "code",
   "execution_count": null,
   "metadata": {},
   "outputs": [],
   "source": [
    "# #Define Param Grid\n",
    "# param_grid = {\n",
    "#     'reg_alpha': [0, 0.5],  # L1\n",
    "#     'reg_lambda': [0, 0.5],  # L2\n",
    "#     'max_depth': [5, 10],  # Tree depth\n",
    "#     'n_estimators': [100, 200]  # Boosting rounds\n",
    "# }"
   ]
  },
  {
   "cell_type": "markdown",
   "metadata": {},
   "source": [
    "### Initialise Model for Weather y_pred"
   ]
  },
  {
   "cell_type": "code",
   "execution_count": 189,
   "metadata": {},
   "outputs": [],
   "source": [
    "# Initialize the XGBoost model\n",
    "xgb_model_weather = xgb.XGBClassifier(\n",
    "    use_label_encoder=False,  # Disable the use of the label encoder - Need to test if this is required or not\n",
    "    eval_metric='logloss',  # logloss as the evaluation metric\n",
    "    random_state=42,  # For reproducibility\n",
    ")"
   ]
  },
  {
   "cell_type": "markdown",
   "metadata": {},
   "source": [
    "### Grid Search"
   ]
  },
  {
   "cell_type": "code",
   "execution_count": null,
   "metadata": {},
   "outputs": [],
   "source": [
    "# #Grid Search\n",
    "# grid_search = GridSearchCV(estimator=xgb_model, param_grid=param_grid, scoring='recall', cv=3, n_jobs=-1)"
   ]
  },
  {
   "cell_type": "code",
   "execution_count": null,
   "metadata": {},
   "outputs": [],
   "source": [
    "# #Fit Grid Search on balanced training data\n",
    "# grid_search.fit(X_train_balanced, y_train_balanced)"
   ]
  },
  {
   "cell_type": "code",
   "execution_count": null,
   "metadata": {},
   "outputs": [],
   "source": [
    "# #Print the best parameters and score\n",
    "# print(f\"Best Parameters from Grid Search: {grid_search.best_params_}\")\n",
    "# print(f\"Best F1 Score from Grid Search: {grid_search.best_score_}\")"
   ]
  },
  {
   "cell_type": "markdown",
   "metadata": {},
   "source": [
    "## Model Fit"
   ]
  },
  {
   "cell_type": "code",
   "execution_count": 190,
   "metadata": {},
   "outputs": [
    {
     "name": "stderr",
     "output_type": "stream",
     "text": [
      "/Users/diego_mogollon/.pyenv/versions/3.10.6/envs/lateguru/lib/python3.10/site-packages/xgboost/core.py:158: UserWarning: [15:58:12] WARNING: /Users/runner/work/xgboost/xgboost/src/learner.cc:740: \n",
      "Parameters: { \"use_label_encoder\" } are not used.\n",
      "\n",
      "  warnings.warn(smsg, UserWarning)\n"
     ]
    },
    {
     "data": {
      "text/html": [
       "<style>#sk-container-id-8 {\n",
       "  /* Definition of color scheme common for light and dark mode */\n",
       "  --sklearn-color-text: black;\n",
       "  --sklearn-color-line: gray;\n",
       "  /* Definition of color scheme for unfitted estimators */\n",
       "  --sklearn-color-unfitted-level-0: #fff5e6;\n",
       "  --sklearn-color-unfitted-level-1: #f6e4d2;\n",
       "  --sklearn-color-unfitted-level-2: #ffe0b3;\n",
       "  --sklearn-color-unfitted-level-3: chocolate;\n",
       "  /* Definition of color scheme for fitted estimators */\n",
       "  --sklearn-color-fitted-level-0: #f0f8ff;\n",
       "  --sklearn-color-fitted-level-1: #d4ebff;\n",
       "  --sklearn-color-fitted-level-2: #b3dbfd;\n",
       "  --sklearn-color-fitted-level-3: cornflowerblue;\n",
       "\n",
       "  /* Specific color for light theme */\n",
       "  --sklearn-color-text-on-default-background: var(--sg-text-color, var(--theme-code-foreground, var(--jp-content-font-color1, black)));\n",
       "  --sklearn-color-background: var(--sg-background-color, var(--theme-background, var(--jp-layout-color0, white)));\n",
       "  --sklearn-color-border-box: var(--sg-text-color, var(--theme-code-foreground, var(--jp-content-font-color1, black)));\n",
       "  --sklearn-color-icon: #696969;\n",
       "\n",
       "  @media (prefers-color-scheme: dark) {\n",
       "    /* Redefinition of color scheme for dark theme */\n",
       "    --sklearn-color-text-on-default-background: var(--sg-text-color, var(--theme-code-foreground, var(--jp-content-font-color1, white)));\n",
       "    --sklearn-color-background: var(--sg-background-color, var(--theme-background, var(--jp-layout-color0, #111)));\n",
       "    --sklearn-color-border-box: var(--sg-text-color, var(--theme-code-foreground, var(--jp-content-font-color1, white)));\n",
       "    --sklearn-color-icon: #878787;\n",
       "  }\n",
       "}\n",
       "\n",
       "#sk-container-id-8 {\n",
       "  color: var(--sklearn-color-text);\n",
       "}\n",
       "\n",
       "#sk-container-id-8 pre {\n",
       "  padding: 0;\n",
       "}\n",
       "\n",
       "#sk-container-id-8 input.sk-hidden--visually {\n",
       "  border: 0;\n",
       "  clip: rect(1px 1px 1px 1px);\n",
       "  clip: rect(1px, 1px, 1px, 1px);\n",
       "  height: 1px;\n",
       "  margin: -1px;\n",
       "  overflow: hidden;\n",
       "  padding: 0;\n",
       "  position: absolute;\n",
       "  width: 1px;\n",
       "}\n",
       "\n",
       "#sk-container-id-8 div.sk-dashed-wrapped {\n",
       "  border: 1px dashed var(--sklearn-color-line);\n",
       "  margin: 0 0.4em 0.5em 0.4em;\n",
       "  box-sizing: border-box;\n",
       "  padding-bottom: 0.4em;\n",
       "  background-color: var(--sklearn-color-background);\n",
       "}\n",
       "\n",
       "#sk-container-id-8 div.sk-container {\n",
       "  /* jupyter's `normalize.less` sets `[hidden] { display: none; }`\n",
       "     but bootstrap.min.css set `[hidden] { display: none !important; }`\n",
       "     so we also need the `!important` here to be able to override the\n",
       "     default hidden behavior on the sphinx rendered scikit-learn.org.\n",
       "     See: https://github.com/scikit-learn/scikit-learn/issues/21755 */\n",
       "  display: inline-block !important;\n",
       "  position: relative;\n",
       "}\n",
       "\n",
       "#sk-container-id-8 div.sk-text-repr-fallback {\n",
       "  display: none;\n",
       "}\n",
       "\n",
       "div.sk-parallel-item,\n",
       "div.sk-serial,\n",
       "div.sk-item {\n",
       "  /* draw centered vertical line to link estimators */\n",
       "  background-image: linear-gradient(var(--sklearn-color-text-on-default-background), var(--sklearn-color-text-on-default-background));\n",
       "  background-size: 2px 100%;\n",
       "  background-repeat: no-repeat;\n",
       "  background-position: center center;\n",
       "}\n",
       "\n",
       "/* Parallel-specific style estimator block */\n",
       "\n",
       "#sk-container-id-8 div.sk-parallel-item::after {\n",
       "  content: \"\";\n",
       "  width: 100%;\n",
       "  border-bottom: 2px solid var(--sklearn-color-text-on-default-background);\n",
       "  flex-grow: 1;\n",
       "}\n",
       "\n",
       "#sk-container-id-8 div.sk-parallel {\n",
       "  display: flex;\n",
       "  align-items: stretch;\n",
       "  justify-content: center;\n",
       "  background-color: var(--sklearn-color-background);\n",
       "  position: relative;\n",
       "}\n",
       "\n",
       "#sk-container-id-8 div.sk-parallel-item {\n",
       "  display: flex;\n",
       "  flex-direction: column;\n",
       "}\n",
       "\n",
       "#sk-container-id-8 div.sk-parallel-item:first-child::after {\n",
       "  align-self: flex-end;\n",
       "  width: 50%;\n",
       "}\n",
       "\n",
       "#sk-container-id-8 div.sk-parallel-item:last-child::after {\n",
       "  align-self: flex-start;\n",
       "  width: 50%;\n",
       "}\n",
       "\n",
       "#sk-container-id-8 div.sk-parallel-item:only-child::after {\n",
       "  width: 0;\n",
       "}\n",
       "\n",
       "/* Serial-specific style estimator block */\n",
       "\n",
       "#sk-container-id-8 div.sk-serial {\n",
       "  display: flex;\n",
       "  flex-direction: column;\n",
       "  align-items: center;\n",
       "  background-color: var(--sklearn-color-background);\n",
       "  padding-right: 1em;\n",
       "  padding-left: 1em;\n",
       "}\n",
       "\n",
       "\n",
       "/* Toggleable style: style used for estimator/Pipeline/ColumnTransformer box that is\n",
       "clickable and can be expanded/collapsed.\n",
       "- Pipeline and ColumnTransformer use this feature and define the default style\n",
       "- Estimators will overwrite some part of the style using the `sk-estimator` class\n",
       "*/\n",
       "\n",
       "/* Pipeline and ColumnTransformer style (default) */\n",
       "\n",
       "#sk-container-id-8 div.sk-toggleable {\n",
       "  /* Default theme specific background. It is overwritten whether we have a\n",
       "  specific estimator or a Pipeline/ColumnTransformer */\n",
       "  background-color: var(--sklearn-color-background);\n",
       "}\n",
       "\n",
       "/* Toggleable label */\n",
       "#sk-container-id-8 label.sk-toggleable__label {\n",
       "  cursor: pointer;\n",
       "  display: block;\n",
       "  width: 100%;\n",
       "  margin-bottom: 0;\n",
       "  padding: 0.5em;\n",
       "  box-sizing: border-box;\n",
       "  text-align: center;\n",
       "}\n",
       "\n",
       "#sk-container-id-8 label.sk-toggleable__label-arrow:before {\n",
       "  /* Arrow on the left of the label */\n",
       "  content: \"▸\";\n",
       "  float: left;\n",
       "  margin-right: 0.25em;\n",
       "  color: var(--sklearn-color-icon);\n",
       "}\n",
       "\n",
       "#sk-container-id-8 label.sk-toggleable__label-arrow:hover:before {\n",
       "  color: var(--sklearn-color-text);\n",
       "}\n",
       "\n",
       "/* Toggleable content - dropdown */\n",
       "\n",
       "#sk-container-id-8 div.sk-toggleable__content {\n",
       "  max-height: 0;\n",
       "  max-width: 0;\n",
       "  overflow: hidden;\n",
       "  text-align: left;\n",
       "  /* unfitted */\n",
       "  background-color: var(--sklearn-color-unfitted-level-0);\n",
       "}\n",
       "\n",
       "#sk-container-id-8 div.sk-toggleable__content.fitted {\n",
       "  /* fitted */\n",
       "  background-color: var(--sklearn-color-fitted-level-0);\n",
       "}\n",
       "\n",
       "#sk-container-id-8 div.sk-toggleable__content pre {\n",
       "  margin: 0.2em;\n",
       "  border-radius: 0.25em;\n",
       "  color: var(--sklearn-color-text);\n",
       "  /* unfitted */\n",
       "  background-color: var(--sklearn-color-unfitted-level-0);\n",
       "}\n",
       "\n",
       "#sk-container-id-8 div.sk-toggleable__content.fitted pre {\n",
       "  /* unfitted */\n",
       "  background-color: var(--sklearn-color-fitted-level-0);\n",
       "}\n",
       "\n",
       "#sk-container-id-8 input.sk-toggleable__control:checked~div.sk-toggleable__content {\n",
       "  /* Expand drop-down */\n",
       "  max-height: 200px;\n",
       "  max-width: 100%;\n",
       "  overflow: auto;\n",
       "}\n",
       "\n",
       "#sk-container-id-8 input.sk-toggleable__control:checked~label.sk-toggleable__label-arrow:before {\n",
       "  content: \"▾\";\n",
       "}\n",
       "\n",
       "/* Pipeline/ColumnTransformer-specific style */\n",
       "\n",
       "#sk-container-id-8 div.sk-label input.sk-toggleable__control:checked~label.sk-toggleable__label {\n",
       "  color: var(--sklearn-color-text);\n",
       "  background-color: var(--sklearn-color-unfitted-level-2);\n",
       "}\n",
       "\n",
       "#sk-container-id-8 div.sk-label.fitted input.sk-toggleable__control:checked~label.sk-toggleable__label {\n",
       "  background-color: var(--sklearn-color-fitted-level-2);\n",
       "}\n",
       "\n",
       "/* Estimator-specific style */\n",
       "\n",
       "/* Colorize estimator box */\n",
       "#sk-container-id-8 div.sk-estimator input.sk-toggleable__control:checked~label.sk-toggleable__label {\n",
       "  /* unfitted */\n",
       "  background-color: var(--sklearn-color-unfitted-level-2);\n",
       "}\n",
       "\n",
       "#sk-container-id-8 div.sk-estimator.fitted input.sk-toggleable__control:checked~label.sk-toggleable__label {\n",
       "  /* fitted */\n",
       "  background-color: var(--sklearn-color-fitted-level-2);\n",
       "}\n",
       "\n",
       "#sk-container-id-8 div.sk-label label.sk-toggleable__label,\n",
       "#sk-container-id-8 div.sk-label label {\n",
       "  /* The background is the default theme color */\n",
       "  color: var(--sklearn-color-text-on-default-background);\n",
       "}\n",
       "\n",
       "/* On hover, darken the color of the background */\n",
       "#sk-container-id-8 div.sk-label:hover label.sk-toggleable__label {\n",
       "  color: var(--sklearn-color-text);\n",
       "  background-color: var(--sklearn-color-unfitted-level-2);\n",
       "}\n",
       "\n",
       "/* Label box, darken color on hover, fitted */\n",
       "#sk-container-id-8 div.sk-label.fitted:hover label.sk-toggleable__label.fitted {\n",
       "  color: var(--sklearn-color-text);\n",
       "  background-color: var(--sklearn-color-fitted-level-2);\n",
       "}\n",
       "\n",
       "/* Estimator label */\n",
       "\n",
       "#sk-container-id-8 div.sk-label label {\n",
       "  font-family: monospace;\n",
       "  font-weight: bold;\n",
       "  display: inline-block;\n",
       "  line-height: 1.2em;\n",
       "}\n",
       "\n",
       "#sk-container-id-8 div.sk-label-container {\n",
       "  text-align: center;\n",
       "}\n",
       "\n",
       "/* Estimator-specific */\n",
       "#sk-container-id-8 div.sk-estimator {\n",
       "  font-family: monospace;\n",
       "  border: 1px dotted var(--sklearn-color-border-box);\n",
       "  border-radius: 0.25em;\n",
       "  box-sizing: border-box;\n",
       "  margin-bottom: 0.5em;\n",
       "  /* unfitted */\n",
       "  background-color: var(--sklearn-color-unfitted-level-0);\n",
       "}\n",
       "\n",
       "#sk-container-id-8 div.sk-estimator.fitted {\n",
       "  /* fitted */\n",
       "  background-color: var(--sklearn-color-fitted-level-0);\n",
       "}\n",
       "\n",
       "/* on hover */\n",
       "#sk-container-id-8 div.sk-estimator:hover {\n",
       "  /* unfitted */\n",
       "  background-color: var(--sklearn-color-unfitted-level-2);\n",
       "}\n",
       "\n",
       "#sk-container-id-8 div.sk-estimator.fitted:hover {\n",
       "  /* fitted */\n",
       "  background-color: var(--sklearn-color-fitted-level-2);\n",
       "}\n",
       "\n",
       "/* Specification for estimator info (e.g. \"i\" and \"?\") */\n",
       "\n",
       "/* Common style for \"i\" and \"?\" */\n",
       "\n",
       ".sk-estimator-doc-link,\n",
       "a:link.sk-estimator-doc-link,\n",
       "a:visited.sk-estimator-doc-link {\n",
       "  float: right;\n",
       "  font-size: smaller;\n",
       "  line-height: 1em;\n",
       "  font-family: monospace;\n",
       "  background-color: var(--sklearn-color-background);\n",
       "  border-radius: 1em;\n",
       "  height: 1em;\n",
       "  width: 1em;\n",
       "  text-decoration: none !important;\n",
       "  margin-left: 1ex;\n",
       "  /* unfitted */\n",
       "  border: var(--sklearn-color-unfitted-level-1) 1pt solid;\n",
       "  color: var(--sklearn-color-unfitted-level-1);\n",
       "}\n",
       "\n",
       ".sk-estimator-doc-link.fitted,\n",
       "a:link.sk-estimator-doc-link.fitted,\n",
       "a:visited.sk-estimator-doc-link.fitted {\n",
       "  /* fitted */\n",
       "  border: var(--sklearn-color-fitted-level-1) 1pt solid;\n",
       "  color: var(--sklearn-color-fitted-level-1);\n",
       "}\n",
       "\n",
       "/* On hover */\n",
       "div.sk-estimator:hover .sk-estimator-doc-link:hover,\n",
       ".sk-estimator-doc-link:hover,\n",
       "div.sk-label-container:hover .sk-estimator-doc-link:hover,\n",
       ".sk-estimator-doc-link:hover {\n",
       "  /* unfitted */\n",
       "  background-color: var(--sklearn-color-unfitted-level-3);\n",
       "  color: var(--sklearn-color-background);\n",
       "  text-decoration: none;\n",
       "}\n",
       "\n",
       "div.sk-estimator.fitted:hover .sk-estimator-doc-link.fitted:hover,\n",
       ".sk-estimator-doc-link.fitted:hover,\n",
       "div.sk-label-container:hover .sk-estimator-doc-link.fitted:hover,\n",
       ".sk-estimator-doc-link.fitted:hover {\n",
       "  /* fitted */\n",
       "  background-color: var(--sklearn-color-fitted-level-3);\n",
       "  color: var(--sklearn-color-background);\n",
       "  text-decoration: none;\n",
       "}\n",
       "\n",
       "/* Span, style for the box shown on hovering the info icon */\n",
       ".sk-estimator-doc-link span {\n",
       "  display: none;\n",
       "  z-index: 9999;\n",
       "  position: relative;\n",
       "  font-weight: normal;\n",
       "  right: .2ex;\n",
       "  padding: .5ex;\n",
       "  margin: .5ex;\n",
       "  width: min-content;\n",
       "  min-width: 20ex;\n",
       "  max-width: 50ex;\n",
       "  color: var(--sklearn-color-text);\n",
       "  box-shadow: 2pt 2pt 4pt #999;\n",
       "  /* unfitted */\n",
       "  background: var(--sklearn-color-unfitted-level-0);\n",
       "  border: .5pt solid var(--sklearn-color-unfitted-level-3);\n",
       "}\n",
       "\n",
       ".sk-estimator-doc-link.fitted span {\n",
       "  /* fitted */\n",
       "  background: var(--sklearn-color-fitted-level-0);\n",
       "  border: var(--sklearn-color-fitted-level-3);\n",
       "}\n",
       "\n",
       ".sk-estimator-doc-link:hover span {\n",
       "  display: block;\n",
       "}\n",
       "\n",
       "/* \"?\"-specific style due to the `<a>` HTML tag */\n",
       "\n",
       "#sk-container-id-8 a.estimator_doc_link {\n",
       "  float: right;\n",
       "  font-size: 1rem;\n",
       "  line-height: 1em;\n",
       "  font-family: monospace;\n",
       "  background-color: var(--sklearn-color-background);\n",
       "  border-radius: 1rem;\n",
       "  height: 1rem;\n",
       "  width: 1rem;\n",
       "  text-decoration: none;\n",
       "  /* unfitted */\n",
       "  color: var(--sklearn-color-unfitted-level-1);\n",
       "  border: var(--sklearn-color-unfitted-level-1) 1pt solid;\n",
       "}\n",
       "\n",
       "#sk-container-id-8 a.estimator_doc_link.fitted {\n",
       "  /* fitted */\n",
       "  border: var(--sklearn-color-fitted-level-1) 1pt solid;\n",
       "  color: var(--sklearn-color-fitted-level-1);\n",
       "}\n",
       "\n",
       "/* On hover */\n",
       "#sk-container-id-8 a.estimator_doc_link:hover {\n",
       "  /* unfitted */\n",
       "  background-color: var(--sklearn-color-unfitted-level-3);\n",
       "  color: var(--sklearn-color-background);\n",
       "  text-decoration: none;\n",
       "}\n",
       "\n",
       "#sk-container-id-8 a.estimator_doc_link.fitted:hover {\n",
       "  /* fitted */\n",
       "  background-color: var(--sklearn-color-fitted-level-3);\n",
       "}\n",
       "</style><div id=\"sk-container-id-8\" class=\"sk-top-container\"><div class=\"sk-text-repr-fallback\"><pre>XGBClassifier(base_score=None, booster=None, callbacks=None,\n",
       "              colsample_bylevel=None, colsample_bynode=None,\n",
       "              colsample_bytree=None, device=None, early_stopping_rounds=None,\n",
       "              enable_categorical=False, eval_metric=&#x27;logloss&#x27;,\n",
       "              feature_types=None, gamma=None, grow_policy=None,\n",
       "              importance_type=None, interaction_constraints=None,\n",
       "              learning_rate=None, max_bin=None, max_cat_threshold=None,\n",
       "              max_cat_to_onehot=None, max_delta_step=None, max_depth=None,\n",
       "              max_leaves=None, min_child_weight=None, missing=nan,\n",
       "              monotone_constraints=None, multi_strategy=None, n_estimators=None,\n",
       "              n_jobs=None, num_parallel_tree=None, random_state=42, ...)</pre><b>In a Jupyter environment, please rerun this cell to show the HTML representation or trust the notebook. <br />On GitHub, the HTML representation is unable to render, please try loading this page with nbviewer.org.</b></div><div class=\"sk-container\" hidden><div class=\"sk-item\"><div class=\"sk-estimator fitted sk-toggleable\"><input class=\"sk-toggleable__control sk-hidden--visually\" id=\"sk-estimator-id-8\" type=\"checkbox\" checked><label for=\"sk-estimator-id-8\" class=\"sk-toggleable__label fitted sk-toggleable__label-arrow fitted\">&nbsp;XGBClassifier<span class=\"sk-estimator-doc-link fitted\">i<span>Fitted</span></span></label><div class=\"sk-toggleable__content fitted\"><pre>XGBClassifier(base_score=None, booster=None, callbacks=None,\n",
       "              colsample_bylevel=None, colsample_bynode=None,\n",
       "              colsample_bytree=None, device=None, early_stopping_rounds=None,\n",
       "              enable_categorical=False, eval_metric=&#x27;logloss&#x27;,\n",
       "              feature_types=None, gamma=None, grow_policy=None,\n",
       "              importance_type=None, interaction_constraints=None,\n",
       "              learning_rate=None, max_bin=None, max_cat_threshold=None,\n",
       "              max_cat_to_onehot=None, max_delta_step=None, max_depth=None,\n",
       "              max_leaves=None, min_child_weight=None, missing=nan,\n",
       "              monotone_constraints=None, multi_strategy=None, n_estimators=None,\n",
       "              n_jobs=None, num_parallel_tree=None, random_state=42, ...)</pre></div> </div></div></div></div>"
      ],
      "text/plain": [
       "XGBClassifier(base_score=None, booster=None, callbacks=None,\n",
       "              colsample_bylevel=None, colsample_bynode=None,\n",
       "              colsample_bytree=None, device=None, early_stopping_rounds=None,\n",
       "              enable_categorical=False, eval_metric='logloss',\n",
       "              feature_types=None, gamma=None, grow_policy=None,\n",
       "              importance_type=None, interaction_constraints=None,\n",
       "              learning_rate=None, max_bin=None, max_cat_threshold=None,\n",
       "              max_cat_to_onehot=None, max_delta_step=None, max_depth=None,\n",
       "              max_leaves=None, min_child_weight=None, missing=nan,\n",
       "              monotone_constraints=None, multi_strategy=None, n_estimators=None,\n",
       "              n_jobs=None, num_parallel_tree=None, random_state=42, ...)"
      ]
     },
     "execution_count": 190,
     "metadata": {},
     "output_type": "execute_result"
    }
   ],
   "source": [
    "# Fit the model on the balanced training data\n",
    "xgb_model_weather.fit(X_train_balanced, y_train_balanced)"
   ]
  },
  {
   "cell_type": "markdown",
   "metadata": {},
   "source": [
    "### Learning Curves"
   ]
  },
  {
   "cell_type": "code",
   "execution_count": 204,
   "metadata": {},
   "outputs": [
    {
     "name": "stderr",
     "output_type": "stream",
     "text": [
      "/Users/diego_mogollon/.pyenv/versions/3.10.6/envs/lateguru/lib/python3.10/site-packages/xgboost/core.py:158: UserWarning: [16:21:10] WARNING: /Users/runner/work/xgboost/xgboost/src/learner.cc:740: \n",
      "Parameters: { \"use_label_encoder\" } are not used.\n",
      "\n",
      "  warnings.warn(smsg, UserWarning)\n",
      "/Users/diego_mogollon/.pyenv/versions/3.10.6/envs/lateguru/lib/python3.10/site-packages/xgboost/core.py:158: UserWarning: [16:21:11] WARNING: /Users/runner/work/xgboost/xgboost/src/learner.cc:740: \n",
      "Parameters: { \"use_label_encoder\" } are not used.\n",
      "\n",
      "  warnings.warn(smsg, UserWarning)\n",
      "/Users/diego_mogollon/.pyenv/versions/3.10.6/envs/lateguru/lib/python3.10/site-packages/xgboost/core.py:158: UserWarning: [16:21:13] WARNING: /Users/runner/work/xgboost/xgboost/src/learner.cc:740: \n",
      "Parameters: { \"use_label_encoder\" } are not used.\n",
      "\n",
      "  warnings.warn(smsg, UserWarning)\n",
      "/Users/diego_mogollon/.pyenv/versions/3.10.6/envs/lateguru/lib/python3.10/site-packages/sklearn/model_selection/_validation.py:982: UserWarning: Scoring failed. The score on this train-test partition for these parameters will be set to nan. Details: \n",
      "Traceback (most recent call last):\n",
      "  File \"/Users/diego_mogollon/.pyenv/versions/3.10.6/envs/lateguru/lib/python3.10/site-packages/sklearn/model_selection/_validation.py\", line 971, in _score\n",
      "    scores = scorer(estimator, X_test, y_test, **score_params)\n",
      "  File \"/Users/diego_mogollon/.pyenv/versions/3.10.6/envs/lateguru/lib/python3.10/site-packages/sklearn/metrics/_scorer.py\", line 279, in __call__\n",
      "    return self._score(partial(_cached_call, None), estimator, X, y_true, **_kwargs)\n",
      "  File \"/Users/diego_mogollon/.pyenv/versions/3.10.6/envs/lateguru/lib/python3.10/site-packages/sklearn/metrics/_scorer.py\", line 371, in _score\n",
      "    y_pred = method_caller(\n",
      "  File \"/Users/diego_mogollon/.pyenv/versions/3.10.6/envs/lateguru/lib/python3.10/site-packages/sklearn/metrics/_scorer.py\", line 89, in _cached_call\n",
      "    result, _ = _get_response_values(\n",
      "  File \"/Users/diego_mogollon/.pyenv/versions/3.10.6/envs/lateguru/lib/python3.10/site-packages/sklearn/utils/_response.py\", line 204, in _get_response_values\n",
      "    raise ValueError(\n",
      "ValueError: pos_label=1 is not a valid label: It should be one of [0]\n",
      "\n",
      "  warnings.warn(\n",
      "/Users/diego_mogollon/.pyenv/versions/3.10.6/envs/lateguru/lib/python3.10/site-packages/sklearn/model_selection/_validation.py:982: UserWarning: Scoring failed. The score on this train-test partition for these parameters will be set to nan. Details: \n",
      "Traceback (most recent call last):\n",
      "  File \"/Users/diego_mogollon/.pyenv/versions/3.10.6/envs/lateguru/lib/python3.10/site-packages/sklearn/model_selection/_validation.py\", line 971, in _score\n",
      "    scores = scorer(estimator, X_test, y_test, **score_params)\n",
      "  File \"/Users/diego_mogollon/.pyenv/versions/3.10.6/envs/lateguru/lib/python3.10/site-packages/sklearn/metrics/_scorer.py\", line 279, in __call__\n",
      "    return self._score(partial(_cached_call, None), estimator, X, y_true, **_kwargs)\n",
      "  File \"/Users/diego_mogollon/.pyenv/versions/3.10.6/envs/lateguru/lib/python3.10/site-packages/sklearn/metrics/_scorer.py\", line 371, in _score\n",
      "    y_pred = method_caller(\n",
      "  File \"/Users/diego_mogollon/.pyenv/versions/3.10.6/envs/lateguru/lib/python3.10/site-packages/sklearn/metrics/_scorer.py\", line 89, in _cached_call\n",
      "    result, _ = _get_response_values(\n",
      "  File \"/Users/diego_mogollon/.pyenv/versions/3.10.6/envs/lateguru/lib/python3.10/site-packages/sklearn/utils/_response.py\", line 204, in _get_response_values\n",
      "    raise ValueError(\n",
      "ValueError: pos_label=1 is not a valid label: It should be one of [0]\n",
      "\n",
      "  warnings.warn(\n",
      "/Users/diego_mogollon/.pyenv/versions/3.10.6/envs/lateguru/lib/python3.10/site-packages/xgboost/core.py:158: UserWarning: [16:21:15] WARNING: /Users/runner/work/xgboost/xgboost/src/learner.cc:740: \n",
      "Parameters: { \"use_label_encoder\" } are not used.\n",
      "\n",
      "  warnings.warn(smsg, UserWarning)\n",
      "/Users/diego_mogollon/.pyenv/versions/3.10.6/envs/lateguru/lib/python3.10/site-packages/xgboost/core.py:158: UserWarning: [16:21:19] WARNING: /Users/runner/work/xgboost/xgboost/src/learner.cc:740: \n",
      "Parameters: { \"use_label_encoder\" } are not used.\n",
      "\n",
      "  warnings.warn(smsg, UserWarning)\n",
      "/Users/diego_mogollon/.pyenv/versions/3.10.6/envs/lateguru/lib/python3.10/site-packages/xgboost/core.py:158: UserWarning: [16:21:20] WARNING: /Users/runner/work/xgboost/xgboost/src/learner.cc:740: \n",
      "Parameters: { \"use_label_encoder\" } are not used.\n",
      "\n",
      "  warnings.warn(smsg, UserWarning)\n",
      "/Users/diego_mogollon/.pyenv/versions/3.10.6/envs/lateguru/lib/python3.10/site-packages/xgboost/core.py:158: UserWarning: [16:21:29] WARNING: /Users/runner/work/xgboost/xgboost/src/learner.cc:740: \n",
      "Parameters: { \"use_label_encoder\" } are not used.\n",
      "\n",
      "  warnings.warn(smsg, UserWarning)\n",
      "/Users/diego_mogollon/.pyenv/versions/3.10.6/envs/lateguru/lib/python3.10/site-packages/sklearn/model_selection/_validation.py:982: UserWarning: Scoring failed. The score on this train-test partition for these parameters will be set to nan. Details: \n",
      "Traceback (most recent call last):\n",
      "  File \"/Users/diego_mogollon/.pyenv/versions/3.10.6/envs/lateguru/lib/python3.10/site-packages/sklearn/model_selection/_validation.py\", line 971, in _score\n",
      "    scores = scorer(estimator, X_test, y_test, **score_params)\n",
      "  File \"/Users/diego_mogollon/.pyenv/versions/3.10.6/envs/lateguru/lib/python3.10/site-packages/sklearn/metrics/_scorer.py\", line 279, in __call__\n",
      "    return self._score(partial(_cached_call, None), estimator, X, y_true, **_kwargs)\n",
      "  File \"/Users/diego_mogollon/.pyenv/versions/3.10.6/envs/lateguru/lib/python3.10/site-packages/sklearn/metrics/_scorer.py\", line 371, in _score\n",
      "    y_pred = method_caller(\n",
      "  File \"/Users/diego_mogollon/.pyenv/versions/3.10.6/envs/lateguru/lib/python3.10/site-packages/sklearn/metrics/_scorer.py\", line 89, in _cached_call\n",
      "    result, _ = _get_response_values(\n",
      "  File \"/Users/diego_mogollon/.pyenv/versions/3.10.6/envs/lateguru/lib/python3.10/site-packages/sklearn/utils/_response.py\", line 204, in _get_response_values\n",
      "    raise ValueError(\n",
      "ValueError: pos_label=1 is not a valid label: It should be one of [0]\n",
      "\n",
      "  warnings.warn(\n",
      "/Users/diego_mogollon/.pyenv/versions/3.10.6/envs/lateguru/lib/python3.10/site-packages/sklearn/model_selection/_validation.py:982: UserWarning: Scoring failed. The score on this train-test partition for these parameters will be set to nan. Details: \n",
      "Traceback (most recent call last):\n",
      "  File \"/Users/diego_mogollon/.pyenv/versions/3.10.6/envs/lateguru/lib/python3.10/site-packages/sklearn/model_selection/_validation.py\", line 971, in _score\n",
      "    scores = scorer(estimator, X_test, y_test, **score_params)\n",
      "  File \"/Users/diego_mogollon/.pyenv/versions/3.10.6/envs/lateguru/lib/python3.10/site-packages/sklearn/metrics/_scorer.py\", line 279, in __call__\n",
      "    return self._score(partial(_cached_call, None), estimator, X, y_true, **_kwargs)\n",
      "  File \"/Users/diego_mogollon/.pyenv/versions/3.10.6/envs/lateguru/lib/python3.10/site-packages/sklearn/metrics/_scorer.py\", line 371, in _score\n",
      "    y_pred = method_caller(\n",
      "  File \"/Users/diego_mogollon/.pyenv/versions/3.10.6/envs/lateguru/lib/python3.10/site-packages/sklearn/metrics/_scorer.py\", line 89, in _cached_call\n",
      "    result, _ = _get_response_values(\n",
      "  File \"/Users/diego_mogollon/.pyenv/versions/3.10.6/envs/lateguru/lib/python3.10/site-packages/sklearn/utils/_response.py\", line 204, in _get_response_values\n",
      "    raise ValueError(\n",
      "ValueError: pos_label=1 is not a valid label: It should be one of [0]\n",
      "\n",
      "  warnings.warn(\n",
      "/Users/diego_mogollon/.pyenv/versions/3.10.6/envs/lateguru/lib/python3.10/site-packages/xgboost/core.py:158: UserWarning: [16:21:49] WARNING: /Users/runner/work/xgboost/xgboost/src/learner.cc:740: \n",
      "Parameters: { \"use_label_encoder\" } are not used.\n",
      "\n",
      "  warnings.warn(smsg, UserWarning)\n",
      "/Users/diego_mogollon/.pyenv/versions/3.10.6/envs/lateguru/lib/python3.10/site-packages/xgboost/core.py:158: UserWarning: [16:21:49] WARNING: /Users/runner/work/xgboost/xgboost/src/learner.cc:740: \n",
      "Parameters: { \"use_label_encoder\" } are not used.\n",
      "\n",
      "  warnings.warn(smsg, UserWarning)\n",
      "/Users/diego_mogollon/.pyenv/versions/3.10.6/envs/lateguru/lib/python3.10/site-packages/xgboost/core.py:158: UserWarning: [16:21:50] WARNING: /Users/runner/work/xgboost/xgboost/src/learner.cc:740: \n",
      "Parameters: { \"use_label_encoder\" } are not used.\n",
      "\n",
      "  warnings.warn(smsg, UserWarning)\n",
      "/Users/diego_mogollon/.pyenv/versions/3.10.6/envs/lateguru/lib/python3.10/site-packages/xgboost/core.py:158: UserWarning: [16:21:50] WARNING: /Users/runner/work/xgboost/xgboost/src/learner.cc:740: \n",
      "Parameters: { \"use_label_encoder\" } are not used.\n",
      "\n",
      "  warnings.warn(smsg, UserWarning)\n",
      "/Users/diego_mogollon/.pyenv/versions/3.10.6/envs/lateguru/lib/python3.10/site-packages/xgboost/core.py:158: UserWarning: [16:21:55] WARNING: /Users/runner/work/xgboost/xgboost/src/learner.cc:740: \n",
      "Parameters: { \"use_label_encoder\" } are not used.\n",
      "\n",
      "  warnings.warn(smsg, UserWarning)\n",
      "/Users/diego_mogollon/.pyenv/versions/3.10.6/envs/lateguru/lib/python3.10/site-packages/xgboost/core.py:158: UserWarning: [16:22:11] WARNING: /Users/runner/work/xgboost/xgboost/src/learner.cc:740: \n",
      "Parameters: { \"use_label_encoder\" } are not used.\n",
      "\n",
      "  warnings.warn(smsg, UserWarning)\n",
      "/Users/diego_mogollon/.pyenv/versions/3.10.6/envs/lateguru/lib/python3.10/site-packages/xgboost/core.py:158: UserWarning: [16:22:14] WARNING: /Users/runner/work/xgboost/xgboost/src/learner.cc:740: \n",
      "Parameters: { \"use_label_encoder\" } are not used.\n",
      "\n",
      "  warnings.warn(smsg, UserWarning)\n",
      "/Users/diego_mogollon/.pyenv/versions/3.10.6/envs/lateguru/lib/python3.10/site-packages/xgboost/core.py:158: UserWarning: [16:22:14] WARNING: /Users/runner/work/xgboost/xgboost/src/learner.cc:740: \n",
      "Parameters: { \"use_label_encoder\" } are not used.\n",
      "\n",
      "  warnings.warn(smsg, UserWarning)\n",
      "/Users/diego_mogollon/.pyenv/versions/3.10.6/envs/lateguru/lib/python3.10/site-packages/xgboost/core.py:158: UserWarning: [16:22:18] WARNING: /Users/runner/work/xgboost/xgboost/src/learner.cc:740: \n",
      "Parameters: { \"use_label_encoder\" } are not used.\n",
      "\n",
      "  warnings.warn(smsg, UserWarning)\n",
      "/Users/diego_mogollon/.pyenv/versions/3.10.6/envs/lateguru/lib/python3.10/site-packages/xgboost/core.py:158: UserWarning: [16:22:33] WARNING: /Users/runner/work/xgboost/xgboost/src/learner.cc:740: \n",
      "Parameters: { \"use_label_encoder\" } are not used.\n",
      "\n",
      "  warnings.warn(smsg, UserWarning)\n",
      "/Users/diego_mogollon/.pyenv/versions/3.10.6/envs/lateguru/lib/python3.10/site-packages/xgboost/core.py:158: UserWarning: [16:22:54] WARNING: /Users/runner/work/xgboost/xgboost/src/learner.cc:740: \n",
      "Parameters: { \"use_label_encoder\" } are not used.\n",
      "\n",
      "  warnings.warn(smsg, UserWarning)\n",
      "/Users/diego_mogollon/.pyenv/versions/3.10.6/envs/lateguru/lib/python3.10/site-packages/xgboost/core.py:158: UserWarning: [16:22:54] WARNING: /Users/runner/work/xgboost/xgboost/src/learner.cc:740: \n",
      "Parameters: { \"use_label_encoder\" } are not used.\n",
      "\n",
      "  warnings.warn(smsg, UserWarning)\n",
      "/Users/diego_mogollon/.pyenv/versions/3.10.6/envs/lateguru/lib/python3.10/site-packages/xgboost/core.py:158: UserWarning: [16:22:57] WARNING: /Users/runner/work/xgboost/xgboost/src/learner.cc:740: \n",
      "Parameters: { \"use_label_encoder\" } are not used.\n",
      "\n",
      "  warnings.warn(smsg, UserWarning)\n",
      "/Users/diego_mogollon/.pyenv/versions/3.10.6/envs/lateguru/lib/python3.10/site-packages/xgboost/core.py:158: UserWarning: [16:23:06] WARNING: /Users/runner/work/xgboost/xgboost/src/learner.cc:740: \n",
      "Parameters: { \"use_label_encoder\" } are not used.\n",
      "\n",
      "  warnings.warn(smsg, UserWarning)\n",
      "/Users/diego_mogollon/.pyenv/versions/3.10.6/envs/lateguru/lib/python3.10/site-packages/xgboost/core.py:158: UserWarning: [16:23:06] WARNING: /Users/runner/work/xgboost/xgboost/src/learner.cc:740: \n",
      "Parameters: { \"use_label_encoder\" } are not used.\n",
      "\n",
      "  warnings.warn(smsg, UserWarning)\n",
      "/Users/diego_mogollon/.pyenv/versions/3.10.6/envs/lateguru/lib/python3.10/site-packages/xgboost/core.py:158: UserWarning: [16:23:13] WARNING: /Users/runner/work/xgboost/xgboost/src/learner.cc:740: \n",
      "Parameters: { \"use_label_encoder\" } are not used.\n",
      "\n",
      "  warnings.warn(smsg, UserWarning)\n",
      "/Users/diego_mogollon/.pyenv/versions/3.10.6/envs/lateguru/lib/python3.10/site-packages/xgboost/core.py:158: UserWarning: [16:23:39] WARNING: /Users/runner/work/xgboost/xgboost/src/learner.cc:740: \n",
      "Parameters: { \"use_label_encoder\" } are not used.\n",
      "\n",
      "  warnings.warn(smsg, UserWarning)\n",
      "/Users/diego_mogollon/.pyenv/versions/3.10.6/envs/lateguru/lib/python3.10/site-packages/xgboost/core.py:158: UserWarning: [16:23:47] WARNING: /Users/runner/work/xgboost/xgboost/src/learner.cc:740: \n",
      "Parameters: { \"use_label_encoder\" } are not used.\n",
      "\n",
      "  warnings.warn(smsg, UserWarning)\n"
     ]
    },
    {
     "data": {
      "image/png": "[encoded data removed]",
      "text/plain": [
       "<Figure size 640x480 with 1 Axes>"
      ]
     },
     "metadata": {},
     "output_type": "display_data"
    }
   ],
   "source": [
    "from sklearn.model_selection import learning_curve\n",
    "import matplotlib.pyplot as plt\n",
    "import numpy as np\n",
    "\n",
    "# Define the training sizes (fractions of the training set to use)\n",
    "train_sizes = np.linspace(0.1, 1.0, 5)\n",
    "\n",
    "# Calculate learning curve\n",
    "train_sizes, train_scores, test_scores = learning_curve(\n",
    "    estimator=xgb_model_weather,\n",
    "    X=X_train_balanced,  # Use the balanced training data\n",
    "    y=y_train_balanced,\n",
    "    train_sizes=train_sizes,\n",
    "    cv=5,  # 5-fold cross-validation\n",
    "    scoring='recall',  # Use F1 score to measure performance\n",
    "    n_jobs=-1  # Use all available CPU cores\n",
    ")\n",
    "\n",
    "# Calculate mean and standard deviation for training scores\n",
    "train_mean = np.mean(train_scores, axis=1)\n",
    "train_std = np.std(train_scores, axis=1)\n",
    "\n",
    "# Calculate mean and standard deviation for test scores\n",
    "test_mean = np.mean(test_scores, axis=1)\n",
    "test_std = np.std(test_scores, axis=1)\n",
    "\n",
    "# Plot learning curve\n",
    "plt.figure()\n",
    "plt.plot(train_sizes, train_mean, 'o-', color='r', label='Training Score')\n",
    "plt.plot(train_sizes, test_mean, 'o-', color='g', label='Cross-Validation Score')\n",
    "\n",
    "plt.fill_between(train_sizes, train_mean - train_std, train_mean + train_std, alpha=0.1, color='r')\n",
    "plt.fill_between(train_sizes, test_mean - test_std, test_mean + test_std, alpha=0.1, color='g')\n",
    "\n",
    "plt.title('Learning Curve')\n",
    "plt.xlabel('Training Size')\n",
    "plt.ylabel('F1 Score')\n",
    "plt.legend(loc='best')\n",
    "plt.grid()\n",
    "plt.show()"
   ]
  },
  {
   "cell_type": "code",
   "execution_count": 192,
   "metadata": {},
   "outputs": [],
   "source": [
    "# Evaluate the model on the test data\n",
    "y_pred = xgb_model_weather.predict(X_test_preprocessed)"
   ]
  },
  {
   "cell_type": "code",
   "execution_count": 193,
   "metadata": {},
   "outputs": [
    {
     "name": "stdout",
     "output_type": "stream",
     "text": [
      "F1 Score on the test set: 0.3374604538530641\n"
     ]
    }
   ],
   "source": [
    "# Calculate F1 score\n",
    "from sklearn.metrics import f1_score\n",
    "f1 = f1_score(y_test_sample, y_pred)\n",
    "print(f\"F1 Score on the test set: {f1}\")"
   ]
  },
  {
   "cell_type": "code",
   "execution_count": 194,
   "metadata": {},
   "outputs": [
    {
     "name": "stdout",
     "output_type": "stream",
     "text": [
      "Recall: 0.7853117614979095\n"
     ]
    }
   ],
   "source": [
    "#Calculate Recall\n",
    "from sklearn.metrics import recall_score\n",
    "recall = recall_score(y_test_sample, y_pred)\n",
    "print(f\"Recall: {recall}\")"
   ]
  },
  {
   "cell_type": "code",
   "execution_count": 195,
   "metadata": {},
   "outputs": [
    {
     "name": "stdout",
     "output_type": "stream",
     "text": [
      "AUC-ROC: 0.8661217000434839\n"
     ]
    }
   ],
   "source": [
    "# Calculate ROC AUC\n",
    "from sklearn.metrics import roc_auc_score\n",
    "auc_roc = roc_auc_score(y_test_sample, y_pred)\n",
    "print(f\"AUC-ROC: {auc_roc}\")"
   ]
  },
  {
   "cell_type": "code",
   "execution_count": 196,
   "metadata": {},
   "outputs": [
    {
     "name": "stdout",
     "output_type": "stream",
     "text": [
      "Confusion Matrix:\n",
      "[[281608  15782]\n",
      " [  1181   4320]]\n"
     ]
    }
   ],
   "source": [
    "# Inspect Confusion Matrix\n",
    "from sklearn.metrics import confusion_matrix\n",
    "cm = confusion_matrix(y_test_sample, y_pred)\n",
    "print(f\"Confusion Matrix:\\n{cm}\")"
   ]
  },
  {
   "cell_type": "code",
   "execution_count": 197,
   "metadata": {},
   "outputs": [
    {
     "name": "stdout",
     "output_type": "stream",
     "text": [
      "Classification Report:\n",
      "              precision    recall  f1-score   support\n",
      "\n",
      "           0       1.00      0.95      0.97    297390\n",
      "           1       0.21      0.79      0.34      5501\n",
      "\n",
      "    accuracy                           0.94    302891\n",
      "   macro avg       0.61      0.87      0.65    302891\n",
      "weighted avg       0.98      0.94      0.96    302891\n",
      "\n"
     ]
    }
   ],
   "source": [
    "# Generate Classifiation Report\n",
    "from sklearn.metrics import classification_report\n",
    "report = classification_report(y_test_sample, y_pred)\n",
    "print(f\"Classification Report:\\n{report}\")"
   ]
  },
  {
   "cell_type": "markdown",
   "metadata": {},
   "source": [
    "#### Plot Feature Importance"
   ]
  },
  {
   "cell_type": "code",
   "execution_count": 198,
   "metadata": {},
   "outputs": [
    {
     "data": {
      "image/png": "[encoded data removed]",
      "text/plain": [
       "<Figure size 640x480 with 1 Axes>"
      ]
     },
     "metadata": {},
     "output_type": "display_data"
    }
   ],
   "source": [
    "# Plot the feature importance\n",
    "plot_importance(xgb_model_weather, max_num_features=10)\n",
    "plt.show()"
   ]
  },
  {
   "cell_type": "code",
   "execution_count": 199,
   "metadata": {},
   "outputs": [],
   "source": [
    "# Get the feature names from the encoder\n",
    "encoded_feature_names = encoder.get_feature_names_out(categorical_features)"
   ]
  },
  {
   "cell_type": "code",
   "execution_count": 200,
   "metadata": {},
   "outputs": [],
   "source": [
    "# Combine feature names\n",
    "all_feature_names = np.hstack([\n",
    "    encoded_feature_names,  # Encoded categorical feature names\n",
    "    numeric_features,        # Numeric feature names\n",
    "    # binary_features          # Binary feature names\n",
    "])"
   ]
  },
  {
   "cell_type": "code",
   "execution_count": 201,
   "metadata": {},
   "outputs": [
    {
     "name": "stdout",
     "output_type": "stream",
     "text": [
      "Feature: Wind_Gust, Importance: 0.4621961712837219\n",
      "Feature: Dest_MCO, Importance: 0.014909054152667522\n",
      "Feature: Dest_LAS, Importance: 0.012456043623387814\n",
      "Feature: Dest_SFO, Importance: 0.010744232684373856\n",
      "Feature: Dest_LAX, Importance: 0.010512880980968475\n",
      "Feature: Dest_BOS, Importance: 0.010074708610773087\n",
      "Feature: Dest_RDU, Importance: 0.00962947215884924\n",
      "Feature: Dest_LGA, Importance: 0.009146403521299362\n",
      "Feature: Dest_MIA, Importance: 0.008627929724752903\n",
      "Feature: Dest_AUS, Importance: 0.008581124246120453\n",
      "Feature: Dest_ORD, Importance: 0.008525419980287552\n",
      "Feature: Dest_DCA, Importance: 0.008408940397202969\n",
      "Feature: Dest_IAH, Importance: 0.008374358527362347\n",
      "Feature: Dest_PHX, Importance: 0.007955426350235939\n",
      "Feature: Dest_CLT, Importance: 0.007718477863818407\n",
      "Feature: Dest_JFK, Importance: 0.0076573011465370655\n",
      "Feature: Dest_DEN, Importance: 0.007655532099306583\n",
      "Feature: Dest_SAN, Importance: 0.007454147096723318\n",
      "Feature: Dest_SLC, Importance: 0.007418455556035042\n",
      "Feature: Dest_TPA, Importance: 0.007238157093524933\n",
      "Feature: Dest_ATL, Importance: 0.007015116047114134\n",
      "Feature: Dest_FLL, Importance: 0.0066755726002156734\n",
      "Feature: Dest_EWR, Importance: 0.006667740177363157\n",
      "Feature: Carrier_SkyWest Airlines Inc., Importance: 0.006415266543626785\n",
      "Feature: Dest_BWI, Importance: 0.0061505017802119255\n",
      "Feature: Dest_PHL, Importance: 0.005801977124065161\n",
      "Feature: Dest_SEA, Importance: 0.005796380341053009\n",
      "Feature: Dest_CMH, Importance: 0.0056895045563578606\n",
      "Feature: Dest_BNA, Importance: 0.005320332478731871\n",
      "Feature: Dest_MCI, Importance: 0.005288304761052132\n"
     ]
    }
   ],
   "source": [
    "# Mapping indices to feature names\n",
    "important_features = [(all_feature_names[i], importance) for i, importance in enumerate(xgb_model_weather.feature_importances_)]\n",
    "\n",
    "# Sort by importance\n",
    "important_features.sort(key=lambda x: x[1], reverse=True)\n",
    "\n",
    "# Display top important features\n",
    "for feature, importance in important_features[:30]:\n",
    "    print(f\"Feature: {feature}, Importance: {importance}\")"
   ]
  },
  {
   "cell_type": "code",
   "execution_count": 203,
   "metadata": {},
   "outputs": [
    {
     "data": {
      "image/png": "[encoded data removed]",
      "text/plain": [
       "<Figure size 1000x600 with 1 Axes>"
      ]
     },
     "metadata": {},
     "output_type": "display_data"
    }
   ],
   "source": [
    "# Sort the important features by importance\n",
    "important_features.sort(key=lambda x: x[1], reverse=True)\n",
    "\n",
    "# Extract the top 10 features and their importance\n",
    "top_features = important_features[:30]\n",
    "features = [f[0] for f in top_features]\n",
    "importances = [f[1] for f in top_features]\n",
    "\n",
    "# Plot\n",
    "plt.figure(figsize=(10, 6))\n",
    "plt.barh(features, importances)\n",
    "plt.xlabel('Importance')\n",
    "plt.title('Top 30 Feature Importances')\n",
    "plt.gca().invert_yaxis() \n",
    "plt.show()"
   ]
  },
  {
   "cell_type": "markdown",
   "metadata": {},
   "source": [
    "# XGBoost"
   ]
  },
  {
   "cell_type": "markdown",
   "metadata": {},
   "source": [
    "## Preprocessing Pipelines"
   ]
  },
  {
   "cell_type": "code",
   "execution_count": null,
   "metadata": {},
   "outputs": [],
   "source": [
    "# # Define categorical, binary, and numeric features\n",
    "# categorical_features = ['CancellationReason', 'Origin', 'Dest', 'Carrier']\n",
    "# binary_features = ['Cancelled', 'Delayed']\n",
    "# numeric_features = ['DepDelayMinutes', 'CarrierDelay', 'NASDelay',\n",
    "#                     'SecurityDelay', 'LateAircraftDelay', 'Temperature', 'Feels_Like_Temperature',\n",
    "#                     'Altimeter_Pressure', 'Sea_Level_Pressure', 'Visibility', 'Wind_Speed',\n",
    "#                     'Wind_Gust', 'Precipitation', 'Ice_Accretion_3hr', 'Hour', 'Day_Of_Week', 'Month']\n",
    "\n",
    "# # Define the preprocessing steps\n",
    "# preprocessor = ColumnTransformer(\n",
    "#     transformers=[\n",
    "#         ('onehot', OneHotEncoder(), categorical_features),  # Encode categorical features\n",
    "#         ('passthrough_binary', 'passthrough', binary_features),  # Pass binary features as is\n",
    "#         ('passthrough_numeric', 'passthrough', numeric_features)  # Pass numeric features as is\n",
    "#     ],\n",
    "#     remainder='drop'  # Drop the Time column and any other unspecified features\n",
    "# )"
   ]
  },
  {
   "cell_type": "markdown",
   "metadata": {},
   "source": [
    "## Scaling, Balacing & Modeling with Pipelines"
   ]
  },
  {
   "cell_type": "markdown",
   "metadata": {},
   "source": [
    "### StandardScaler + SMOTE Pipeline"
   ]
  },
  {
   "cell_type": "code",
   "execution_count": null,
   "metadata": {},
   "outputs": [],
   "source": [
    "# # Pipeline with StandardScaler and SMOTE, with XGBClassifier model\n",
    "# pipeline_ss_smote = ImbPipeline([\n",
    "#     ('preprocessor', preprocessor), #Preprocessor\n",
    "#     ('scaler', StandardScaler(with_mean=False)),  # Standard Scaler for normalising features\n",
    "#     ('sampling', SMOTE(random_state=42)),  # SMOTE for oversampling the minority class\n",
    "# ])"
   ]
  },
  {
   "cell_type": "code",
   "execution_count": null,
   "metadata": {},
   "outputs": [],
   "source": [
    "# # Grid Search parameters for Standard Scaler + SMOTE + XGBoost\n",
    "# param_grid_ss_smote = {\n",
    "#     'classifier__n_estimators': [100],  # Number of boosting rounds\n",
    "#     'classifier__max_depth': [5]  # Maximum depth of the trees\n",
    "# }"
   ]
  },
  {
   "cell_type": "code",
   "execution_count": null,
   "metadata": {},
   "outputs": [],
   "source": [
    "# # Cross-validation strategy\n",
    "# cv = StratifiedKFold(n_splits=5)"
   ]
  },
  {
   "cell_type": "code",
   "execution_count": null,
   "metadata": {},
   "outputs": [],
   "source": [
    "# #Small X_train sample for local testing\n",
    "# X_train_sample, _, y_train_sample, _ = train_test_split(\n",
    "#     X_train, y_train, \n",
    "#     test_size=0.9,  # Keep only 10% for the sample\n",
    "#     random_state=42\n",
    "# )"
   ]
  },
  {
   "cell_type": "code",
   "execution_count": null,
   "metadata": {},
   "outputs": [],
   "source": [
    "# X_train_sample"
   ]
  },
  {
   "cell_type": "code",
   "execution_count": null,
   "metadata": {},
   "outputs": [],
   "source": [
    "# # Running GridSearch\n",
    "# grid_search_ss_smote_sample = GridSearchCV(pipeline_ss_smote, param_grid_ss_smote, cv=cv, scoring='f1', n_jobs=-1)"
   ]
  },
  {
   "cell_type": "code",
   "execution_count": null,
   "metadata": {},
   "outputs": [],
   "source": [
    "# #Fit X_train_sample and y_train_sample\n",
    "# grid_search_ss_smote_sample.fit(X_train_sample, y_train_sample)"
   ]
  },
  {
   "cell_type": "code",
   "execution_count": null,
   "metadata": {},
   "outputs": [],
   "source": [
    "# # Store results\n",
    "# best_model_ss_smote = grid_search_ss_smote_sample.best_estimator_\n",
    "# print(f\"Best Parameters for SS + SMOTE: {grid_search_ss_smote_sample.best_params_}\")\n",
    "# print(f\"Best F1 Score from Sample Grid Search: {grid_search_ss_smote_sample.best_score_}\")"
   ]
  },
  {
   "cell_type": "code",
   "execution_count": null,
   "metadata": {},
   "outputs": [],
   "source": []
  }
 ],
 "metadata": {
  "kernelspec": {
   "display_name": "lateguru",
   "language": "python",
   "name": "python3"
  },
  "language_info": {
   "codemirror_mode": {
    "name": "ipython",
    "version": 3
   },
   "file_extension": ".py",
   "mimetype": "text/x-python",
   "name": "python",
   "nbconvert_exporter": "python",
   "pygments_lexer": "ipython3",
   "version": "3.10.6"
  }
 },
 "nbformat": 4,
 "nbformat_minor": 2
}
